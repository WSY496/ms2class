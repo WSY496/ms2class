{
 "cells": [
  {
   "cell_type": "code",
   "execution_count": 1,
   "metadata": {},
   "outputs": [],
   "source": [
    "import pickle\n",
    "import pandas as pd\n",
    "import numpy as np\n",
    "import time\n",
    "\n",
    "import xgboost as xgb\n",
    "import lightgbm as lgb\n",
    "\n",
    "from sklearn.ensemble import RandomForestClassifier as rf\n",
    "from sklearn.metrics import mean_squared_error\n",
    "from sklearn.model_selection import train_test_split\n",
    "from sklearn.metrics import confusion_matrix\n",
    "from sklearn.model_selection import GridSearchCV\n",
    "from sklearn import preprocessing"
   ]
  },
  {
   "cell_type": "code",
   "execution_count": 2,
   "metadata": {},
   "outputs": [],
   "source": [
    "# load data\n",
    "with open('../data/HCD35_pos.pickle', mode='rb') as fp:\n",
    "    df = pickle.load(fp)"
   ]
  },
  {
   "cell_type": "code",
   "execution_count": 3,
   "metadata": {},
   "outputs": [],
   "source": [
    "# divide objective and target\n",
    "objective = df.Subclass\n",
    "le = preprocessing.LabelEncoder()\n",
    "objective = le.fit_transform(objective)\n",
    "\n",
    "features = df.drop('Subclass', axis=1)"
   ]
  },
  {
   "cell_type": "code",
   "execution_count": 4,
   "metadata": {},
   "outputs": [],
   "source": [
    "# train test split\n",
    "random_state=np.random.seed(42)\n",
    "X_train, X_test, y_train, y_test = train_test_split(\n",
    "    features, \n",
    "    objective,\n",
    "    test_size=0.2\n",
    ")"
   ]
  },
  {
   "cell_type": "code",
   "execution_count": 5,
   "metadata": {
    "scrolled": true
   },
   "outputs": [
    {
     "name": "stdout",
     "output_type": "stream",
     "text": [
      "[1]\tvalid_0's multi_logloss: 1.29145\n",
      "Training until validation scores don't improve for 5 rounds.\n",
      "[2]\tvalid_0's multi_logloss: 1.21452\n",
      "[3]\tvalid_0's multi_logloss: 1.15349\n",
      "[4]\tvalid_0's multi_logloss: 1.09672\n",
      "[5]\tvalid_0's multi_logloss: 1.0431\n",
      "[6]\tvalid_0's multi_logloss: 0.998805\n",
      "[7]\tvalid_0's multi_logloss: 0.95841\n",
      "[8]\tvalid_0's multi_logloss: 0.920651\n",
      "[9]\tvalid_0's multi_logloss: 0.88488\n",
      "[10]\tvalid_0's multi_logloss: 0.853765\n",
      "[11]\tvalid_0's multi_logloss: 0.826702\n",
      "[12]\tvalid_0's multi_logloss: 0.801104\n",
      "[13]\tvalid_0's multi_logloss: 0.776881\n",
      "[14]\tvalid_0's multi_logloss: 0.75461\n",
      "[15]\tvalid_0's multi_logloss: 0.732412\n",
      "[16]\tvalid_0's multi_logloss: 0.713301\n",
      "[17]\tvalid_0's multi_logloss: 0.695326\n",
      "[18]\tvalid_0's multi_logloss: 0.677306\n",
      "[19]\tvalid_0's multi_logloss: 0.662255\n",
      "[20]\tvalid_0's multi_logloss: 0.647135\n",
      "[21]\tvalid_0's multi_logloss: 0.634968\n",
      "[22]\tvalid_0's multi_logloss: 0.621189\n",
      "[23]\tvalid_0's multi_logloss: 0.610835\n",
      "[24]\tvalid_0's multi_logloss: 0.600556\n",
      "[25]\tvalid_0's multi_logloss: 0.590589\n",
      "[26]\tvalid_0's multi_logloss: 0.579019\n",
      "[27]\tvalid_0's multi_logloss: 0.569164\n",
      "[28]\tvalid_0's multi_logloss: 0.560948\n",
      "[29]\tvalid_0's multi_logloss: 0.555489\n",
      "[30]\tvalid_0's multi_logloss: 0.548484\n",
      "[31]\tvalid_0's multi_logloss: 0.540527\n",
      "[32]\tvalid_0's multi_logloss: 0.531897\n",
      "[33]\tvalid_0's multi_logloss: 0.52561\n",
      "[34]\tvalid_0's multi_logloss: 0.519018\n",
      "[35]\tvalid_0's multi_logloss: 0.513327\n",
      "[36]\tvalid_0's multi_logloss: 0.506006\n",
      "[37]\tvalid_0's multi_logloss: 0.499793\n",
      "[38]\tvalid_0's multi_logloss: 0.495069\n",
      "[39]\tvalid_0's multi_logloss: 0.489602\n",
      "[40]\tvalid_0's multi_logloss: 0.483302\n",
      "[41]\tvalid_0's multi_logloss: 0.479962\n",
      "[42]\tvalid_0's multi_logloss: 0.476436\n",
      "[43]\tvalid_0's multi_logloss: 0.472624\n",
      "[44]\tvalid_0's multi_logloss: 0.467573\n",
      "[45]\tvalid_0's multi_logloss: 0.466327\n",
      "[46]\tvalid_0's multi_logloss: 0.464895\n",
      "[47]\tvalid_0's multi_logloss: 0.463863\n",
      "[48]\tvalid_0's multi_logloss: 0.460751\n",
      "[49]\tvalid_0's multi_logloss: 0.456119\n",
      "[50]\tvalid_0's multi_logloss: 0.452309\n",
      "[51]\tvalid_0's multi_logloss: 0.44841\n",
      "[52]\tvalid_0's multi_logloss: 0.44694\n",
      "[53]\tvalid_0's multi_logloss: 0.443306\n",
      "[54]\tvalid_0's multi_logloss: 0.442557\n",
      "[55]\tvalid_0's multi_logloss: 0.439964\n",
      "[56]\tvalid_0's multi_logloss: 0.438713\n",
      "[57]\tvalid_0's multi_logloss: 0.436193\n",
      "[58]\tvalid_0's multi_logloss: 0.433228\n",
      "[59]\tvalid_0's multi_logloss: 0.430914\n",
      "[60]\tvalid_0's multi_logloss: 0.429581\n",
      "[61]\tvalid_0's multi_logloss: 0.428201\n",
      "[62]\tvalid_0's multi_logloss: 0.427236\n",
      "[63]\tvalid_0's multi_logloss: 0.425491\n",
      "[64]\tvalid_0's multi_logloss: 0.425923\n",
      "[65]\tvalid_0's multi_logloss: 0.423718\n",
      "[66]\tvalid_0's multi_logloss: 0.422418\n",
      "[67]\tvalid_0's multi_logloss: 0.423834\n",
      "[68]\tvalid_0's multi_logloss: 0.424187\n",
      "[69]\tvalid_0's multi_logloss: 0.422175\n",
      "[70]\tvalid_0's multi_logloss: 0.420927\n",
      "[71]\tvalid_0's multi_logloss: 0.419408\n",
      "[72]\tvalid_0's multi_logloss: 0.419867\n",
      "[73]\tvalid_0's multi_logloss: 0.418119\n",
      "[74]\tvalid_0's multi_logloss: 0.417988\n",
      "[75]\tvalid_0's multi_logloss: 0.415902\n",
      "[76]\tvalid_0's multi_logloss: 0.4172\n",
      "[77]\tvalid_0's multi_logloss: 0.415726\n",
      "[78]\tvalid_0's multi_logloss: 0.415001\n",
      "[79]\tvalid_0's multi_logloss: 0.415001\n",
      "[80]\tvalid_0's multi_logloss: 0.416378\n",
      "[81]\tvalid_0's multi_logloss: 0.416915\n",
      "[82]\tvalid_0's multi_logloss: 0.416842\n",
      "[83]\tvalid_0's multi_logloss: 0.417356\n",
      "Early stopping, best iteration is:\n",
      "[78]\tvalid_0's multi_logloss: 0.415001\n"
     ]
    }
   ],
   "source": [
    "# define and fit\n",
    "start = time.time()\n",
    "gbm = lgb.LGBMClassifier(\n",
    "    objective='multiclass',\n",
    "    device = 'gpu'\n",
    ")\n",
    "\n",
    "gbm.fit(\n",
    "    X_train, \n",
    "    y_train,\n",
    "    eval_set=[(X_test, y_test)],\n",
    "    early_stopping_rounds=5\n",
    ")\n",
    "elapsed_time = time.time() - start\n",
    "\n",
    "# save model to sav\n",
    "pickle.dump(gbm, open('../model/lgbm_HCD35_pos.sav', 'wb'))"
   ]
  },
  {
   "cell_type": "code",
   "execution_count": 6,
   "metadata": {},
   "outputs": [
    {
     "name": "stderr",
     "output_type": "stream",
     "text": [
      "/home/yoshitaka-i/anaconda3/envs/py36/lib/python3.6/site-packages/sklearn/preprocessing/label.py:151: DeprecationWarning: The truth value of an empty array is ambiguous. Returning False, but in future this will result in an error. Use `array.size > 0` to check that an array is not empty.\n",
      "  if diff:\n"
     ]
    }
   ],
   "source": [
    "# add result to list \n",
    "o = {}\n",
    "d = {}\n",
    "o['HCD35_Positive'] = [round(gbm.score(X_test, y_test)*100, 2)]\n",
    "d['HCD35_Positive'] = [elapsed_time]"
   ]
  },
  {
   "cell_type": "code",
   "execution_count": 7,
   "metadata": {},
   "outputs": [],
   "source": [
    "# load data\n",
    "with open('../data/HCD45_pos.pickle', mode='rb') as fp:\n",
    "    df = pickle.load(fp)"
   ]
  },
  {
   "cell_type": "code",
   "execution_count": 8,
   "metadata": {},
   "outputs": [],
   "source": [
    "# divide objective and target\n",
    "objective = df.Subclass\n",
    "le = preprocessing.LabelEncoder()\n",
    "objective = le.fit_transform(objective)\n",
    "\n",
    "features = df.drop('Subclass', axis=1)"
   ]
  },
  {
   "cell_type": "code",
   "execution_count": 9,
   "metadata": {},
   "outputs": [],
   "source": [
    "# train test split\n",
    "random_state=np.random.seed(42)\n",
    "X_train, X_test, y_train, y_test = train_test_split(\n",
    "    features, \n",
    "    objective,\n",
    "    test_size=0.2\n",
    ")"
   ]
  },
  {
   "cell_type": "code",
   "execution_count": 10,
   "metadata": {
    "scrolled": true
   },
   "outputs": [
    {
     "name": "stdout",
     "output_type": "stream",
     "text": [
      "[1]\tvalid_0's multi_logloss: 1.29231\n",
      "Training until validation scores don't improve for 5 rounds.\n",
      "[2]\tvalid_0's multi_logloss: 1.22044\n",
      "[3]\tvalid_0's multi_logloss: 1.1576\n",
      "[4]\tvalid_0's multi_logloss: 1.10528\n",
      "[5]\tvalid_0's multi_logloss: 1.05432\n",
      "[6]\tvalid_0's multi_logloss: 1.01237\n",
      "[7]\tvalid_0's multi_logloss: 0.971381\n",
      "[8]\tvalid_0's multi_logloss: 0.93588\n",
      "[9]\tvalid_0's multi_logloss: 0.904789\n",
      "[10]\tvalid_0's multi_logloss: 0.874386\n",
      "[11]\tvalid_0's multi_logloss: 0.846314\n",
      "[12]\tvalid_0's multi_logloss: 0.822394\n",
      "[13]\tvalid_0's multi_logloss: 0.798726\n",
      "[14]\tvalid_0's multi_logloss: 0.777977\n",
      "[15]\tvalid_0's multi_logloss: 0.755865\n",
      "[16]\tvalid_0's multi_logloss: 0.737631\n",
      "[17]\tvalid_0's multi_logloss: 0.721318\n",
      "[18]\tvalid_0's multi_logloss: 0.706731\n",
      "[19]\tvalid_0's multi_logloss: 0.690834\n",
      "[20]\tvalid_0's multi_logloss: 0.678515\n",
      "[21]\tvalid_0's multi_logloss: 0.663015\n",
      "[22]\tvalid_0's multi_logloss: 0.650609\n",
      "[23]\tvalid_0's multi_logloss: 0.639515\n",
      "[24]\tvalid_0's multi_logloss: 0.630811\n",
      "[25]\tvalid_0's multi_logloss: 0.622721\n",
      "[26]\tvalid_0's multi_logloss: 0.615223\n",
      "[27]\tvalid_0's multi_logloss: 0.610233\n",
      "[28]\tvalid_0's multi_logloss: 0.601768\n",
      "[29]\tvalid_0's multi_logloss: 0.596645\n",
      "[30]\tvalid_0's multi_logloss: 0.589633\n",
      "[31]\tvalid_0's multi_logloss: 0.581752\n",
      "[32]\tvalid_0's multi_logloss: 0.577168\n",
      "[33]\tvalid_0's multi_logloss: 0.573161\n",
      "[34]\tvalid_0's multi_logloss: 0.5692\n",
      "[35]\tvalid_0's multi_logloss: 0.56592\n",
      "[36]\tvalid_0's multi_logloss: 0.558873\n",
      "[37]\tvalid_0's multi_logloss: 0.553281\n",
      "[38]\tvalid_0's multi_logloss: 0.549147\n",
      "[39]\tvalid_0's multi_logloss: 0.545906\n",
      "[40]\tvalid_0's multi_logloss: 0.542621\n",
      "[41]\tvalid_0's multi_logloss: 0.537835\n",
      "[42]\tvalid_0's multi_logloss: 0.534138\n",
      "[43]\tvalid_0's multi_logloss: 0.530436\n",
      "[44]\tvalid_0's multi_logloss: 0.526352\n",
      "[45]\tvalid_0's multi_logloss: 0.524144\n",
      "[46]\tvalid_0's multi_logloss: 0.520119\n",
      "[47]\tvalid_0's multi_logloss: 0.518418\n",
      "[48]\tvalid_0's multi_logloss: 0.51585\n",
      "[49]\tvalid_0's multi_logloss: 0.513735\n",
      "[50]\tvalid_0's multi_logloss: 0.510139\n",
      "[51]\tvalid_0's multi_logloss: 0.507238\n",
      "[52]\tvalid_0's multi_logloss: 0.504889\n",
      "[53]\tvalid_0's multi_logloss: 0.501679\n",
      "[54]\tvalid_0's multi_logloss: 0.500094\n",
      "[55]\tvalid_0's multi_logloss: 0.496051\n",
      "[56]\tvalid_0's multi_logloss: 0.494559\n",
      "[57]\tvalid_0's multi_logloss: 0.493232\n",
      "[58]\tvalid_0's multi_logloss: 0.492592\n",
      "[59]\tvalid_0's multi_logloss: 0.492151\n",
      "[60]\tvalid_0's multi_logloss: 0.490523\n",
      "[61]\tvalid_0's multi_logloss: 0.490758\n",
      "[62]\tvalid_0's multi_logloss: 0.489579\n",
      "[63]\tvalid_0's multi_logloss: 0.487398\n",
      "[64]\tvalid_0's multi_logloss: 0.486678\n",
      "[65]\tvalid_0's multi_logloss: 0.485988\n",
      "[66]\tvalid_0's multi_logloss: 0.484387\n",
      "[67]\tvalid_0's multi_logloss: 0.482806\n",
      "[68]\tvalid_0's multi_logloss: 0.481894\n",
      "[69]\tvalid_0's multi_logloss: 0.481174\n",
      "[70]\tvalid_0's multi_logloss: 0.483522\n",
      "[71]\tvalid_0's multi_logloss: 0.481635\n",
      "[72]\tvalid_0's multi_logloss: 0.480451\n",
      "[73]\tvalid_0's multi_logloss: 0.482755\n",
      "[74]\tvalid_0's multi_logloss: 0.483566\n",
      "[75]\tvalid_0's multi_logloss: 0.482156\n",
      "[76]\tvalid_0's multi_logloss: 0.482011\n",
      "[77]\tvalid_0's multi_logloss: 0.481213\n",
      "Early stopping, best iteration is:\n",
      "[72]\tvalid_0's multi_logloss: 0.480451\n"
     ]
    },
    {
     "name": "stderr",
     "output_type": "stream",
     "text": [
      "/home/yoshitaka-i/anaconda3/envs/py36/lib/python3.6/site-packages/sklearn/preprocessing/label.py:151: DeprecationWarning: The truth value of an empty array is ambiguous. Returning False, but in future this will result in an error. Use `array.size > 0` to check that an array is not empty.\n",
      "  if diff:\n"
     ]
    },
    {
     "data": {
      "text/plain": [
       "0.8095238095238095"
      ]
     },
     "execution_count": 10,
     "metadata": {},
     "output_type": "execute_result"
    }
   ],
   "source": [
    "# define and fit\n",
    "start = time.time()\n",
    "gbm = lgb.LGBMClassifier(\n",
    "    objective='multiclass',\n",
    "    device = 'gpu'\n",
    ")\n",
    "\n",
    "gbm.fit(\n",
    "    X_train, \n",
    "    y_train,\n",
    "    eval_set=[(X_test, y_test)],\n",
    "    early_stopping_rounds=5\n",
    ")\n",
    "elapsed_time = time.time() - start\n",
    "\n",
    "# save model to sav\n",
    "pickle.dump(gbm, open('../model/lgbm_HCD45_pos.sav', 'wb'))\n",
    "\n",
    "gbm.score(X_test, y_test)"
   ]
  },
  {
   "cell_type": "code",
   "execution_count": 11,
   "metadata": {},
   "outputs": [
    {
     "name": "stderr",
     "output_type": "stream",
     "text": [
      "/home/yoshitaka-i/anaconda3/envs/py36/lib/python3.6/site-packages/sklearn/preprocessing/label.py:151: DeprecationWarning: The truth value of an empty array is ambiguous. Returning False, but in future this will result in an error. Use `array.size > 0` to check that an array is not empty.\n",
      "  if diff:\n"
     ]
    }
   ],
   "source": [
    "# add result to list \n",
    "o['HCD45_Positive'] = [round(gbm.score(X_test, y_test)*100, 2)]\n",
    "d['HCD45_Positive'] = [elapsed_time]"
   ]
  },
  {
   "cell_type": "code",
   "execution_count": 12,
   "metadata": {},
   "outputs": [],
   "source": [
    "# load data\n",
    "with open('../data/HCD65_pos.pickle', mode='rb') as fp:\n",
    "    df = pickle.load(fp)"
   ]
  },
  {
   "cell_type": "code",
   "execution_count": 13,
   "metadata": {},
   "outputs": [],
   "source": [
    "# divide objective and target\n",
    "objective = df.Subclass\n",
    "le = preprocessing.LabelEncoder()\n",
    "objective = le.fit_transform(objective)\n",
    "\n",
    "features = df.drop('Subclass', axis=1)"
   ]
  },
  {
   "cell_type": "code",
   "execution_count": 14,
   "metadata": {},
   "outputs": [],
   "source": [
    "# train test split\n",
    "random_state=np.random.seed(42)\n",
    "X_train, X_test, y_train, y_test = train_test_split(\n",
    "    features, \n",
    "    objective,\n",
    "    test_size=0.2\n",
    ")"
   ]
  },
  {
   "cell_type": "code",
   "execution_count": 15,
   "metadata": {
    "scrolled": true
   },
   "outputs": [
    {
     "name": "stdout",
     "output_type": "stream",
     "text": [
      "[1]\tvalid_0's multi_logloss: 1.2955\n",
      "Training until validation scores don't improve for 5 rounds.\n",
      "[2]\tvalid_0's multi_logloss: 1.22148\n",
      "[3]\tvalid_0's multi_logloss: 1.16028\n",
      "[4]\tvalid_0's multi_logloss: 1.10455\n",
      "[5]\tvalid_0's multi_logloss: 1.05653\n",
      "[6]\tvalid_0's multi_logloss: 1.01408\n",
      "[7]\tvalid_0's multi_logloss: 0.970687\n",
      "[8]\tvalid_0's multi_logloss: 0.9339\n",
      "[9]\tvalid_0's multi_logloss: 0.903102\n",
      "[10]\tvalid_0's multi_logloss: 0.872542\n",
      "[11]\tvalid_0's multi_logloss: 0.845046\n",
      "[12]\tvalid_0's multi_logloss: 0.823489\n",
      "[13]\tvalid_0's multi_logloss: 0.802182\n",
      "[14]\tvalid_0's multi_logloss: 0.780561\n",
      "[15]\tvalid_0's multi_logloss: 0.760236\n",
      "[16]\tvalid_0's multi_logloss: 0.745279\n",
      "[17]\tvalid_0's multi_logloss: 0.730811\n",
      "[18]\tvalid_0's multi_logloss: 0.715686\n",
      "[19]\tvalid_0's multi_logloss: 0.702935\n",
      "[20]\tvalid_0's multi_logloss: 0.691488\n",
      "[21]\tvalid_0's multi_logloss: 0.676968\n",
      "[22]\tvalid_0's multi_logloss: 0.666545\n",
      "[23]\tvalid_0's multi_logloss: 0.654631\n",
      "[24]\tvalid_0's multi_logloss: 0.647252\n",
      "[25]\tvalid_0's multi_logloss: 0.638378\n",
      "[26]\tvalid_0's multi_logloss: 0.630288\n",
      "[27]\tvalid_0's multi_logloss: 0.622348\n",
      "[28]\tvalid_0's multi_logloss: 0.61393\n",
      "[29]\tvalid_0's multi_logloss: 0.606242\n",
      "[30]\tvalid_0's multi_logloss: 0.602775\n",
      "[31]\tvalid_0's multi_logloss: 0.595974\n",
      "[32]\tvalid_0's multi_logloss: 0.590804\n",
      "[33]\tvalid_0's multi_logloss: 0.584164\n",
      "[34]\tvalid_0's multi_logloss: 0.579613\n",
      "[35]\tvalid_0's multi_logloss: 0.575746\n",
      "[36]\tvalid_0's multi_logloss: 0.571081\n",
      "[37]\tvalid_0's multi_logloss: 0.566837\n",
      "[38]\tvalid_0's multi_logloss: 0.562858\n",
      "[39]\tvalid_0's multi_logloss: 0.559258\n",
      "[40]\tvalid_0's multi_logloss: 0.554072\n",
      "[41]\tvalid_0's multi_logloss: 0.549438\n",
      "[42]\tvalid_0's multi_logloss: 0.546117\n",
      "[43]\tvalid_0's multi_logloss: 0.544449\n",
      "[44]\tvalid_0's multi_logloss: 0.542941\n",
      "[45]\tvalid_0's multi_logloss: 0.540019\n",
      "[46]\tvalid_0's multi_logloss: 0.536371\n",
      "[47]\tvalid_0's multi_logloss: 0.533873\n",
      "[48]\tvalid_0's multi_logloss: 0.532654\n",
      "[49]\tvalid_0's multi_logloss: 0.529489\n",
      "[50]\tvalid_0's multi_logloss: 0.528481\n",
      "[51]\tvalid_0's multi_logloss: 0.528207\n",
      "[52]\tvalid_0's multi_logloss: 0.525161\n",
      "[53]\tvalid_0's multi_logloss: 0.52235\n",
      "[54]\tvalid_0's multi_logloss: 0.522704\n",
      "[55]\tvalid_0's multi_logloss: 0.522148\n",
      "[56]\tvalid_0's multi_logloss: 0.520931\n",
      "[57]\tvalid_0's multi_logloss: 0.520166\n",
      "[58]\tvalid_0's multi_logloss: 0.521019\n",
      "[59]\tvalid_0's multi_logloss: 0.51853\n",
      "[60]\tvalid_0's multi_logloss: 0.518915\n",
      "[61]\tvalid_0's multi_logloss: 0.517203\n",
      "[62]\tvalid_0's multi_logloss: 0.517378\n",
      "[63]\tvalid_0's multi_logloss: 0.517012\n",
      "[64]\tvalid_0's multi_logloss: 0.516775\n",
      "[65]\tvalid_0's multi_logloss: 0.515123\n",
      "[66]\tvalid_0's multi_logloss: 0.513173\n",
      "[67]\tvalid_0's multi_logloss: 0.512414\n",
      "[68]\tvalid_0's multi_logloss: 0.510784\n",
      "[69]\tvalid_0's multi_logloss: 0.511169\n",
      "[70]\tvalid_0's multi_logloss: 0.50851\n",
      "[71]\tvalid_0's multi_logloss: 0.507734\n",
      "[72]\tvalid_0's multi_logloss: 0.506194\n",
      "[73]\tvalid_0's multi_logloss: 0.505774\n",
      "[74]\tvalid_0's multi_logloss: 0.504814\n",
      "[75]\tvalid_0's multi_logloss: 0.504586\n",
      "[76]\tvalid_0's multi_logloss: 0.503614\n",
      "[77]\tvalid_0's multi_logloss: 0.503916\n",
      "[78]\tvalid_0's multi_logloss: 0.506237\n",
      "[79]\tvalid_0's multi_logloss: 0.507545\n",
      "[80]\tvalid_0's multi_logloss: 0.505834\n",
      "[81]\tvalid_0's multi_logloss: 0.506972\n",
      "Early stopping, best iteration is:\n",
      "[76]\tvalid_0's multi_logloss: 0.503614\n"
     ]
    },
    {
     "name": "stderr",
     "output_type": "stream",
     "text": [
      "/home/yoshitaka-i/anaconda3/envs/py36/lib/python3.6/site-packages/sklearn/preprocessing/label.py:151: DeprecationWarning: The truth value of an empty array is ambiguous. Returning False, but in future this will result in an error. Use `array.size > 0` to check that an array is not empty.\n",
      "  if diff:\n"
     ]
    },
    {
     "data": {
      "text/plain": [
       "0.8005952380952381"
      ]
     },
     "execution_count": 15,
     "metadata": {},
     "output_type": "execute_result"
    }
   ],
   "source": [
    "# define and fit\n",
    "start = time.time()\n",
    "gbm = lgb.LGBMClassifier(\n",
    "    objective='multiclass',\n",
    "    device = 'gpu'\n",
    ")\n",
    "\n",
    "gbm.fit(\n",
    "    X_train, \n",
    "    y_train,\n",
    "    eval_set=[(X_test, y_test)],\n",
    "    early_stopping_rounds=5\n",
    ")\n",
    "elapsed_time = time.time() - start\n",
    "\n",
    "# save model to sav\n",
    "pickle.dump(gbm, open('../model/lgbm_HCD65_pos.sav', 'wb'))\n",
    "gbm.score(X_test, y_test)"
   ]
  },
  {
   "cell_type": "code",
   "execution_count": 16,
   "metadata": {},
   "outputs": [
    {
     "name": "stderr",
     "output_type": "stream",
     "text": [
      "/home/yoshitaka-i/anaconda3/envs/py36/lib/python3.6/site-packages/sklearn/preprocessing/label.py:151: DeprecationWarning: The truth value of an empty array is ambiguous. Returning False, but in future this will result in an error. Use `array.size > 0` to check that an array is not empty.\n",
      "  if diff:\n"
     ]
    }
   ],
   "source": [
    "# add result to list \n",
    "o['HCD65_Positive'] = [round(gbm.score(X_test, y_test)*100, 2)]\n",
    "d['HCD65_Positive'] = [elapsed_time]"
   ]
  },
  {
   "cell_type": "code",
   "execution_count": 17,
   "metadata": {},
   "outputs": [],
   "source": [
    "# load data \n",
    "with open('../data/HCD35_neg.pickle', mode='rb') as fp:\n",
    "    df = pickle.load(fp)"
   ]
  },
  {
   "cell_type": "code",
   "execution_count": 18,
   "metadata": {},
   "outputs": [],
   "source": [
    "# divide objective and target\n",
    "objective = df.Subclass\n",
    "le = preprocessing.LabelEncoder()\n",
    "objective = le.fit_transform(objective)\n",
    "\n",
    "features = df.drop('Subclass', axis=1)"
   ]
  },
  {
   "cell_type": "code",
   "execution_count": 19,
   "metadata": {},
   "outputs": [],
   "source": [
    "# train test split\n",
    "random_state=np.random.seed(42)\n",
    "X_train, X_test, y_train, y_test = train_test_split(\n",
    "    features, \n",
    "    objective,\n",
    "    test_size=0.2\n",
    ")"
   ]
  },
  {
   "cell_type": "code",
   "execution_count": 20,
   "metadata": {
    "scrolled": true
   },
   "outputs": [
    {
     "name": "stdout",
     "output_type": "stream",
     "text": [
      "[1]\tvalid_0's multi_logloss: 1.30137\n",
      "Training until validation scores don't improve for 5 rounds.\n",
      "[2]\tvalid_0's multi_logloss: 1.22335\n",
      "[3]\tvalid_0's multi_logloss: 1.15893\n",
      "[4]\tvalid_0's multi_logloss: 1.09947\n",
      "[5]\tvalid_0's multi_logloss: 1.04987\n",
      "[6]\tvalid_0's multi_logloss: 1.01132\n",
      "[7]\tvalid_0's multi_logloss: 0.977166\n",
      "[8]\tvalid_0's multi_logloss: 0.949006\n",
      "[9]\tvalid_0's multi_logloss: 0.923959\n",
      "[10]\tvalid_0's multi_logloss: 0.902713\n",
      "[11]\tvalid_0's multi_logloss: 0.880888\n",
      "[12]\tvalid_0's multi_logloss: 0.861254\n",
      "[13]\tvalid_0's multi_logloss: 0.840925\n",
      "[14]\tvalid_0's multi_logloss: 0.82072\n",
      "[15]\tvalid_0's multi_logloss: 0.805414\n",
      "[16]\tvalid_0's multi_logloss: 0.788837\n",
      "[17]\tvalid_0's multi_logloss: 0.776483\n",
      "[18]\tvalid_0's multi_logloss: 0.765688\n",
      "[19]\tvalid_0's multi_logloss: 0.754473\n",
      "[20]\tvalid_0's multi_logloss: 0.740819\n",
      "[21]\tvalid_0's multi_logloss: 0.732193\n",
      "[22]\tvalid_0's multi_logloss: 0.725243\n",
      "[23]\tvalid_0's multi_logloss: 0.713797\n",
      "[24]\tvalid_0's multi_logloss: 0.706519\n",
      "[25]\tvalid_0's multi_logloss: 0.702215\n",
      "[26]\tvalid_0's multi_logloss: 0.697377\n",
      "[27]\tvalid_0's multi_logloss: 0.686079\n",
      "[28]\tvalid_0's multi_logloss: 0.682948\n",
      "[29]\tvalid_0's multi_logloss: 0.677807\n",
      "[30]\tvalid_0's multi_logloss: 0.668912\n",
      "[31]\tvalid_0's multi_logloss: 0.66277\n",
      "[32]\tvalid_0's multi_logloss: 0.656822\n",
      "[33]\tvalid_0's multi_logloss: 0.655483\n",
      "[34]\tvalid_0's multi_logloss: 0.652456\n",
      "[35]\tvalid_0's multi_logloss: 0.646267\n",
      "[36]\tvalid_0's multi_logloss: 0.640706\n",
      "[37]\tvalid_0's multi_logloss: 0.634586\n",
      "[38]\tvalid_0's multi_logloss: 0.637625\n",
      "[39]\tvalid_0's multi_logloss: 0.633045\n",
      "[40]\tvalid_0's multi_logloss: 0.628477\n",
      "[41]\tvalid_0's multi_logloss: 0.625712\n",
      "[42]\tvalid_0's multi_logloss: 0.622677\n",
      "[43]\tvalid_0's multi_logloss: 0.621647\n",
      "[44]\tvalid_0's multi_logloss: 0.618519\n",
      "[45]\tvalid_0's multi_logloss: 0.614495\n",
      "[46]\tvalid_0's multi_logloss: 0.613084\n",
      "[47]\tvalid_0's multi_logloss: 0.606358\n",
      "[48]\tvalid_0's multi_logloss: 0.60775\n",
      "[49]\tvalid_0's multi_logloss: 0.609917\n",
      "[50]\tvalid_0's multi_logloss: 0.606708\n",
      "[51]\tvalid_0's multi_logloss: 0.603581\n",
      "[52]\tvalid_0's multi_logloss: 0.602656\n",
      "[53]\tvalid_0's multi_logloss: 0.598651\n",
      "[54]\tvalid_0's multi_logloss: 0.596282\n",
      "[55]\tvalid_0's multi_logloss: 0.595112\n",
      "[56]\tvalid_0's multi_logloss: 0.59336\n",
      "[57]\tvalid_0's multi_logloss: 0.596546\n",
      "[58]\tvalid_0's multi_logloss: 0.59438\n",
      "[59]\tvalid_0's multi_logloss: 0.598778\n",
      "[60]\tvalid_0's multi_logloss: 0.600811\n",
      "[61]\tvalid_0's multi_logloss: 0.60016\n",
      "Early stopping, best iteration is:\n",
      "[56]\tvalid_0's multi_logloss: 0.59336\n"
     ]
    },
    {
     "name": "stderr",
     "output_type": "stream",
     "text": [
      "/home/yoshitaka-i/anaconda3/envs/py36/lib/python3.6/site-packages/sklearn/preprocessing/label.py:151: DeprecationWarning: The truth value of an empty array is ambiguous. Returning False, but in future this will result in an error. Use `array.size > 0` to check that an array is not empty.\n",
      "  if diff:\n"
     ]
    },
    {
     "data": {
      "text/plain": [
       "0.7340425531914894"
      ]
     },
     "execution_count": 20,
     "metadata": {},
     "output_type": "execute_result"
    }
   ],
   "source": [
    "# define and fit\n",
    "start = time.time()\n",
    "gbm = lgb.LGBMClassifier(\n",
    "    objective='multiclass',\n",
    "    device = 'gpu'\n",
    ")\n",
    "\n",
    "gbm.fit(\n",
    "    X_train, \n",
    "    y_train,\n",
    "    eval_set=[(X_test, y_test)],\n",
    "    early_stopping_rounds=5\n",
    ")\n",
    "elapsed_time = time.time() - start\n",
    "# save model to sav\n",
    "pickle.dump(gbm, open('../model/lgbm_HCD35_neg.sav', 'wb'))\n",
    "gbm.score(X_test, y_test)"
   ]
  },
  {
   "cell_type": "code",
   "execution_count": 21,
   "metadata": {},
   "outputs": [
    {
     "name": "stderr",
     "output_type": "stream",
     "text": [
      "/home/yoshitaka-i/anaconda3/envs/py36/lib/python3.6/site-packages/sklearn/preprocessing/label.py:151: DeprecationWarning: The truth value of an empty array is ambiguous. Returning False, but in future this will result in an error. Use `array.size > 0` to check that an array is not empty.\n",
      "  if diff:\n"
     ]
    }
   ],
   "source": [
    "# result append to list\n",
    "o['HCD35_Negative'] = [round(gbm.score(X_test, y_test)*100, 2)]\n",
    "d['HCD35_Negative'] = [elapsed_time]"
   ]
  },
  {
   "cell_type": "code",
   "execution_count": 22,
   "metadata": {},
   "outputs": [],
   "source": [
    "# load data\n",
    "with open('../data/HCD45_neg.pickle', mode='rb') as fp:\n",
    "    df = pickle.load(fp)"
   ]
  },
  {
   "cell_type": "code",
   "execution_count": 23,
   "metadata": {},
   "outputs": [],
   "source": [
    "# divide objective and target\n",
    "objective = df.Subclass\n",
    "le = preprocessing.LabelEncoder()\n",
    "objective = le.fit_transform(objective)\n",
    "\n",
    "features = df.drop('Subclass', axis=1)"
   ]
  },
  {
   "cell_type": "code",
   "execution_count": 24,
   "metadata": {},
   "outputs": [],
   "source": [
    "# train test split\n",
    "random_state=np.random.seed(42)\n",
    "X_train, X_test, y_train, y_test = train_test_split(\n",
    "    features, \n",
    "    objective,\n",
    "    test_size=0.2\n",
    ")"
   ]
  },
  {
   "cell_type": "code",
   "execution_count": 25,
   "metadata": {
    "scrolled": true
   },
   "outputs": [
    {
     "name": "stdout",
     "output_type": "stream",
     "text": [
      "[1]\tvalid_0's multi_logloss: 1.30728\n",
      "Training until validation scores don't improve for 5 rounds.\n",
      "[2]\tvalid_0's multi_logloss: 1.24428\n",
      "[3]\tvalid_0's multi_logloss: 1.19091\n",
      "[4]\tvalid_0's multi_logloss: 1.14783\n",
      "[5]\tvalid_0's multi_logloss: 1.1074\n",
      "[6]\tvalid_0's multi_logloss: 1.07527\n",
      "[7]\tvalid_0's multi_logloss: 1.04467\n",
      "[8]\tvalid_0's multi_logloss: 1.01698\n",
      "[9]\tvalid_0's multi_logloss: 0.996891\n",
      "[10]\tvalid_0's multi_logloss: 0.975175\n",
      "[11]\tvalid_0's multi_logloss: 0.948407\n",
      "[12]\tvalid_0's multi_logloss: 0.927498\n",
      "[13]\tvalid_0's multi_logloss: 0.908311\n",
      "[14]\tvalid_0's multi_logloss: 0.890493\n",
      "[15]\tvalid_0's multi_logloss: 0.873985\n",
      "[16]\tvalid_0's multi_logloss: 0.858628\n",
      "[17]\tvalid_0's multi_logloss: 0.84213\n",
      "[18]\tvalid_0's multi_logloss: 0.833401\n",
      "[19]\tvalid_0's multi_logloss: 0.822398\n",
      "[20]\tvalid_0's multi_logloss: 0.814429\n",
      "[21]\tvalid_0's multi_logloss: 0.804205\n",
      "[22]\tvalid_0's multi_logloss: 0.79613\n",
      "[23]\tvalid_0's multi_logloss: 0.787174\n",
      "[24]\tvalid_0's multi_logloss: 0.779814\n",
      "[25]\tvalid_0's multi_logloss: 0.774732\n",
      "[26]\tvalid_0's multi_logloss: 0.76694\n",
      "[27]\tvalid_0's multi_logloss: 0.760785\n",
      "[28]\tvalid_0's multi_logloss: 0.754251\n",
      "[29]\tvalid_0's multi_logloss: 0.746784\n",
      "[30]\tvalid_0's multi_logloss: 0.740079\n",
      "[31]\tvalid_0's multi_logloss: 0.735884\n",
      "[32]\tvalid_0's multi_logloss: 0.729016\n",
      "[33]\tvalid_0's multi_logloss: 0.72494\n",
      "[34]\tvalid_0's multi_logloss: 0.716125\n",
      "[35]\tvalid_0's multi_logloss: 0.711443\n",
      "[36]\tvalid_0's multi_logloss: 0.707816\n",
      "[37]\tvalid_0's multi_logloss: 0.702407\n",
      "[38]\tvalid_0's multi_logloss: 0.702405\n",
      "[39]\tvalid_0's multi_logloss: 0.697735\n",
      "[40]\tvalid_0's multi_logloss: 0.694993\n",
      "[41]\tvalid_0's multi_logloss: 0.69166\n",
      "[42]\tvalid_0's multi_logloss: 0.691289\n",
      "[43]\tvalid_0's multi_logloss: 0.686837\n",
      "[44]\tvalid_0's multi_logloss: 0.686758\n",
      "[45]\tvalid_0's multi_logloss: 0.686979\n",
      "[46]\tvalid_0's multi_logloss: 0.685843\n",
      "[47]\tvalid_0's multi_logloss: 0.683111\n",
      "[48]\tvalid_0's multi_logloss: 0.677311\n",
      "[49]\tvalid_0's multi_logloss: 0.675108\n",
      "[50]\tvalid_0's multi_logloss: 0.673857\n",
      "[51]\tvalid_0's multi_logloss: 0.67242\n",
      "[52]\tvalid_0's multi_logloss: 0.671565\n",
      "[53]\tvalid_0's multi_logloss: 0.669888\n",
      "[54]\tvalid_0's multi_logloss: 0.670118\n",
      "[55]\tvalid_0's multi_logloss: 0.671411\n",
      "[56]\tvalid_0's multi_logloss: 0.670945\n",
      "[57]\tvalid_0's multi_logloss: 0.672207\n",
      "[58]\tvalid_0's multi_logloss: 0.67174\n",
      "Early stopping, best iteration is:\n",
      "[53]\tvalid_0's multi_logloss: 0.669888\n"
     ]
    },
    {
     "name": "stderr",
     "output_type": "stream",
     "text": [
      "/home/yoshitaka-i/anaconda3/envs/py36/lib/python3.6/site-packages/sklearn/preprocessing/label.py:151: DeprecationWarning: The truth value of an empty array is ambiguous. Returning False, but in future this will result in an error. Use `array.size > 0` to check that an array is not empty.\n",
      "  if diff:\n"
     ]
    },
    {
     "data": {
      "text/plain": [
       "0.723404255319149"
      ]
     },
     "execution_count": 25,
     "metadata": {},
     "output_type": "execute_result"
    }
   ],
   "source": [
    "# define and fit\n",
    "start = time.time()\n",
    "gbm = lgb.LGBMClassifier(\n",
    "    objective='multiclass',\n",
    "    device = 'gpu'\n",
    ")\n",
    "\n",
    "gbm.fit(\n",
    "    X_train, \n",
    "    y_train,\n",
    "    eval_set=[(X_test, y_test)],\n",
    "    early_stopping_rounds=5\n",
    ")\n",
    "elapsed_time = time.time() - start\n",
    "\n",
    "# save model to sav\n",
    "pickle.dump(gbm, open('../model/lgbm_HCD45_neg.sav', 'wb'))\n",
    "gbm.score(X_test, y_test)"
   ]
  },
  {
   "cell_type": "code",
   "execution_count": 26,
   "metadata": {},
   "outputs": [
    {
     "name": "stderr",
     "output_type": "stream",
     "text": [
      "/home/yoshitaka-i/anaconda3/envs/py36/lib/python3.6/site-packages/sklearn/preprocessing/label.py:151: DeprecationWarning: The truth value of an empty array is ambiguous. Returning False, but in future this will result in an error. Use `array.size > 0` to check that an array is not empty.\n",
      "  if diff:\n"
     ]
    }
   ],
   "source": [
    "# result append to list\n",
    "o['HCD45_Negative'] = [round(gbm.score(X_test, y_test)*100, 2)]\n",
    "d['HCD45_Negative'] = [elapsed_time]"
   ]
  },
  {
   "cell_type": "code",
   "execution_count": 27,
   "metadata": {},
   "outputs": [],
   "source": [
    "# load data\n",
    "with open('../data/HCD65_neg.pickle', mode='rb') as fp:\n",
    "    df = pickle.load(fp)"
   ]
  },
  {
   "cell_type": "code",
   "execution_count": 28,
   "metadata": {},
   "outputs": [],
   "source": [
    "# divide objective and target\n",
    "objective = df.Subclass\n",
    "le = preprocessing.LabelEncoder()\n",
    "objective = le.fit_transform(objective)\n",
    "\n",
    "features = df.drop('Subclass', axis=1)"
   ]
  },
  {
   "cell_type": "code",
   "execution_count": 29,
   "metadata": {},
   "outputs": [],
   "source": [
    "# train test split\n",
    "random_state=np.random.seed(42)\n",
    "X_train, X_test, y_train, y_test = train_test_split(\n",
    "    features, \n",
    "    objective,\n",
    "    test_size=0.2\n",
    ")"
   ]
  },
  {
   "cell_type": "code",
   "execution_count": 30,
   "metadata": {
    "scrolled": true
   },
   "outputs": [
    {
     "name": "stdout",
     "output_type": "stream",
     "text": [
      "[1]\tvalid_0's multi_logloss: 1.31383\n",
      "Training until validation scores don't improve for 5 rounds.\n",
      "[2]\tvalid_0's multi_logloss: 1.25405\n",
      "[3]\tvalid_0's multi_logloss: 1.20084\n",
      "[4]\tvalid_0's multi_logloss: 1.15406\n",
      "[5]\tvalid_0's multi_logloss: 1.1178\n",
      "[6]\tvalid_0's multi_logloss: 1.0844\n",
      "[7]\tvalid_0's multi_logloss: 1.05432\n",
      "[8]\tvalid_0's multi_logloss: 1.02851\n",
      "[9]\tvalid_0's multi_logloss: 1.00402\n",
      "[10]\tvalid_0's multi_logloss: 0.980917\n",
      "[11]\tvalid_0's multi_logloss: 0.959213\n",
      "[12]\tvalid_0's multi_logloss: 0.947037\n",
      "[13]\tvalid_0's multi_logloss: 0.93271\n",
      "[14]\tvalid_0's multi_logloss: 0.92061\n",
      "[15]\tvalid_0's multi_logloss: 0.909448\n",
      "[16]\tvalid_0's multi_logloss: 0.895203\n",
      "[17]\tvalid_0's multi_logloss: 0.885169\n",
      "[18]\tvalid_0's multi_logloss: 0.87417\n",
      "[19]\tvalid_0's multi_logloss: 0.86671\n",
      "[20]\tvalid_0's multi_logloss: 0.86169\n",
      "[21]\tvalid_0's multi_logloss: 0.856482\n",
      "[22]\tvalid_0's multi_logloss: 0.849996\n",
      "[23]\tvalid_0's multi_logloss: 0.844023\n",
      "[24]\tvalid_0's multi_logloss: 0.83711\n",
      "[25]\tvalid_0's multi_logloss: 0.833033\n",
      "[26]\tvalid_0's multi_logloss: 0.828596\n",
      "[27]\tvalid_0's multi_logloss: 0.823432\n",
      "[28]\tvalid_0's multi_logloss: 0.818749\n",
      "[29]\tvalid_0's multi_logloss: 0.814332\n",
      "[30]\tvalid_0's multi_logloss: 0.81067\n",
      "[31]\tvalid_0's multi_logloss: 0.807429\n",
      "[32]\tvalid_0's multi_logloss: 0.803797\n",
      "[33]\tvalid_0's multi_logloss: 0.803622\n",
      "[34]\tvalid_0's multi_logloss: 0.798525\n",
      "[35]\tvalid_0's multi_logloss: 0.794464\n",
      "[36]\tvalid_0's multi_logloss: 0.792116\n",
      "[37]\tvalid_0's multi_logloss: 0.792545\n",
      "[38]\tvalid_0's multi_logloss: 0.790446\n",
      "[39]\tvalid_0's multi_logloss: 0.787282\n",
      "[40]\tvalid_0's multi_logloss: 0.786193\n",
      "[41]\tvalid_0's multi_logloss: 0.785058\n",
      "[42]\tvalid_0's multi_logloss: 0.781322\n",
      "[43]\tvalid_0's multi_logloss: 0.778424\n",
      "[44]\tvalid_0's multi_logloss: 0.779526\n",
      "[45]\tvalid_0's multi_logloss: 0.777306\n",
      "[46]\tvalid_0's multi_logloss: 0.77608\n",
      "[47]\tvalid_0's multi_logloss: 0.77733\n",
      "[48]\tvalid_0's multi_logloss: 0.774024\n",
      "[49]\tvalid_0's multi_logloss: 0.773427\n",
      "[50]\tvalid_0's multi_logloss: 0.773374\n",
      "[51]\tvalid_0's multi_logloss: 0.771243\n",
      "[52]\tvalid_0's multi_logloss: 0.769969\n",
      "[53]\tvalid_0's multi_logloss: 0.772432\n",
      "[54]\tvalid_0's multi_logloss: 0.77433\n",
      "[55]\tvalid_0's multi_logloss: 0.772603\n",
      "[56]\tvalid_0's multi_logloss: 0.774467\n",
      "[57]\tvalid_0's multi_logloss: 0.776084\n",
      "Early stopping, best iteration is:\n",
      "[52]\tvalid_0's multi_logloss: 0.769969\n"
     ]
    },
    {
     "name": "stderr",
     "output_type": "stream",
     "text": [
      "/home/yoshitaka-i/anaconda3/envs/py36/lib/python3.6/site-packages/sklearn/preprocessing/label.py:151: DeprecationWarning: The truth value of an empty array is ambiguous. Returning False, but in future this will result in an error. Use `array.size > 0` to check that an array is not empty.\n",
      "  if diff:\n"
     ]
    },
    {
     "data": {
      "text/plain": [
       "0.6808510638297872"
      ]
     },
     "execution_count": 30,
     "metadata": {},
     "output_type": "execute_result"
    }
   ],
   "source": [
    "# define and fit\n",
    "start = time.time()\n",
    "gbm = lgb.LGBMClassifier(\n",
    "    objective='multiclass',\n",
    "    device = 'gpu'\n",
    ")\n",
    "\n",
    "gbm.fit(\n",
    "    X_train, \n",
    "    y_train,\n",
    "    eval_set=[(X_test, y_test)],\n",
    "    early_stopping_rounds=5\n",
    ")\n",
    "elapsed_time = time.time() - start\n",
    "\n",
    "# save model to sav\n",
    "pickle.dump(gbm, open('../model/lgbm_HCD65_neg.sav', 'wb'))\n",
    "gbm.score(X_test, y_test)"
   ]
  },
  {
   "cell_type": "code",
   "execution_count": 31,
   "metadata": {},
   "outputs": [
    {
     "name": "stderr",
     "output_type": "stream",
     "text": [
      "/home/yoshitaka-i/anaconda3/envs/py36/lib/python3.6/site-packages/sklearn/preprocessing/label.py:151: DeprecationWarning: The truth value of an empty array is ambiguous. Returning False, but in future this will result in an error. Use `array.size > 0` to check that an array is not empty.\n",
      "  if diff:\n"
     ]
    }
   ],
   "source": [
    "# result append to list\n",
    "o['HCD65_Negative'] = [round(gbm.score(X_test, y_test)*100, 2)]\n",
    "d['HCD65_Negative'] = [elapsed_time]"
   ]
  },
  {
   "cell_type": "code",
   "execution_count": 33,
   "metadata": {},
   "outputs": [],
   "source": [
    "# change result list to Dataframe\n",
    "g = pd.concat([pd.DataFrame(o).T, pd.DataFrame(d).T], axis=1)\n",
    "g.columns = ['Accuracy', 'Time']"
   ]
  },
  {
   "cell_type": "code",
   "execution_count": 35,
   "metadata": {},
   "outputs": [],
   "source": [
    "# dataframe to csv\n",
    "g.to_csv('../result/LightGBM.csv')"
   ]
  }
 ],
 "metadata": {
  "kernelspec": {
   "display_name": "py36",
   "language": "python",
   "name": "py36"
  },
  "language_info": {
   "codemirror_mode": {
    "name": "ipython",
    "version": 3
   },
   "file_extension": ".py",
   "mimetype": "text/x-python",
   "name": "python",
   "nbconvert_exporter": "python",
   "pygments_lexer": "ipython3",
   "version": "3.6.5"
  }
 },
 "nbformat": 4,
 "nbformat_minor": 2
}
