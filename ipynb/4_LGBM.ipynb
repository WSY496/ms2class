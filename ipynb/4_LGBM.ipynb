{
 "cells": [
  {
   "cell_type": "code",
   "execution_count": 1,
   "metadata": {},
   "outputs": [],
   "source": [
    "import pickle\n",
    "import pandas as pd\n",
    "import numpy as np\n",
    "import time\n",
    "\n",
    "import xgboost as xgb\n",
    "import lightgbm as lgb\n",
    "\n",
    "from sklearn.ensemble import RandomForestClassifier as rf\n",
    "from sklearn.metrics import mean_squared_error\n",
    "from sklearn.model_selection import train_test_split\n",
    "from sklearn.metrics import confusion_matrix\n",
    "from sklearn.model_selection import GridSearchCV\n",
    "from sklearn import preprocessing"
   ]
  },
  {
   "cell_type": "code",
   "execution_count": 2,
   "metadata": {},
   "outputs": [],
   "source": [
    "# load data\n",
    "with open('../data/HCD35_pos.pickle', mode='rb') as fp:\n",
    "    df = pickle.load(fp)"
   ]
  },
  {
   "cell_type": "code",
   "execution_count": 3,
   "metadata": {},
   "outputs": [],
   "source": [
    "# divide objective and target\n",
    "objective = df.Subclass\n",
    "le = preprocessing.LabelEncoder()\n",
    "objective = le.fit_transform(objective)\n",
    "\n",
    "features = df.drop('Subclass', axis=1)"
   ]
  },
  {
   "cell_type": "code",
   "execution_count": 4,
   "metadata": {},
   "outputs": [],
   "source": [
    "# train test split\n",
    "random_state=np.random.seed(42)\n",
    "X_train, X_test, y_train, y_test = train_test_split(\n",
    "    features, \n",
    "    objective,\n",
    "    test_size=0.2\n",
    ")"
   ]
  },
  {
   "cell_type": "code",
   "execution_count": 7,
   "metadata": {
    "scrolled": true
   },
   "outputs": [
    {
     "name": "stdout",
     "output_type": "stream",
     "text": [
      "[1]\tvalid_0's multi_logloss: 1.28656\n",
      "Training until validation scores don't improve for 5 rounds.\n",
      "[2]\tvalid_0's multi_logloss: 1.20656\n",
      "[3]\tvalid_0's multi_logloss: 1.14131\n",
      "[4]\tvalid_0's multi_logloss: 1.08736\n",
      "[5]\tvalid_0's multi_logloss: 1.03841\n",
      "[6]\tvalid_0's multi_logloss: 0.996408\n",
      "[7]\tvalid_0's multi_logloss: 0.956173\n",
      "[8]\tvalid_0's multi_logloss: 0.917558\n",
      "[9]\tvalid_0's multi_logloss: 0.882974\n",
      "[10]\tvalid_0's multi_logloss: 0.855906\n",
      "[11]\tvalid_0's multi_logloss: 0.829985\n",
      "[12]\tvalid_0's multi_logloss: 0.80715\n",
      "[13]\tvalid_0's multi_logloss: 0.785865\n",
      "[14]\tvalid_0's multi_logloss: 0.76381\n",
      "[15]\tvalid_0's multi_logloss: 0.747132\n",
      "[16]\tvalid_0's multi_logloss: 0.729704\n",
      "[17]\tvalid_0's multi_logloss: 0.714715\n",
      "[18]\tvalid_0's multi_logloss: 0.698053\n",
      "[19]\tvalid_0's multi_logloss: 0.681954\n",
      "[20]\tvalid_0's multi_logloss: 0.66662\n",
      "[21]\tvalid_0's multi_logloss: 0.653446\n",
      "[22]\tvalid_0's multi_logloss: 0.640671\n",
      "[23]\tvalid_0's multi_logloss: 0.628787\n",
      "[24]\tvalid_0's multi_logloss: 0.61638\n",
      "[25]\tvalid_0's multi_logloss: 0.606287\n",
      "[26]\tvalid_0's multi_logloss: 0.596513\n",
      "[27]\tvalid_0's multi_logloss: 0.585942\n",
      "[28]\tvalid_0's multi_logloss: 0.576436\n",
      "[29]\tvalid_0's multi_logloss: 0.566999\n",
      "[30]\tvalid_0's multi_logloss: 0.559323\n",
      "[31]\tvalid_0's multi_logloss: 0.549249\n",
      "[32]\tvalid_0's multi_logloss: 0.540824\n",
      "[33]\tvalid_0's multi_logloss: 0.531503\n",
      "[34]\tvalid_0's multi_logloss: 0.526418\n",
      "[35]\tvalid_0's multi_logloss: 0.521225\n",
      "[36]\tvalid_0's multi_logloss: 0.515351\n",
      "[37]\tvalid_0's multi_logloss: 0.509808\n",
      "[38]\tvalid_0's multi_logloss: 0.504632\n",
      "[39]\tvalid_0's multi_logloss: 0.498563\n",
      "[40]\tvalid_0's multi_logloss: 0.494397\n",
      "[41]\tvalid_0's multi_logloss: 0.488974\n",
      "[42]\tvalid_0's multi_logloss: 0.484375\n",
      "[43]\tvalid_0's multi_logloss: 0.481023\n",
      "[44]\tvalid_0's multi_logloss: 0.47516\n",
      "[45]\tvalid_0's multi_logloss: 0.471549\n",
      "[46]\tvalid_0's multi_logloss: 0.467511\n",
      "[47]\tvalid_0's multi_logloss: 0.464796\n",
      "[48]\tvalid_0's multi_logloss: 0.46133\n",
      "[49]\tvalid_0's multi_logloss: 0.458705\n",
      "[50]\tvalid_0's multi_logloss: 0.456502\n",
      "[51]\tvalid_0's multi_logloss: 0.453371\n",
      "[52]\tvalid_0's multi_logloss: 0.451812\n",
      "[53]\tvalid_0's multi_logloss: 0.448132\n",
      "[54]\tvalid_0's multi_logloss: 0.445638\n",
      "[55]\tvalid_0's multi_logloss: 0.440949\n",
      "[56]\tvalid_0's multi_logloss: 0.439367\n",
      "[57]\tvalid_0's multi_logloss: 0.438332\n",
      "[58]\tvalid_0's multi_logloss: 0.436267\n",
      "[59]\tvalid_0's multi_logloss: 0.436033\n",
      "[60]\tvalid_0's multi_logloss: 0.435397\n",
      "[61]\tvalid_0's multi_logloss: 0.435405\n",
      "[62]\tvalid_0's multi_logloss: 0.432918\n",
      "[63]\tvalid_0's multi_logloss: 0.430921\n",
      "[64]\tvalid_0's multi_logloss: 0.430058\n",
      "[65]\tvalid_0's multi_logloss: 0.429784\n",
      "[66]\tvalid_0's multi_logloss: 0.429222\n",
      "[67]\tvalid_0's multi_logloss: 0.429334\n",
      "[68]\tvalid_0's multi_logloss: 0.427941\n",
      "[69]\tvalid_0's multi_logloss: 0.425834\n",
      "[70]\tvalid_0's multi_logloss: 0.427515\n",
      "[71]\tvalid_0's multi_logloss: 0.429395\n",
      "[72]\tvalid_0's multi_logloss: 0.428726\n",
      "[73]\tvalid_0's multi_logloss: 0.426848\n",
      "[74]\tvalid_0's multi_logloss: 0.428409\n",
      "Early stopping, best iteration is:\n",
      "[69]\tvalid_0's multi_logloss: 0.425834\n"
     ]
    }
   ],
   "source": [
    "# define and fit\n",
    "start = time.time()\n",
    "gbm = lgb.LGBMClassifier(\n",
    "    objective='multiclass',\n",
    "    device = 'gpu',\n",
    "    n_jobs=-1 \n",
    ")\n",
    "\n",
    "gbm.fit(\n",
    "    X_train, \n",
    "    y_train,\n",
    "    eval_set=[(X_test, y_test)],\n",
    "    early_stopping_rounds=5\n",
    ")\n",
    "elapsed_time = time.time() - start\n",
    "\n",
    "# save model to sav\n",
    "pickle.dump(gbm, open('../model/lgbm_HCD35_pos.sav', 'wb'))"
   ]
  },
  {
   "cell_type": "code",
   "execution_count": 8,
   "metadata": {},
   "outputs": [
    {
     "name": "stderr",
     "output_type": "stream",
     "text": [
      "/home/yoshitaka-i/anaconda3/envs/py36/lib/python3.6/site-packages/sklearn/preprocessing/label.py:151: DeprecationWarning: The truth value of an empty array is ambiguous. Returning False, but in future this will result in an error. Use `array.size > 0` to check that an array is not empty.\n",
      "  if diff:\n"
     ]
    }
   ],
   "source": [
    "# add result to list \n",
    "o = {}\n",
    "d = {}\n",
    "o['HCD35_Positive'] = [round(gbm.score(X_test, y_test)*100, 2)]\n",
    "d['HCD35_Positive'] = [elapsed_time]"
   ]
  },
  {
   "cell_type": "code",
   "execution_count": 9,
   "metadata": {},
   "outputs": [],
   "source": [
    "# load data\n",
    "with open('../data/HCD45_pos.pickle', mode='rb') as fp:\n",
    "    df = pickle.load(fp)"
   ]
  },
  {
   "cell_type": "code",
   "execution_count": 10,
   "metadata": {},
   "outputs": [],
   "source": [
    "# divide objective and target\n",
    "objective = df.Subclass\n",
    "le = preprocessing.LabelEncoder()\n",
    "objective = le.fit_transform(objective)\n",
    "\n",
    "features = df.drop('Subclass', axis=1)"
   ]
  },
  {
   "cell_type": "code",
   "execution_count": 11,
   "metadata": {},
   "outputs": [],
   "source": [
    "# train test split\n",
    "random_state=np.random.seed(42)\n",
    "X_train, X_test, y_train, y_test = train_test_split(\n",
    "    features, \n",
    "    objective,\n",
    "    test_size=0.2\n",
    ")"
   ]
  },
  {
   "cell_type": "code",
   "execution_count": 12,
   "metadata": {
    "scrolled": true
   },
   "outputs": [
    {
     "name": "stdout",
     "output_type": "stream",
     "text": [
      "[1]\tvalid_0's multi_logloss: 1.29593\n",
      "Training until validation scores don't improve for 5 rounds.\n",
      "[2]\tvalid_0's multi_logloss: 1.22366\n",
      "[3]\tvalid_0's multi_logloss: 1.16062\n",
      "[4]\tvalid_0's multi_logloss: 1.10791\n",
      "[5]\tvalid_0's multi_logloss: 1.05615\n",
      "[6]\tvalid_0's multi_logloss: 1.0134\n",
      "[7]\tvalid_0's multi_logloss: 0.973814\n",
      "[8]\tvalid_0's multi_logloss: 0.938707\n",
      "[9]\tvalid_0's multi_logloss: 0.909245\n",
      "[10]\tvalid_0's multi_logloss: 0.881957\n",
      "[11]\tvalid_0's multi_logloss: 0.855009\n",
      "[12]\tvalid_0's multi_logloss: 0.82971\n",
      "[13]\tvalid_0's multi_logloss: 0.806159\n",
      "[14]\tvalid_0's multi_logloss: 0.787479\n",
      "[15]\tvalid_0's multi_logloss: 0.765115\n",
      "[16]\tvalid_0's multi_logloss: 0.74674\n",
      "[17]\tvalid_0's multi_logloss: 0.730452\n",
      "[18]\tvalid_0's multi_logloss: 0.715377\n",
      "[19]\tvalid_0's multi_logloss: 0.7014\n",
      "[20]\tvalid_0's multi_logloss: 0.690857\n",
      "[21]\tvalid_0's multi_logloss: 0.678446\n",
      "[22]\tvalid_0's multi_logloss: 0.668977\n",
      "[23]\tvalid_0's multi_logloss: 0.659682\n",
      "[24]\tvalid_0's multi_logloss: 0.650341\n",
      "[25]\tvalid_0's multi_logloss: 0.638003\n",
      "[26]\tvalid_0's multi_logloss: 0.628526\n",
      "[27]\tvalid_0's multi_logloss: 0.618133\n",
      "[28]\tvalid_0's multi_logloss: 0.61072\n",
      "[29]\tvalid_0's multi_logloss: 0.602182\n",
      "[30]\tvalid_0's multi_logloss: 0.596277\n",
      "[31]\tvalid_0's multi_logloss: 0.590126\n",
      "[32]\tvalid_0's multi_logloss: 0.584582\n",
      "[33]\tvalid_0's multi_logloss: 0.578251\n",
      "[34]\tvalid_0's multi_logloss: 0.573296\n",
      "[35]\tvalid_0's multi_logloss: 0.566775\n",
      "[36]\tvalid_0's multi_logloss: 0.559489\n",
      "[37]\tvalid_0's multi_logloss: 0.553713\n",
      "[38]\tvalid_0's multi_logloss: 0.546991\n",
      "[39]\tvalid_0's multi_logloss: 0.543454\n",
      "[40]\tvalid_0's multi_logloss: 0.538529\n",
      "[41]\tvalid_0's multi_logloss: 0.534021\n",
      "[42]\tvalid_0's multi_logloss: 0.52999\n",
      "[43]\tvalid_0's multi_logloss: 0.527444\n",
      "[44]\tvalid_0's multi_logloss: 0.524144\n",
      "[45]\tvalid_0's multi_logloss: 0.519425\n",
      "[46]\tvalid_0's multi_logloss: 0.515383\n",
      "[47]\tvalid_0's multi_logloss: 0.512056\n",
      "[48]\tvalid_0's multi_logloss: 0.509853\n",
      "[49]\tvalid_0's multi_logloss: 0.508507\n",
      "[50]\tvalid_0's multi_logloss: 0.50565\n",
      "[51]\tvalid_0's multi_logloss: 0.501276\n",
      "[52]\tvalid_0's multi_logloss: 0.500594\n",
      "[53]\tvalid_0's multi_logloss: 0.498829\n",
      "[54]\tvalid_0's multi_logloss: 0.497814\n",
      "[55]\tvalid_0's multi_logloss: 0.496356\n",
      "[56]\tvalid_0's multi_logloss: 0.49443\n",
      "[57]\tvalid_0's multi_logloss: 0.491074\n",
      "[58]\tvalid_0's multi_logloss: 0.49077\n",
      "[59]\tvalid_0's multi_logloss: 0.487705\n",
      "[60]\tvalid_0's multi_logloss: 0.486364\n",
      "[61]\tvalid_0's multi_logloss: 0.484941\n",
      "[62]\tvalid_0's multi_logloss: 0.483707\n",
      "[63]\tvalid_0's multi_logloss: 0.481586\n",
      "[64]\tvalid_0's multi_logloss: 0.47982\n",
      "[65]\tvalid_0's multi_logloss: 0.47826\n",
      "[66]\tvalid_0's multi_logloss: 0.476328\n",
      "[67]\tvalid_0's multi_logloss: 0.473811\n",
      "[68]\tvalid_0's multi_logloss: 0.47269\n",
      "[69]\tvalid_0's multi_logloss: 0.472262\n",
      "[70]\tvalid_0's multi_logloss: 0.473406\n",
      "[71]\tvalid_0's multi_logloss: 0.473002\n",
      "[72]\tvalid_0's multi_logloss: 0.472646\n",
      "[73]\tvalid_0's multi_logloss: 0.474078\n",
      "[74]\tvalid_0's multi_logloss: 0.472576\n",
      "Early stopping, best iteration is:\n",
      "[69]\tvalid_0's multi_logloss: 0.472262\n"
     ]
    },
    {
     "name": "stderr",
     "output_type": "stream",
     "text": [
      "/home/yoshitaka-i/anaconda3/envs/py36/lib/python3.6/site-packages/sklearn/preprocessing/label.py:151: DeprecationWarning: The truth value of an empty array is ambiguous. Returning False, but in future this will result in an error. Use `array.size > 0` to check that an array is not empty.\n",
      "  if diff:\n"
     ]
    },
    {
     "data": {
      "text/plain": [
       "0.8125"
      ]
     },
     "execution_count": 12,
     "metadata": {},
     "output_type": "execute_result"
    }
   ],
   "source": [
    "# define and fit\n",
    "start = time.time()\n",
    "gbm = lgb.LGBMClassifier(\n",
    "    objective='multiclass',\n",
    "    device = 'gpu',\n",
    "    n_jobs=-1 \n",
    ")\n",
    "\n",
    "gbm.fit(\n",
    "    X_train, \n",
    "    y_train,\n",
    "    eval_set=[(X_test, y_test)],\n",
    "    early_stopping_rounds=5\n",
    ")\n",
    "elapsed_time = time.time() - start\n",
    "\n",
    "# save model to sav\n",
    "pickle.dump(gbm, open('../model/lgbm_HCD45_pos.sav', 'wb'))\n",
    "\n",
    "gbm.score(X_test, y_test)"
   ]
  },
  {
   "cell_type": "code",
   "execution_count": 13,
   "metadata": {},
   "outputs": [
    {
     "name": "stderr",
     "output_type": "stream",
     "text": [
      "/home/yoshitaka-i/anaconda3/envs/py36/lib/python3.6/site-packages/sklearn/preprocessing/label.py:151: DeprecationWarning: The truth value of an empty array is ambiguous. Returning False, but in future this will result in an error. Use `array.size > 0` to check that an array is not empty.\n",
      "  if diff:\n"
     ]
    }
   ],
   "source": [
    "# add result to list \n",
    "o['HCD45_Positive'] = [round(gbm.score(X_test, y_test)*100, 2)]\n",
    "d['HCD45_Positive'] = [elapsed_time]"
   ]
  },
  {
   "cell_type": "code",
   "execution_count": 14,
   "metadata": {},
   "outputs": [],
   "source": [
    "# load data\n",
    "with open('../data/HCD65_pos.pickle', mode='rb') as fp:\n",
    "    df = pickle.load(fp)"
   ]
  },
  {
   "cell_type": "code",
   "execution_count": 15,
   "metadata": {},
   "outputs": [],
   "source": [
    "# divide objective and target\n",
    "objective = df.Subclass\n",
    "le = preprocessing.LabelEncoder()\n",
    "objective = le.fit_transform(objective)\n",
    "\n",
    "features = df.drop('Subclass', axis=1)"
   ]
  },
  {
   "cell_type": "code",
   "execution_count": 16,
   "metadata": {},
   "outputs": [],
   "source": [
    "# train test split\n",
    "random_state=np.random.seed(42)\n",
    "X_train, X_test, y_train, y_test = train_test_split(\n",
    "    features, \n",
    "    objective,\n",
    "    test_size=0.2\n",
    ")"
   ]
  },
  {
   "cell_type": "code",
   "execution_count": 17,
   "metadata": {
    "scrolled": true
   },
   "outputs": [
    {
     "name": "stdout",
     "output_type": "stream",
     "text": [
      "[1]\tvalid_0's multi_logloss: 1.29837\n",
      "Training until validation scores don't improve for 5 rounds.\n",
      "[2]\tvalid_0's multi_logloss: 1.22455\n",
      "[3]\tvalid_0's multi_logloss: 1.16215\n",
      "[4]\tvalid_0's multi_logloss: 1.10904\n",
      "[5]\tvalid_0's multi_logloss: 1.05967\n",
      "[6]\tvalid_0's multi_logloss: 1.01761\n",
      "[7]\tvalid_0's multi_logloss: 0.975901\n",
      "[8]\tvalid_0's multi_logloss: 0.940613\n",
      "[9]\tvalid_0's multi_logloss: 0.910865\n",
      "[10]\tvalid_0's multi_logloss: 0.880968\n",
      "[11]\tvalid_0's multi_logloss: 0.8542\n",
      "[12]\tvalid_0's multi_logloss: 0.830154\n",
      "[13]\tvalid_0's multi_logloss: 0.80738\n",
      "[14]\tvalid_0's multi_logloss: 0.785974\n",
      "[15]\tvalid_0's multi_logloss: 0.768163\n",
      "[16]\tvalid_0's multi_logloss: 0.748008\n",
      "[17]\tvalid_0's multi_logloss: 0.733938\n",
      "[18]\tvalid_0's multi_logloss: 0.718925\n",
      "[19]\tvalid_0's multi_logloss: 0.705091\n",
      "[20]\tvalid_0's multi_logloss: 0.691766\n",
      "[21]\tvalid_0's multi_logloss: 0.678241\n",
      "[22]\tvalid_0's multi_logloss: 0.666647\n",
      "[23]\tvalid_0's multi_logloss: 0.657121\n",
      "[24]\tvalid_0's multi_logloss: 0.648785\n",
      "[25]\tvalid_0's multi_logloss: 0.637681\n",
      "[26]\tvalid_0's multi_logloss: 0.628132\n",
      "[27]\tvalid_0's multi_logloss: 0.619579\n",
      "[28]\tvalid_0's multi_logloss: 0.611746\n",
      "[29]\tvalid_0's multi_logloss: 0.604461\n",
      "[30]\tvalid_0's multi_logloss: 0.599449\n",
      "[31]\tvalid_0's multi_logloss: 0.594067\n",
      "[32]\tvalid_0's multi_logloss: 0.586249\n",
      "[33]\tvalid_0's multi_logloss: 0.581823\n",
      "[34]\tvalid_0's multi_logloss: 0.576274\n",
      "[35]\tvalid_0's multi_logloss: 0.571527\n",
      "[36]\tvalid_0's multi_logloss: 0.564561\n",
      "[37]\tvalid_0's multi_logloss: 0.559595\n",
      "[38]\tvalid_0's multi_logloss: 0.55637\n",
      "[39]\tvalid_0's multi_logloss: 0.553659\n",
      "[40]\tvalid_0's multi_logloss: 0.547895\n",
      "[41]\tvalid_0's multi_logloss: 0.544895\n",
      "[42]\tvalid_0's multi_logloss: 0.540391\n",
      "[43]\tvalid_0's multi_logloss: 0.537295\n",
      "[44]\tvalid_0's multi_logloss: 0.534568\n",
      "[45]\tvalid_0's multi_logloss: 0.532397\n",
      "[46]\tvalid_0's multi_logloss: 0.531104\n",
      "[47]\tvalid_0's multi_logloss: 0.531454\n",
      "[48]\tvalid_0's multi_logloss: 0.531394\n",
      "[49]\tvalid_0's multi_logloss: 0.530139\n",
      "[50]\tvalid_0's multi_logloss: 0.530825\n",
      "[51]\tvalid_0's multi_logloss: 0.529277\n",
      "[52]\tvalid_0's multi_logloss: 0.528124\n",
      "[53]\tvalid_0's multi_logloss: 0.525219\n",
      "[54]\tvalid_0's multi_logloss: 0.522846\n",
      "[55]\tvalid_0's multi_logloss: 0.520565\n",
      "[56]\tvalid_0's multi_logloss: 0.519511\n",
      "[57]\tvalid_0's multi_logloss: 0.518788\n",
      "[58]\tvalid_0's multi_logloss: 0.516682\n",
      "[59]\tvalid_0's multi_logloss: 0.517972\n",
      "[60]\tvalid_0's multi_logloss: 0.513804\n",
      "[61]\tvalid_0's multi_logloss: 0.51316\n",
      "[62]\tvalid_0's multi_logloss: 0.514188\n",
      "[63]\tvalid_0's multi_logloss: 0.514091\n",
      "[64]\tvalid_0's multi_logloss: 0.51391\n",
      "[65]\tvalid_0's multi_logloss: 0.513065\n",
      "[66]\tvalid_0's multi_logloss: 0.512659\n",
      "[67]\tvalid_0's multi_logloss: 0.511384\n",
      "[68]\tvalid_0's multi_logloss: 0.512334\n",
      "[69]\tvalid_0's multi_logloss: 0.51172\n",
      "[70]\tvalid_0's multi_logloss: 0.512639\n",
      "[71]\tvalid_0's multi_logloss: 0.511469\n",
      "[72]\tvalid_0's multi_logloss: 0.512316\n",
      "Early stopping, best iteration is:\n",
      "[67]\tvalid_0's multi_logloss: 0.511384\n"
     ]
    },
    {
     "name": "stderr",
     "output_type": "stream",
     "text": [
      "/home/yoshitaka-i/anaconda3/envs/py36/lib/python3.6/site-packages/sklearn/preprocessing/label.py:151: DeprecationWarning: The truth value of an empty array is ambiguous. Returning False, but in future this will result in an error. Use `array.size > 0` to check that an array is not empty.\n",
      "  if diff:\n"
     ]
    },
    {
     "data": {
      "text/plain": [
       "0.8035714285714286"
      ]
     },
     "execution_count": 17,
     "metadata": {},
     "output_type": "execute_result"
    }
   ],
   "source": [
    "# define and fit\n",
    "start = time.time()\n",
    "gbm = lgb.LGBMClassifier(\n",
    "    objective='multiclass',\n",
    "    device = 'gpu',\n",
    "    n_jobs=-1 \n",
    ")\n",
    "\n",
    "gbm.fit(\n",
    "    X_train, \n",
    "    y_train,\n",
    "    eval_set=[(X_test, y_test)],\n",
    "    early_stopping_rounds=5\n",
    ")\n",
    "elapsed_time = time.time() - start\n",
    "\n",
    "# save model to sav\n",
    "pickle.dump(gbm, open('../model/lgbm_HCD65_pos.sav', 'wb'))\n",
    "gbm.score(X_test, y_test)"
   ]
  },
  {
   "cell_type": "code",
   "execution_count": 18,
   "metadata": {},
   "outputs": [
    {
     "name": "stderr",
     "output_type": "stream",
     "text": [
      "/home/yoshitaka-i/anaconda3/envs/py36/lib/python3.6/site-packages/sklearn/preprocessing/label.py:151: DeprecationWarning: The truth value of an empty array is ambiguous. Returning False, but in future this will result in an error. Use `array.size > 0` to check that an array is not empty.\n",
      "  if diff:\n"
     ]
    }
   ],
   "source": [
    "# add result to list \n",
    "o['HCD65_Positive'] = [round(gbm.score(X_test, y_test)*100, 2)]\n",
    "d['HCD65_Positive'] = [elapsed_time]"
   ]
  },
  {
   "cell_type": "code",
   "execution_count": 19,
   "metadata": {},
   "outputs": [],
   "source": [
    "# load data \n",
    "with open('../data/HCD35_neg.pickle', mode='rb') as fp:\n",
    "    df = pickle.load(fp)"
   ]
  },
  {
   "cell_type": "code",
   "execution_count": 20,
   "metadata": {},
   "outputs": [],
   "source": [
    "# divide objective and target\n",
    "objective = df.Subclass\n",
    "le = preprocessing.LabelEncoder()\n",
    "objective = le.fit_transform(objective)\n",
    "\n",
    "features = df.drop('Subclass', axis=1)"
   ]
  },
  {
   "cell_type": "code",
   "execution_count": 21,
   "metadata": {},
   "outputs": [],
   "source": [
    "# train test split\n",
    "random_state=np.random.seed(42)\n",
    "X_train, X_test, y_train, y_test = train_test_split(\n",
    "    features, \n",
    "    objective,\n",
    "    test_size=0.2\n",
    ")"
   ]
  },
  {
   "cell_type": "code",
   "execution_count": 22,
   "metadata": {
    "scrolled": true
   },
   "outputs": [
    {
     "name": "stdout",
     "output_type": "stream",
     "text": [
      "[1]\tvalid_0's multi_logloss: 1.30076\n",
      "Training until validation scores don't improve for 5 rounds.\n",
      "[2]\tvalid_0's multi_logloss: 1.22521\n",
      "[3]\tvalid_0's multi_logloss: 1.16091\n",
      "[4]\tvalid_0's multi_logloss: 1.10669\n",
      "[5]\tvalid_0's multi_logloss: 1.06334\n",
      "[6]\tvalid_0's multi_logloss: 1.01917\n",
      "[7]\tvalid_0's multi_logloss: 0.984907\n",
      "[8]\tvalid_0's multi_logloss: 0.955254\n",
      "[9]\tvalid_0's multi_logloss: 0.927405\n",
      "[10]\tvalid_0's multi_logloss: 0.905561\n",
      "[11]\tvalid_0's multi_logloss: 0.881258\n",
      "[12]\tvalid_0's multi_logloss: 0.863965\n",
      "[13]\tvalid_0's multi_logloss: 0.844037\n",
      "[14]\tvalid_0's multi_logloss: 0.827342\n",
      "[15]\tvalid_0's multi_logloss: 0.807751\n",
      "[16]\tvalid_0's multi_logloss: 0.79317\n",
      "[17]\tvalid_0's multi_logloss: 0.777888\n",
      "[18]\tvalid_0's multi_logloss: 0.765467\n",
      "[19]\tvalid_0's multi_logloss: 0.756628\n",
      "[20]\tvalid_0's multi_logloss: 0.743159\n",
      "[21]\tvalid_0's multi_logloss: 0.731933\n",
      "[22]\tvalid_0's multi_logloss: 0.723997\n",
      "[23]\tvalid_0's multi_logloss: 0.715227\n",
      "[24]\tvalid_0's multi_logloss: 0.706639\n",
      "[25]\tvalid_0's multi_logloss: 0.702294\n",
      "[26]\tvalid_0's multi_logloss: 0.689635\n",
      "[27]\tvalid_0's multi_logloss: 0.687144\n",
      "[28]\tvalid_0's multi_logloss: 0.681259\n",
      "[29]\tvalid_0's multi_logloss: 0.674336\n",
      "[30]\tvalid_0's multi_logloss: 0.668793\n",
      "[31]\tvalid_0's multi_logloss: 0.662476\n",
      "[32]\tvalid_0's multi_logloss: 0.658689\n",
      "[33]\tvalid_0's multi_logloss: 0.652417\n",
      "[34]\tvalid_0's multi_logloss: 0.646874\n",
      "[35]\tvalid_0's multi_logloss: 0.643051\n",
      "[36]\tvalid_0's multi_logloss: 0.641921\n",
      "[37]\tvalid_0's multi_logloss: 0.638737\n",
      "[38]\tvalid_0's multi_logloss: 0.638867\n",
      "[39]\tvalid_0's multi_logloss: 0.635127\n",
      "[40]\tvalid_0's multi_logloss: 0.633721\n",
      "[41]\tvalid_0's multi_logloss: 0.629375\n",
      "[42]\tvalid_0's multi_logloss: 0.625561\n",
      "[43]\tvalid_0's multi_logloss: 0.620539\n",
      "[44]\tvalid_0's multi_logloss: 0.617517\n",
      "[45]\tvalid_0's multi_logloss: 0.613308\n",
      "[46]\tvalid_0's multi_logloss: 0.612814\n",
      "[47]\tvalid_0's multi_logloss: 0.607298\n",
      "[48]\tvalid_0's multi_logloss: 0.608347\n",
      "[49]\tvalid_0's multi_logloss: 0.603823\n",
      "[50]\tvalid_0's multi_logloss: 0.600708\n",
      "[51]\tvalid_0's multi_logloss: 0.60201\n",
      "[52]\tvalid_0's multi_logloss: 0.601297\n",
      "[53]\tvalid_0's multi_logloss: 0.601749\n",
      "[54]\tvalid_0's multi_logloss: 0.599248\n",
      "[55]\tvalid_0's multi_logloss: 0.596826\n",
      "[56]\tvalid_0's multi_logloss: 0.594739\n",
      "[57]\tvalid_0's multi_logloss: 0.595667\n",
      "[58]\tvalid_0's multi_logloss: 0.598082\n",
      "[59]\tvalid_0's multi_logloss: 0.598069\n",
      "[60]\tvalid_0's multi_logloss: 0.598749\n",
      "[61]\tvalid_0's multi_logloss: 0.598367\n",
      "Early stopping, best iteration is:\n",
      "[56]\tvalid_0's multi_logloss: 0.594739\n"
     ]
    },
    {
     "name": "stderr",
     "output_type": "stream",
     "text": [
      "/home/yoshitaka-i/anaconda3/envs/py36/lib/python3.6/site-packages/sklearn/preprocessing/label.py:151: DeprecationWarning: The truth value of an empty array is ambiguous. Returning False, but in future this will result in an error. Use `array.size > 0` to check that an array is not empty.\n",
      "  if diff:\n"
     ]
    },
    {
     "data": {
      "text/plain": [
       "0.7340425531914894"
      ]
     },
     "execution_count": 22,
     "metadata": {},
     "output_type": "execute_result"
    }
   ],
   "source": [
    "# define and fit\n",
    "start = time.time()\n",
    "gbm = lgb.LGBMClassifier(\n",
    "    objective='multiclass',\n",
    "    device = 'gpu',\n",
    "    n_jobs=-1 \n",
    ")\n",
    "\n",
    "gbm.fit(\n",
    "    X_train, \n",
    "    y_train,\n",
    "    eval_set=[(X_test, y_test)],\n",
    "    early_stopping_rounds=5\n",
    ")\n",
    "elapsed_time = time.time() - start\n",
    "# save model to sav\n",
    "pickle.dump(gbm, open('../model/lgbm_HCD35_neg.sav', 'wb'))\n",
    "gbm.score(X_test, y_test)"
   ]
  },
  {
   "cell_type": "code",
   "execution_count": 23,
   "metadata": {},
   "outputs": [
    {
     "name": "stderr",
     "output_type": "stream",
     "text": [
      "/home/yoshitaka-i/anaconda3/envs/py36/lib/python3.6/site-packages/sklearn/preprocessing/label.py:151: DeprecationWarning: The truth value of an empty array is ambiguous. Returning False, but in future this will result in an error. Use `array.size > 0` to check that an array is not empty.\n",
      "  if diff:\n"
     ]
    }
   ],
   "source": [
    "# result append to list\n",
    "o['HCD35_Negative'] = [round(gbm.score(X_test, y_test)*100, 2)]\n",
    "d['HCD35_Negative'] = [elapsed_time]"
   ]
  },
  {
   "cell_type": "code",
   "execution_count": 24,
   "metadata": {},
   "outputs": [],
   "source": [
    "# load data\n",
    "with open('../data/HCD45_neg.pickle', mode='rb') as fp:\n",
    "    df = pickle.load(fp)"
   ]
  },
  {
   "cell_type": "code",
   "execution_count": 25,
   "metadata": {},
   "outputs": [],
   "source": [
    "# divide objective and target\n",
    "objective = df.Subclass\n",
    "le = preprocessing.LabelEncoder()\n",
    "objective = le.fit_transform(objective)\n",
    "\n",
    "features = df.drop('Subclass', axis=1)"
   ]
  },
  {
   "cell_type": "code",
   "execution_count": 26,
   "metadata": {},
   "outputs": [],
   "source": [
    "# train test split\n",
    "random_state=np.random.seed(42)\n",
    "X_train, X_test, y_train, y_test = train_test_split(\n",
    "    features, \n",
    "    objective,\n",
    "    test_size=0.2\n",
    ")"
   ]
  },
  {
   "cell_type": "code",
   "execution_count": 27,
   "metadata": {
    "scrolled": true
   },
   "outputs": [
    {
     "name": "stdout",
     "output_type": "stream",
     "text": [
      "[1]\tvalid_0's multi_logloss: 1.30802\n",
      "Training until validation scores don't improve for 5 rounds.\n",
      "[2]\tvalid_0's multi_logloss: 1.24697\n",
      "[3]\tvalid_0's multi_logloss: 1.19617\n",
      "[4]\tvalid_0's multi_logloss: 1.152\n",
      "[5]\tvalid_0's multi_logloss: 1.1143\n",
      "[6]\tvalid_0's multi_logloss: 1.07895\n",
      "[7]\tvalid_0's multi_logloss: 1.04932\n",
      "[8]\tvalid_0's multi_logloss: 1.02542\n",
      "[9]\tvalid_0's multi_logloss: 1.00082\n",
      "[10]\tvalid_0's multi_logloss: 0.978054\n",
      "[11]\tvalid_0's multi_logloss: 0.952186\n",
      "[12]\tvalid_0's multi_logloss: 0.929902\n",
      "[13]\tvalid_0's multi_logloss: 0.911323\n",
      "[14]\tvalid_0's multi_logloss: 0.8953\n",
      "[15]\tvalid_0's multi_logloss: 0.876641\n",
      "[16]\tvalid_0's multi_logloss: 0.863211\n",
      "[17]\tvalid_0's multi_logloss: 0.847697\n",
      "[18]\tvalid_0's multi_logloss: 0.833415\n",
      "[19]\tvalid_0's multi_logloss: 0.824735\n",
      "[20]\tvalid_0's multi_logloss: 0.815683\n",
      "[21]\tvalid_0's multi_logloss: 0.804287\n",
      "[22]\tvalid_0's multi_logloss: 0.797426\n",
      "[23]\tvalid_0's multi_logloss: 0.792776\n",
      "[24]\tvalid_0's multi_logloss: 0.784482\n",
      "[25]\tvalid_0's multi_logloss: 0.777517\n",
      "[26]\tvalid_0's multi_logloss: 0.768818\n",
      "[27]\tvalid_0's multi_logloss: 0.764207\n",
      "[28]\tvalid_0's multi_logloss: 0.759289\n",
      "[29]\tvalid_0's multi_logloss: 0.751664\n",
      "[30]\tvalid_0's multi_logloss: 0.744831\n",
      "[31]\tvalid_0's multi_logloss: 0.739968\n",
      "[32]\tvalid_0's multi_logloss: 0.733946\n",
      "[33]\tvalid_0's multi_logloss: 0.728514\n",
      "[34]\tvalid_0's multi_logloss: 0.723633\n",
      "[35]\tvalid_0's multi_logloss: 0.719773\n",
      "[36]\tvalid_0's multi_logloss: 0.720436\n",
      "[37]\tvalid_0's multi_logloss: 0.716187\n",
      "[38]\tvalid_0's multi_logloss: 0.710103\n",
      "[39]\tvalid_0's multi_logloss: 0.706357\n",
      "[40]\tvalid_0's multi_logloss: 0.706452\n",
      "[41]\tvalid_0's multi_logloss: 0.704435\n",
      "[42]\tvalid_0's multi_logloss: 0.701842\n",
      "[43]\tvalid_0's multi_logloss: 0.699516\n",
      "[44]\tvalid_0's multi_logloss: 0.696425\n",
      "[45]\tvalid_0's multi_logloss: 0.697112\n",
      "[46]\tvalid_0's multi_logloss: 0.694069\n",
      "[47]\tvalid_0's multi_logloss: 0.695299\n",
      "[48]\tvalid_0's multi_logloss: 0.698893\n",
      "[49]\tvalid_0's multi_logloss: 0.698392\n",
      "[50]\tvalid_0's multi_logloss: 0.698438\n",
      "[51]\tvalid_0's multi_logloss: 0.698884\n",
      "Early stopping, best iteration is:\n",
      "[46]\tvalid_0's multi_logloss: 0.694069\n"
     ]
    },
    {
     "name": "stderr",
     "output_type": "stream",
     "text": [
      "/home/yoshitaka-i/anaconda3/envs/py36/lib/python3.6/site-packages/sklearn/preprocessing/label.py:151: DeprecationWarning: The truth value of an empty array is ambiguous. Returning False, but in future this will result in an error. Use `array.size > 0` to check that an array is not empty.\n",
      "  if diff:\n"
     ]
    },
    {
     "data": {
      "text/plain": [
       "0.7021276595744681"
      ]
     },
     "execution_count": 27,
     "metadata": {},
     "output_type": "execute_result"
    }
   ],
   "source": [
    "# define and fit\n",
    "start = time.time()\n",
    "gbm = lgb.LGBMClassifier(\n",
    "    objective='multiclass',\n",
    "    device = 'gpu',\n",
    "    n_jobs=-1 \n",
    ")\n",
    "\n",
    "gbm.fit(\n",
    "    X_train, \n",
    "    y_train,\n",
    "    eval_set=[(X_test, y_test)],\n",
    "    early_stopping_rounds=5\n",
    ")\n",
    "elapsed_time = time.time() - start\n",
    "\n",
    "# save model to sav\n",
    "pickle.dump(gbm, open('../model/lgbm_HCD45_neg.sav', 'wb'))\n",
    "gbm.score(X_test, y_test)"
   ]
  },
  {
   "cell_type": "code",
   "execution_count": 28,
   "metadata": {},
   "outputs": [
    {
     "name": "stderr",
     "output_type": "stream",
     "text": [
      "/home/yoshitaka-i/anaconda3/envs/py36/lib/python3.6/site-packages/sklearn/preprocessing/label.py:151: DeprecationWarning: The truth value of an empty array is ambiguous. Returning False, but in future this will result in an error. Use `array.size > 0` to check that an array is not empty.\n",
      "  if diff:\n"
     ]
    }
   ],
   "source": [
    "# result append to list\n",
    "o['HCD45_Negative'] = [round(gbm.score(X_test, y_test)*100, 2)]\n",
    "d['HCD45_Negative'] = [elapsed_time]"
   ]
  },
  {
   "cell_type": "code",
   "execution_count": 29,
   "metadata": {},
   "outputs": [],
   "source": [
    "# load data\n",
    "with open('../data/HCD65_neg.pickle', mode='rb') as fp:\n",
    "    df = pickle.load(fp)"
   ]
  },
  {
   "cell_type": "code",
   "execution_count": 30,
   "metadata": {},
   "outputs": [],
   "source": [
    "# divide objective and target\n",
    "objective = df.Subclass\n",
    "le = preprocessing.LabelEncoder()\n",
    "objective = le.fit_transform(objective)\n",
    "\n",
    "features = df.drop('Subclass', axis=1)"
   ]
  },
  {
   "cell_type": "code",
   "execution_count": 31,
   "metadata": {},
   "outputs": [],
   "source": [
    "# train test split\n",
    "random_state=np.random.seed(42)\n",
    "X_train, X_test, y_train, y_test = train_test_split(\n",
    "    features, \n",
    "    objective,\n",
    "    test_size=0.2\n",
    ")"
   ]
  },
  {
   "cell_type": "code",
   "execution_count": 32,
   "metadata": {
    "scrolled": true
   },
   "outputs": [
    {
     "name": "stdout",
     "output_type": "stream",
     "text": [
      "[1]\tvalid_0's multi_logloss: 1.30826\n",
      "Training until validation scores don't improve for 5 rounds.\n",
      "[2]\tvalid_0's multi_logloss: 1.24177\n",
      "[3]\tvalid_0's multi_logloss: 1.18825\n",
      "[4]\tvalid_0's multi_logloss: 1.14339\n",
      "[5]\tvalid_0's multi_logloss: 1.10488\n",
      "[6]\tvalid_0's multi_logloss: 1.06876\n",
      "[7]\tvalid_0's multi_logloss: 1.04488\n",
      "[8]\tvalid_0's multi_logloss: 1.02053\n",
      "[9]\tvalid_0's multi_logloss: 0.994713\n",
      "[10]\tvalid_0's multi_logloss: 0.975622\n",
      "[11]\tvalid_0's multi_logloss: 0.959097\n",
      "[12]\tvalid_0's multi_logloss: 0.946242\n",
      "[13]\tvalid_0's multi_logloss: 0.93064\n",
      "[14]\tvalid_0's multi_logloss: 0.915976\n",
      "[15]\tvalid_0's multi_logloss: 0.908088\n",
      "[16]\tvalid_0's multi_logloss: 0.895834\n",
      "[17]\tvalid_0's multi_logloss: 0.883615\n",
      "[18]\tvalid_0's multi_logloss: 0.878021\n",
      "[19]\tvalid_0's multi_logloss: 0.868379\n",
      "[20]\tvalid_0's multi_logloss: 0.863698\n",
      "[21]\tvalid_0's multi_logloss: 0.854834\n",
      "[22]\tvalid_0's multi_logloss: 0.848577\n",
      "[23]\tvalid_0's multi_logloss: 0.842967\n",
      "[24]\tvalid_0's multi_logloss: 0.835559\n",
      "[25]\tvalid_0's multi_logloss: 0.828511\n",
      "[26]\tvalid_0's multi_logloss: 0.818546\n",
      "[27]\tvalid_0's multi_logloss: 0.813424\n",
      "[28]\tvalid_0's multi_logloss: 0.809921\n",
      "[29]\tvalid_0's multi_logloss: 0.805949\n",
      "[30]\tvalid_0's multi_logloss: 0.800205\n",
      "[31]\tvalid_0's multi_logloss: 0.794121\n",
      "[32]\tvalid_0's multi_logloss: 0.790368\n",
      "[33]\tvalid_0's multi_logloss: 0.786754\n",
      "[34]\tvalid_0's multi_logloss: 0.781211\n",
      "[35]\tvalid_0's multi_logloss: 0.779358\n",
      "[36]\tvalid_0's multi_logloss: 0.774729\n",
      "[37]\tvalid_0's multi_logloss: 0.77184\n",
      "[38]\tvalid_0's multi_logloss: 0.764968\n",
      "[39]\tvalid_0's multi_logloss: 0.759462\n",
      "[40]\tvalid_0's multi_logloss: 0.755394\n",
      "[41]\tvalid_0's multi_logloss: 0.756791\n",
      "[42]\tvalid_0's multi_logloss: 0.752327\n",
      "[43]\tvalid_0's multi_logloss: 0.750943\n",
      "[44]\tvalid_0's multi_logloss: 0.753784\n",
      "[45]\tvalid_0's multi_logloss: 0.752142\n",
      "[46]\tvalid_0's multi_logloss: 0.75055\n",
      "[47]\tvalid_0's multi_logloss: 0.749128\n",
      "[48]\tvalid_0's multi_logloss: 0.747831\n",
      "[49]\tvalid_0's multi_logloss: 0.749255\n",
      "[50]\tvalid_0's multi_logloss: 0.751246\n",
      "[51]\tvalid_0's multi_logloss: 0.74805\n",
      "[52]\tvalid_0's multi_logloss: 0.750656\n",
      "[53]\tvalid_0's multi_logloss: 0.750947\n",
      "Early stopping, best iteration is:\n",
      "[48]\tvalid_0's multi_logloss: 0.747831\n"
     ]
    },
    {
     "name": "stderr",
     "output_type": "stream",
     "text": [
      "/home/yoshitaka-i/anaconda3/envs/py36/lib/python3.6/site-packages/sklearn/preprocessing/label.py:151: DeprecationWarning: The truth value of an empty array is ambiguous. Returning False, but in future this will result in an error. Use `array.size > 0` to check that an array is not empty.\n",
      "  if diff:\n"
     ]
    },
    {
     "data": {
      "text/plain": [
       "0.6808510638297872"
      ]
     },
     "execution_count": 32,
     "metadata": {},
     "output_type": "execute_result"
    }
   ],
   "source": [
    "# define and fit\n",
    "start = time.time()\n",
    "gbm = lgb.LGBMClassifier(\n",
    "    objective='multiclass',\n",
    "    device = 'gpu',\n",
    "    n_jobs=-1 \n",
    ")\n",
    "\n",
    "gbm.fit(\n",
    "    X_train, \n",
    "    y_train,\n",
    "    eval_set=[(X_test, y_test)],\n",
    "    early_stopping_rounds=5\n",
    ")\n",
    "elapsed_time = time.time() - start\n",
    "\n",
    "# save model to sav\n",
    "pickle.dump(gbm, open('../model/lgbm_HCD65_neg.sav', 'wb'))\n",
    "gbm.score(X_test, y_test)"
   ]
  },
  {
   "cell_type": "code",
   "execution_count": 33,
   "metadata": {},
   "outputs": [
    {
     "name": "stderr",
     "output_type": "stream",
     "text": [
      "/home/yoshitaka-i/anaconda3/envs/py36/lib/python3.6/site-packages/sklearn/preprocessing/label.py:151: DeprecationWarning: The truth value of an empty array is ambiguous. Returning False, but in future this will result in an error. Use `array.size > 0` to check that an array is not empty.\n",
      "  if diff:\n"
     ]
    }
   ],
   "source": [
    "# result append to list\n",
    "o['HCD65_Negative'] = [round(gbm.score(X_test, y_test)*100, 2)]\n",
    "d['HCD65_Negative'] = [elapsed_time]"
   ]
  },
  {
   "cell_type": "code",
   "execution_count": 34,
   "metadata": {},
   "outputs": [],
   "source": [
    "# change result list to Dataframe\n",
    "g = pd.concat([pd.DataFrame(o).T, pd.DataFrame(d).T], axis=1)\n",
    "g.columns = ['Accuracy', 'Time']"
   ]
  },
  {
   "cell_type": "code",
   "execution_count": 35,
   "metadata": {},
   "outputs": [],
   "source": [
    "# dataframe to csv\n",
    "g.to_csv('../result/LightGBM.csv')"
   ]
  }
 ],
 "metadata": {
  "kernelspec": {
   "display_name": "py36",
   "language": "python",
   "name": "py36"
  },
  "language_info": {
   "codemirror_mode": {
    "name": "ipython",
    "version": 3
   },
   "file_extension": ".py",
   "mimetype": "text/x-python",
   "name": "python",
   "nbconvert_exporter": "python",
   "pygments_lexer": "ipython3",
   "version": "3.6.5"
  }
 },
 "nbformat": 4,
 "nbformat_minor": 2
}
