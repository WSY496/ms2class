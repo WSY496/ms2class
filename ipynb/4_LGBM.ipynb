{
 "cells": [
  {
   "cell_type": "code",
   "execution_count": 1,
   "metadata": {},
   "outputs": [],
   "source": [
    "import pickle\n",
    "import pandas as pd\n",
    "import numpy as np\n",
    "import time\n",
    "\n",
    "import xgboost as xgb\n",
    "import lightgbm as lgb\n",
    "\n",
    "from sklearn.ensemble import RandomForestClassifier as rf\n",
    "from sklearn.metrics import mean_squared_error\n",
    "from sklearn.model_selection import train_test_split\n",
    "from sklearn.metrics import confusion_matrix\n",
    "from sklearn.model_selection import GridSearchCV\n",
    "from sklearn import preprocessing"
   ]
  },
  {
   "cell_type": "code",
   "execution_count": 2,
   "metadata": {},
   "outputs": [],
   "source": [
    "# load data\n",
    "with open('../data/HCD35_pos.pickle', mode='rb') as fp:\n",
    "    df = pickle.load(fp)"
   ]
  },
  {
   "cell_type": "code",
   "execution_count": 3,
   "metadata": {},
   "outputs": [],
   "source": [
    "# divide objective and target\n",
    "objective = df.Subclass\n",
    "le = preprocessing.LabelEncoder()\n",
    "objective = le.fit_transform(objective)\n",
    "\n",
    "features = df.drop('Subclass', axis=1)"
   ]
  },
  {
   "cell_type": "code",
   "execution_count": 4,
   "metadata": {},
   "outputs": [],
   "source": [
    "# train test split\n",
    "random_state=np.random.seed(42)\n",
    "X_train, X_test, y_train, y_test = train_test_split(\n",
    "    features, \n",
    "    objective,\n",
    "    test_size=0.2\n",
    ")"
   ]
  },
  {
   "cell_type": "code",
   "execution_count": 5,
   "metadata": {
    "scrolled": true
   },
   "outputs": [
    {
     "name": "stdout",
     "output_type": "stream",
     "text": [
      "[1]\tvalid_0's multi_logloss: 1.28656\n",
      "Training until validation scores don't improve for 5 rounds.\n",
      "[2]\tvalid_0's multi_logloss: 1.20656\n",
      "[3]\tvalid_0's multi_logloss: 1.14126\n",
      "[4]\tvalid_0's multi_logloss: 1.08732\n",
      "[5]\tvalid_0's multi_logloss: 1.03837\n",
      "[6]\tvalid_0's multi_logloss: 0.996364\n",
      "[7]\tvalid_0's multi_logloss: 0.956187\n",
      "[8]\tvalid_0's multi_logloss: 0.91757\n",
      "[9]\tvalid_0's multi_logloss: 0.882987\n",
      "[10]\tvalid_0's multi_logloss: 0.855899\n",
      "[11]\tvalid_0's multi_logloss: 0.829978\n",
      "[12]\tvalid_0's multi_logloss: 0.807145\n",
      "[13]\tvalid_0's multi_logloss: 0.785858\n",
      "[14]\tvalid_0's multi_logloss: 0.763774\n",
      "[15]\tvalid_0's multi_logloss: 0.747096\n",
      "[16]\tvalid_0's multi_logloss: 0.729668\n",
      "[17]\tvalid_0's multi_logloss: 0.71468\n",
      "[18]\tvalid_0's multi_logloss: 0.698034\n",
      "[19]\tvalid_0's multi_logloss: 0.681936\n",
      "[20]\tvalid_0's multi_logloss: 0.666601\n",
      "[21]\tvalid_0's multi_logloss: 0.653423\n",
      "[22]\tvalid_0's multi_logloss: 0.640647\n",
      "[23]\tvalid_0's multi_logloss: 0.628899\n",
      "[24]\tvalid_0's multi_logloss: 0.616486\n",
      "[25]\tvalid_0's multi_logloss: 0.606383\n",
      "[26]\tvalid_0's multi_logloss: 0.596417\n",
      "[27]\tvalid_0's multi_logloss: 0.585854\n",
      "[28]\tvalid_0's multi_logloss: 0.576352\n",
      "[29]\tvalid_0's multi_logloss: 0.566921\n",
      "[30]\tvalid_0's multi_logloss: 0.559247\n",
      "[31]\tvalid_0's multi_logloss: 0.549162\n",
      "[32]\tvalid_0's multi_logloss: 0.540698\n",
      "[33]\tvalid_0's multi_logloss: 0.531333\n",
      "[34]\tvalid_0's multi_logloss: 0.52625\n",
      "[35]\tvalid_0's multi_logloss: 0.521069\n",
      "[36]\tvalid_0's multi_logloss: 0.515204\n",
      "[37]\tvalid_0's multi_logloss: 0.509661\n",
      "[38]\tvalid_0's multi_logloss: 0.504491\n",
      "[39]\tvalid_0's multi_logloss: 0.498417\n",
      "[40]\tvalid_0's multi_logloss: 0.494255\n",
      "[41]\tvalid_0's multi_logloss: 0.488834\n",
      "[42]\tvalid_0's multi_logloss: 0.484231\n",
      "[43]\tvalid_0's multi_logloss: 0.480877\n",
      "[44]\tvalid_0's multi_logloss: 0.474986\n",
      "[45]\tvalid_0's multi_logloss: 0.47138\n",
      "[46]\tvalid_0's multi_logloss: 0.467172\n",
      "[47]\tvalid_0's multi_logloss: 0.464451\n",
      "[48]\tvalid_0's multi_logloss: 0.460982\n",
      "[49]\tvalid_0's multi_logloss: 0.458358\n",
      "[50]\tvalid_0's multi_logloss: 0.456158\n",
      "[51]\tvalid_0's multi_logloss: 0.453031\n",
      "[52]\tvalid_0's multi_logloss: 0.451464\n",
      "[53]\tvalid_0's multi_logloss: 0.447781\n",
      "[54]\tvalid_0's multi_logloss: 0.44528\n",
      "[55]\tvalid_0's multi_logloss: 0.440577\n",
      "[56]\tvalid_0's multi_logloss: 0.438996\n",
      "[57]\tvalid_0's multi_logloss: 0.437964\n",
      "[58]\tvalid_0's multi_logloss: 0.435942\n",
      "[59]\tvalid_0's multi_logloss: 0.435703\n",
      "[60]\tvalid_0's multi_logloss: 0.435073\n",
      "[61]\tvalid_0's multi_logloss: 0.435087\n",
      "[62]\tvalid_0's multi_logloss: 0.432606\n",
      "[63]\tvalid_0's multi_logloss: 0.430606\n",
      "[64]\tvalid_0's multi_logloss: 0.42975\n",
      "[65]\tvalid_0's multi_logloss: 0.429478\n",
      "[66]\tvalid_0's multi_logloss: 0.428917\n",
      "[67]\tvalid_0's multi_logloss: 0.429025\n",
      "[68]\tvalid_0's multi_logloss: 0.427636\n",
      "[69]\tvalid_0's multi_logloss: 0.425534\n",
      "[70]\tvalid_0's multi_logloss: 0.427218\n",
      "[71]\tvalid_0's multi_logloss: 0.429092\n",
      "[72]\tvalid_0's multi_logloss: 0.428418\n",
      "[73]\tvalid_0's multi_logloss: 0.426542\n",
      "[74]\tvalid_0's multi_logloss: 0.428101\n",
      "Early stopping, best iteration is:\n",
      "[69]\tvalid_0's multi_logloss: 0.425534\n"
     ]
    }
   ],
   "source": [
    "# define and fit\n",
    "start = time.time()\n",
    "gbm = lgb.LGBMClassifier(\n",
    "    objective='multiclass',\n",
    "    device = 'gpu',\n",
    "    gpu_device_id=0,\n",
    "    n_jobs=-1 \n",
    ")\n",
    "\n",
    "gbm.fit(\n",
    "    X_train, \n",
    "    y_train,\n",
    "    eval_set=[(X_test, y_test)],\n",
    "    early_stopping_rounds=5\n",
    ")\n",
    "elapsed_time = time.time() - start\n",
    "\n",
    "# save model to sav\n",
    "pickle.dump(gbm, open('../model/lgbm_HCD35_pos.sav', 'wb'))"
   ]
  },
  {
   "cell_type": "code",
   "execution_count": 6,
   "metadata": {},
   "outputs": [
    {
     "name": "stderr",
     "output_type": "stream",
     "text": [
      "/home/yoshitaka-i/anaconda3/envs/py36/lib/python3.6/site-packages/sklearn/preprocessing/label.py:151: DeprecationWarning: The truth value of an empty array is ambiguous. Returning False, but in future this will result in an error. Use `array.size > 0` to check that an array is not empty.\n",
      "  if diff:\n"
     ]
    }
   ],
   "source": [
    "# add result to list \n",
    "o = {}\n",
    "d = {}\n",
    "o['HCD35_Positive'] = [round(gbm.score(X_test, y_test)*100, 2)]\n",
    "d['HCD35_Positive'] = [elapsed_time]"
   ]
  },
  {
   "cell_type": "code",
   "execution_count": 7,
   "metadata": {},
   "outputs": [],
   "source": [
    "# load data\n",
    "with open('../data/HCD45_pos.pickle', mode='rb') as fp:\n",
    "    df = pickle.load(fp)"
   ]
  },
  {
   "cell_type": "code",
   "execution_count": 8,
   "metadata": {},
   "outputs": [],
   "source": [
    "# divide objective and target\n",
    "objective = df.Subclass\n",
    "le = preprocessing.LabelEncoder()\n",
    "objective = le.fit_transform(objective)\n",
    "\n",
    "features = df.drop('Subclass', axis=1)"
   ]
  },
  {
   "cell_type": "code",
   "execution_count": 9,
   "metadata": {},
   "outputs": [],
   "source": [
    "# train test split\n",
    "random_state=np.random.seed(42)\n",
    "X_train, X_test, y_train, y_test = train_test_split(\n",
    "    features, \n",
    "    objective,\n",
    "    test_size=0.2\n",
    ")"
   ]
  },
  {
   "cell_type": "code",
   "execution_count": 10,
   "metadata": {
    "scrolled": true
   },
   "outputs": [
    {
     "name": "stdout",
     "output_type": "stream",
     "text": [
      "[1]\tvalid_0's multi_logloss: 1.29593\n",
      "Training until validation scores don't improve for 5 rounds.\n",
      "[2]\tvalid_0's multi_logloss: 1.22366\n",
      "[3]\tvalid_0's multi_logloss: 1.16062\n",
      "[4]\tvalid_0's multi_logloss: 1.10791\n",
      "[5]\tvalid_0's multi_logloss: 1.05615\n",
      "[6]\tvalid_0's multi_logloss: 1.01349\n",
      "[7]\tvalid_0's multi_logloss: 0.974257\n",
      "[8]\tvalid_0's multi_logloss: 0.939148\n",
      "[9]\tvalid_0's multi_logloss: 0.909792\n",
      "[10]\tvalid_0's multi_logloss: 0.882501\n",
      "[11]\tvalid_0's multi_logloss: 0.855557\n",
      "[12]\tvalid_0's multi_logloss: 0.830246\n",
      "[13]\tvalid_0's multi_logloss: 0.806693\n",
      "[14]\tvalid_0's multi_logloss: 0.788011\n",
      "[15]\tvalid_0's multi_logloss: 0.76566\n",
      "[16]\tvalid_0's multi_logloss: 0.747321\n",
      "[17]\tvalid_0's multi_logloss: 0.730759\n",
      "[18]\tvalid_0's multi_logloss: 0.715679\n",
      "[19]\tvalid_0's multi_logloss: 0.701715\n",
      "[20]\tvalid_0's multi_logloss: 0.691165\n",
      "[21]\tvalid_0's multi_logloss: 0.678869\n",
      "[22]\tvalid_0's multi_logloss: 0.669394\n",
      "[23]\tvalid_0's multi_logloss: 0.660105\n",
      "[24]\tvalid_0's multi_logloss: 0.650777\n",
      "[25]\tvalid_0's multi_logloss: 0.638425\n",
      "[26]\tvalid_0's multi_logloss: 0.628941\n",
      "[27]\tvalid_0's multi_logloss: 0.61854\n",
      "[28]\tvalid_0's multi_logloss: 0.611133\n",
      "[29]\tvalid_0's multi_logloss: 0.602588\n",
      "[30]\tvalid_0's multi_logloss: 0.596681\n",
      "[31]\tvalid_0's multi_logloss: 0.590529\n",
      "[32]\tvalid_0's multi_logloss: 0.584985\n",
      "[33]\tvalid_0's multi_logloss: 0.578649\n",
      "[34]\tvalid_0's multi_logloss: 0.573692\n",
      "[35]\tvalid_0's multi_logloss: 0.567174\n",
      "[36]\tvalid_0's multi_logloss: 0.559893\n",
      "[37]\tvalid_0's multi_logloss: 0.554121\n",
      "[38]\tvalid_0's multi_logloss: 0.547401\n",
      "[39]\tvalid_0's multi_logloss: 0.543877\n",
      "[40]\tvalid_0's multi_logloss: 0.5389\n",
      "[41]\tvalid_0's multi_logloss: 0.534398\n",
      "[42]\tvalid_0's multi_logloss: 0.530365\n",
      "[43]\tvalid_0's multi_logloss: 0.527846\n",
      "[44]\tvalid_0's multi_logloss: 0.524564\n",
      "[45]\tvalid_0's multi_logloss: 0.519854\n",
      "[46]\tvalid_0's multi_logloss: 0.51581\n",
      "[47]\tvalid_0's multi_logloss: 0.512486\n",
      "[48]\tvalid_0's multi_logloss: 0.510277\n",
      "[49]\tvalid_0's multi_logloss: 0.50893\n",
      "[50]\tvalid_0's multi_logloss: 0.506059\n",
      "[51]\tvalid_0's multi_logloss: 0.501691\n",
      "[52]\tvalid_0's multi_logloss: 0.501008\n",
      "[53]\tvalid_0's multi_logloss: 0.499244\n",
      "[54]\tvalid_0's multi_logloss: 0.498226\n",
      "[55]\tvalid_0's multi_logloss: 0.496769\n",
      "[56]\tvalid_0's multi_logloss: 0.494846\n",
      "[57]\tvalid_0's multi_logloss: 0.491495\n",
      "[58]\tvalid_0's multi_logloss: 0.491195\n",
      "[59]\tvalid_0's multi_logloss: 0.488142\n",
      "[60]\tvalid_0's multi_logloss: 0.486792\n",
      "[61]\tvalid_0's multi_logloss: 0.485377\n",
      "[62]\tvalid_0's multi_logloss: 0.484142\n",
      "[63]\tvalid_0's multi_logloss: 0.482021\n",
      "[64]\tvalid_0's multi_logloss: 0.48013\n",
      "[65]\tvalid_0's multi_logloss: 0.478627\n",
      "[66]\tvalid_0's multi_logloss: 0.476697\n",
      "[67]\tvalid_0's multi_logloss: 0.47419\n",
      "[68]\tvalid_0's multi_logloss: 0.473068\n",
      "[69]\tvalid_0's multi_logloss: 0.472645\n",
      "[70]\tvalid_0's multi_logloss: 0.473798\n",
      "[71]\tvalid_0's multi_logloss: 0.473399\n",
      "[72]\tvalid_0's multi_logloss: 0.473037\n",
      "[73]\tvalid_0's multi_logloss: 0.47446\n",
      "[74]\tvalid_0's multi_logloss: 0.472959\n",
      "Early stopping, best iteration is:\n",
      "[69]\tvalid_0's multi_logloss: 0.472645\n"
     ]
    },
    {
     "name": "stderr",
     "output_type": "stream",
     "text": [
      "/home/yoshitaka-i/anaconda3/envs/py36/lib/python3.6/site-packages/sklearn/preprocessing/label.py:151: DeprecationWarning: The truth value of an empty array is ambiguous. Returning False, but in future this will result in an error. Use `array.size > 0` to check that an array is not empty.\n",
      "  if diff:\n"
     ]
    },
    {
     "data": {
      "text/plain": [
       "0.8125"
      ]
     },
     "execution_count": 10,
     "metadata": {},
     "output_type": "execute_result"
    }
   ],
   "source": [
    "# define and fit\n",
    "start = time.time()\n",
    "gbm = lgb.LGBMClassifier(\n",
    "    objective='multiclass',\n",
    "    device = 'gpu',\n",
    "    gpu_device_id=0,\n",
    "    n_jobs=-1 \n",
    ")\n",
    "\n",
    "gbm.fit(\n",
    "    X_train, \n",
    "    y_train,\n",
    "    eval_set=[(X_test, y_test)],\n",
    "    early_stopping_rounds=5\n",
    ")\n",
    "elapsed_time = time.time() - start\n",
    "\n",
    "# save model to sav\n",
    "pickle.dump(gbm, open('../model/lgbm_HCD45_pos.sav', 'wb'))\n",
    "\n",
    "gbm.score(X_test, y_test)"
   ]
  },
  {
   "cell_type": "code",
   "execution_count": 11,
   "metadata": {},
   "outputs": [
    {
     "name": "stderr",
     "output_type": "stream",
     "text": [
      "/home/yoshitaka-i/anaconda3/envs/py36/lib/python3.6/site-packages/sklearn/preprocessing/label.py:151: DeprecationWarning: The truth value of an empty array is ambiguous. Returning False, but in future this will result in an error. Use `array.size > 0` to check that an array is not empty.\n",
      "  if diff:\n"
     ]
    }
   ],
   "source": [
    "# add result to list \n",
    "o['HCD45_Positive'] = [round(gbm.score(X_test, y_test)*100, 2)]\n",
    "d['HCD45_Positive'] = [elapsed_time]"
   ]
  },
  {
   "cell_type": "code",
   "execution_count": 12,
   "metadata": {},
   "outputs": [],
   "source": [
    "# load data\n",
    "with open('../data/HCD65_pos.pickle', mode='rb') as fp:\n",
    "    df = pickle.load(fp)"
   ]
  },
  {
   "cell_type": "code",
   "execution_count": 13,
   "metadata": {},
   "outputs": [],
   "source": [
    "# divide objective and target\n",
    "objective = df.Subclass\n",
    "le = preprocessing.LabelEncoder()\n",
    "objective = le.fit_transform(objective)\n",
    "\n",
    "features = df.drop('Subclass', axis=1)"
   ]
  },
  {
   "cell_type": "code",
   "execution_count": 14,
   "metadata": {},
   "outputs": [],
   "source": [
    "# train test split\n",
    "random_state=np.random.seed(42)\n",
    "X_train, X_test, y_train, y_test = train_test_split(\n",
    "    features, \n",
    "    objective,\n",
    "    test_size=0.2\n",
    ")"
   ]
  },
  {
   "cell_type": "code",
   "execution_count": 15,
   "metadata": {
    "scrolled": true
   },
   "outputs": [
    {
     "name": "stdout",
     "output_type": "stream",
     "text": [
      "[1]\tvalid_0's multi_logloss: 1.29837\n",
      "Training until validation scores don't improve for 5 rounds.\n",
      "[2]\tvalid_0's multi_logloss: 1.22412\n",
      "[3]\tvalid_0's multi_logloss: 1.16172\n",
      "[4]\tvalid_0's multi_logloss: 1.10862\n",
      "[5]\tvalid_0's multi_logloss: 1.05928\n",
      "[6]\tvalid_0's multi_logloss: 1.01723\n",
      "[7]\tvalid_0's multi_logloss: 0.975638\n",
      "[8]\tvalid_0's multi_logloss: 0.940134\n",
      "[9]\tvalid_0's multi_logloss: 0.910396\n",
      "[10]\tvalid_0's multi_logloss: 0.880453\n",
      "[11]\tvalid_0's multi_logloss: 0.85347\n",
      "[12]\tvalid_0's multi_logloss: 0.829439\n",
      "[13]\tvalid_0's multi_logloss: 0.806678\n",
      "[14]\tvalid_0's multi_logloss: 0.785287\n",
      "[15]\tvalid_0's multi_logloss: 0.767483\n",
      "[16]\tvalid_0's multi_logloss: 0.747339\n",
      "[17]\tvalid_0's multi_logloss: 0.733292\n",
      "[18]\tvalid_0's multi_logloss: 0.718219\n",
      "[19]\tvalid_0's multi_logloss: 0.704397\n",
      "[20]\tvalid_0's multi_logloss: 0.69108\n",
      "[21]\tvalid_0's multi_logloss: 0.677567\n",
      "[22]\tvalid_0's multi_logloss: 0.665974\n",
      "[23]\tvalid_0's multi_logloss: 0.656456\n",
      "[24]\tvalid_0's multi_logloss: 0.648125\n",
      "[25]\tvalid_0's multi_logloss: 0.637108\n",
      "[26]\tvalid_0's multi_logloss: 0.627562\n",
      "[27]\tvalid_0's multi_logloss: 0.619011\n",
      "[28]\tvalid_0's multi_logloss: 0.611199\n",
      "[29]\tvalid_0's multi_logloss: 0.603914\n",
      "[30]\tvalid_0's multi_logloss: 0.598908\n",
      "[31]\tvalid_0's multi_logloss: 0.59354\n",
      "[32]\tvalid_0's multi_logloss: 0.58573\n",
      "[33]\tvalid_0's multi_logloss: 0.581292\n",
      "[34]\tvalid_0's multi_logloss: 0.575732\n",
      "[35]\tvalid_0's multi_logloss: 0.570989\n",
      "[36]\tvalid_0's multi_logloss: 0.564024\n",
      "[37]\tvalid_0's multi_logloss: 0.559063\n",
      "[38]\tvalid_0's multi_logloss: 0.555842\n",
      "[39]\tvalid_0's multi_logloss: 0.553208\n",
      "[40]\tvalid_0's multi_logloss: 0.547448\n",
      "[41]\tvalid_0's multi_logloss: 0.544446\n",
      "[42]\tvalid_0's multi_logloss: 0.53996\n",
      "[43]\tvalid_0's multi_logloss: 0.536879\n",
      "[44]\tvalid_0's multi_logloss: 0.534147\n",
      "[45]\tvalid_0's multi_logloss: 0.531992\n",
      "[46]\tvalid_0's multi_logloss: 0.530712\n",
      "[47]\tvalid_0's multi_logloss: 0.531077\n",
      "[48]\tvalid_0's multi_logloss: 0.531047\n",
      "[49]\tvalid_0's multi_logloss: 0.529795\n",
      "[50]\tvalid_0's multi_logloss: 0.530471\n",
      "[51]\tvalid_0's multi_logloss: 0.528924\n",
      "[52]\tvalid_0's multi_logloss: 0.527777\n",
      "[53]\tvalid_0's multi_logloss: 0.524886\n",
      "[54]\tvalid_0's multi_logloss: 0.522521\n",
      "[55]\tvalid_0's multi_logloss: 0.520205\n",
      "[56]\tvalid_0's multi_logloss: 0.519153\n",
      "[57]\tvalid_0's multi_logloss: 0.518427\n",
      "[58]\tvalid_0's multi_logloss: 0.516324\n",
      "[59]\tvalid_0's multi_logloss: 0.517625\n",
      "[60]\tvalid_0's multi_logloss: 0.513467\n",
      "[61]\tvalid_0's multi_logloss: 0.512847\n",
      "[62]\tvalid_0's multi_logloss: 0.513875\n",
      "[63]\tvalid_0's multi_logloss: 0.513759\n",
      "[64]\tvalid_0's multi_logloss: 0.513555\n",
      "[65]\tvalid_0's multi_logloss: 0.512717\n",
      "[66]\tvalid_0's multi_logloss: 0.512314\n",
      "[67]\tvalid_0's multi_logloss: 0.511041\n",
      "[68]\tvalid_0's multi_logloss: 0.512002\n",
      "[69]\tvalid_0's multi_logloss: 0.511404\n",
      "[70]\tvalid_0's multi_logloss: 0.512329\n",
      "[71]\tvalid_0's multi_logloss: 0.511168\n",
      "[72]\tvalid_0's multi_logloss: 0.512017\n",
      "Early stopping, best iteration is:\n",
      "[67]\tvalid_0's multi_logloss: 0.511041\n"
     ]
    },
    {
     "name": "stderr",
     "output_type": "stream",
     "text": [
      "/home/yoshitaka-i/anaconda3/envs/py36/lib/python3.6/site-packages/sklearn/preprocessing/label.py:151: DeprecationWarning: The truth value of an empty array is ambiguous. Returning False, but in future this will result in an error. Use `array.size > 0` to check that an array is not empty.\n",
      "  if diff:\n"
     ]
    },
    {
     "data": {
      "text/plain": [
       "0.8035714285714286"
      ]
     },
     "execution_count": 15,
     "metadata": {},
     "output_type": "execute_result"
    }
   ],
   "source": [
    "# define and fit\n",
    "start = time.time()\n",
    "gbm = lgb.LGBMClassifier(\n",
    "    objective='multiclass',\n",
    "    device = 'gpu',\n",
    "    gpu_device_id=0,\n",
    "    n_jobs=-1 \n",
    ")\n",
    "\n",
    "gbm.fit(\n",
    "    X_train, \n",
    "    y_train,\n",
    "    eval_set=[(X_test, y_test)],\n",
    "    early_stopping_rounds=5\n",
    ")\n",
    "elapsed_time = time.time() - start\n",
    "\n",
    "# save model to sav\n",
    "pickle.dump(gbm, open('../model/lgbm_HCD65_pos.sav', 'wb'))\n",
    "gbm.score(X_test, y_test)"
   ]
  },
  {
   "cell_type": "code",
   "execution_count": 16,
   "metadata": {},
   "outputs": [
    {
     "name": "stderr",
     "output_type": "stream",
     "text": [
      "/home/yoshitaka-i/anaconda3/envs/py36/lib/python3.6/site-packages/sklearn/preprocessing/label.py:151: DeprecationWarning: The truth value of an empty array is ambiguous. Returning False, but in future this will result in an error. Use `array.size > 0` to check that an array is not empty.\n",
      "  if diff:\n"
     ]
    }
   ],
   "source": [
    "# add result to list \n",
    "o['HCD65_Positive'] = [round(gbm.score(X_test, y_test)*100, 2)]\n",
    "d['HCD65_Positive'] = [elapsed_time]"
   ]
  },
  {
   "cell_type": "code",
   "execution_count": 17,
   "metadata": {},
   "outputs": [],
   "source": [
    "# load data \n",
    "with open('../data/HCD35_neg.pickle', mode='rb') as fp:\n",
    "    df = pickle.load(fp)"
   ]
  },
  {
   "cell_type": "code",
   "execution_count": 18,
   "metadata": {},
   "outputs": [],
   "source": [
    "# divide objective and target\n",
    "objective = df.Subclass\n",
    "le = preprocessing.LabelEncoder()\n",
    "objective = le.fit_transform(objective)\n",
    "\n",
    "features = df.drop('Subclass', axis=1)"
   ]
  },
  {
   "cell_type": "code",
   "execution_count": 19,
   "metadata": {},
   "outputs": [],
   "source": [
    "# train test split\n",
    "random_state=np.random.seed(42)\n",
    "X_train, X_test, y_train, y_test = train_test_split(\n",
    "    features, \n",
    "    objective,\n",
    "    test_size=0.2\n",
    ")"
   ]
  },
  {
   "cell_type": "code",
   "execution_count": 20,
   "metadata": {
    "scrolled": true
   },
   "outputs": [
    {
     "name": "stdout",
     "output_type": "stream",
     "text": [
      "[1]\tvalid_0's multi_logloss: 1.30076\n",
      "Training until validation scores don't improve for 5 rounds.\n",
      "[2]\tvalid_0's multi_logloss: 1.22521\n",
      "[3]\tvalid_0's multi_logloss: 1.16091\n",
      "[4]\tvalid_0's multi_logloss: 1.10669\n",
      "[5]\tvalid_0's multi_logloss: 1.06334\n",
      "[6]\tvalid_0's multi_logloss: 1.01917\n",
      "[7]\tvalid_0's multi_logloss: 0.984905\n",
      "[8]\tvalid_0's multi_logloss: 0.955252\n",
      "[9]\tvalid_0's multi_logloss: 0.927404\n",
      "[10]\tvalid_0's multi_logloss: 0.90556\n",
      "[11]\tvalid_0's multi_logloss: 0.881257\n",
      "[12]\tvalid_0's multi_logloss: 0.863964\n",
      "[13]\tvalid_0's multi_logloss: 0.844036\n",
      "[14]\tvalid_0's multi_logloss: 0.827341\n",
      "[15]\tvalid_0's multi_logloss: 0.80775\n",
      "[16]\tvalid_0's multi_logloss: 0.793169\n",
      "[17]\tvalid_0's multi_logloss: 0.777887\n",
      "[18]\tvalid_0's multi_logloss: 0.765466\n",
      "[19]\tvalid_0's multi_logloss: 0.756627\n",
      "[20]\tvalid_0's multi_logloss: 0.743157\n",
      "[21]\tvalid_0's multi_logloss: 0.731932\n",
      "[22]\tvalid_0's multi_logloss: 0.723996\n",
      "[23]\tvalid_0's multi_logloss: 0.715226\n",
      "[24]\tvalid_0's multi_logloss: 0.706638\n",
      "[25]\tvalid_0's multi_logloss: 0.702293\n",
      "[26]\tvalid_0's multi_logloss: 0.689634\n",
      "[27]\tvalid_0's multi_logloss: 0.687143\n",
      "[28]\tvalid_0's multi_logloss: 0.681259\n",
      "[29]\tvalid_0's multi_logloss: 0.674335\n",
      "[30]\tvalid_0's multi_logloss: 0.668792\n",
      "[31]\tvalid_0's multi_logloss: 0.662476\n",
      "[32]\tvalid_0's multi_logloss: 0.658689\n",
      "[33]\tvalid_0's multi_logloss: 0.652416\n",
      "[34]\tvalid_0's multi_logloss: 0.646874\n",
      "[35]\tvalid_0's multi_logloss: 0.64305\n",
      "[36]\tvalid_0's multi_logloss: 0.64192\n",
      "[37]\tvalid_0's multi_logloss: 0.638736\n",
      "[38]\tvalid_0's multi_logloss: 0.638866\n",
      "[39]\tvalid_0's multi_logloss: 0.635127\n",
      "[40]\tvalid_0's multi_logloss: 0.63372\n",
      "[41]\tvalid_0's multi_logloss: 0.629375\n",
      "[42]\tvalid_0's multi_logloss: 0.625561\n",
      "[43]\tvalid_0's multi_logloss: 0.620539\n",
      "[44]\tvalid_0's multi_logloss: 0.617516\n",
      "[45]\tvalid_0's multi_logloss: 0.613307\n",
      "[46]\tvalid_0's multi_logloss: 0.612814\n",
      "[47]\tvalid_0's multi_logloss: 0.607298\n",
      "[48]\tvalid_0's multi_logloss: 0.608347\n",
      "[49]\tvalid_0's multi_logloss: 0.603822\n",
      "[50]\tvalid_0's multi_logloss: 0.600708\n",
      "[51]\tvalid_0's multi_logloss: 0.60201\n",
      "[52]\tvalid_0's multi_logloss: 0.601297\n",
      "[53]\tvalid_0's multi_logloss: 0.601749\n",
      "[54]\tvalid_0's multi_logloss: 0.599248\n",
      "[55]\tvalid_0's multi_logloss: 0.596825\n",
      "[56]\tvalid_0's multi_logloss: 0.594739\n",
      "[57]\tvalid_0's multi_logloss: 0.595667\n",
      "[58]\tvalid_0's multi_logloss: 0.598082\n",
      "[59]\tvalid_0's multi_logloss: 0.598265\n",
      "[60]\tvalid_0's multi_logloss: 0.598939\n",
      "[61]\tvalid_0's multi_logloss: 0.598556\n",
      "Early stopping, best iteration is:\n",
      "[56]\tvalid_0's multi_logloss: 0.594739\n"
     ]
    },
    {
     "name": "stderr",
     "output_type": "stream",
     "text": [
      "/home/yoshitaka-i/anaconda3/envs/py36/lib/python3.6/site-packages/sklearn/preprocessing/label.py:151: DeprecationWarning: The truth value of an empty array is ambiguous. Returning False, but in future this will result in an error. Use `array.size > 0` to check that an array is not empty.\n",
      "  if diff:\n"
     ]
    },
    {
     "data": {
      "text/plain": [
       "0.7340425531914894"
      ]
     },
     "execution_count": 20,
     "metadata": {},
     "output_type": "execute_result"
    }
   ],
   "source": [
    "# define and fit\n",
    "start = time.time()\n",
    "gbm = lgb.LGBMClassifier(\n",
    "    objective='multiclass',\n",
    "    device = 'gpu',\n",
    "    gpu_device_id=0,\n",
    "    n_jobs=-1 \n",
    ")\n",
    "\n",
    "gbm.fit(\n",
    "    X_train, \n",
    "    y_train,\n",
    "    eval_set=[(X_test, y_test)],\n",
    "    early_stopping_rounds=5\n",
    ")\n",
    "elapsed_time = time.time() - start\n",
    "# save model to sav\n",
    "pickle.dump(gbm, open('../model/lgbm_HCD35_neg.sav', 'wb'))\n",
    "gbm.score(X_test, y_test)"
   ]
  },
  {
   "cell_type": "code",
   "execution_count": 21,
   "metadata": {},
   "outputs": [
    {
     "name": "stderr",
     "output_type": "stream",
     "text": [
      "/home/yoshitaka-i/anaconda3/envs/py36/lib/python3.6/site-packages/sklearn/preprocessing/label.py:151: DeprecationWarning: The truth value of an empty array is ambiguous. Returning False, but in future this will result in an error. Use `array.size > 0` to check that an array is not empty.\n",
      "  if diff:\n"
     ]
    }
   ],
   "source": [
    "# result append to list\n",
    "o['HCD35_Negative'] = [round(gbm.score(X_test, y_test)*100, 2)]\n",
    "d['HCD35_Negative'] = [elapsed_time]"
   ]
  },
  {
   "cell_type": "code",
   "execution_count": 22,
   "metadata": {},
   "outputs": [],
   "source": [
    "# load data\n",
    "with open('../data/HCD45_neg.pickle', mode='rb') as fp:\n",
    "    df = pickle.load(fp)"
   ]
  },
  {
   "cell_type": "code",
   "execution_count": 23,
   "metadata": {},
   "outputs": [],
   "source": [
    "# divide objective and target\n",
    "objective = df.Subclass\n",
    "le = preprocessing.LabelEncoder()\n",
    "objective = le.fit_transform(objective)\n",
    "\n",
    "features = df.drop('Subclass', axis=1)"
   ]
  },
  {
   "cell_type": "code",
   "execution_count": 24,
   "metadata": {},
   "outputs": [],
   "source": [
    "# train test split\n",
    "random_state=np.random.seed(42)\n",
    "X_train, X_test, y_train, y_test = train_test_split(\n",
    "    features, \n",
    "    objective,\n",
    "    test_size=0.2\n",
    ")"
   ]
  },
  {
   "cell_type": "code",
   "execution_count": 25,
   "metadata": {
    "scrolled": true
   },
   "outputs": [
    {
     "name": "stdout",
     "output_type": "stream",
     "text": [
      "[1]\tvalid_0's multi_logloss: 1.30802\n",
      "Training until validation scores don't improve for 5 rounds.\n",
      "[2]\tvalid_0's multi_logloss: 1.24697\n",
      "[3]\tvalid_0's multi_logloss: 1.19617\n",
      "[4]\tvalid_0's multi_logloss: 1.152\n",
      "[5]\tvalid_0's multi_logloss: 1.1143\n",
      "[6]\tvalid_0's multi_logloss: 1.07895\n",
      "[7]\tvalid_0's multi_logloss: 1.04932\n",
      "[8]\tvalid_0's multi_logloss: 1.02542\n",
      "[9]\tvalid_0's multi_logloss: 1.00082\n",
      "[10]\tvalid_0's multi_logloss: 0.978054\n",
      "[11]\tvalid_0's multi_logloss: 0.952186\n",
      "[12]\tvalid_0's multi_logloss: 0.929902\n",
      "[13]\tvalid_0's multi_logloss: 0.911323\n",
      "[14]\tvalid_0's multi_logloss: 0.8953\n",
      "[15]\tvalid_0's multi_logloss: 0.876641\n",
      "[16]\tvalid_0's multi_logloss: 0.863211\n",
      "[17]\tvalid_0's multi_logloss: 0.847697\n",
      "[18]\tvalid_0's multi_logloss: 0.833415\n",
      "[19]\tvalid_0's multi_logloss: 0.824735\n",
      "[20]\tvalid_0's multi_logloss: 0.815683\n",
      "[21]\tvalid_0's multi_logloss: 0.804287\n",
      "[22]\tvalid_0's multi_logloss: 0.797441\n",
      "[23]\tvalid_0's multi_logloss: 0.792791\n",
      "[24]\tvalid_0's multi_logloss: 0.784498\n",
      "[25]\tvalid_0's multi_logloss: 0.777532\n",
      "[26]\tvalid_0's multi_logloss: 0.768834\n",
      "[27]\tvalid_0's multi_logloss: 0.764223\n",
      "[28]\tvalid_0's multi_logloss: 0.759305\n",
      "[29]\tvalid_0's multi_logloss: 0.75168\n",
      "[30]\tvalid_0's multi_logloss: 0.744846\n",
      "[31]\tvalid_0's multi_logloss: 0.739984\n",
      "[32]\tvalid_0's multi_logloss: 0.733962\n",
      "[33]\tvalid_0's multi_logloss: 0.72853\n",
      "[34]\tvalid_0's multi_logloss: 0.723649\n",
      "[35]\tvalid_0's multi_logloss: 0.719789\n",
      "[36]\tvalid_0's multi_logloss: 0.720451\n",
      "[37]\tvalid_0's multi_logloss: 0.716203\n",
      "[38]\tvalid_0's multi_logloss: 0.710119\n",
      "[39]\tvalid_0's multi_logloss: 0.706373\n",
      "[40]\tvalid_0's multi_logloss: 0.706467\n",
      "[41]\tvalid_0's multi_logloss: 0.70445\n",
      "[42]\tvalid_0's multi_logloss: 0.701857\n",
      "[43]\tvalid_0's multi_logloss: 0.699532\n",
      "[44]\tvalid_0's multi_logloss: 0.69644\n",
      "[45]\tvalid_0's multi_logloss: 0.697127\n",
      "[46]\tvalid_0's multi_logloss: 0.694084\n",
      "[47]\tvalid_0's multi_logloss: 0.695315\n",
      "[48]\tvalid_0's multi_logloss: 0.698884\n",
      "[49]\tvalid_0's multi_logloss: 0.698384\n",
      "[50]\tvalid_0's multi_logloss: 0.698432\n",
      "[51]\tvalid_0's multi_logloss: 0.698879\n",
      "Early stopping, best iteration is:\n",
      "[46]\tvalid_0's multi_logloss: 0.694084\n"
     ]
    },
    {
     "name": "stderr",
     "output_type": "stream",
     "text": [
      "/home/yoshitaka-i/anaconda3/envs/py36/lib/python3.6/site-packages/sklearn/preprocessing/label.py:151: DeprecationWarning: The truth value of an empty array is ambiguous. Returning False, but in future this will result in an error. Use `array.size > 0` to check that an array is not empty.\n",
      "  if diff:\n"
     ]
    },
    {
     "data": {
      "text/plain": [
       "0.7021276595744681"
      ]
     },
     "execution_count": 25,
     "metadata": {},
     "output_type": "execute_result"
    }
   ],
   "source": [
    "# define and fit\n",
    "start = time.time()\n",
    "gbm = lgb.LGBMClassifier(\n",
    "    objective='multiclass',\n",
    "    device = 'gpu',\n",
    "    gpu_device_id=0,\n",
    "    n_jobs=-1 \n",
    ")\n",
    "\n",
    "gbm.fit(\n",
    "    X_train, \n",
    "    y_train,\n",
    "    eval_set=[(X_test, y_test)],\n",
    "    early_stopping_rounds=5\n",
    ")\n",
    "elapsed_time = time.time() - start\n",
    "\n",
    "# save model to sav\n",
    "pickle.dump(gbm, open('../model/lgbm_HCD45_neg.sav', 'wb'))\n",
    "gbm.score(X_test, y_test)"
   ]
  },
  {
   "cell_type": "code",
   "execution_count": 26,
   "metadata": {},
   "outputs": [
    {
     "name": "stderr",
     "output_type": "stream",
     "text": [
      "/home/yoshitaka-i/anaconda3/envs/py36/lib/python3.6/site-packages/sklearn/preprocessing/label.py:151: DeprecationWarning: The truth value of an empty array is ambiguous. Returning False, but in future this will result in an error. Use `array.size > 0` to check that an array is not empty.\n",
      "  if diff:\n"
     ]
    }
   ],
   "source": [
    "# result append to list\n",
    "o['HCD45_Negative'] = [round(gbm.score(X_test, y_test)*100, 2)]\n",
    "d['HCD45_Negative'] = [elapsed_time]"
   ]
  },
  {
   "cell_type": "code",
   "execution_count": 27,
   "metadata": {},
   "outputs": [],
   "source": [
    "# load data\n",
    "with open('../data/HCD65_neg.pickle', mode='rb') as fp:\n",
    "    df = pickle.load(fp)"
   ]
  },
  {
   "cell_type": "code",
   "execution_count": 28,
   "metadata": {},
   "outputs": [],
   "source": [
    "# divide objective and target\n",
    "objective = df.Subclass\n",
    "le = preprocessing.LabelEncoder()\n",
    "objective = le.fit_transform(objective)\n",
    "\n",
    "features = df.drop('Subclass', axis=1)"
   ]
  },
  {
   "cell_type": "code",
   "execution_count": 29,
   "metadata": {},
   "outputs": [],
   "source": [
    "# train test split\n",
    "random_state=np.random.seed(42)\n",
    "X_train, X_test, y_train, y_test = train_test_split(\n",
    "    features, \n",
    "    objective,\n",
    "    test_size=0.2\n",
    ")"
   ]
  },
  {
   "cell_type": "code",
   "execution_count": 30,
   "metadata": {
    "scrolled": true
   },
   "outputs": [
    {
     "name": "stdout",
     "output_type": "stream",
     "text": [
      "[1]\tvalid_0's multi_logloss: 1.30826\n",
      "Training until validation scores don't improve for 5 rounds.\n",
      "[2]\tvalid_0's multi_logloss: 1.24177\n",
      "[3]\tvalid_0's multi_logloss: 1.18825\n",
      "[4]\tvalid_0's multi_logloss: 1.14339\n",
      "[5]\tvalid_0's multi_logloss: 1.10488\n",
      "[6]\tvalid_0's multi_logloss: 1.06876\n",
      "[7]\tvalid_0's multi_logloss: 1.04488\n",
      "[8]\tvalid_0's multi_logloss: 1.02053\n",
      "[9]\tvalid_0's multi_logloss: 0.994713\n",
      "[10]\tvalid_0's multi_logloss: 0.975622\n",
      "[11]\tvalid_0's multi_logloss: 0.959097\n",
      "[12]\tvalid_0's multi_logloss: 0.946242\n",
      "[13]\tvalid_0's multi_logloss: 0.93064\n",
      "[14]\tvalid_0's multi_logloss: 0.915976\n",
      "[15]\tvalid_0's multi_logloss: 0.908088\n",
      "[16]\tvalid_0's multi_logloss: 0.895834\n",
      "[17]\tvalid_0's multi_logloss: 0.883615\n",
      "[18]\tvalid_0's multi_logloss: 0.878021\n",
      "[19]\tvalid_0's multi_logloss: 0.868379\n",
      "[20]\tvalid_0's multi_logloss: 0.863698\n",
      "[21]\tvalid_0's multi_logloss: 0.854834\n",
      "[22]\tvalid_0's multi_logloss: 0.848577\n",
      "[23]\tvalid_0's multi_logloss: 0.842967\n",
      "[24]\tvalid_0's multi_logloss: 0.835559\n",
      "[25]\tvalid_0's multi_logloss: 0.828511\n",
      "[26]\tvalid_0's multi_logloss: 0.818546\n",
      "[27]\tvalid_0's multi_logloss: 0.813424\n",
      "[28]\tvalid_0's multi_logloss: 0.809921\n",
      "[29]\tvalid_0's multi_logloss: 0.805949\n",
      "[30]\tvalid_0's multi_logloss: 0.800205\n",
      "[31]\tvalid_0's multi_logloss: 0.794121\n",
      "[32]\tvalid_0's multi_logloss: 0.790368\n",
      "[33]\tvalid_0's multi_logloss: 0.786754\n",
      "[34]\tvalid_0's multi_logloss: 0.781211\n",
      "[35]\tvalid_0's multi_logloss: 0.779358\n",
      "[36]\tvalid_0's multi_logloss: 0.774729\n",
      "[37]\tvalid_0's multi_logloss: 0.77184\n",
      "[38]\tvalid_0's multi_logloss: 0.764968\n",
      "[39]\tvalid_0's multi_logloss: 0.759462\n",
      "[40]\tvalid_0's multi_logloss: 0.755394\n",
      "[41]\tvalid_0's multi_logloss: 0.756791\n",
      "[42]\tvalid_0's multi_logloss: 0.752327\n",
      "[43]\tvalid_0's multi_logloss: 0.750943\n",
      "[44]\tvalid_0's multi_logloss: 0.753784\n",
      "[45]\tvalid_0's multi_logloss: 0.752142\n",
      "[46]\tvalid_0's multi_logloss: 0.75055\n",
      "[47]\tvalid_0's multi_logloss: 0.749128\n",
      "[48]\tvalid_0's multi_logloss: 0.747831\n",
      "[49]\tvalid_0's multi_logloss: 0.749255\n",
      "[50]\tvalid_0's multi_logloss: 0.751246\n",
      "[51]\tvalid_0's multi_logloss: 0.74805\n",
      "[52]\tvalid_0's multi_logloss: 0.750656\n",
      "[53]\tvalid_0's multi_logloss: 0.750947\n",
      "Early stopping, best iteration is:\n",
      "[48]\tvalid_0's multi_logloss: 0.747831\n"
     ]
    },
    {
     "name": "stderr",
     "output_type": "stream",
     "text": [
      "/home/yoshitaka-i/anaconda3/envs/py36/lib/python3.6/site-packages/sklearn/preprocessing/label.py:151: DeprecationWarning: The truth value of an empty array is ambiguous. Returning False, but in future this will result in an error. Use `array.size > 0` to check that an array is not empty.\n",
      "  if diff:\n"
     ]
    },
    {
     "data": {
      "text/plain": [
       "0.6808510638297872"
      ]
     },
     "execution_count": 30,
     "metadata": {},
     "output_type": "execute_result"
    }
   ],
   "source": [
    "# define and fit\n",
    "start = time.time()\n",
    "gbm = lgb.LGBMClassifier(\n",
    "    objective='multiclass',\n",
    "    device = 'gpu',\n",
    "    gpu_device_id=0,\n",
    "    n_jobs=-1 \n",
    ")\n",
    "\n",
    "gbm.fit(\n",
    "    X_train, \n",
    "    y_train,\n",
    "    eval_set=[(X_test, y_test)],\n",
    "    early_stopping_rounds=5\n",
    ")\n",
    "elapsed_time = time.time() - start\n",
    "\n",
    "# save model to sav\n",
    "pickle.dump(gbm, open('../model/lgbm_HCD65_neg.sav', 'wb'))\n",
    "gbm.score(X_test, y_test)"
   ]
  },
  {
   "cell_type": "code",
   "execution_count": 31,
   "metadata": {},
   "outputs": [
    {
     "name": "stderr",
     "output_type": "stream",
     "text": [
      "/home/yoshitaka-i/anaconda3/envs/py36/lib/python3.6/site-packages/sklearn/preprocessing/label.py:151: DeprecationWarning: The truth value of an empty array is ambiguous. Returning False, but in future this will result in an error. Use `array.size > 0` to check that an array is not empty.\n",
      "  if diff:\n"
     ]
    }
   ],
   "source": [
    "# result append to list\n",
    "o['HCD65_Negative'] = [round(gbm.score(X_test, y_test)*100, 2)]\n",
    "d['HCD65_Negative'] = [elapsed_time]"
   ]
  },
  {
   "cell_type": "code",
   "execution_count": 32,
   "metadata": {},
   "outputs": [],
   "source": [
    "# change result list to Dataframe\n",
    "g = pd.concat([pd.DataFrame(o).T, pd.DataFrame(d).T], axis=1)\n",
    "g.columns = ['Accuracy', 'Time']"
   ]
  },
  {
   "cell_type": "code",
   "execution_count": 33,
   "metadata": {},
   "outputs": [],
   "source": [
    "# dataframe to csv\n",
    "g.to_csv('../result/LightGBM.csv')"
   ]
  }
 ],
 "metadata": {
  "kernelspec": {
   "display_name": "py36",
   "language": "python",
   "name": "py36"
  },
  "language_info": {
   "codemirror_mode": {
    "name": "ipython",
    "version": 3
   },
   "file_extension": ".py",
   "mimetype": "text/x-python",
   "name": "python",
   "nbconvert_exporter": "python",
   "pygments_lexer": "ipython3",
   "version": "3.6.5"
  }
 },
 "nbformat": 4,
 "nbformat_minor": 2
}
