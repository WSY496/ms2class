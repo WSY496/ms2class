{
 "cells": [
  {
   "cell_type": "code",
   "execution_count": 1,
   "metadata": {},
   "outputs": [],
   "source": [
    "import pickle\n",
    "import pandas as pd\n",
    "import numpy as np\n",
    "import time\n",
    "\n",
    "import xgboost as xgb\n",
    "import lightgbm as lgb\n",
    "\n",
    "from sklearn.ensemble import RandomForestClassifier as rf\n",
    "from sklearn.metrics import mean_squared_error\n",
    "from sklearn.model_selection import train_test_split\n",
    "from sklearn.metrics import confusion_matrix\n",
    "from sklearn.model_selection import GridSearchCV\n",
    "from sklearn import preprocessing"
   ]
  },
  {
   "cell_type": "code",
   "execution_count": 2,
   "metadata": {},
   "outputs": [],
   "source": [
    "# load data\n",
    "with open('../data/HCD35_pos.pickle', mode='rb') as fp:\n",
    "    df = pickle.load(fp)"
   ]
  },
  {
   "cell_type": "code",
   "execution_count": 3,
   "metadata": {},
   "outputs": [],
   "source": [
    "# divide objective and target\n",
    "objective = df.Subclass\n",
    "le = preprocessing.LabelEncoder()\n",
    "objective = le.fit_transform(objective)\n",
    "\n",
    "features = df.drop('Subclass', axis=1)"
   ]
  },
  {
   "cell_type": "code",
   "execution_count": 4,
   "metadata": {},
   "outputs": [],
   "source": [
    "# train test split\n",
    "random_state=np.random.seed(42)\n",
    "X_train, X_test, y_train, y_test = train_test_split(\n",
    "    features, \n",
    "    objective,\n",
    "    test_size=0.2\n",
    ")"
   ]
  },
  {
   "cell_type": "code",
   "execution_count": 5,
   "metadata": {
    "scrolled": true
   },
   "outputs": [
    {
     "name": "stdout",
     "output_type": "stream",
     "text": [
      "[1]\tvalid_0's multi_logloss: 1.28656\n",
      "Training until validation scores don't improve for 5 rounds.\n",
      "[2]\tvalid_0's multi_logloss: 1.20656\n",
      "[3]\tvalid_0's multi_logloss: 1.14131\n",
      "[4]\tvalid_0's multi_logloss: 1.08736\n",
      "[5]\tvalid_0's multi_logloss: 1.03841\n",
      "[6]\tvalid_0's multi_logloss: 0.996411\n",
      "[7]\tvalid_0's multi_logloss: 0.956233\n",
      "[8]\tvalid_0's multi_logloss: 0.917615\n",
      "[9]\tvalid_0's multi_logloss: 0.883031\n",
      "[10]\tvalid_0's multi_logloss: 0.85603\n",
      "[11]\tvalid_0's multi_logloss: 0.830104\n",
      "[12]\tvalid_0's multi_logloss: 0.807268\n",
      "[13]\tvalid_0's multi_logloss: 0.785981\n",
      "[14]\tvalid_0's multi_logloss: 0.763894\n",
      "[15]\tvalid_0's multi_logloss: 0.747209\n",
      "[16]\tvalid_0's multi_logloss: 0.729778\n",
      "[17]\tvalid_0's multi_logloss: 0.714786\n",
      "[18]\tvalid_0's multi_logloss: 0.698121\n",
      "[19]\tvalid_0's multi_logloss: 0.682024\n",
      "[20]\tvalid_0's multi_logloss: 0.666685\n",
      "[21]\tvalid_0's multi_logloss: 0.653509\n",
      "[22]\tvalid_0's multi_logloss: 0.640732\n",
      "[23]\tvalid_0's multi_logloss: 0.628841\n",
      "[24]\tvalid_0's multi_logloss: 0.616433\n",
      "[25]\tvalid_0's multi_logloss: 0.606338\n",
      "[26]\tvalid_0's multi_logloss: 0.596367\n",
      "[27]\tvalid_0's multi_logloss: 0.585846\n",
      "[28]\tvalid_0's multi_logloss: 0.576334\n",
      "[29]\tvalid_0's multi_logloss: 0.566899\n",
      "[30]\tvalid_0's multi_logloss: 0.559218\n",
      "[31]\tvalid_0's multi_logloss: 0.549136\n",
      "[32]\tvalid_0's multi_logloss: 0.541224\n",
      "[33]\tvalid_0's multi_logloss: 0.531895\n",
      "[34]\tvalid_0's multi_logloss: 0.526804\n",
      "[35]\tvalid_0's multi_logloss: 0.521607\n",
      "[36]\tvalid_0's multi_logloss: 0.515735\n",
      "[37]\tvalid_0's multi_logloss: 0.510354\n",
      "[38]\tvalid_0's multi_logloss: 0.505174\n",
      "[39]\tvalid_0's multi_logloss: 0.499107\n",
      "[40]\tvalid_0's multi_logloss: 0.494943\n",
      "[41]\tvalid_0's multi_logloss: 0.489507\n",
      "[42]\tvalid_0's multi_logloss: 0.484906\n",
      "[43]\tvalid_0's multi_logloss: 0.481553\n",
      "[44]\tvalid_0's multi_logloss: 0.475681\n",
      "[45]\tvalid_0's multi_logloss: 0.472059\n",
      "[46]\tvalid_0's multi_logloss: 0.468004\n",
      "[47]\tvalid_0's multi_logloss: 0.465283\n",
      "[48]\tvalid_0's multi_logloss: 0.461813\n",
      "[49]\tvalid_0's multi_logloss: 0.459178\n",
      "[50]\tvalid_0's multi_logloss: 0.456971\n",
      "[51]\tvalid_0's multi_logloss: 0.453836\n",
      "[52]\tvalid_0's multi_logloss: 0.452263\n",
      "[53]\tvalid_0's multi_logloss: 0.448578\n",
      "[54]\tvalid_0's multi_logloss: 0.446084\n",
      "[55]\tvalid_0's multi_logloss: 0.441386\n",
      "[56]\tvalid_0's multi_logloss: 0.439794\n",
      "[57]\tvalid_0's multi_logloss: 0.438747\n",
      "[58]\tvalid_0's multi_logloss: 0.436725\n",
      "[59]\tvalid_0's multi_logloss: 0.436484\n",
      "[60]\tvalid_0's multi_logloss: 0.435861\n",
      "[61]\tvalid_0's multi_logloss: 0.435864\n",
      "[62]\tvalid_0's multi_logloss: 0.43339\n",
      "[63]\tvalid_0's multi_logloss: 0.431375\n",
      "[64]\tvalid_0's multi_logloss: 0.430531\n",
      "[65]\tvalid_0's multi_logloss: 0.430255\n",
      "[66]\tvalid_0's multi_logloss: 0.429697\n",
      "[67]\tvalid_0's multi_logloss: 0.429807\n",
      "[68]\tvalid_0's multi_logloss: 0.428414\n",
      "[69]\tvalid_0's multi_logloss: 0.426296\n",
      "[70]\tvalid_0's multi_logloss: 0.427968\n",
      "[71]\tvalid_0's multi_logloss: 0.429853\n",
      "[72]\tvalid_0's multi_logloss: 0.429176\n",
      "[73]\tvalid_0's multi_logloss: 0.427302\n",
      "[74]\tvalid_0's multi_logloss: 0.428859\n",
      "Early stopping, best iteration is:\n",
      "[69]\tvalid_0's multi_logloss: 0.426296\n"
     ]
    }
   ],
   "source": [
    "# define and fit\n",
    "start = time.time()\n",
    "gbm = lgb.LGBMClassifier(\n",
    "    objective='multiclass',\n",
    "    device = 'gpu',\n",
    "    gpu_device_id=0,\n",
    "    n_jobs=-1 \n",
    ")\n",
    "\n",
    "gbm.fit(\n",
    "    X_train, \n",
    "    y_train,\n",
    "    eval_set=[(X_test, y_test)],\n",
    "    early_stopping_rounds=5\n",
    ")\n",
    "elapsed_time = time.time() - start\n",
    "\n",
    "# save model to sav\n",
    "pickle.dump(gbm, open('../model/lgbm_HCD35_pos.sav', 'wb'))"
   ]
  },
  {
   "cell_type": "code",
   "execution_count": 6,
   "metadata": {},
   "outputs": [
    {
     "name": "stderr",
     "output_type": "stream",
     "text": [
      "/home/yoshitaka-i/anaconda3/envs/py36/lib/python3.6/site-packages/sklearn/preprocessing/label.py:151: DeprecationWarning: The truth value of an empty array is ambiguous. Returning False, but in future this will result in an error. Use `array.size > 0` to check that an array is not empty.\n",
      "  if diff:\n"
     ]
    }
   ],
   "source": [
    "# add result to list \n",
    "o = {}\n",
    "d = {}\n",
    "o['HCD35_Positive'] = [round(gbm.score(X_test, y_test)*100, 2)]\n",
    "d['HCD35_Positive'] = [elapsed_time]"
   ]
  },
  {
   "cell_type": "code",
   "execution_count": 7,
   "metadata": {},
   "outputs": [],
   "source": [
    "# load data\n",
    "with open('../data/HCD45_pos.pickle', mode='rb') as fp:\n",
    "    df = pickle.load(fp)"
   ]
  },
  {
   "cell_type": "code",
   "execution_count": 8,
   "metadata": {},
   "outputs": [],
   "source": [
    "# divide objective and target\n",
    "objective = df.Subclass\n",
    "le = preprocessing.LabelEncoder()\n",
    "objective = le.fit_transform(objective)\n",
    "\n",
    "features = df.drop('Subclass', axis=1)"
   ]
  },
  {
   "cell_type": "code",
   "execution_count": 9,
   "metadata": {},
   "outputs": [],
   "source": [
    "# train test split\n",
    "random_state=np.random.seed(42)\n",
    "X_train, X_test, y_train, y_test = train_test_split(\n",
    "    features, \n",
    "    objective,\n",
    "    test_size=0.2\n",
    ")"
   ]
  },
  {
   "cell_type": "code",
   "execution_count": 10,
   "metadata": {
    "scrolled": true
   },
   "outputs": [
    {
     "name": "stdout",
     "output_type": "stream",
     "text": [
      "[1]\tvalid_0's multi_logloss: 1.29593\n",
      "Training until validation scores don't improve for 5 rounds.\n",
      "[2]\tvalid_0's multi_logloss: 1.22366\n",
      "[3]\tvalid_0's multi_logloss: 1.16062\n",
      "[4]\tvalid_0's multi_logloss: 1.10791\n",
      "[5]\tvalid_0's multi_logloss: 1.05615\n",
      "[6]\tvalid_0's multi_logloss: 1.0134\n",
      "[7]\tvalid_0's multi_logloss: 0.973814\n",
      "[8]\tvalid_0's multi_logloss: 0.938707\n",
      "[9]\tvalid_0's multi_logloss: 0.909245\n",
      "[10]\tvalid_0's multi_logloss: 0.881957\n",
      "[11]\tvalid_0's multi_logloss: 0.855009\n",
      "[12]\tvalid_0's multi_logloss: 0.82971\n",
      "[13]\tvalid_0's multi_logloss: 0.806159\n",
      "[14]\tvalid_0's multi_logloss: 0.787479\n",
      "[15]\tvalid_0's multi_logloss: 0.765123\n",
      "[16]\tvalid_0's multi_logloss: 0.746776\n",
      "[17]\tvalid_0's multi_logloss: 0.730379\n",
      "[18]\tvalid_0's multi_logloss: 0.715307\n",
      "[19]\tvalid_0's multi_logloss: 0.701327\n",
      "[20]\tvalid_0's multi_logloss: 0.690784\n",
      "[21]\tvalid_0's multi_logloss: 0.678497\n",
      "[22]\tvalid_0's multi_logloss: 0.669146\n",
      "[23]\tvalid_0's multi_logloss: 0.659797\n",
      "[24]\tvalid_0's multi_logloss: 0.650464\n",
      "[25]\tvalid_0's multi_logloss: 0.638135\n",
      "[26]\tvalid_0's multi_logloss: 0.628651\n",
      "[27]\tvalid_0's multi_logloss: 0.618243\n",
      "[28]\tvalid_0's multi_logloss: 0.610834\n",
      "[29]\tvalid_0's multi_logloss: 0.602296\n",
      "[30]\tvalid_0's multi_logloss: 0.596387\n",
      "[31]\tvalid_0's multi_logloss: 0.59021\n",
      "[32]\tvalid_0's multi_logloss: 0.584668\n",
      "[33]\tvalid_0's multi_logloss: 0.578328\n",
      "[34]\tvalid_0's multi_logloss: 0.573367\n",
      "[35]\tvalid_0's multi_logloss: 0.56685\n",
      "[36]\tvalid_0's multi_logloss: 0.559573\n",
      "[37]\tvalid_0's multi_logloss: 0.553796\n",
      "[38]\tvalid_0's multi_logloss: 0.547077\n",
      "[39]\tvalid_0's multi_logloss: 0.543557\n",
      "[40]\tvalid_0's multi_logloss: 0.538642\n",
      "[41]\tvalid_0's multi_logloss: 0.534136\n",
      "[42]\tvalid_0's multi_logloss: 0.530099\n",
      "[43]\tvalid_0's multi_logloss: 0.527581\n",
      "[44]\tvalid_0's multi_logloss: 0.524288\n",
      "[45]\tvalid_0's multi_logloss: 0.519572\n",
      "[46]\tvalid_0's multi_logloss: 0.515532\n",
      "[47]\tvalid_0's multi_logloss: 0.512199\n",
      "[48]\tvalid_0's multi_logloss: 0.509996\n",
      "[49]\tvalid_0's multi_logloss: 0.508652\n",
      "[50]\tvalid_0's multi_logloss: 0.505788\n",
      "[51]\tvalid_0's multi_logloss: 0.501417\n",
      "[52]\tvalid_0's multi_logloss: 0.500734\n",
      "[53]\tvalid_0's multi_logloss: 0.498969\n",
      "[54]\tvalid_0's multi_logloss: 0.497958\n",
      "[55]\tvalid_0's multi_logloss: 0.496501\n",
      "[56]\tvalid_0's multi_logloss: 0.494578\n",
      "[57]\tvalid_0's multi_logloss: 0.491228\n",
      "[58]\tvalid_0's multi_logloss: 0.490927\n",
      "[59]\tvalid_0's multi_logloss: 0.487864\n",
      "[60]\tvalid_0's multi_logloss: 0.486525\n",
      "[61]\tvalid_0's multi_logloss: 0.48511\n",
      "[62]\tvalid_0's multi_logloss: 0.483882\n",
      "[63]\tvalid_0's multi_logloss: 0.481763\n",
      "[64]\tvalid_0's multi_logloss: 0.480006\n",
      "[65]\tvalid_0's multi_logloss: 0.478454\n",
      "[66]\tvalid_0's multi_logloss: 0.476524\n",
      "[67]\tvalid_0's multi_logloss: 0.474012\n",
      "[68]\tvalid_0's multi_logloss: 0.472896\n",
      "[69]\tvalid_0's multi_logloss: 0.472469\n",
      "[70]\tvalid_0's multi_logloss: 0.473618\n",
      "[71]\tvalid_0's multi_logloss: 0.473218\n",
      "[72]\tvalid_0's multi_logloss: 0.472857\n",
      "[73]\tvalid_0's multi_logloss: 0.474291\n",
      "[74]\tvalid_0's multi_logloss: 0.472787\n",
      "Early stopping, best iteration is:\n",
      "[69]\tvalid_0's multi_logloss: 0.472469\n"
     ]
    },
    {
     "name": "stderr",
     "output_type": "stream",
     "text": [
      "/home/yoshitaka-i/anaconda3/envs/py36/lib/python3.6/site-packages/sklearn/preprocessing/label.py:151: DeprecationWarning: The truth value of an empty array is ambiguous. Returning False, but in future this will result in an error. Use `array.size > 0` to check that an array is not empty.\n",
      "  if diff:\n"
     ]
    },
    {
     "data": {
      "text/plain": [
       "0.8125"
      ]
     },
     "execution_count": 10,
     "metadata": {},
     "output_type": "execute_result"
    }
   ],
   "source": [
    "# define and fit\n",
    "start = time.time()\n",
    "gbm = lgb.LGBMClassifier(\n",
    "    objective='multiclass',\n",
    "    device = 'gpu',\n",
    "    gpu_device_id=0,\n",
    "    n_jobs=-1 \n",
    ")\n",
    "\n",
    "gbm.fit(\n",
    "    X_train, \n",
    "    y_train,\n",
    "    eval_set=[(X_test, y_test)],\n",
    "    early_stopping_rounds=5\n",
    ")\n",
    "elapsed_time = time.time() - start\n",
    "\n",
    "# save model to sav\n",
    "pickle.dump(gbm, open('../model/lgbm_HCD45_pos.sav', 'wb'))\n",
    "\n",
    "gbm.score(X_test, y_test)"
   ]
  },
  {
   "cell_type": "code",
   "execution_count": 11,
   "metadata": {},
   "outputs": [
    {
     "name": "stderr",
     "output_type": "stream",
     "text": [
      "/home/yoshitaka-i/anaconda3/envs/py36/lib/python3.6/site-packages/sklearn/preprocessing/label.py:151: DeprecationWarning: The truth value of an empty array is ambiguous. Returning False, but in future this will result in an error. Use `array.size > 0` to check that an array is not empty.\n",
      "  if diff:\n"
     ]
    }
   ],
   "source": [
    "# add result to list \n",
    "o['HCD45_Positive'] = [round(gbm.score(X_test, y_test)*100, 2)]\n",
    "d['HCD45_Positive'] = [elapsed_time]"
   ]
  },
  {
   "cell_type": "code",
   "execution_count": 12,
   "metadata": {},
   "outputs": [],
   "source": [
    "# load data\n",
    "with open('../data/HCD65_pos.pickle', mode='rb') as fp:\n",
    "    df = pickle.load(fp)"
   ]
  },
  {
   "cell_type": "code",
   "execution_count": 13,
   "metadata": {},
   "outputs": [],
   "source": [
    "# divide objective and target\n",
    "objective = df.Subclass\n",
    "le = preprocessing.LabelEncoder()\n",
    "objective = le.fit_transform(objective)\n",
    "\n",
    "features = df.drop('Subclass', axis=1)"
   ]
  },
  {
   "cell_type": "code",
   "execution_count": 14,
   "metadata": {},
   "outputs": [],
   "source": [
    "# train test split\n",
    "random_state=np.random.seed(42)\n",
    "X_train, X_test, y_train, y_test = train_test_split(\n",
    "    features, \n",
    "    objective,\n",
    "    test_size=0.2\n",
    ")"
   ]
  },
  {
   "cell_type": "code",
   "execution_count": 15,
   "metadata": {
    "scrolled": true
   },
   "outputs": [
    {
     "name": "stdout",
     "output_type": "stream",
     "text": [
      "[1]\tvalid_0's multi_logloss: 1.29837\n",
      "Training until validation scores don't improve for 5 rounds.\n",
      "[2]\tvalid_0's multi_logloss: 1.22455\n",
      "[3]\tvalid_0's multi_logloss: 1.16215\n",
      "[4]\tvalid_0's multi_logloss: 1.10904\n",
      "[5]\tvalid_0's multi_logloss: 1.05967\n",
      "[6]\tvalid_0's multi_logloss: 1.01761\n",
      "[7]\tvalid_0's multi_logloss: 0.975806\n",
      "[8]\tvalid_0's multi_logloss: 0.940529\n",
      "[9]\tvalid_0's multi_logloss: 0.910785\n",
      "[10]\tvalid_0's multi_logloss: 0.880893\n",
      "[11]\tvalid_0's multi_logloss: 0.853897\n",
      "[12]\tvalid_0's multi_logloss: 0.829851\n",
      "[13]\tvalid_0's multi_logloss: 0.807085\n",
      "[14]\tvalid_0's multi_logloss: 0.785691\n",
      "[15]\tvalid_0's multi_logloss: 0.767879\n",
      "[16]\tvalid_0's multi_logloss: 0.747723\n",
      "[17]\tvalid_0's multi_logloss: 0.733658\n",
      "[18]\tvalid_0's multi_logloss: 0.718659\n",
      "[19]\tvalid_0's multi_logloss: 0.70483\n",
      "[20]\tvalid_0's multi_logloss: 0.691515\n",
      "[21]\tvalid_0's multi_logloss: 0.677993\n",
      "[22]\tvalid_0's multi_logloss: 0.666396\n",
      "[23]\tvalid_0's multi_logloss: 0.656875\n",
      "[24]\tvalid_0's multi_logloss: 0.648543\n",
      "[25]\tvalid_0's multi_logloss: 0.63753\n",
      "[26]\tvalid_0's multi_logloss: 0.627982\n",
      "[27]\tvalid_0's multi_logloss: 0.619434\n",
      "[28]\tvalid_0's multi_logloss: 0.611605\n",
      "[29]\tvalid_0's multi_logloss: 0.604331\n",
      "[30]\tvalid_0's multi_logloss: 0.599321\n",
      "[31]\tvalid_0's multi_logloss: 0.593949\n",
      "[32]\tvalid_0's multi_logloss: 0.586222\n",
      "[33]\tvalid_0's multi_logloss: 0.581793\n",
      "[34]\tvalid_0's multi_logloss: 0.576236\n",
      "[35]\tvalid_0's multi_logloss: 0.571636\n",
      "[36]\tvalid_0's multi_logloss: 0.564671\n",
      "[37]\tvalid_0's multi_logloss: 0.559708\n",
      "[38]\tvalid_0's multi_logloss: 0.556487\n",
      "[39]\tvalid_0's multi_logloss: 0.553777\n",
      "[40]\tvalid_0's multi_logloss: 0.548019\n",
      "[41]\tvalid_0's multi_logloss: 0.545016\n",
      "[42]\tvalid_0's multi_logloss: 0.540518\n",
      "[43]\tvalid_0's multi_logloss: 0.537428\n",
      "[44]\tvalid_0's multi_logloss: 0.534698\n",
      "[45]\tvalid_0's multi_logloss: 0.53255\n",
      "[46]\tvalid_0's multi_logloss: 0.531266\n",
      "[47]\tvalid_0's multi_logloss: 0.531617\n",
      "[48]\tvalid_0's multi_logloss: 0.531569\n",
      "[49]\tvalid_0's multi_logloss: 0.530314\n",
      "[50]\tvalid_0's multi_logloss: 0.531001\n",
      "[51]\tvalid_0's multi_logloss: 0.529456\n",
      "[52]\tvalid_0's multi_logloss: 0.528309\n",
      "[53]\tvalid_0's multi_logloss: 0.52541\n",
      "[54]\tvalid_0's multi_logloss: 0.523058\n",
      "[55]\tvalid_0's multi_logloss: 0.52079\n",
      "[56]\tvalid_0's multi_logloss: 0.519736\n",
      "[57]\tvalid_0's multi_logloss: 0.519017\n",
      "[58]\tvalid_0's multi_logloss: 0.516907\n",
      "[59]\tvalid_0's multi_logloss: 0.51822\n",
      "[60]\tvalid_0's multi_logloss: 0.514042\n",
      "[61]\tvalid_0's multi_logloss: 0.513412\n",
      "[62]\tvalid_0's multi_logloss: 0.51443\n",
      "[63]\tvalid_0's multi_logloss: 0.514335\n",
      "[64]\tvalid_0's multi_logloss: 0.514134\n",
      "[65]\tvalid_0's multi_logloss: 0.513287\n",
      "[66]\tvalid_0's multi_logloss: 0.512884\n",
      "[67]\tvalid_0's multi_logloss: 0.511604\n",
      "[68]\tvalid_0's multi_logloss: 0.51256\n",
      "[69]\tvalid_0's multi_logloss: 0.51195\n",
      "[70]\tvalid_0's multi_logloss: 0.512868\n",
      "[71]\tvalid_0's multi_logloss: 0.511704\n",
      "[72]\tvalid_0's multi_logloss: 0.512554\n",
      "Early stopping, best iteration is:\n",
      "[67]\tvalid_0's multi_logloss: 0.511604\n"
     ]
    },
    {
     "name": "stderr",
     "output_type": "stream",
     "text": [
      "/home/yoshitaka-i/anaconda3/envs/py36/lib/python3.6/site-packages/sklearn/preprocessing/label.py:151: DeprecationWarning: The truth value of an empty array is ambiguous. Returning False, but in future this will result in an error. Use `array.size > 0` to check that an array is not empty.\n",
      "  if diff:\n"
     ]
    },
    {
     "data": {
      "text/plain": [
       "0.8035714285714286"
      ]
     },
     "execution_count": 15,
     "metadata": {},
     "output_type": "execute_result"
    }
   ],
   "source": [
    "# define and fit\n",
    "start = time.time()\n",
    "gbm = lgb.LGBMClassifier(\n",
    "    objective='multiclass',\n",
    "    device = 'gpu',\n",
    "    gpu_device_id=0,\n",
    "    n_jobs=-1 \n",
    ")\n",
    "\n",
    "gbm.fit(\n",
    "    X_train, \n",
    "    y_train,\n",
    "    eval_set=[(X_test, y_test)],\n",
    "    early_stopping_rounds=5\n",
    ")\n",
    "elapsed_time = time.time() - start\n",
    "\n",
    "# save model to sav\n",
    "pickle.dump(gbm, open('../model/lgbm_HCD65_pos.sav', 'wb'))\n",
    "gbm.score(X_test, y_test)"
   ]
  },
  {
   "cell_type": "code",
   "execution_count": 16,
   "metadata": {},
   "outputs": [
    {
     "name": "stderr",
     "output_type": "stream",
     "text": [
      "/home/yoshitaka-i/anaconda3/envs/py36/lib/python3.6/site-packages/sklearn/preprocessing/label.py:151: DeprecationWarning: The truth value of an empty array is ambiguous. Returning False, but in future this will result in an error. Use `array.size > 0` to check that an array is not empty.\n",
      "  if diff:\n"
     ]
    }
   ],
   "source": [
    "# add result to list \n",
    "o['HCD65_Positive'] = [round(gbm.score(X_test, y_test)*100, 2)]\n",
    "d['HCD65_Positive'] = [elapsed_time]"
   ]
  },
  {
   "cell_type": "code",
   "execution_count": 17,
   "metadata": {},
   "outputs": [],
   "source": [
    "# load data \n",
    "with open('../data/HCD35_neg.pickle', mode='rb') as fp:\n",
    "    df = pickle.load(fp)"
   ]
  },
  {
   "cell_type": "code",
   "execution_count": 18,
   "metadata": {},
   "outputs": [],
   "source": [
    "# divide objective and target\n",
    "objective = df.Subclass\n",
    "le = preprocessing.LabelEncoder()\n",
    "objective = le.fit_transform(objective)\n",
    "\n",
    "features = df.drop('Subclass', axis=1)"
   ]
  },
  {
   "cell_type": "code",
   "execution_count": 19,
   "metadata": {},
   "outputs": [],
   "source": [
    "# train test split\n",
    "random_state=np.random.seed(42)\n",
    "X_train, X_test, y_train, y_test = train_test_split(\n",
    "    features, \n",
    "    objective,\n",
    "    test_size=0.2\n",
    ")"
   ]
  },
  {
   "cell_type": "code",
   "execution_count": 20,
   "metadata": {
    "scrolled": true
   },
   "outputs": [
    {
     "name": "stdout",
     "output_type": "stream",
     "text": [
      "[1]\tvalid_0's multi_logloss: 1.30076\n",
      "Training until validation scores don't improve for 5 rounds.\n",
      "[2]\tvalid_0's multi_logloss: 1.22521\n",
      "[3]\tvalid_0's multi_logloss: 1.16091\n",
      "[4]\tvalid_0's multi_logloss: 1.10669\n",
      "[5]\tvalid_0's multi_logloss: 1.06334\n",
      "[6]\tvalid_0's multi_logloss: 1.01917\n",
      "[7]\tvalid_0's multi_logloss: 0.984907\n",
      "[8]\tvalid_0's multi_logloss: 0.955254\n",
      "[9]\tvalid_0's multi_logloss: 0.927405\n",
      "[10]\tvalid_0's multi_logloss: 0.905561\n",
      "[11]\tvalid_0's multi_logloss: 0.881258\n",
      "[12]\tvalid_0's multi_logloss: 0.863965\n",
      "[13]\tvalid_0's multi_logloss: 0.844037\n",
      "[14]\tvalid_0's multi_logloss: 0.827342\n",
      "[15]\tvalid_0's multi_logloss: 0.807751\n",
      "[16]\tvalid_0's multi_logloss: 0.79317\n",
      "[17]\tvalid_0's multi_logloss: 0.777888\n",
      "[18]\tvalid_0's multi_logloss: 0.765467\n",
      "[19]\tvalid_0's multi_logloss: 0.756628\n",
      "[20]\tvalid_0's multi_logloss: 0.743159\n",
      "[21]\tvalid_0's multi_logloss: 0.731933\n",
      "[22]\tvalid_0's multi_logloss: 0.723997\n",
      "[23]\tvalid_0's multi_logloss: 0.715227\n",
      "[24]\tvalid_0's multi_logloss: 0.706639\n",
      "[25]\tvalid_0's multi_logloss: 0.702294\n",
      "[26]\tvalid_0's multi_logloss: 0.689635\n",
      "[27]\tvalid_0's multi_logloss: 0.687144\n",
      "[28]\tvalid_0's multi_logloss: 0.681259\n",
      "[29]\tvalid_0's multi_logloss: 0.674336\n",
      "[30]\tvalid_0's multi_logloss: 0.668793\n",
      "[31]\tvalid_0's multi_logloss: 0.662476\n",
      "[32]\tvalid_0's multi_logloss: 0.658689\n",
      "[33]\tvalid_0's multi_logloss: 0.652417\n",
      "[34]\tvalid_0's multi_logloss: 0.646874\n",
      "[35]\tvalid_0's multi_logloss: 0.643051\n",
      "[36]\tvalid_0's multi_logloss: 0.641921\n",
      "[37]\tvalid_0's multi_logloss: 0.638737\n",
      "[38]\tvalid_0's multi_logloss: 0.638867\n",
      "[39]\tvalid_0's multi_logloss: 0.635127\n",
      "[40]\tvalid_0's multi_logloss: 0.633721\n",
      "[41]\tvalid_0's multi_logloss: 0.629375\n",
      "[42]\tvalid_0's multi_logloss: 0.625561\n",
      "[43]\tvalid_0's multi_logloss: 0.620539\n",
      "[44]\tvalid_0's multi_logloss: 0.617517\n",
      "[45]\tvalid_0's multi_logloss: 0.613308\n",
      "[46]\tvalid_0's multi_logloss: 0.612814\n",
      "[47]\tvalid_0's multi_logloss: 0.607298\n",
      "[48]\tvalid_0's multi_logloss: 0.608347\n",
      "[49]\tvalid_0's multi_logloss: 0.603823\n",
      "[50]\tvalid_0's multi_logloss: 0.600708\n",
      "[51]\tvalid_0's multi_logloss: 0.601966\n",
      "[52]\tvalid_0's multi_logloss: 0.601254\n",
      "[53]\tvalid_0's multi_logloss: 0.601708\n",
      "[54]\tvalid_0's multi_logloss: 0.599208\n",
      "[55]\tvalid_0's multi_logloss: 0.596787\n",
      "[56]\tvalid_0's multi_logloss: 0.594701\n",
      "[57]\tvalid_0's multi_logloss: 0.595631\n",
      "[58]\tvalid_0's multi_logloss: 0.598047\n",
      "[59]\tvalid_0's multi_logloss: 0.598034\n",
      "[60]\tvalid_0's multi_logloss: 0.598715\n",
      "[61]\tvalid_0's multi_logloss: 0.598333\n",
      "Early stopping, best iteration is:\n",
      "[56]\tvalid_0's multi_logloss: 0.594701\n"
     ]
    },
    {
     "name": "stderr",
     "output_type": "stream",
     "text": [
      "/home/yoshitaka-i/anaconda3/envs/py36/lib/python3.6/site-packages/sklearn/preprocessing/label.py:151: DeprecationWarning: The truth value of an empty array is ambiguous. Returning False, but in future this will result in an error. Use `array.size > 0` to check that an array is not empty.\n",
      "  if diff:\n"
     ]
    },
    {
     "data": {
      "text/plain": [
       "0.7340425531914894"
      ]
     },
     "execution_count": 20,
     "metadata": {},
     "output_type": "execute_result"
    }
   ],
   "source": [
    "# define and fit\n",
    "start = time.time()\n",
    "gbm = lgb.LGBMClassifier(\n",
    "    objective='multiclass',\n",
    "    device = 'gpu',\n",
    "    gpu_device_id=0,\n",
    "    n_jobs=-1 \n",
    ")\n",
    "\n",
    "gbm.fit(\n",
    "    X_train, \n",
    "    y_train,\n",
    "    eval_set=[(X_test, y_test)],\n",
    "    early_stopping_rounds=5\n",
    ")\n",
    "elapsed_time = time.time() - start\n",
    "# save model to sav\n",
    "pickle.dump(gbm, open('../model/lgbm_HCD35_neg.sav', 'wb'))\n",
    "gbm.score(X_test, y_test)"
   ]
  },
  {
   "cell_type": "code",
   "execution_count": 21,
   "metadata": {},
   "outputs": [
    {
     "name": "stderr",
     "output_type": "stream",
     "text": [
      "/home/yoshitaka-i/anaconda3/envs/py36/lib/python3.6/site-packages/sklearn/preprocessing/label.py:151: DeprecationWarning: The truth value of an empty array is ambiguous. Returning False, but in future this will result in an error. Use `array.size > 0` to check that an array is not empty.\n",
      "  if diff:\n"
     ]
    }
   ],
   "source": [
    "# result append to list\n",
    "o['HCD35_Negative'] = [round(gbm.score(X_test, y_test)*100, 2)]\n",
    "d['HCD35_Negative'] = [elapsed_time]"
   ]
  },
  {
   "cell_type": "code",
   "execution_count": 22,
   "metadata": {},
   "outputs": [],
   "source": [
    "# load data\n",
    "with open('../data/HCD45_neg.pickle', mode='rb') as fp:\n",
    "    df = pickle.load(fp)"
   ]
  },
  {
   "cell_type": "code",
   "execution_count": 23,
   "metadata": {},
   "outputs": [],
   "source": [
    "# divide objective and target\n",
    "objective = df.Subclass\n",
    "le = preprocessing.LabelEncoder()\n",
    "objective = le.fit_transform(objective)\n",
    "\n",
    "features = df.drop('Subclass', axis=1)"
   ]
  },
  {
   "cell_type": "code",
   "execution_count": 24,
   "metadata": {},
   "outputs": [],
   "source": [
    "# train test split\n",
    "random_state=np.random.seed(42)\n",
    "X_train, X_test, y_train, y_test = train_test_split(\n",
    "    features, \n",
    "    objective,\n",
    "    test_size=0.2\n",
    ")"
   ]
  },
  {
   "cell_type": "code",
   "execution_count": 25,
   "metadata": {
    "scrolled": true
   },
   "outputs": [
    {
     "name": "stdout",
     "output_type": "stream",
     "text": [
      "[1]\tvalid_0's multi_logloss: 1.30802\n",
      "Training until validation scores don't improve for 5 rounds.\n",
      "[2]\tvalid_0's multi_logloss: 1.24697\n",
      "[3]\tvalid_0's multi_logloss: 1.19617\n",
      "[4]\tvalid_0's multi_logloss: 1.152\n",
      "[5]\tvalid_0's multi_logloss: 1.1143\n",
      "[6]\tvalid_0's multi_logloss: 1.07895\n",
      "[7]\tvalid_0's multi_logloss: 1.04932\n",
      "[8]\tvalid_0's multi_logloss: 1.02542\n",
      "[9]\tvalid_0's multi_logloss: 1.00082\n",
      "[10]\tvalid_0's multi_logloss: 0.978054\n",
      "[11]\tvalid_0's multi_logloss: 0.952186\n",
      "[12]\tvalid_0's multi_logloss: 0.929902\n",
      "[13]\tvalid_0's multi_logloss: 0.911323\n",
      "[14]\tvalid_0's multi_logloss: 0.8953\n",
      "[15]\tvalid_0's multi_logloss: 0.876641\n",
      "[16]\tvalid_0's multi_logloss: 0.863211\n",
      "[17]\tvalid_0's multi_logloss: 0.847697\n",
      "[18]\tvalid_0's multi_logloss: 0.833415\n",
      "[19]\tvalid_0's multi_logloss: 0.824735\n",
      "[20]\tvalid_0's multi_logloss: 0.815683\n",
      "[21]\tvalid_0's multi_logloss: 0.804287\n",
      "[22]\tvalid_0's multi_logloss: 0.797426\n",
      "[23]\tvalid_0's multi_logloss: 0.792776\n",
      "[24]\tvalid_0's multi_logloss: 0.784482\n",
      "[25]\tvalid_0's multi_logloss: 0.777517\n",
      "[26]\tvalid_0's multi_logloss: 0.768818\n",
      "[27]\tvalid_0's multi_logloss: 0.764207\n",
      "[28]\tvalid_0's multi_logloss: 0.759289\n",
      "[29]\tvalid_0's multi_logloss: 0.751664\n",
      "[30]\tvalid_0's multi_logloss: 0.744831\n",
      "[31]\tvalid_0's multi_logloss: 0.739968\n",
      "[32]\tvalid_0's multi_logloss: 0.733946\n",
      "[33]\tvalid_0's multi_logloss: 0.728514\n",
      "[34]\tvalid_0's multi_logloss: 0.723633\n",
      "[35]\tvalid_0's multi_logloss: 0.719773\n",
      "[36]\tvalid_0's multi_logloss: 0.720436\n",
      "[37]\tvalid_0's multi_logloss: 0.716187\n",
      "[38]\tvalid_0's multi_logloss: 0.710103\n",
      "[39]\tvalid_0's multi_logloss: 0.706357\n",
      "[40]\tvalid_0's multi_logloss: 0.706452\n",
      "[41]\tvalid_0's multi_logloss: 0.704435\n",
      "[42]\tvalid_0's multi_logloss: 0.701842\n",
      "[43]\tvalid_0's multi_logloss: 0.699516\n",
      "[44]\tvalid_0's multi_logloss: 0.696425\n",
      "[45]\tvalid_0's multi_logloss: 0.697112\n",
      "[46]\tvalid_0's multi_logloss: 0.694069\n",
      "[47]\tvalid_0's multi_logloss: 0.695299\n",
      "[48]\tvalid_0's multi_logloss: 0.698893\n",
      "[49]\tvalid_0's multi_logloss: 0.698392\n",
      "[50]\tvalid_0's multi_logloss: 0.698438\n",
      "[51]\tvalid_0's multi_logloss: 0.698884\n",
      "Early stopping, best iteration is:\n",
      "[46]\tvalid_0's multi_logloss: 0.694069\n"
     ]
    },
    {
     "name": "stderr",
     "output_type": "stream",
     "text": [
      "/home/yoshitaka-i/anaconda3/envs/py36/lib/python3.6/site-packages/sklearn/preprocessing/label.py:151: DeprecationWarning: The truth value of an empty array is ambiguous. Returning False, but in future this will result in an error. Use `array.size > 0` to check that an array is not empty.\n",
      "  if diff:\n"
     ]
    },
    {
     "data": {
      "text/plain": [
       "0.7021276595744681"
      ]
     },
     "execution_count": 25,
     "metadata": {},
     "output_type": "execute_result"
    }
   ],
   "source": [
    "# define and fit\n",
    "start = time.time()\n",
    "gbm = lgb.LGBMClassifier(\n",
    "    objective='multiclass',\n",
    "    device = 'gpu',\n",
    "    gpu_device_id=0,\n",
    "    n_jobs=-1 \n",
    ")\n",
    "\n",
    "gbm.fit(\n",
    "    X_train, \n",
    "    y_train,\n",
    "    eval_set=[(X_test, y_test)],\n",
    "    early_stopping_rounds=5\n",
    ")\n",
    "elapsed_time = time.time() - start\n",
    "\n",
    "# save model to sav\n",
    "pickle.dump(gbm, open('../model/lgbm_HCD45_neg.sav', 'wb'))\n",
    "gbm.score(X_test, y_test)"
   ]
  },
  {
   "cell_type": "code",
   "execution_count": 26,
   "metadata": {},
   "outputs": [
    {
     "name": "stderr",
     "output_type": "stream",
     "text": [
      "/home/yoshitaka-i/anaconda3/envs/py36/lib/python3.6/site-packages/sklearn/preprocessing/label.py:151: DeprecationWarning: The truth value of an empty array is ambiguous. Returning False, but in future this will result in an error. Use `array.size > 0` to check that an array is not empty.\n",
      "  if diff:\n"
     ]
    }
   ],
   "source": [
    "# result append to list\n",
    "o['HCD45_Negative'] = [round(gbm.score(X_test, y_test)*100, 2)]\n",
    "d['HCD45_Negative'] = [elapsed_time]"
   ]
  },
  {
   "cell_type": "code",
   "execution_count": 27,
   "metadata": {},
   "outputs": [],
   "source": [
    "# load data\n",
    "with open('../data/HCD65_neg.pickle', mode='rb') as fp:\n",
    "    df = pickle.load(fp)"
   ]
  },
  {
   "cell_type": "code",
   "execution_count": 28,
   "metadata": {},
   "outputs": [],
   "source": [
    "# divide objective and target\n",
    "objective = df.Subclass\n",
    "le = preprocessing.LabelEncoder()\n",
    "objective = le.fit_transform(objective)\n",
    "\n",
    "features = df.drop('Subclass', axis=1)"
   ]
  },
  {
   "cell_type": "code",
   "execution_count": 29,
   "metadata": {},
   "outputs": [],
   "source": [
    "# train test split\n",
    "random_state=np.random.seed(42)\n",
    "X_train, X_test, y_train, y_test = train_test_split(\n",
    "    features, \n",
    "    objective,\n",
    "    test_size=0.2\n",
    ")"
   ]
  },
  {
   "cell_type": "code",
   "execution_count": 30,
   "metadata": {
    "scrolled": true
   },
   "outputs": [
    {
     "name": "stdout",
     "output_type": "stream",
     "text": [
      "[1]\tvalid_0's multi_logloss: 1.30826\n",
      "Training until validation scores don't improve for 5 rounds.\n",
      "[2]\tvalid_0's multi_logloss: 1.24177\n",
      "[3]\tvalid_0's multi_logloss: 1.18825\n",
      "[4]\tvalid_0's multi_logloss: 1.14339\n",
      "[5]\tvalid_0's multi_logloss: 1.10488\n",
      "[6]\tvalid_0's multi_logloss: 1.06876\n",
      "[7]\tvalid_0's multi_logloss: 1.04488\n",
      "[8]\tvalid_0's multi_logloss: 1.02053\n",
      "[9]\tvalid_0's multi_logloss: 0.994713\n",
      "[10]\tvalid_0's multi_logloss: 0.975622\n",
      "[11]\tvalid_0's multi_logloss: 0.959097\n",
      "[12]\tvalid_0's multi_logloss: 0.946242\n",
      "[13]\tvalid_0's multi_logloss: 0.93064\n",
      "[14]\tvalid_0's multi_logloss: 0.915976\n",
      "[15]\tvalid_0's multi_logloss: 0.908088\n",
      "[16]\tvalid_0's multi_logloss: 0.895834\n",
      "[17]\tvalid_0's multi_logloss: 0.883615\n",
      "[18]\tvalid_0's multi_logloss: 0.878021\n",
      "[19]\tvalid_0's multi_logloss: 0.868379\n",
      "[20]\tvalid_0's multi_logloss: 0.863698\n",
      "[21]\tvalid_0's multi_logloss: 0.854834\n",
      "[22]\tvalid_0's multi_logloss: 0.848577\n",
      "[23]\tvalid_0's multi_logloss: 0.842967\n",
      "[24]\tvalid_0's multi_logloss: 0.835559\n",
      "[25]\tvalid_0's multi_logloss: 0.828511\n",
      "[26]\tvalid_0's multi_logloss: 0.818546\n",
      "[27]\tvalid_0's multi_logloss: 0.813424\n",
      "[28]\tvalid_0's multi_logloss: 0.809921\n",
      "[29]\tvalid_0's multi_logloss: 0.805949\n",
      "[30]\tvalid_0's multi_logloss: 0.800205\n",
      "[31]\tvalid_0's multi_logloss: 0.794121\n",
      "[32]\tvalid_0's multi_logloss: 0.790368\n",
      "[33]\tvalid_0's multi_logloss: 0.786754\n",
      "[34]\tvalid_0's multi_logloss: 0.781211\n",
      "[35]\tvalid_0's multi_logloss: 0.779358\n",
      "[36]\tvalid_0's multi_logloss: 0.774729\n",
      "[37]\tvalid_0's multi_logloss: 0.77184\n",
      "[38]\tvalid_0's multi_logloss: 0.764968\n",
      "[39]\tvalid_0's multi_logloss: 0.759462\n",
      "[40]\tvalid_0's multi_logloss: 0.755394\n",
      "[41]\tvalid_0's multi_logloss: 0.756791\n",
      "[42]\tvalid_0's multi_logloss: 0.752327\n",
      "[43]\tvalid_0's multi_logloss: 0.750943\n",
      "[44]\tvalid_0's multi_logloss: 0.753784\n",
      "[45]\tvalid_0's multi_logloss: 0.752142\n",
      "[46]\tvalid_0's multi_logloss: 0.75055\n",
      "[47]\tvalid_0's multi_logloss: 0.749128\n",
      "[48]\tvalid_0's multi_logloss: 0.747831\n",
      "[49]\tvalid_0's multi_logloss: 0.749255\n",
      "[50]\tvalid_0's multi_logloss: 0.751246\n",
      "[51]\tvalid_0's multi_logloss: 0.74805\n",
      "[52]\tvalid_0's multi_logloss: 0.750656\n",
      "[53]\tvalid_0's multi_logloss: 0.750947\n",
      "Early stopping, best iteration is:\n",
      "[48]\tvalid_0's multi_logloss: 0.747831\n"
     ]
    },
    {
     "name": "stderr",
     "output_type": "stream",
     "text": [
      "/home/yoshitaka-i/anaconda3/envs/py36/lib/python3.6/site-packages/sklearn/preprocessing/label.py:151: DeprecationWarning: The truth value of an empty array is ambiguous. Returning False, but in future this will result in an error. Use `array.size > 0` to check that an array is not empty.\n",
      "  if diff:\n"
     ]
    },
    {
     "data": {
      "text/plain": [
       "0.6808510638297872"
      ]
     },
     "execution_count": 30,
     "metadata": {},
     "output_type": "execute_result"
    }
   ],
   "source": [
    "# define and fit\n",
    "start = time.time()\n",
    "gbm = lgb.LGBMClassifier(\n",
    "    objective='multiclass',\n",
    "    device = 'gpu',\n",
    "    gpu_device_id=0,\n",
    "    n_jobs=-1 \n",
    ")\n",
    "\n",
    "gbm.fit(\n",
    "    X_train, \n",
    "    y_train,\n",
    "    eval_set=[(X_test, y_test)],\n",
    "    early_stopping_rounds=5\n",
    ")\n",
    "elapsed_time = time.time() - start\n",
    "\n",
    "# save model to sav\n",
    "pickle.dump(gbm, open('../model/lgbm_HCD65_neg.sav', 'wb'))\n",
    "gbm.score(X_test, y_test)"
   ]
  },
  {
   "cell_type": "code",
   "execution_count": 31,
   "metadata": {},
   "outputs": [
    {
     "name": "stderr",
     "output_type": "stream",
     "text": [
      "/home/yoshitaka-i/anaconda3/envs/py36/lib/python3.6/site-packages/sklearn/preprocessing/label.py:151: DeprecationWarning: The truth value of an empty array is ambiguous. Returning False, but in future this will result in an error. Use `array.size > 0` to check that an array is not empty.\n",
      "  if diff:\n"
     ]
    }
   ],
   "source": [
    "# result append to list\n",
    "o['HCD65_Negative'] = [round(gbm.score(X_test, y_test)*100, 2)]\n",
    "d['HCD65_Negative'] = [elapsed_time]"
   ]
  },
  {
   "cell_type": "code",
   "execution_count": 32,
   "metadata": {},
   "outputs": [],
   "source": [
    "# change result list to Dataframe\n",
    "g = pd.concat([pd.DataFrame(o).T, pd.DataFrame(d).T], axis=1)\n",
    "g.columns = ['Accuracy', 'Time']"
   ]
  },
  {
   "cell_type": "code",
   "execution_count": 33,
   "metadata": {},
   "outputs": [],
   "source": [
    "# dataframe to csv\n",
    "g.to_csv('../result/LightGBM.csv')"
   ]
  }
 ],
 "metadata": {
  "kernelspec": {
   "display_name": "py36",
   "language": "python",
   "name": "py36"
  },
  "language_info": {
   "codemirror_mode": {
    "name": "ipython",
    "version": 3
   },
   "file_extension": ".py",
   "mimetype": "text/x-python",
   "name": "python",
   "nbconvert_exporter": "python",
   "pygments_lexer": "ipython3",
   "version": "3.6.5"
  }
 },
 "nbformat": 4,
 "nbformat_minor": 2
}
