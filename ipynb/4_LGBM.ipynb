{
 "cells": [
  {
   "cell_type": "code",
   "execution_count": 1,
   "metadata": {},
   "outputs": [],
   "source": [
    "import pickle\n",
    "import pandas as pd\n",
    "import numpy as np\n",
    "import time\n",
    "\n",
    "import xgboost as xgb\n",
    "import lightgbm as lgb\n",
    "\n",
    "from sklearn.ensemble import RandomForestClassifier as rf\n",
    "from sklearn.metrics import mean_squared_error\n",
    "from sklearn.model_selection import train_test_split\n",
    "from sklearn.metrics import confusion_matrix\n",
    "from sklearn.model_selection import GridSearchCV\n",
    "from sklearn import preprocessing"
   ]
  },
  {
   "cell_type": "code",
   "execution_count": 2,
   "metadata": {},
   "outputs": [],
   "source": [
    "# load data\n",
    "with open('../data/HCD35_pos.pickle', mode='rb') as fp:\n",
    "    df = pickle.load(fp)"
   ]
  },
  {
   "cell_type": "code",
   "execution_count": 3,
   "metadata": {},
   "outputs": [],
   "source": [
    "# divide objective and target\n",
    "objective = df.Subclass\n",
    "le = preprocessing.LabelEncoder()\n",
    "objective = le.fit_transform(objective)\n",
    "\n",
    "features = df.drop('Subclass', axis=1)"
   ]
  },
  {
   "cell_type": "code",
   "execution_count": 4,
   "metadata": {},
   "outputs": [],
   "source": [
    "# train test split\n",
    "random_state=np.random.seed(42)\n",
    "X_train, X_test, y_train, y_test = train_test_split(\n",
    "    features, \n",
    "    objective,\n",
    "    test_size=0.2\n",
    ")"
   ]
  },
  {
   "cell_type": "code",
   "execution_count": 5,
   "metadata": {
    "scrolled": true
   },
   "outputs": [
    {
     "name": "stdout",
     "output_type": "stream",
     "text": [
      "[1]\tvalid_0's multi_logloss: 1.29145\n",
      "Training until validation scores don't improve for 5 rounds.\n",
      "[2]\tvalid_0's multi_logloss: 1.21452\n",
      "[3]\tvalid_0's multi_logloss: 1.15349\n",
      "[4]\tvalid_0's multi_logloss: 1.09672\n",
      "[5]\tvalid_0's multi_logloss: 1.0431\n",
      "[6]\tvalid_0's multi_logloss: 0.998805\n",
      "[7]\tvalid_0's multi_logloss: 0.95841\n",
      "[8]\tvalid_0's multi_logloss: 0.920596\n",
      "[9]\tvalid_0's multi_logloss: 0.884825\n",
      "[10]\tvalid_0's multi_logloss: 0.853762\n",
      "[11]\tvalid_0's multi_logloss: 0.826719\n",
      "[12]\tvalid_0's multi_logloss: 0.801118\n",
      "[13]\tvalid_0's multi_logloss: 0.77689\n",
      "[14]\tvalid_0's multi_logloss: 0.754615\n",
      "[15]\tvalid_0's multi_logloss: 0.732416\n",
      "[16]\tvalid_0's multi_logloss: 0.713303\n",
      "[17]\tvalid_0's multi_logloss: 0.695325\n",
      "[18]\tvalid_0's multi_logloss: 0.677302\n",
      "[19]\tvalid_0's multi_logloss: 0.662247\n",
      "[20]\tvalid_0's multi_logloss: 0.647124\n",
      "[21]\tvalid_0's multi_logloss: 0.634954\n",
      "[22]\tvalid_0's multi_logloss: 0.621245\n",
      "[23]\tvalid_0's multi_logloss: 0.610886\n",
      "[24]\tvalid_0's multi_logloss: 0.60054\n",
      "[25]\tvalid_0's multi_logloss: 0.590575\n",
      "[26]\tvalid_0's multi_logloss: 0.578822\n",
      "[27]\tvalid_0's multi_logloss: 0.568975\n",
      "[28]\tvalid_0's multi_logloss: 0.560759\n",
      "[29]\tvalid_0's multi_logloss: 0.555301\n",
      "[30]\tvalid_0's multi_logloss: 0.548298\n",
      "[31]\tvalid_0's multi_logloss: 0.54034\n",
      "[32]\tvalid_0's multi_logloss: 0.531719\n",
      "[33]\tvalid_0's multi_logloss: 0.525442\n",
      "[34]\tvalid_0's multi_logloss: 0.518855\n",
      "[35]\tvalid_0's multi_logloss: 0.513169\n",
      "[36]\tvalid_0's multi_logloss: 0.50585\n",
      "[37]\tvalid_0's multi_logloss: 0.499639\n",
      "[38]\tvalid_0's multi_logloss: 0.494913\n",
      "[39]\tvalid_0's multi_logloss: 0.489444\n",
      "[40]\tvalid_0's multi_logloss: 0.483148\n",
      "[41]\tvalid_0's multi_logloss: 0.479818\n",
      "[42]\tvalid_0's multi_logloss: 0.476226\n",
      "[43]\tvalid_0's multi_logloss: 0.472417\n",
      "[44]\tvalid_0's multi_logloss: 0.467373\n",
      "[45]\tvalid_0's multi_logloss: 0.466133\n",
      "[46]\tvalid_0's multi_logloss: 0.464707\n",
      "[47]\tvalid_0's multi_logloss: 0.463674\n",
      "[48]\tvalid_0's multi_logloss: 0.460451\n",
      "[49]\tvalid_0's multi_logloss: 0.455822\n",
      "[50]\tvalid_0's multi_logloss: 0.45201\n",
      "[51]\tvalid_0's multi_logloss: 0.448113\n",
      "[52]\tvalid_0's multi_logloss: 0.446636\n",
      "[53]\tvalid_0's multi_logloss: 0.443009\n",
      "[54]\tvalid_0's multi_logloss: 0.442257\n",
      "[55]\tvalid_0's multi_logloss: 0.439672\n",
      "[56]\tvalid_0's multi_logloss: 0.438417\n",
      "[57]\tvalid_0's multi_logloss: 0.435905\n",
      "[58]\tvalid_0's multi_logloss: 0.432937\n",
      "[59]\tvalid_0's multi_logloss: 0.430622\n",
      "[60]\tvalid_0's multi_logloss: 0.429295\n",
      "[61]\tvalid_0's multi_logloss: 0.427925\n",
      "[62]\tvalid_0's multi_logloss: 0.42695\n",
      "[63]\tvalid_0's multi_logloss: 0.425209\n",
      "[64]\tvalid_0's multi_logloss: 0.425643\n",
      "[65]\tvalid_0's multi_logloss: 0.423449\n",
      "[66]\tvalid_0's multi_logloss: 0.422153\n",
      "[67]\tvalid_0's multi_logloss: 0.423568\n",
      "[68]\tvalid_0's multi_logloss: 0.423922\n",
      "[69]\tvalid_0's multi_logloss: 0.421914\n",
      "[70]\tvalid_0's multi_logloss: 0.42067\n",
      "[71]\tvalid_0's multi_logloss: 0.419152\n",
      "[72]\tvalid_0's multi_logloss: 0.419602\n",
      "[73]\tvalid_0's multi_logloss: 0.417847\n",
      "[74]\tvalid_0's multi_logloss: 0.417723\n",
      "[75]\tvalid_0's multi_logloss: 0.415644\n",
      "[76]\tvalid_0's multi_logloss: 0.416914\n",
      "[77]\tvalid_0's multi_logloss: 0.415436\n",
      "[78]\tvalid_0's multi_logloss: 0.414708\n",
      "[79]\tvalid_0's multi_logloss: 0.414715\n",
      "[80]\tvalid_0's multi_logloss: 0.416095\n",
      "[81]\tvalid_0's multi_logloss: 0.41663\n",
      "[82]\tvalid_0's multi_logloss: 0.416552\n",
      "[83]\tvalid_0's multi_logloss: 0.41715\n",
      "Early stopping, best iteration is:\n",
      "[78]\tvalid_0's multi_logloss: 0.414708\n"
     ]
    }
   ],
   "source": [
    "# define and fit\n",
    "start = time.time()\n",
    "gbm = lgb.LGBMClassifier(\n",
    "    objective='multiclass',\n",
    "    device = 'gpu'\n",
    ")\n",
    "\n",
    "gbm.fit(\n",
    "    X_train, \n",
    "    y_train,\n",
    "    eval_set=[(X_test, y_test)],\n",
    "    early_stopping_rounds=5\n",
    ")\n",
    "elapsed_time = time.time() - start\n",
    "\n",
    "# save model to sav\n",
    "pickle.dump(gbm, open('../model/lgbm_HCD35_pos.sav', 'wb'))"
   ]
  },
  {
   "cell_type": "code",
   "execution_count": 6,
   "metadata": {},
   "outputs": [
    {
     "name": "stderr",
     "output_type": "stream",
     "text": [
      "/home/yoshitaka-i/anaconda3/envs/py36/lib/python3.6/site-packages/sklearn/preprocessing/label.py:151: DeprecationWarning: The truth value of an empty array is ambiguous. Returning False, but in future this will result in an error. Use `array.size > 0` to check that an array is not empty.\n",
      "  if diff:\n"
     ]
    }
   ],
   "source": [
    "# add result to list \n",
    "o = {}\n",
    "d = {}\n",
    "o['HCD35_Positive'] = [round(gbm.score(X_test, y_test)*100, 2)]\n",
    "d['HCD35_Positive'] = [elapsed_time]"
   ]
  },
  {
   "cell_type": "code",
   "execution_count": 7,
   "metadata": {},
   "outputs": [],
   "source": [
    "# load data\n",
    "with open('../data/HCD45_pos.pickle', mode='rb') as fp:\n",
    "    df = pickle.load(fp)"
   ]
  },
  {
   "cell_type": "code",
   "execution_count": 8,
   "metadata": {},
   "outputs": [],
   "source": [
    "# divide objective and target\n",
    "objective = df.Subclass\n",
    "le = preprocessing.LabelEncoder()\n",
    "objective = le.fit_transform(objective)\n",
    "\n",
    "features = df.drop('Subclass', axis=1)"
   ]
  },
  {
   "cell_type": "code",
   "execution_count": 9,
   "metadata": {},
   "outputs": [],
   "source": [
    "# train test split\n",
    "random_state=np.random.seed(42)\n",
    "X_train, X_test, y_train, y_test = train_test_split(\n",
    "    features, \n",
    "    objective,\n",
    "    test_size=0.2\n",
    ")"
   ]
  },
  {
   "cell_type": "code",
   "execution_count": 10,
   "metadata": {
    "scrolled": true
   },
   "outputs": [
    {
     "name": "stdout",
     "output_type": "stream",
     "text": [
      "[1]\tvalid_0's multi_logloss: 1.29231\n",
      "Training until validation scores don't improve for 5 rounds.\n",
      "[2]\tvalid_0's multi_logloss: 1.22042\n",
      "[3]\tvalid_0's multi_logloss: 1.15753\n",
      "[4]\tvalid_0's multi_logloss: 1.10521\n",
      "[5]\tvalid_0's multi_logloss: 1.05425\n",
      "[6]\tvalid_0's multi_logloss: 1.01231\n",
      "[7]\tvalid_0's multi_logloss: 0.971323\n",
      "[8]\tvalid_0's multi_logloss: 0.935824\n",
      "[9]\tvalid_0's multi_logloss: 0.904738\n",
      "[10]\tvalid_0's multi_logloss: 0.874338\n",
      "[11]\tvalid_0's multi_logloss: 0.84627\n",
      "[12]\tvalid_0's multi_logloss: 0.822351\n",
      "[13]\tvalid_0's multi_logloss: 0.798687\n",
      "[14]\tvalid_0's multi_logloss: 0.77794\n",
      "[15]\tvalid_0's multi_logloss: 0.755831\n",
      "[16]\tvalid_0's multi_logloss: 0.737584\n",
      "[17]\tvalid_0's multi_logloss: 0.721276\n",
      "[18]\tvalid_0's multi_logloss: 0.706691\n",
      "[19]\tvalid_0's multi_logloss: 0.690798\n",
      "[20]\tvalid_0's multi_logloss: 0.678481\n",
      "[21]\tvalid_0's multi_logloss: 0.662982\n",
      "[22]\tvalid_0's multi_logloss: 0.65058\n",
      "[23]\tvalid_0's multi_logloss: 0.639487\n",
      "[24]\tvalid_0's multi_logloss: 0.630735\n",
      "[25]\tvalid_0's multi_logloss: 0.622648\n",
      "[26]\tvalid_0's multi_logloss: 0.615154\n",
      "[27]\tvalid_0's multi_logloss: 0.610165\n",
      "[28]\tvalid_0's multi_logloss: 0.601703\n",
      "[29]\tvalid_0's multi_logloss: 0.596579\n",
      "[30]\tvalid_0's multi_logloss: 0.589569\n",
      "[31]\tvalid_0's multi_logloss: 0.581691\n",
      "[32]\tvalid_0's multi_logloss: 0.577091\n",
      "[33]\tvalid_0's multi_logloss: 0.573089\n",
      "[34]\tvalid_0's multi_logloss: 0.569132\n",
      "[35]\tvalid_0's multi_logloss: 0.565837\n",
      "[36]\tvalid_0's multi_logloss: 0.558842\n",
      "[37]\tvalid_0's multi_logloss: 0.553256\n",
      "[38]\tvalid_0's multi_logloss: 0.549126\n",
      "[39]\tvalid_0's multi_logloss: 0.545887\n",
      "[40]\tvalid_0's multi_logloss: 0.542602\n",
      "[41]\tvalid_0's multi_logloss: 0.537817\n",
      "[42]\tvalid_0's multi_logloss: 0.534116\n",
      "[43]\tvalid_0's multi_logloss: 0.530395\n",
      "[44]\tvalid_0's multi_logloss: 0.526378\n",
      "[45]\tvalid_0's multi_logloss: 0.524177\n",
      "[46]\tvalid_0's multi_logloss: 0.520151\n",
      "[47]\tvalid_0's multi_logloss: 0.518448\n",
      "[48]\tvalid_0's multi_logloss: 0.515886\n",
      "[49]\tvalid_0's multi_logloss: 0.513774\n",
      "[50]\tvalid_0's multi_logloss: 0.510178\n",
      "[51]\tvalid_0's multi_logloss: 0.507281\n",
      "[52]\tvalid_0's multi_logloss: 0.504931\n",
      "[53]\tvalid_0's multi_logloss: 0.501723\n",
      "[54]\tvalid_0's multi_logloss: 0.500139\n",
      "[55]\tvalid_0's multi_logloss: 0.496097\n",
      "[56]\tvalid_0's multi_logloss: 0.494609\n",
      "[57]\tvalid_0's multi_logloss: 0.493178\n",
      "[58]\tvalid_0's multi_logloss: 0.492535\n",
      "[59]\tvalid_0's multi_logloss: 0.492153\n",
      "[60]\tvalid_0's multi_logloss: 0.490528\n",
      "[61]\tvalid_0's multi_logloss: 0.49076\n",
      "[62]\tvalid_0's multi_logloss: 0.489585\n",
      "[63]\tvalid_0's multi_logloss: 0.487407\n",
      "[64]\tvalid_0's multi_logloss: 0.486686\n",
      "[65]\tvalid_0's multi_logloss: 0.486005\n",
      "[66]\tvalid_0's multi_logloss: 0.4844\n",
      "[67]\tvalid_0's multi_logloss: 0.482796\n",
      "[68]\tvalid_0's multi_logloss: 0.481883\n",
      "[69]\tvalid_0's multi_logloss: 0.481163\n",
      "[70]\tvalid_0's multi_logloss: 0.483513\n",
      "[71]\tvalid_0's multi_logloss: 0.481621\n",
      "[72]\tvalid_0's multi_logloss: 0.480439\n",
      "[73]\tvalid_0's multi_logloss: 0.482746\n",
      "[74]\tvalid_0's multi_logloss: 0.483559\n",
      "[75]\tvalid_0's multi_logloss: 0.482151\n",
      "[76]\tvalid_0's multi_logloss: 0.482004\n",
      "[77]\tvalid_0's multi_logloss: 0.481204\n",
      "Early stopping, best iteration is:\n",
      "[72]\tvalid_0's multi_logloss: 0.480439\n"
     ]
    },
    {
     "name": "stderr",
     "output_type": "stream",
     "text": [
      "/home/yoshitaka-i/anaconda3/envs/py36/lib/python3.6/site-packages/sklearn/preprocessing/label.py:151: DeprecationWarning: The truth value of an empty array is ambiguous. Returning False, but in future this will result in an error. Use `array.size > 0` to check that an array is not empty.\n",
      "  if diff:\n"
     ]
    },
    {
     "data": {
      "text/plain": [
       "0.8095238095238095"
      ]
     },
     "execution_count": 10,
     "metadata": {},
     "output_type": "execute_result"
    }
   ],
   "source": [
    "# define and fit\n",
    "start = time.time()\n",
    "gbm = lgb.LGBMClassifier(\n",
    "    objective='multiclass',\n",
    "    device = 'gpu'\n",
    ")\n",
    "\n",
    "gbm.fit(\n",
    "    X_train, \n",
    "    y_train,\n",
    "    eval_set=[(X_test, y_test)],\n",
    "    early_stopping_rounds=5\n",
    ")\n",
    "elapsed_time = time.time() - start\n",
    "\n",
    "# save model to sav\n",
    "pickle.dump(gbm, open('../model/lgbm_HCD45_pos.sav', 'wb'))\n",
    "\n",
    "gbm.score(X_test, y_test)"
   ]
  },
  {
   "cell_type": "code",
   "execution_count": 11,
   "metadata": {},
   "outputs": [
    {
     "name": "stderr",
     "output_type": "stream",
     "text": [
      "/home/yoshitaka-i/anaconda3/envs/py36/lib/python3.6/site-packages/sklearn/preprocessing/label.py:151: DeprecationWarning: The truth value of an empty array is ambiguous. Returning False, but in future this will result in an error. Use `array.size > 0` to check that an array is not empty.\n",
      "  if diff:\n"
     ]
    }
   ],
   "source": [
    "# add result to list \n",
    "o['HCD45_Positive'] = [round(gbm.score(X_test, y_test)*100, 2)]\n",
    "d['HCD45_Positive'] = [elapsed_time]"
   ]
  },
  {
   "cell_type": "code",
   "execution_count": 12,
   "metadata": {},
   "outputs": [],
   "source": [
    "# load data\n",
    "with open('../data/HCD65_pos.pickle', mode='rb') as fp:\n",
    "    df = pickle.load(fp)"
   ]
  },
  {
   "cell_type": "code",
   "execution_count": 13,
   "metadata": {},
   "outputs": [],
   "source": [
    "# divide objective and target\n",
    "objective = df.Subclass\n",
    "le = preprocessing.LabelEncoder()\n",
    "objective = le.fit_transform(objective)\n",
    "\n",
    "features = df.drop('Subclass', axis=1)"
   ]
  },
  {
   "cell_type": "code",
   "execution_count": 14,
   "metadata": {},
   "outputs": [],
   "source": [
    "# train test split\n",
    "random_state=np.random.seed(42)\n",
    "X_train, X_test, y_train, y_test = train_test_split(\n",
    "    features, \n",
    "    objective,\n",
    "    test_size=0.2\n",
    ")"
   ]
  },
  {
   "cell_type": "code",
   "execution_count": 15,
   "metadata": {
    "scrolled": true
   },
   "outputs": [
    {
     "name": "stdout",
     "output_type": "stream",
     "text": [
      "[1]\tvalid_0's multi_logloss: 1.2955\n",
      "Training until validation scores don't improve for 5 rounds.\n",
      "[2]\tvalid_0's multi_logloss: 1.22148\n",
      "[3]\tvalid_0's multi_logloss: 1.16028\n",
      "[4]\tvalid_0's multi_logloss: 1.10455\n",
      "[5]\tvalid_0's multi_logloss: 1.05653\n",
      "[6]\tvalid_0's multi_logloss: 1.01406\n",
      "[7]\tvalid_0's multi_logloss: 0.970731\n",
      "[8]\tvalid_0's multi_logloss: 0.933982\n",
      "[9]\tvalid_0's multi_logloss: 0.903184\n",
      "[10]\tvalid_0's multi_logloss: 0.872626\n",
      "[11]\tvalid_0's multi_logloss: 0.84513\n",
      "[12]\tvalid_0's multi_logloss: 0.823568\n",
      "[13]\tvalid_0's multi_logloss: 0.802257\n",
      "[14]\tvalid_0's multi_logloss: 0.780638\n",
      "[15]\tvalid_0's multi_logloss: 0.76031\n",
      "[16]\tvalid_0's multi_logloss: 0.745351\n",
      "[17]\tvalid_0's multi_logloss: 0.730881\n",
      "[18]\tvalid_0's multi_logloss: 0.71575\n",
      "[19]\tvalid_0's multi_logloss: 0.702996\n",
      "[20]\tvalid_0's multi_logloss: 0.691546\n",
      "[21]\tvalid_0's multi_logloss: 0.677026\n",
      "[22]\tvalid_0's multi_logloss: 0.666606\n",
      "[23]\tvalid_0's multi_logloss: 0.654689\n",
      "[24]\tvalid_0's multi_logloss: 0.64735\n",
      "[25]\tvalid_0's multi_logloss: 0.638477\n",
      "[26]\tvalid_0's multi_logloss: 0.630382\n",
      "[27]\tvalid_0's multi_logloss: 0.622439\n",
      "[28]\tvalid_0's multi_logloss: 0.61402\n",
      "[29]\tvalid_0's multi_logloss: 0.606332\n",
      "[30]\tvalid_0's multi_logloss: 0.603106\n",
      "[31]\tvalid_0's multi_logloss: 0.596299\n",
      "[32]\tvalid_0's multi_logloss: 0.591125\n",
      "[33]\tvalid_0's multi_logloss: 0.584486\n",
      "[34]\tvalid_0's multi_logloss: 0.579939\n",
      "[35]\tvalid_0's multi_logloss: 0.576068\n",
      "[36]\tvalid_0's multi_logloss: 0.5714\n",
      "[37]\tvalid_0's multi_logloss: 0.56716\n",
      "[38]\tvalid_0's multi_logloss: 0.563179\n",
      "[39]\tvalid_0's multi_logloss: 0.559578\n",
      "[40]\tvalid_0's multi_logloss: 0.554395\n",
      "[41]\tvalid_0's multi_logloss: 0.549766\n",
      "[42]\tvalid_0's multi_logloss: 0.546452\n",
      "[43]\tvalid_0's multi_logloss: 0.544778\n",
      "[44]\tvalid_0's multi_logloss: 0.543268\n",
      "[45]\tvalid_0's multi_logloss: 0.540348\n",
      "[46]\tvalid_0's multi_logloss: 0.536588\n",
      "[47]\tvalid_0's multi_logloss: 0.534096\n",
      "[48]\tvalid_0's multi_logloss: 0.532877\n",
      "[49]\tvalid_0's multi_logloss: 0.529705\n",
      "[50]\tvalid_0's multi_logloss: 0.528706\n",
      "[51]\tvalid_0's multi_logloss: 0.528435\n",
      "[52]\tvalid_0's multi_logloss: 0.525384\n",
      "[53]\tvalid_0's multi_logloss: 0.522572\n",
      "[54]\tvalid_0's multi_logloss: 0.522925\n",
      "[55]\tvalid_0's multi_logloss: 0.522368\n",
      "[56]\tvalid_0's multi_logloss: 0.521149\n",
      "[57]\tvalid_0's multi_logloss: 0.520381\n",
      "[58]\tvalid_0's multi_logloss: 0.521244\n",
      "[59]\tvalid_0's multi_logloss: 0.518755\n",
      "[60]\tvalid_0's multi_logloss: 0.519136\n",
      "[61]\tvalid_0's multi_logloss: 0.517423\n",
      "[62]\tvalid_0's multi_logloss: 0.517599\n",
      "[63]\tvalid_0's multi_logloss: 0.517227\n",
      "[64]\tvalid_0's multi_logloss: 0.516994\n",
      "[65]\tvalid_0's multi_logloss: 0.515343\n",
      "[66]\tvalid_0's multi_logloss: 0.513388\n",
      "[67]\tvalid_0's multi_logloss: 0.512624\n",
      "[68]\tvalid_0's multi_logloss: 0.510995\n",
      "[69]\tvalid_0's multi_logloss: 0.511385\n",
      "[70]\tvalid_0's multi_logloss: 0.508721\n",
      "[71]\tvalid_0's multi_logloss: 0.507747\n",
      "[72]\tvalid_0's multi_logloss: 0.506205\n",
      "[73]\tvalid_0's multi_logloss: 0.505779\n",
      "[74]\tvalid_0's multi_logloss: 0.505047\n",
      "[75]\tvalid_0's multi_logloss: 0.504824\n",
      "[76]\tvalid_0's multi_logloss: 0.503851\n",
      "[77]\tvalid_0's multi_logloss: 0.504215\n",
      "[78]\tvalid_0's multi_logloss: 0.506535\n",
      "[79]\tvalid_0's multi_logloss: 0.507848\n",
      "[80]\tvalid_0's multi_logloss: 0.506125\n",
      "[81]\tvalid_0's multi_logloss: 0.507204\n",
      "Early stopping, best iteration is:\n",
      "[76]\tvalid_0's multi_logloss: 0.503851\n"
     ]
    },
    {
     "name": "stderr",
     "output_type": "stream",
     "text": [
      "/home/yoshitaka-i/anaconda3/envs/py36/lib/python3.6/site-packages/sklearn/preprocessing/label.py:151: DeprecationWarning: The truth value of an empty array is ambiguous. Returning False, but in future this will result in an error. Use `array.size > 0` to check that an array is not empty.\n",
      "  if diff:\n"
     ]
    },
    {
     "data": {
      "text/plain": [
       "0.8005952380952381"
      ]
     },
     "execution_count": 15,
     "metadata": {},
     "output_type": "execute_result"
    }
   ],
   "source": [
    "# define and fit\n",
    "start = time.time()\n",
    "gbm = lgb.LGBMClassifier(\n",
    "    objective='multiclass',\n",
    "    device = 'gpu'\n",
    ")\n",
    "\n",
    "gbm.fit(\n",
    "    X_train, \n",
    "    y_train,\n",
    "    eval_set=[(X_test, y_test)],\n",
    "    early_stopping_rounds=5\n",
    ")\n",
    "elapsed_time = time.time() - start\n",
    "\n",
    "# save model to sav\n",
    "pickle.dump(gbm, open('../model/lgbm_HCD65_pos.sav', 'wb'))\n",
    "gbm.score(X_test, y_test)"
   ]
  },
  {
   "cell_type": "code",
   "execution_count": 16,
   "metadata": {},
   "outputs": [
    {
     "name": "stderr",
     "output_type": "stream",
     "text": [
      "/home/yoshitaka-i/anaconda3/envs/py36/lib/python3.6/site-packages/sklearn/preprocessing/label.py:151: DeprecationWarning: The truth value of an empty array is ambiguous. Returning False, but in future this will result in an error. Use `array.size > 0` to check that an array is not empty.\n",
      "  if diff:\n"
     ]
    }
   ],
   "source": [
    "# add result to list \n",
    "o['HCD65_Positive'] = [round(gbm.score(X_test, y_test)*100, 2)]\n",
    "d['HCD65_Positive'] = [elapsed_time]"
   ]
  },
  {
   "cell_type": "code",
   "execution_count": 17,
   "metadata": {},
   "outputs": [],
   "source": [
    "# load data \n",
    "with open('../data/HCD35_neg.pickle', mode='rb') as fp:\n",
    "    df = pickle.load(fp)"
   ]
  },
  {
   "cell_type": "code",
   "execution_count": 18,
   "metadata": {},
   "outputs": [],
   "source": [
    "# divide objective and target\n",
    "objective = df.Subclass\n",
    "le = preprocessing.LabelEncoder()\n",
    "objective = le.fit_transform(objective)\n",
    "\n",
    "features = df.drop('Subclass', axis=1)"
   ]
  },
  {
   "cell_type": "code",
   "execution_count": 19,
   "metadata": {},
   "outputs": [],
   "source": [
    "# train test split\n",
    "random_state=np.random.seed(42)\n",
    "X_train, X_test, y_train, y_test = train_test_split(\n",
    "    features, \n",
    "    objective,\n",
    "    test_size=0.2\n",
    ")"
   ]
  },
  {
   "cell_type": "code",
   "execution_count": 20,
   "metadata": {
    "scrolled": true
   },
   "outputs": [
    {
     "name": "stdout",
     "output_type": "stream",
     "text": [
      "[1]\tvalid_0's multi_logloss: 1.30137\n",
      "Training until validation scores don't improve for 5 rounds.\n",
      "[2]\tvalid_0's multi_logloss: 1.22335\n",
      "[3]\tvalid_0's multi_logloss: 1.15893\n",
      "[4]\tvalid_0's multi_logloss: 1.09947\n",
      "[5]\tvalid_0's multi_logloss: 1.04987\n",
      "[6]\tvalid_0's multi_logloss: 1.01132\n",
      "[7]\tvalid_0's multi_logloss: 0.977166\n",
      "[8]\tvalid_0's multi_logloss: 0.949006\n",
      "[9]\tvalid_0's multi_logloss: 0.923959\n",
      "[10]\tvalid_0's multi_logloss: 0.902713\n",
      "[11]\tvalid_0's multi_logloss: 0.880888\n",
      "[12]\tvalid_0's multi_logloss: 0.861254\n",
      "[13]\tvalid_0's multi_logloss: 0.840925\n",
      "[14]\tvalid_0's multi_logloss: 0.82072\n",
      "[15]\tvalid_0's multi_logloss: 0.805414\n",
      "[16]\tvalid_0's multi_logloss: 0.788837\n",
      "[17]\tvalid_0's multi_logloss: 0.776483\n",
      "[18]\tvalid_0's multi_logloss: 0.765688\n",
      "[19]\tvalid_0's multi_logloss: 0.754473\n",
      "[20]\tvalid_0's multi_logloss: 0.740819\n",
      "[21]\tvalid_0's multi_logloss: 0.732193\n",
      "[22]\tvalid_0's multi_logloss: 0.725243\n",
      "[23]\tvalid_0's multi_logloss: 0.713797\n",
      "[24]\tvalid_0's multi_logloss: 0.706519\n",
      "[25]\tvalid_0's multi_logloss: 0.702215\n",
      "[26]\tvalid_0's multi_logloss: 0.697377\n",
      "[27]\tvalid_0's multi_logloss: 0.686079\n",
      "[28]\tvalid_0's multi_logloss: 0.682948\n",
      "[29]\tvalid_0's multi_logloss: 0.677807\n",
      "[30]\tvalid_0's multi_logloss: 0.668912\n",
      "[31]\tvalid_0's multi_logloss: 0.66277\n",
      "[32]\tvalid_0's multi_logloss: 0.656822\n",
      "[33]\tvalid_0's multi_logloss: 0.655483\n",
      "[34]\tvalid_0's multi_logloss: 0.652456\n",
      "[35]\tvalid_0's multi_logloss: 0.646267\n",
      "[36]\tvalid_0's multi_logloss: 0.640706\n",
      "[37]\tvalid_0's multi_logloss: 0.634586\n",
      "[38]\tvalid_0's multi_logloss: 0.637625\n",
      "[39]\tvalid_0's multi_logloss: 0.633045\n",
      "[40]\tvalid_0's multi_logloss: 0.628477\n",
      "[41]\tvalid_0's multi_logloss: 0.625712\n",
      "[42]\tvalid_0's multi_logloss: 0.622677\n",
      "[43]\tvalid_0's multi_logloss: 0.621647\n",
      "[44]\tvalid_0's multi_logloss: 0.618519\n",
      "[45]\tvalid_0's multi_logloss: 0.614495\n",
      "[46]\tvalid_0's multi_logloss: 0.613083\n",
      "[47]\tvalid_0's multi_logloss: 0.606358\n",
      "[48]\tvalid_0's multi_logloss: 0.60775\n",
      "[49]\tvalid_0's multi_logloss: 0.609958\n",
      "[50]\tvalid_0's multi_logloss: 0.606746\n",
      "[51]\tvalid_0's multi_logloss: 0.603617\n",
      "[52]\tvalid_0's multi_logloss: 0.602689\n",
      "[53]\tvalid_0's multi_logloss: 0.598683\n",
      "[54]\tvalid_0's multi_logloss: 0.596313\n",
      "[55]\tvalid_0's multi_logloss: 0.595142\n",
      "[56]\tvalid_0's multi_logloss: 0.593388\n",
      "[57]\tvalid_0's multi_logloss: 0.596573\n",
      "[58]\tvalid_0's multi_logloss: 0.594405\n",
      "[59]\tvalid_0's multi_logloss: 0.598801\n",
      "[60]\tvalid_0's multi_logloss: 0.600833\n",
      "[61]\tvalid_0's multi_logloss: 0.600182\n",
      "Early stopping, best iteration is:\n",
      "[56]\tvalid_0's multi_logloss: 0.593388\n"
     ]
    },
    {
     "name": "stderr",
     "output_type": "stream",
     "text": [
      "/home/yoshitaka-i/anaconda3/envs/py36/lib/python3.6/site-packages/sklearn/preprocessing/label.py:151: DeprecationWarning: The truth value of an empty array is ambiguous. Returning False, but in future this will result in an error. Use `array.size > 0` to check that an array is not empty.\n",
      "  if diff:\n"
     ]
    },
    {
     "data": {
      "text/plain": [
       "0.7340425531914894"
      ]
     },
     "execution_count": 20,
     "metadata": {},
     "output_type": "execute_result"
    }
   ],
   "source": [
    "# define and fit\n",
    "start = time.time()\n",
    "gbm = lgb.LGBMClassifier(\n",
    "    objective='multiclass',\n",
    "    device = 'gpu'\n",
    ")\n",
    "\n",
    "gbm.fit(\n",
    "    X_train, \n",
    "    y_train,\n",
    "    eval_set=[(X_test, y_test)],\n",
    "    early_stopping_rounds=5\n",
    ")\n",
    "elapsed_time = time.time() - start\n",
    "# save model to sav\n",
    "pickle.dump(gbm, open('../model/lgbm_HCD35_neg.sav', 'wb'))\n",
    "gbm.score(X_test, y_test)"
   ]
  },
  {
   "cell_type": "code",
   "execution_count": 21,
   "metadata": {},
   "outputs": [
    {
     "name": "stderr",
     "output_type": "stream",
     "text": [
      "/home/yoshitaka-i/anaconda3/envs/py36/lib/python3.6/site-packages/sklearn/preprocessing/label.py:151: DeprecationWarning: The truth value of an empty array is ambiguous. Returning False, but in future this will result in an error. Use `array.size > 0` to check that an array is not empty.\n",
      "  if diff:\n"
     ]
    }
   ],
   "source": [
    "# result append to list\n",
    "o['HCD35_Negative'] = [round(gbm.score(X_test, y_test)*100, 2)]\n",
    "d['HCD35_Negative'] = [elapsed_time]"
   ]
  },
  {
   "cell_type": "code",
   "execution_count": 22,
   "metadata": {},
   "outputs": [],
   "source": [
    "# load data\n",
    "with open('../data/HCD45_neg.pickle', mode='rb') as fp:\n",
    "    df = pickle.load(fp)"
   ]
  },
  {
   "cell_type": "code",
   "execution_count": 23,
   "metadata": {},
   "outputs": [],
   "source": [
    "# divide objective and target\n",
    "objective = df.Subclass\n",
    "le = preprocessing.LabelEncoder()\n",
    "objective = le.fit_transform(objective)\n",
    "\n",
    "features = df.drop('Subclass', axis=1)"
   ]
  },
  {
   "cell_type": "code",
   "execution_count": 24,
   "metadata": {},
   "outputs": [],
   "source": [
    "# train test split\n",
    "random_state=np.random.seed(42)\n",
    "X_train, X_test, y_train, y_test = train_test_split(\n",
    "    features, \n",
    "    objective,\n",
    "    test_size=0.2\n",
    ")"
   ]
  },
  {
   "cell_type": "code",
   "execution_count": 25,
   "metadata": {
    "scrolled": true
   },
   "outputs": [
    {
     "name": "stdout",
     "output_type": "stream",
     "text": [
      "[1]\tvalid_0's multi_logloss: 1.30728\n",
      "Training until validation scores don't improve for 5 rounds.\n",
      "[2]\tvalid_0's multi_logloss: 1.24428\n",
      "[3]\tvalid_0's multi_logloss: 1.19091\n",
      "[4]\tvalid_0's multi_logloss: 1.14783\n",
      "[5]\tvalid_0's multi_logloss: 1.1074\n",
      "[6]\tvalid_0's multi_logloss: 1.07527\n",
      "[7]\tvalid_0's multi_logloss: 1.04467\n",
      "[8]\tvalid_0's multi_logloss: 1.01698\n",
      "[9]\tvalid_0's multi_logloss: 0.996891\n",
      "[10]\tvalid_0's multi_logloss: 0.975175\n",
      "[11]\tvalid_0's multi_logloss: 0.948407\n",
      "[12]\tvalid_0's multi_logloss: 0.927498\n",
      "[13]\tvalid_0's multi_logloss: 0.908311\n",
      "[14]\tvalid_0's multi_logloss: 0.890493\n",
      "[15]\tvalid_0's multi_logloss: 0.873985\n",
      "[16]\tvalid_0's multi_logloss: 0.858628\n",
      "[17]\tvalid_0's multi_logloss: 0.84213\n",
      "[18]\tvalid_0's multi_logloss: 0.833401\n",
      "[19]\tvalid_0's multi_logloss: 0.822398\n",
      "[20]\tvalid_0's multi_logloss: 0.814429\n",
      "[21]\tvalid_0's multi_logloss: 0.804205\n",
      "[22]\tvalid_0's multi_logloss: 0.79613\n",
      "[23]\tvalid_0's multi_logloss: 0.787174\n",
      "[24]\tvalid_0's multi_logloss: 0.779814\n",
      "[25]\tvalid_0's multi_logloss: 0.774732\n",
      "[26]\tvalid_0's multi_logloss: 0.76694\n",
      "[27]\tvalid_0's multi_logloss: 0.760785\n",
      "[28]\tvalid_0's multi_logloss: 0.754251\n",
      "[29]\tvalid_0's multi_logloss: 0.746784\n",
      "[30]\tvalid_0's multi_logloss: 0.740079\n",
      "[31]\tvalid_0's multi_logloss: 0.735884\n",
      "[32]\tvalid_0's multi_logloss: 0.729016\n",
      "[33]\tvalid_0's multi_logloss: 0.72494\n",
      "[34]\tvalid_0's multi_logloss: 0.716125\n",
      "[35]\tvalid_0's multi_logloss: 0.711443\n",
      "[36]\tvalid_0's multi_logloss: 0.707816\n",
      "[37]\tvalid_0's multi_logloss: 0.702407\n",
      "[38]\tvalid_0's multi_logloss: 0.702405\n",
      "[39]\tvalid_0's multi_logloss: 0.697735\n",
      "[40]\tvalid_0's multi_logloss: 0.694993\n",
      "[41]\tvalid_0's multi_logloss: 0.69166\n",
      "[42]\tvalid_0's multi_logloss: 0.691289\n",
      "[43]\tvalid_0's multi_logloss: 0.686837\n",
      "[44]\tvalid_0's multi_logloss: 0.686758\n",
      "[45]\tvalid_0's multi_logloss: 0.686979\n",
      "[46]\tvalid_0's multi_logloss: 0.685843\n",
      "[47]\tvalid_0's multi_logloss: 0.683111\n",
      "[48]\tvalid_0's multi_logloss: 0.677311\n",
      "[49]\tvalid_0's multi_logloss: 0.675108\n",
      "[50]\tvalid_0's multi_logloss: 0.673857\n",
      "[51]\tvalid_0's multi_logloss: 0.67242\n",
      "[52]\tvalid_0's multi_logloss: 0.671565\n",
      "[53]\tvalid_0's multi_logloss: 0.669852\n",
      "[54]\tvalid_0's multi_logloss: 0.670083\n",
      "[55]\tvalid_0's multi_logloss: 0.671376\n",
      "[56]\tvalid_0's multi_logloss: 0.670911\n",
      "[57]\tvalid_0's multi_logloss: 0.672174\n",
      "[58]\tvalid_0's multi_logloss: 0.671709\n",
      "Early stopping, best iteration is:\n",
      "[53]\tvalid_0's multi_logloss: 0.669852\n"
     ]
    },
    {
     "name": "stderr",
     "output_type": "stream",
     "text": [
      "/home/yoshitaka-i/anaconda3/envs/py36/lib/python3.6/site-packages/sklearn/preprocessing/label.py:151: DeprecationWarning: The truth value of an empty array is ambiguous. Returning False, but in future this will result in an error. Use `array.size > 0` to check that an array is not empty.\n",
      "  if diff:\n"
     ]
    },
    {
     "data": {
      "text/plain": [
       "0.723404255319149"
      ]
     },
     "execution_count": 25,
     "metadata": {},
     "output_type": "execute_result"
    }
   ],
   "source": [
    "# define and fit\n",
    "start = time.time()\n",
    "gbm = lgb.LGBMClassifier(\n",
    "    objective='multiclass',\n",
    "    device = 'gpu'\n",
    ")\n",
    "\n",
    "gbm.fit(\n",
    "    X_train, \n",
    "    y_train,\n",
    "    eval_set=[(X_test, y_test)],\n",
    "    early_stopping_rounds=5\n",
    ")\n",
    "elapsed_time = time.time() - start\n",
    "\n",
    "# save model to sav\n",
    "pickle.dump(gbm, open('../model/lgbm_HCD45_neg.sav', 'wb'))\n",
    "gbm.score(X_test, y_test)"
   ]
  },
  {
   "cell_type": "code",
   "execution_count": 26,
   "metadata": {},
   "outputs": [
    {
     "name": "stderr",
     "output_type": "stream",
     "text": [
      "/home/yoshitaka-i/anaconda3/envs/py36/lib/python3.6/site-packages/sklearn/preprocessing/label.py:151: DeprecationWarning: The truth value of an empty array is ambiguous. Returning False, but in future this will result in an error. Use `array.size > 0` to check that an array is not empty.\n",
      "  if diff:\n"
     ]
    }
   ],
   "source": [
    "# result append to list\n",
    "o['HCD45_Negative'] = [round(gbm.score(X_test, y_test)*100, 2)]\n",
    "d['HCD45_Negative'] = [elapsed_time]"
   ]
  },
  {
   "cell_type": "code",
   "execution_count": 27,
   "metadata": {},
   "outputs": [],
   "source": [
    "# load data\n",
    "with open('../data/HCD65_neg.pickle', mode='rb') as fp:\n",
    "    df = pickle.load(fp)"
   ]
  },
  {
   "cell_type": "code",
   "execution_count": 28,
   "metadata": {},
   "outputs": [],
   "source": [
    "# divide objective and target\n",
    "objective = df.Subclass\n",
    "le = preprocessing.LabelEncoder()\n",
    "objective = le.fit_transform(objective)\n",
    "\n",
    "features = df.drop('Subclass', axis=1)"
   ]
  },
  {
   "cell_type": "code",
   "execution_count": 29,
   "metadata": {},
   "outputs": [],
   "source": [
    "# train test split\n",
    "random_state=np.random.seed(42)\n",
    "X_train, X_test, y_train, y_test = train_test_split(\n",
    "    features, \n",
    "    objective,\n",
    "    test_size=0.2\n",
    ")"
   ]
  },
  {
   "cell_type": "code",
   "execution_count": 30,
   "metadata": {
    "scrolled": true
   },
   "outputs": [
    {
     "name": "stdout",
     "output_type": "stream",
     "text": [
      "[1]\tvalid_0's multi_logloss: 1.31383\n",
      "Training until validation scores don't improve for 5 rounds.\n",
      "[2]\tvalid_0's multi_logloss: 1.25405\n",
      "[3]\tvalid_0's multi_logloss: 1.20084\n",
      "[4]\tvalid_0's multi_logloss: 1.15406\n",
      "[5]\tvalid_0's multi_logloss: 1.1178\n",
      "[6]\tvalid_0's multi_logloss: 1.0844\n",
      "[7]\tvalid_0's multi_logloss: 1.05432\n",
      "[8]\tvalid_0's multi_logloss: 1.02851\n",
      "[9]\tvalid_0's multi_logloss: 1.00402\n",
      "[10]\tvalid_0's multi_logloss: 0.980917\n",
      "[11]\tvalid_0's multi_logloss: 0.959213\n",
      "[12]\tvalid_0's multi_logloss: 0.947037\n",
      "[13]\tvalid_0's multi_logloss: 0.93271\n",
      "[14]\tvalid_0's multi_logloss: 0.92061\n",
      "[15]\tvalid_0's multi_logloss: 0.909448\n",
      "[16]\tvalid_0's multi_logloss: 0.895203\n",
      "[17]\tvalid_0's multi_logloss: 0.885169\n",
      "[18]\tvalid_0's multi_logloss: 0.87417\n",
      "[19]\tvalid_0's multi_logloss: 0.86671\n",
      "[20]\tvalid_0's multi_logloss: 0.86169\n",
      "[21]\tvalid_0's multi_logloss: 0.856482\n",
      "[22]\tvalid_0's multi_logloss: 0.849996\n",
      "[23]\tvalid_0's multi_logloss: 0.844023\n",
      "[24]\tvalid_0's multi_logloss: 0.83711\n",
      "[25]\tvalid_0's multi_logloss: 0.833033\n",
      "[26]\tvalid_0's multi_logloss: 0.828596\n",
      "[27]\tvalid_0's multi_logloss: 0.823432\n",
      "[28]\tvalid_0's multi_logloss: 0.818749\n",
      "[29]\tvalid_0's multi_logloss: 0.814332\n",
      "[30]\tvalid_0's multi_logloss: 0.81067\n",
      "[31]\tvalid_0's multi_logloss: 0.807429\n",
      "[32]\tvalid_0's multi_logloss: 0.803797\n",
      "[33]\tvalid_0's multi_logloss: 0.803622\n",
      "[34]\tvalid_0's multi_logloss: 0.798525\n",
      "[35]\tvalid_0's multi_logloss: 0.794464\n",
      "[36]\tvalid_0's multi_logloss: 0.792116\n",
      "[37]\tvalid_0's multi_logloss: 0.792545\n",
      "[38]\tvalid_0's multi_logloss: 0.790446\n",
      "[39]\tvalid_0's multi_logloss: 0.787282\n",
      "[40]\tvalid_0's multi_logloss: 0.786193\n",
      "[41]\tvalid_0's multi_logloss: 0.785058\n",
      "[42]\tvalid_0's multi_logloss: 0.781323\n",
      "[43]\tvalid_0's multi_logloss: 0.778424\n",
      "[44]\tvalid_0's multi_logloss: 0.779526\n",
      "[45]\tvalid_0's multi_logloss: 0.777306\n",
      "[46]\tvalid_0's multi_logloss: 0.77608\n",
      "[47]\tvalid_0's multi_logloss: 0.77733\n",
      "[48]\tvalid_0's multi_logloss: 0.774024\n",
      "[49]\tvalid_0's multi_logloss: 0.773428\n",
      "[50]\tvalid_0's multi_logloss: 0.773374\n",
      "[51]\tvalid_0's multi_logloss: 0.771243\n",
      "[52]\tvalid_0's multi_logloss: 0.769969\n",
      "[53]\tvalid_0's multi_logloss: 0.772432\n",
      "[54]\tvalid_0's multi_logloss: 0.77433\n",
      "[55]\tvalid_0's multi_logloss: 0.772604\n",
      "[56]\tvalid_0's multi_logloss: 0.774467\n",
      "[57]\tvalid_0's multi_logloss: 0.776084\n",
      "Early stopping, best iteration is:\n",
      "[52]\tvalid_0's multi_logloss: 0.769969\n"
     ]
    },
    {
     "name": "stderr",
     "output_type": "stream",
     "text": [
      "/home/yoshitaka-i/anaconda3/envs/py36/lib/python3.6/site-packages/sklearn/preprocessing/label.py:151: DeprecationWarning: The truth value of an empty array is ambiguous. Returning False, but in future this will result in an error. Use `array.size > 0` to check that an array is not empty.\n",
      "  if diff:\n"
     ]
    },
    {
     "data": {
      "text/plain": [
       "0.6808510638297872"
      ]
     },
     "execution_count": 30,
     "metadata": {},
     "output_type": "execute_result"
    }
   ],
   "source": [
    "# define and fit\n",
    "start = time.time()\n",
    "gbm = lgb.LGBMClassifier(\n",
    "    objective='multiclass',\n",
    "    device = 'gpu'\n",
    ")\n",
    "\n",
    "gbm.fit(\n",
    "    X_train, \n",
    "    y_train,\n",
    "    eval_set=[(X_test, y_test)],\n",
    "    early_stopping_rounds=5\n",
    ")\n",
    "elapsed_time = time.time() - start\n",
    "\n",
    "# save model to sav\n",
    "pickle.dump(gbm, open('../model/lgbm_HCD65_neg.sav', 'wb'))\n",
    "gbm.score(X_test, y_test)"
   ]
  },
  {
   "cell_type": "code",
   "execution_count": 31,
   "metadata": {},
   "outputs": [
    {
     "name": "stderr",
     "output_type": "stream",
     "text": [
      "/home/yoshitaka-i/anaconda3/envs/py36/lib/python3.6/site-packages/sklearn/preprocessing/label.py:151: DeprecationWarning: The truth value of an empty array is ambiguous. Returning False, but in future this will result in an error. Use `array.size > 0` to check that an array is not empty.\n",
      "  if diff:\n"
     ]
    }
   ],
   "source": [
    "# result append to list\n",
    "o['HCD65_Negative'] = [round(gbm.score(X_test, y_test)*100, 2)]\n",
    "d['HCD65_Negative'] = [elapsed_time]"
   ]
  },
  {
   "cell_type": "code",
   "execution_count": 32,
   "metadata": {},
   "outputs": [],
   "source": [
    "# change result list to Dataframe\n",
    "g = pd.concat([pd.DataFrame(o).T, pd.DataFrame(d).T], axis=1)\n",
    "g.columns = ['Accuracy', 'Time']"
   ]
  },
  {
   "cell_type": "code",
   "execution_count": 33,
   "metadata": {},
   "outputs": [],
   "source": [
    "# dataframe to csv\n",
    "g.to_csv('../result/LightGBM.csv')"
   ]
  }
 ],
 "metadata": {
  "kernelspec": {
   "display_name": "py36",
   "language": "python",
   "name": "py36"
  },
  "language_info": {
   "codemirror_mode": {
    "name": "ipython",
    "version": 3
   },
   "file_extension": ".py",
   "mimetype": "text/x-python",
   "name": "python",
   "nbconvert_exporter": "python",
   "pygments_lexer": "ipython3",
   "version": "3.6.5"
  }
 },
 "nbformat": 4,
 "nbformat_minor": 2
}
