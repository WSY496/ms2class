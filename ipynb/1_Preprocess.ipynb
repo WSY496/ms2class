{
 "cells": [
  {
   "cell_type": "code",
   "execution_count": 1,
   "metadata": {},
   "outputs": [],
   "source": [
    "import numpy as np\n",
    "import pandas as pd"
   ]
  },
  {
   "cell_type": "code",
   "execution_count": 2,
   "metadata": {
    "scrolled": true
   },
   "outputs": [],
   "source": [
    "# Load initial data\n",
    "t = pd.read_csv('../csv/itree_qexactive_data.csv').drop('25 HCD', axis=1)"
   ]
  },
  {
   "cell_type": "code",
   "execution_count": 3,
   "metadata": {},
   "outputs": [
    {
     "name": "stderr",
     "output_type": "stream",
     "text": [
      "/Users/yoshitaka-i/.pyenv/versions/3.6.5/lib/python3.6/site-packages/ipykernel_launcher.py:5: SettingWithCopyWarning: \n",
      "A value is trying to be set on a copy of a slice from a DataFrame.\n",
      "Try using .loc[row_indexer,col_indexer] = value instead\n",
      "\n",
      "See the caveats in the documentation: http://pandas.pydata.org/pandas-docs/stable/indexing.html#indexing-view-versus-copy\n",
      "  \"\"\"\n"
     ]
    }
   ],
   "source": [
    "# 65 HCD have na, so just dropna()\n",
    "df = t.dropna()\n",
    "\n",
    "# round off to two decimal places\n",
    "df['Precursor m/z'] = round(df['Precursor m/z'], 2)"
   ]
  },
  {
   "cell_type": "code",
   "execution_count": 4,
   "metadata": {
    "scrolled": true
   },
   "outputs": [
    {
     "data": {
      "text/plain": [
       "(18577, 14)"
      ]
     },
     "execution_count": 4,
     "metadata": {},
     "output_type": "execute_result"
    }
   ],
   "source": [
    "# check dataframe's shape\n",
    "df.shape"
   ]
  },
  {
   "cell_type": "code",
   "execution_count": 5,
   "metadata": {
    "scrolled": false
   },
   "outputs": [],
   "source": [
    "# divide pos and neg\n",
    "pos = df[df.Mode == 'positive'].reset_index(drop=True)\n",
    "neg = df[df.Mode != 'positive'].reset_index(drop=True)"
   ]
  },
  {
   "cell_type": "code",
   "execution_count": 7,
   "metadata": {},
   "outputs": [],
   "source": [
    "# drop_duplicates by InChIKey to get InChIKey list\n",
    "pos.drop_duplicates('InChIKey').InChIKey.to_csv('../csv/pos_key.csv')\n",
    "neg.drop_duplicates('InChIKey').InChIKey.to_csv('../csv/neg_key.csv')"
   ]
  },
  {
   "cell_type": "code",
   "execution_count": 8,
   "metadata": {},
   "outputs": [],
   "source": [
    "# make class's list (just merge pos's class and neg's class\n",
    "pd.concat([\n",
    "    pd.read_csv('../csv/pos_class.csv', index_col=None), \n",
    "    pd.read_csv('../csv/neg_class.csv', index_col=None)]\n",
    ").drop_duplicates('InChIKey').reset_index(drop=True).to_csv('../csv/class.csv')"
   ]
  },
  {
   "cell_type": "code",
   "execution_count": 6,
   "metadata": {
    "scrolled": true
   },
   "outputs": [],
   "source": [
    "# merge class and ms data by InChIKey\n",
    "pos = pd.merge(pos, pd.read_csv('../csv/class.csv', index_col=0), on='InChIKey')\n",
    "neg = pd.merge(neg, pd.read_csv('../csv/class.csv', index_col=0), on='InChIKey')"
   ]
  },
  {
   "cell_type": "code",
   "execution_count": 7,
   "metadata": {},
   "outputs": [
    {
     "name": "stdout",
     "output_type": "stream",
     "text": [
      "(14223, 24)\n",
      "(4354, 24)\n"
     ]
    }
   ],
   "source": [
    "print(pos.shape)\n",
    "print(neg.shape)"
   ]
  },
  {
   "cell_type": "code",
   "execution_count": 8,
   "metadata": {},
   "outputs": [],
   "source": [
    "# drop_duplicates by precursor and InChIKey\n",
    "pos = pos.drop_duplicates(subset=['Precursor m/z', 'InChIKey'])\n",
    "neg = neg.drop_duplicates(subset=['Precursor m/z', 'InChIKey'])"
   ]
  },
  {
   "cell_type": "code",
   "execution_count": 9,
   "metadata": {},
   "outputs": [
    {
     "name": "stdout",
     "output_type": "stream",
     "text": [
      "(6791, 24)\n",
      "(2051, 24)\n"
     ]
    }
   ],
   "source": [
    "print(pos.shape)\n",
    "print(neg.shape)"
   ]
  },
  {
   "cell_type": "code",
   "execution_count": 10,
   "metadata": {},
   "outputs": [
    {
     "data": {
      "text/plain": [
       "Index(['Filename', 'Base Name', 'Molecular Formula', 'Exact Mass', 'InChI',\n",
       "       'InChIKey', 'Mode', 'Precursor m/z', 'Estimated Adduct',\n",
       "       'Mass Error (Da)', 'Mass Accuracy (ppm)', '35 HCD', '45 HCD', '65 HCD',\n",
       "       'ClassyFy Status', 'Kingdom', 'Superclass', 'Class', 'Subclass',\n",
       "       'Parent Level 1', 'Parent Level 2', 'Parent Level 3', 'Parent Level 4',\n",
       "       'Parent Level 5'],\n",
       "      dtype='object')"
      ]
     },
     "execution_count": 10,
     "metadata": {},
     "output_type": "execute_result"
    }
   ],
   "source": [
    "pos.columns"
   ]
  },
  {
   "cell_type": "code",
   "execution_count": 11,
   "metadata": {},
   "outputs": [],
   "source": [
    "# just choose 5 colomns to use as feature\n",
    "pos[[\n",
    "    '35 HCD','45 HCD','65 HCD','Kingdom', \n",
    "    'Superclass', 'Class','Subclass'\n",
    "]].reset_index(drop=True).to_csv('../csv/pos_for_ml.csv')\n",
    "neg[[\n",
    "    '35 HCD','45 HCD','65 HCD','Kingdom', \n",
    "    'Superclass', 'Class','Subclass'\n",
    "]].reset_index(drop=True).to_csv('../csv/neg_for_ml.csv')"
   ]
  }
 ],
 "metadata": {
  "kernelspec": {
   "display_name": "Python 3",
   "language": "python",
   "name": "python3"
  },
  "language_info": {
   "codemirror_mode": {
    "name": "ipython",
    "version": 3
   },
   "file_extension": ".py",
   "mimetype": "text/x-python",
   "name": "python",
   "nbconvert_exporter": "python",
   "pygments_lexer": "ipython3",
   "version": "3.6.5"
  }
 },
 "nbformat": 4,
 "nbformat_minor": 2
}
