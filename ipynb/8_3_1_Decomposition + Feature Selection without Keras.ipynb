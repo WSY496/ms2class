{
 "cells": [
  {
   "cell_type": "code",
   "execution_count": 1,
   "metadata": {},
   "outputs": [],
   "source": [
    "import pandas as pd\n",
    "import numpy as np\n",
    "import pickle\n",
    "import xgboost as xgb\n",
    "import lightgbm as lgb\n",
    "from sklearn.ensemble import RandomForestClassifier as rf\n",
    "from sklearn.model_selection import train_test_split\n",
    "from sklearn.metrics import confusion_matrix\n",
    "from sklearn.model_selection import GridSearchCV\n",
    "from sklearn import preprocessing\n",
    "import itertools\n",
    "import time\n",
    "\n",
    "%matplotlib inline"
   ]
  },
  {
   "cell_type": "code",
   "execution_count": 2,
   "metadata": {},
   "outputs": [],
   "source": [
    "# load data\n",
    "df = pd.concat([\n",
    "    pd.read_csv('../data/feature_selection_positive.csv', index_col=0),\n",
    "    pd.read_csv('../data/decomp_pos.csv', index_col=0).drop('Subclass', axis=1)\n",
    "], axis=1)"
   ]
  },
  {
   "cell_type": "code",
   "execution_count": 3,
   "metadata": {},
   "outputs": [],
   "source": [
    "# divide objective and target\n",
    "objective = df.Subclass\n",
    "le = preprocessing.LabelEncoder()\n",
    "objective = le.fit_transform(objective)\n",
    "\n",
    "features = df.drop('Subclass', axis=1)"
   ]
  },
  {
   "cell_type": "code",
   "execution_count": 4,
   "metadata": {},
   "outputs": [],
   "source": [
    "# train test split\n",
    "random_state=np.random.seed(42)\n",
    "X_train, X_test, y_train, y_test = train_test_split(\n",
    "    features, \n",
    "    objective,\n",
    "    test_size=0.2\n",
    ")"
   ]
  },
  {
   "cell_type": "code",
   "execution_count": 5,
   "metadata": {},
   "outputs": [],
   "source": [
    "# define and fit\n",
    "clf = rf()\n",
    "clf = clf.fit(X_train, y_train)\n",
    "\n",
    "# pickle.dump(clf, open('../model/rf_pos_fs+decomp.sav', 'wb'))"
   ]
  },
  {
   "cell_type": "code",
   "execution_count": 6,
   "metadata": {},
   "outputs": [],
   "source": [
    "# setting params\n",
    "params = {}\n",
    "params['device'] = 'gpu'\n",
    "params['gpu_id'] = 0\n",
    "params['updater'] = 'grow_gpu_hist'"
   ]
  },
  {
   "cell_type": "code",
   "execution_count": 7,
   "metadata": {
    "scrolled": true
   },
   "outputs": [
    {
     "data": {
      "text/plain": [
       "XGBClassifier(base_score=0.5, booster='gbtree', colsample_bylevel=1,\n",
       "       colsample_bytree=1, device='gpu', gamma=0, gpu_id=0,\n",
       "       learning_rate=0.1, max_delta_step=0, max_depth=3,\n",
       "       min_child_weight=1, missing=None, n_estimators=100, n_jobs=1,\n",
       "       nthread=None, objective='multi:softprob', random_state=0,\n",
       "       reg_alpha=0, reg_lambda=1, scale_pos_weight=1, seed=None,\n",
       "       silent=True, subsample=1, updater='grow_gpu_hist')"
      ]
     },
     "execution_count": 7,
     "metadata": {},
     "output_type": "execute_result"
    }
   ],
   "source": [
    "# define and fit\n",
    "model = xgb.XGBClassifier(**params)\n",
    "model.fit(X_train, y_train)\n",
    "\n",
    "# pickle.dump(model, open('../model/xgb_pos_fs+decomp.sav', 'wb'))"
   ]
  },
  {
   "cell_type": "code",
   "execution_count": 8,
   "metadata": {
    "scrolled": true
   },
   "outputs": [
    {
     "name": "stdout",
     "output_type": "stream",
     "text": [
      "[1]\tvalid_0's multi_logloss: 1.29069\n",
      "Training until validation scores don't improve for 5 rounds.\n",
      "[2]\tvalid_0's multi_logloss: 1.21012\n",
      "[3]\tvalid_0's multi_logloss: 1.14197\n",
      "[4]\tvalid_0's multi_logloss: 1.08361\n",
      "[5]\tvalid_0's multi_logloss: 1.03128\n",
      "[6]\tvalid_0's multi_logloss: 0.984376\n",
      "[7]\tvalid_0's multi_logloss: 0.940129\n",
      "[8]\tvalid_0's multi_logloss: 0.899799\n",
      "[9]\tvalid_0's multi_logloss: 0.864108\n",
      "[10]\tvalid_0's multi_logloss: 0.832423\n",
      "[11]\tvalid_0's multi_logloss: 0.804506\n",
      "[12]\tvalid_0's multi_logloss: 0.779539\n",
      "[13]\tvalid_0's multi_logloss: 0.755452\n",
      "[14]\tvalid_0's multi_logloss: 0.733423\n",
      "[15]\tvalid_0's multi_logloss: 0.715317\n",
      "[16]\tvalid_0's multi_logloss: 0.697163\n",
      "[17]\tvalid_0's multi_logloss: 0.680644\n",
      "[18]\tvalid_0's multi_logloss: 0.666459\n",
      "[19]\tvalid_0's multi_logloss: 0.649679\n",
      "[20]\tvalid_0's multi_logloss: 0.637496\n",
      "[21]\tvalid_0's multi_logloss: 0.622585\n",
      "[22]\tvalid_0's multi_logloss: 0.61208\n",
      "[23]\tvalid_0's multi_logloss: 0.602414\n",
      "[24]\tvalid_0's multi_logloss: 0.592352\n",
      "[25]\tvalid_0's multi_logloss: 0.582744\n",
      "[26]\tvalid_0's multi_logloss: 0.574113\n",
      "[27]\tvalid_0's multi_logloss: 0.563702\n",
      "[28]\tvalid_0's multi_logloss: 0.557316\n",
      "[29]\tvalid_0's multi_logloss: 0.551143\n",
      "[30]\tvalid_0's multi_logloss: 0.544108\n",
      "[31]\tvalid_0's multi_logloss: 0.539661\n",
      "[32]\tvalid_0's multi_logloss: 0.53257\n",
      "[33]\tvalid_0's multi_logloss: 0.525512\n",
      "[34]\tvalid_0's multi_logloss: 0.521223\n",
      "[35]\tvalid_0's multi_logloss: 0.516362\n",
      "[36]\tvalid_0's multi_logloss: 0.510253\n",
      "[37]\tvalid_0's multi_logloss: 0.506474\n",
      "[38]\tvalid_0's multi_logloss: 0.50038\n",
      "[39]\tvalid_0's multi_logloss: 0.495924\n",
      "[40]\tvalid_0's multi_logloss: 0.492165\n",
      "[41]\tvalid_0's multi_logloss: 0.488206\n",
      "[42]\tvalid_0's multi_logloss: 0.483047\n",
      "[43]\tvalid_0's multi_logloss: 0.478638\n",
      "[44]\tvalid_0's multi_logloss: 0.475358\n",
      "[45]\tvalid_0's multi_logloss: 0.471891\n",
      "[46]\tvalid_0's multi_logloss: 0.469054\n",
      "[47]\tvalid_0's multi_logloss: 0.467853\n",
      "[48]\tvalid_0's multi_logloss: 0.464623\n",
      "[49]\tvalid_0's multi_logloss: 0.460656\n",
      "[50]\tvalid_0's multi_logloss: 0.457575\n",
      "[51]\tvalid_0's multi_logloss: 0.452667\n",
      "[52]\tvalid_0's multi_logloss: 0.450527\n",
      "[53]\tvalid_0's multi_logloss: 0.447257\n",
      "[54]\tvalid_0's multi_logloss: 0.445614\n",
      "[55]\tvalid_0's multi_logloss: 0.443729\n",
      "[56]\tvalid_0's multi_logloss: 0.43941\n",
      "[57]\tvalid_0's multi_logloss: 0.437599\n",
      "[58]\tvalid_0's multi_logloss: 0.436015\n",
      "[59]\tvalid_0's multi_logloss: 0.435266\n",
      "[60]\tvalid_0's multi_logloss: 0.433232\n",
      "[61]\tvalid_0's multi_logloss: 0.429807\n",
      "[62]\tvalid_0's multi_logloss: 0.430336\n",
      "[63]\tvalid_0's multi_logloss: 0.429767\n",
      "[64]\tvalid_0's multi_logloss: 0.427759\n",
      "[65]\tvalid_0's multi_logloss: 0.426031\n",
      "[66]\tvalid_0's multi_logloss: 0.424983\n",
      "[67]\tvalid_0's multi_logloss: 0.423883\n",
      "[68]\tvalid_0's multi_logloss: 0.424067\n",
      "[69]\tvalid_0's multi_logloss: 0.423208\n",
      "[70]\tvalid_0's multi_logloss: 0.422516\n",
      "[71]\tvalid_0's multi_logloss: 0.421352\n",
      "[72]\tvalid_0's multi_logloss: 0.422415\n",
      "[73]\tvalid_0's multi_logloss: 0.421837\n",
      "[74]\tvalid_0's multi_logloss: 0.421708\n",
      "[75]\tvalid_0's multi_logloss: 0.420477\n",
      "[76]\tvalid_0's multi_logloss: 0.419475\n",
      "[77]\tvalid_0's multi_logloss: 0.419682\n",
      "[78]\tvalid_0's multi_logloss: 0.419444\n",
      "[79]\tvalid_0's multi_logloss: 0.42018\n",
      "[80]\tvalid_0's multi_logloss: 0.420627\n",
      "[81]\tvalid_0's multi_logloss: 0.421713\n",
      "[82]\tvalid_0's multi_logloss: 0.421381\n",
      "[83]\tvalid_0's multi_logloss: 0.418891\n",
      "[84]\tvalid_0's multi_logloss: 0.419265\n",
      "[85]\tvalid_0's multi_logloss: 0.420163\n",
      "[86]\tvalid_0's multi_logloss: 0.419328\n",
      "[87]\tvalid_0's multi_logloss: 0.418786\n",
      "[88]\tvalid_0's multi_logloss: 0.417144\n",
      "[89]\tvalid_0's multi_logloss: 0.416861\n",
      "[90]\tvalid_0's multi_logloss: 0.415901\n",
      "[91]\tvalid_0's multi_logloss: 0.416073\n",
      "[92]\tvalid_0's multi_logloss: 0.416625\n",
      "[93]\tvalid_0's multi_logloss: 0.417744\n",
      "[94]\tvalid_0's multi_logloss: 0.418271\n",
      "[95]\tvalid_0's multi_logloss: 0.417766\n",
      "Early stopping, best iteration is:\n",
      "[90]\tvalid_0's multi_logloss: 0.415901\n"
     ]
    },
    {
     "data": {
      "text/plain": [
       "LGBMClassifier(boosting_type='gbdt', class_weight=None, colsample_bytree=1.0,\n",
       "        device='gpu', importance_type='split', learning_rate=0.1,\n",
       "        max_depth=-1, min_child_samples=20, min_child_weight=0.001,\n",
       "        min_split_gain=0.0, n_estimators=100, n_jobs=-1, num_leaves=31,\n",
       "        objective='multiclass', random_state=None, reg_alpha=0.0,\n",
       "        reg_lambda=0.0, silent=True, subsample=1.0,\n",
       "        subsample_for_bin=200000, subsample_freq=0)"
      ]
     },
     "execution_count": 8,
     "metadata": {},
     "output_type": "execute_result"
    }
   ],
   "source": [
    "# define and fit \n",
    "gbm = lgb.LGBMClassifier(\n",
    "    objective='multiclass',\n",
    "    device = 'gpu'\n",
    ")\n",
    "\n",
    "gbm.fit(\n",
    "    X_train, \n",
    "    y_train,\n",
    "    eval_set=[(X_test, y_test)],\n",
    "    early_stopping_rounds=5\n",
    ")\n",
    "# pickle.dump(gbm, open('../model/lgbm_pos_fs+decomp.sav', 'wb'))"
   ]
  },
  {
   "cell_type": "code",
   "execution_count": 9,
   "metadata": {},
   "outputs": [],
   "source": [
    "# load data\n",
    "df = pd.concat([\n",
    "    pd.read_csv('../data/feature_selection_negative.csv', index_col=0),\n",
    "    pd.read_csv('../data/decomp_neg.csv', index_col=0).drop('Subclass', axis=1)\n",
    "], axis=1)"
   ]
  },
  {
   "cell_type": "code",
   "execution_count": 10,
   "metadata": {},
   "outputs": [],
   "source": [
    "# divide objective and target\n",
    "objective = df.Subclass\n",
    "le = preprocessing.LabelEncoder()\n",
    "objective = le.fit_transform(objective)\n",
    "\n",
    "features = df.drop('Subclass', axis=1)"
   ]
  },
  {
   "cell_type": "code",
   "execution_count": 11,
   "metadata": {},
   "outputs": [],
   "source": [
    "# train test split\n",
    "random_state=np.random.seed(42)\n",
    "X_train, X_test, y_train, y_test = train_test_split(\n",
    "    features, \n",
    "    objective,\n",
    "    test_size=0.2\n",
    ")"
   ]
  },
  {
   "cell_type": "code",
   "execution_count": 12,
   "metadata": {},
   "outputs": [],
   "source": [
    "# define and fit\n",
    "clf = rf()\n",
    "clf = clf.fit(X_train, y_train)\n",
    "\n",
    "# pickle.dump(clf, open('../model/rf_ng_fs+decomp.sav', 'wb'))"
   ]
  },
  {
   "cell_type": "code",
   "execution_count": 13,
   "metadata": {},
   "outputs": [],
   "source": [
    "# setting params\n",
    "params = {}\n",
    "params['device'] = 'gpu'\n",
    "params['gpu_id'] = 0\n",
    "params['updater'] = 'grow_gpu_hist'"
   ]
  },
  {
   "cell_type": "code",
   "execution_count": 14,
   "metadata": {
    "scrolled": true
   },
   "outputs": [
    {
     "data": {
      "text/plain": [
       "XGBClassifier(base_score=0.5, booster='gbtree', colsample_bylevel=1,\n",
       "       colsample_bytree=1, device='gpu', gamma=0, gpu_id=0,\n",
       "       learning_rate=0.1, max_delta_step=0, max_depth=3,\n",
       "       min_child_weight=1, missing=None, n_estimators=100, n_jobs=1,\n",
       "       nthread=None, objective='multi:softprob', random_state=0,\n",
       "       reg_alpha=0, reg_lambda=1, scale_pos_weight=1, seed=None,\n",
       "       silent=True, subsample=1, updater='grow_gpu_hist')"
      ]
     },
     "execution_count": 14,
     "metadata": {},
     "output_type": "execute_result"
    }
   ],
   "source": [
    "# define and fit\n",
    "model = xgb.XGBClassifier(**params)\n",
    "model.fit(X_train, y_train)\n",
    "\n",
    "# pickle.dump(model, open('../model/xgb_ng_fs+decomp.sav', 'wb'))"
   ]
  },
  {
   "cell_type": "code",
   "execution_count": 15,
   "metadata": {
    "scrolled": true
   },
   "outputs": [
    {
     "name": "stdout",
     "output_type": "stream",
     "text": [
      "[1]\tvalid_0's multi_logloss: 1.28878\n",
      "Training until validation scores don't improve for 5 rounds.\n",
      "[2]\tvalid_0's multi_logloss: 1.20847\n",
      "[3]\tvalid_0's multi_logloss: 1.13982\n",
      "[4]\tvalid_0's multi_logloss: 1.08051\n",
      "[5]\tvalid_0's multi_logloss: 1.03088\n",
      "[6]\tvalid_0's multi_logloss: 0.98421\n",
      "[7]\tvalid_0's multi_logloss: 0.943343\n",
      "[8]\tvalid_0's multi_logloss: 0.912084\n",
      "[9]\tvalid_0's multi_logloss: 0.886113\n",
      "[10]\tvalid_0's multi_logloss: 0.852649\n",
      "[11]\tvalid_0's multi_logloss: 0.831805\n",
      "[12]\tvalid_0's multi_logloss: 0.804853\n",
      "[13]\tvalid_0's multi_logloss: 0.784163\n",
      "[14]\tvalid_0's multi_logloss: 0.768031\n",
      "[15]\tvalid_0's multi_logloss: 0.752548\n",
      "[16]\tvalid_0's multi_logloss: 0.741966\n",
      "[17]\tvalid_0's multi_logloss: 0.724925\n",
      "[18]\tvalid_0's multi_logloss: 0.718684\n",
      "[19]\tvalid_0's multi_logloss: 0.708427\n",
      "[20]\tvalid_0's multi_logloss: 0.695185\n",
      "[21]\tvalid_0's multi_logloss: 0.689559\n",
      "[22]\tvalid_0's multi_logloss: 0.683826\n",
      "[23]\tvalid_0's multi_logloss: 0.678237\n",
      "[24]\tvalid_0's multi_logloss: 0.671902\n",
      "[25]\tvalid_0's multi_logloss: 0.659836\n",
      "[26]\tvalid_0's multi_logloss: 0.65035\n",
      "[27]\tvalid_0's multi_logloss: 0.646536\n",
      "[28]\tvalid_0's multi_logloss: 0.642263\n",
      "[29]\tvalid_0's multi_logloss: 0.636275\n",
      "[30]\tvalid_0's multi_logloss: 0.63429\n",
      "[31]\tvalid_0's multi_logloss: 0.628964\n",
      "[32]\tvalid_0's multi_logloss: 0.624649\n",
      "[33]\tvalid_0's multi_logloss: 0.619187\n",
      "[34]\tvalid_0's multi_logloss: 0.615763\n",
      "[35]\tvalid_0's multi_logloss: 0.611808\n",
      "[36]\tvalid_0's multi_logloss: 0.60681\n",
      "[37]\tvalid_0's multi_logloss: 0.604219\n",
      "[38]\tvalid_0's multi_logloss: 0.603467\n",
      "[39]\tvalid_0's multi_logloss: 0.60385\n",
      "[40]\tvalid_0's multi_logloss: 0.602139\n",
      "[41]\tvalid_0's multi_logloss: 0.602868\n",
      "[42]\tvalid_0's multi_logloss: 0.599001\n",
      "[43]\tvalid_0's multi_logloss: 0.597046\n",
      "[44]\tvalid_0's multi_logloss: 0.597164\n",
      "[45]\tvalid_0's multi_logloss: 0.600412\n",
      "[46]\tvalid_0's multi_logloss: 0.598224\n",
      "[47]\tvalid_0's multi_logloss: 0.598049\n",
      "[48]\tvalid_0's multi_logloss: 0.595183\n",
      "[49]\tvalid_0's multi_logloss: 0.596315\n",
      "[50]\tvalid_0's multi_logloss: 0.597379\n",
      "[51]\tvalid_0's multi_logloss: 0.598436\n",
      "[52]\tvalid_0's multi_logloss: 0.597715\n",
      "[53]\tvalid_0's multi_logloss: 0.596815\n",
      "Early stopping, best iteration is:\n",
      "[48]\tvalid_0's multi_logloss: 0.595183\n"
     ]
    },
    {
     "data": {
      "text/plain": [
       "LGBMClassifier(boosting_type='gbdt', class_weight=None, colsample_bytree=1.0,\n",
       "        device='gpu', importance_type='split', learning_rate=0.1,\n",
       "        max_depth=-1, min_child_samples=20, min_child_weight=0.001,\n",
       "        min_split_gain=0.0, n_estimators=100, n_jobs=-1, num_leaves=31,\n",
       "        objective='multiclass', random_state=None, reg_alpha=0.0,\n",
       "        reg_lambda=0.0, silent=True, subsample=1.0,\n",
       "        subsample_for_bin=200000, subsample_freq=0)"
      ]
     },
     "execution_count": 15,
     "metadata": {},
     "output_type": "execute_result"
    }
   ],
   "source": [
    "# define and fit \n",
    "gbm = lgb.LGBMClassifier(\n",
    "    objective='multiclass',\n",
    "    device = 'gpu'\n",
    ")\n",
    "\n",
    "gbm.fit(\n",
    "    X_train, \n",
    "    y_train,\n",
    "    eval_set=[(X_test, y_test)],\n",
    "    early_stopping_rounds=5\n",
    ")\n",
    "\n",
    "# pickle.dump(gbm, open('../model/lgbm_ng_fs+decomp.sav', 'wb'))"
   ]
  }
 ],
 "metadata": {
  "kernelspec": {
   "display_name": "py36",
   "language": "python",
   "name": "py36"
  },
  "language_info": {
   "codemirror_mode": {
    "name": "ipython",
    "version": 3
   },
   "file_extension": ".py",
   "mimetype": "text/x-python",
   "name": "python",
   "nbconvert_exporter": "python",
   "pygments_lexer": "ipython3",
   "version": "3.6.5"
  }
 },
 "nbformat": 4,
 "nbformat_minor": 2
}
