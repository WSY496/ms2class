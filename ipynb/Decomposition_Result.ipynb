{
 "cells": [
  {
   "cell_type": "code",
   "execution_count": 1,
   "metadata": {},
   "outputs": [],
   "source": [
    "import pickle\n",
    "import pandas as pd\n",
    "import numpy as np\n",
    "\n",
    "import xgboost as xgb\n",
    "import lightgbm as lgb\n",
    "\n",
    "from sklearn.ensemble import RandomForestClassifier as rf\n",
    "from sklearn.metrics import mean_squared_error\n",
    "from sklearn.model_selection import train_test_split\n",
    "from sklearn.metrics import confusion_matrix\n",
    "from sklearn.model_selection import GridSearchCV\n",
    "from sklearn import preprocessing"
   ]
  },
  {
   "cell_type": "code",
   "execution_count": 2,
   "metadata": {},
   "outputs": [],
   "source": [
    "# load data\n",
    "df = pd.read_csv('../data/decomp_pos.csv', index_col=0)"
   ]
  },
  {
   "cell_type": "code",
   "execution_count": 3,
   "metadata": {},
   "outputs": [],
   "source": [
    "# divide objective and target\n",
    "objective = df.Subclass\n",
    "le = preprocessing.LabelEncoder()\n",
    "objective = le.fit_transform(objective)\n",
    "\n",
    "features = df.drop('Subclass', axis=1)"
   ]
  },
  {
   "cell_type": "code",
   "execution_count": 4,
   "metadata": {},
   "outputs": [],
   "source": [
    "# train test split\n",
    "random_state=np.random.seed(42)\n",
    "X_train, X_test, y_train, y_test = train_test_split(\n",
    "    features, \n",
    "    objective,\n",
    "    test_size=0.2\n",
    ")"
   ]
  },
  {
   "cell_type": "code",
   "execution_count": 5,
   "metadata": {},
   "outputs": [],
   "source": [
    "# define and fit\n",
    "clf = rf()\n",
    "clf = clf.fit(X_train, y_train)\n",
    "\n",
    "# append accuracy to list\n",
    "t = []\n",
    "t.append(clf.score(X_test, y_test))"
   ]
  },
  {
   "cell_type": "code",
   "execution_count": 6,
   "metadata": {},
   "outputs": [],
   "source": [
    "# setting params\n",
    "params = {}\n",
    "params['device'] = 'gpu'\n",
    "params['gpu_id'] = 1\n",
    "params['updater'] = 'grow_gpu_hist'"
   ]
  },
  {
   "cell_type": "code",
   "execution_count": 7,
   "metadata": {
    "scrolled": true
   },
   "outputs": [
    {
     "name": "stderr",
     "output_type": "stream",
     "text": [
      "/home/yoshitaka-i/anaconda3/envs/py36/lib/python3.6/site-packages/sklearn/preprocessing/label.py:151: DeprecationWarning: The truth value of an empty array is ambiguous. Returning False, but in future this will result in an error. Use `array.size > 0` to check that an array is not empty.\n",
      "  if diff:\n"
     ]
    }
   ],
   "source": [
    "# define and fit\n",
    "model = xgb.XGBClassifier(**params)\n",
    "model.fit(X_train, y_train)\n",
    "\n",
    "t.append(model.score(X_test, y_test))"
   ]
  },
  {
   "cell_type": "code",
   "execution_count": 8,
   "metadata": {
    "scrolled": true
   },
   "outputs": [
    {
     "name": "stdout",
     "output_type": "stream",
     "text": [
      "[1]\tvalid_0's multi_logloss: 1.30448\n",
      "Training until validation scores don't improve for 5 rounds.\n",
      "[2]\tvalid_0's multi_logloss: 1.239\n",
      "[3]\tvalid_0's multi_logloss: 1.18328\n",
      "[4]\tvalid_0's multi_logloss: 1.12797\n",
      "[5]\tvalid_0's multi_logloss: 1.08449\n",
      "[6]\tvalid_0's multi_logloss: 1.04597\n",
      "[7]\tvalid_0's multi_logloss: 1.00792\n",
      "[8]\tvalid_0's multi_logloss: 0.976136\n",
      "[9]\tvalid_0's multi_logloss: 0.946576\n",
      "[10]\tvalid_0's multi_logloss: 0.919279\n",
      "[11]\tvalid_0's multi_logloss: 0.895235\n",
      "[12]\tvalid_0's multi_logloss: 0.873459\n",
      "[13]\tvalid_0's multi_logloss: 0.852773\n",
      "[14]\tvalid_0's multi_logloss: 0.832556\n",
      "[15]\tvalid_0's multi_logloss: 0.815673\n",
      "[16]\tvalid_0's multi_logloss: 0.797705\n",
      "[17]\tvalid_0's multi_logloss: 0.780757\n",
      "[18]\tvalid_0's multi_logloss: 0.765425\n",
      "[19]\tvalid_0's multi_logloss: 0.752571\n",
      "[20]\tvalid_0's multi_logloss: 0.73971\n",
      "[21]\tvalid_0's multi_logloss: 0.727662\n",
      "[22]\tvalid_0's multi_logloss: 0.71604\n",
      "[23]\tvalid_0's multi_logloss: 0.705537\n",
      "[24]\tvalid_0's multi_logloss: 0.69617\n",
      "[25]\tvalid_0's multi_logloss: 0.685877\n",
      "[26]\tvalid_0's multi_logloss: 0.676787\n",
      "[27]\tvalid_0's multi_logloss: 0.669302\n",
      "[28]\tvalid_0's multi_logloss: 0.660631\n",
      "[29]\tvalid_0's multi_logloss: 0.653114\n",
      "[30]\tvalid_0's multi_logloss: 0.643857\n",
      "[31]\tvalid_0's multi_logloss: 0.636261\n",
      "[32]\tvalid_0's multi_logloss: 0.629553\n",
      "[33]\tvalid_0's multi_logloss: 0.623258\n",
      "[34]\tvalid_0's multi_logloss: 0.617506\n",
      "[35]\tvalid_0's multi_logloss: 0.612446\n",
      "[36]\tvalid_0's multi_logloss: 0.608424\n",
      "[37]\tvalid_0's multi_logloss: 0.604432\n",
      "[38]\tvalid_0's multi_logloss: 0.602914\n",
      "[39]\tvalid_0's multi_logloss: 0.599043\n",
      "[40]\tvalid_0's multi_logloss: 0.593149\n",
      "[41]\tvalid_0's multi_logloss: 0.589374\n",
      "[42]\tvalid_0's multi_logloss: 0.586159\n",
      "[43]\tvalid_0's multi_logloss: 0.581572\n",
      "[44]\tvalid_0's multi_logloss: 0.578415\n",
      "[45]\tvalid_0's multi_logloss: 0.574023\n",
      "[46]\tvalid_0's multi_logloss: 0.571699\n",
      "[47]\tvalid_0's multi_logloss: 0.567189\n",
      "[48]\tvalid_0's multi_logloss: 0.565094\n",
      "[49]\tvalid_0's multi_logloss: 0.560866\n",
      "[50]\tvalid_0's multi_logloss: 0.558405\n",
      "[51]\tvalid_0's multi_logloss: 0.557266\n",
      "[52]\tvalid_0's multi_logloss: 0.554734\n",
      "[53]\tvalid_0's multi_logloss: 0.552972\n",
      "[54]\tvalid_0's multi_logloss: 0.553121\n",
      "[55]\tvalid_0's multi_logloss: 0.549871\n",
      "[56]\tvalid_0's multi_logloss: 0.549959\n",
      "[57]\tvalid_0's multi_logloss: 0.550721\n",
      "[58]\tvalid_0's multi_logloss: 0.550384\n",
      "[59]\tvalid_0's multi_logloss: 0.549091\n",
      "[60]\tvalid_0's multi_logloss: 0.548274\n",
      "[61]\tvalid_0's multi_logloss: 0.548306\n",
      "[62]\tvalid_0's multi_logloss: 0.550603\n",
      "[63]\tvalid_0's multi_logloss: 0.549899\n",
      "[64]\tvalid_0's multi_logloss: 0.549738\n",
      "[65]\tvalid_0's multi_logloss: 0.549269\n",
      "Early stopping, best iteration is:\n",
      "[60]\tvalid_0's multi_logloss: 0.548274\n"
     ]
    },
    {
     "name": "stderr",
     "output_type": "stream",
     "text": [
      "/home/yoshitaka-i/anaconda3/envs/py36/lib/python3.6/site-packages/sklearn/preprocessing/label.py:151: DeprecationWarning: The truth value of an empty array is ambiguous. Returning False, but in future this will result in an error. Use `array.size > 0` to check that an array is not empty.\n",
      "  if diff:\n"
     ]
    }
   ],
   "source": [
    "# define and fit \n",
    "gbm = lgb.LGBMClassifier(\n",
    "    objective='multiclass',\n",
    "    device = 'gpu'\n",
    ")\n",
    "\n",
    "gbm.fit(\n",
    "    X_train, \n",
    "    y_train,\n",
    "    eval_set=[(X_test, y_test)],\n",
    "    early_stopping_rounds=5\n",
    ")\n",
    "\n",
    "t.append(gbm.score(X_test, y_test))"
   ]
  },
  {
   "cell_type": "code",
   "execution_count": 9,
   "metadata": {},
   "outputs": [],
   "source": [
    "f = []\n",
    "f.append(t)"
   ]
  },
  {
   "cell_type": "code",
   "execution_count": null,
   "metadata": {},
   "outputs": [],
   "source": []
  },
  {
   "cell_type": "code",
   "execution_count": 10,
   "metadata": {},
   "outputs": [],
   "source": [
    "# load data\n",
    "df = pd.read_csv('../data/decomp_neg.csv', index_col=0)"
   ]
  },
  {
   "cell_type": "code",
   "execution_count": 11,
   "metadata": {},
   "outputs": [],
   "source": [
    "# divide objective and target\n",
    "objective = df.Subclass\n",
    "le = preprocessing.LabelEncoder()\n",
    "objective = le.fit_transform(objective)\n",
    "\n",
    "features = df.drop('Subclass', axis=1)"
   ]
  },
  {
   "cell_type": "code",
   "execution_count": 12,
   "metadata": {},
   "outputs": [],
   "source": [
    "# train test split\n",
    "random_state=np.random.seed(42)\n",
    "X_train, X_test, y_train, y_test = train_test_split(\n",
    "    features, \n",
    "    objective,\n",
    "    test_size=0.2\n",
    ")"
   ]
  },
  {
   "cell_type": "code",
   "execution_count": 13,
   "metadata": {},
   "outputs": [],
   "source": [
    "# define and fit \n",
    "clf = rf()\n",
    "clf = clf.fit(X_train, y_train)\n",
    "\n",
    "# append accuracy to list\n",
    "t = []\n",
    "t.append(clf.score(X_test, y_test))"
   ]
  },
  {
   "cell_type": "code",
   "execution_count": 14,
   "metadata": {},
   "outputs": [],
   "source": [
    "# setting params\n",
    "params = {}\n",
    "params['device'] = 'gpu'\n",
    "params['gpu_id'] = 1\n",
    "params['updater'] = 'grow_gpu_hist'"
   ]
  },
  {
   "cell_type": "code",
   "execution_count": 15,
   "metadata": {
    "scrolled": true
   },
   "outputs": [
    {
     "name": "stderr",
     "output_type": "stream",
     "text": [
      "/home/yoshitaka-i/anaconda3/envs/py36/lib/python3.6/site-packages/sklearn/preprocessing/label.py:151: DeprecationWarning: The truth value of an empty array is ambiguous. Returning False, but in future this will result in an error. Use `array.size > 0` to check that an array is not empty.\n",
      "  if diff:\n"
     ]
    }
   ],
   "source": [
    "# define and fit \n",
    "model = xgb.XGBClassifier(**params)\n",
    "model.fit(X_train, y_train)\n",
    "\n",
    "t.append(model.score(X_test, y_test))"
   ]
  },
  {
   "cell_type": "code",
   "execution_count": 16,
   "metadata": {
    "scrolled": true
   },
   "outputs": [
    {
     "name": "stdout",
     "output_type": "stream",
     "text": [
      "[1]\tvalid_0's multi_logloss: 1.32513\n",
      "Training until validation scores don't improve for 5 rounds.\n",
      "[2]\tvalid_0's multi_logloss: 1.2634\n",
      "[3]\tvalid_0's multi_logloss: 1.21589\n",
      "[4]\tvalid_0's multi_logloss: 1.17031\n",
      "[5]\tvalid_0's multi_logloss: 1.1328\n",
      "[6]\tvalid_0's multi_logloss: 1.09801\n",
      "[7]\tvalid_0's multi_logloss: 1.06525\n",
      "[8]\tvalid_0's multi_logloss: 1.03686\n",
      "[9]\tvalid_0's multi_logloss: 1.01462\n",
      "[10]\tvalid_0's multi_logloss: 0.990326\n",
      "[11]\tvalid_0's multi_logloss: 0.968286\n",
      "[12]\tvalid_0's multi_logloss: 0.946774\n",
      "[13]\tvalid_0's multi_logloss: 0.929293\n",
      "[14]\tvalid_0's multi_logloss: 0.901135\n",
      "[15]\tvalid_0's multi_logloss: 0.880553\n",
      "[16]\tvalid_0's multi_logloss: 0.862709\n",
      "[17]\tvalid_0's multi_logloss: 0.84778\n",
      "[18]\tvalid_0's multi_logloss: 0.833466\n",
      "[19]\tvalid_0's multi_logloss: 0.824991\n",
      "[20]\tvalid_0's multi_logloss: 0.815221\n",
      "[21]\tvalid_0's multi_logloss: 0.805016\n",
      "[22]\tvalid_0's multi_logloss: 0.797812\n",
      "[23]\tvalid_0's multi_logloss: 0.786443\n",
      "[24]\tvalid_0's multi_logloss: 0.779972\n",
      "[25]\tvalid_0's multi_logloss: 0.771111\n",
      "[26]\tvalid_0's multi_logloss: 0.763098\n",
      "[27]\tvalid_0's multi_logloss: 0.753306\n",
      "[28]\tvalid_0's multi_logloss: 0.749477\n",
      "[29]\tvalid_0's multi_logloss: 0.74503\n",
      "[30]\tvalid_0's multi_logloss: 0.73735\n",
      "[31]\tvalid_0's multi_logloss: 0.729486\n",
      "[32]\tvalid_0's multi_logloss: 0.725262\n",
      "[33]\tvalid_0's multi_logloss: 0.724323\n",
      "[34]\tvalid_0's multi_logloss: 0.72028\n",
      "[35]\tvalid_0's multi_logloss: 0.719286\n",
      "[36]\tvalid_0's multi_logloss: 0.721481\n",
      "[37]\tvalid_0's multi_logloss: 0.718396\n",
      "[38]\tvalid_0's multi_logloss: 0.715003\n",
      "[39]\tvalid_0's multi_logloss: 0.711299\n",
      "[40]\tvalid_0's multi_logloss: 0.7123\n",
      "[41]\tvalid_0's multi_logloss: 0.706219\n",
      "[42]\tvalid_0's multi_logloss: 0.702248\n",
      "[43]\tvalid_0's multi_logloss: 0.70039\n",
      "[44]\tvalid_0's multi_logloss: 0.696543\n",
      "[45]\tvalid_0's multi_logloss: 0.695708\n",
      "[46]\tvalid_0's multi_logloss: 0.69866\n",
      "[47]\tvalid_0's multi_logloss: 0.699126\n",
      "[48]\tvalid_0's multi_logloss: 0.695957\n",
      "[49]\tvalid_0's multi_logloss: 0.695296\n",
      "[50]\tvalid_0's multi_logloss: 0.692059\n",
      "[51]\tvalid_0's multi_logloss: 0.691375\n",
      "[52]\tvalid_0's multi_logloss: 0.686074\n",
      "[53]\tvalid_0's multi_logloss: 0.681289\n",
      "[54]\tvalid_0's multi_logloss: 0.677111\n",
      "[55]\tvalid_0's multi_logloss: 0.680712\n",
      "[56]\tvalid_0's multi_logloss: 0.681703\n",
      "[57]\tvalid_0's multi_logloss: 0.683209\n",
      "[58]\tvalid_0's multi_logloss: 0.689131\n",
      "[59]\tvalid_0's multi_logloss: 0.692514\n",
      "Early stopping, best iteration is:\n",
      "[54]\tvalid_0's multi_logloss: 0.677111\n"
     ]
    },
    {
     "name": "stderr",
     "output_type": "stream",
     "text": [
      "/home/yoshitaka-i/anaconda3/envs/py36/lib/python3.6/site-packages/sklearn/preprocessing/label.py:151: DeprecationWarning: The truth value of an empty array is ambiguous. Returning False, but in future this will result in an error. Use `array.size > 0` to check that an array is not empty.\n",
      "  if diff:\n"
     ]
    }
   ],
   "source": [
    "# define and fit \n",
    "gbm = lgb.LGBMClassifier(\n",
    "    objective='multiclass',\n",
    "    device = 'gpu'\n",
    ")\n",
    "\n",
    "gbm.fit(\n",
    "    X_train, \n",
    "    y_train,\n",
    "    eval_set=[(X_test, y_test)],\n",
    "    early_stopping_rounds=5\n",
    ")\n",
    "\n",
    "t.append(gbm.score(X_test, y_test))"
   ]
  },
  {
   "cell_type": "code",
   "execution_count": 17,
   "metadata": {},
   "outputs": [],
   "source": [
    "f.append(t)"
   ]
  },
  {
   "cell_type": "code",
   "execution_count": 22,
   "metadata": {},
   "outputs": [],
   "source": [
    "pd.DataFrame(f, columns=['rf', 'xgb', 'lgb'], index=['pos', 'neg']).to_csv('../result/decomp.csv')"
   ]
  }
 ],
 "metadata": {
  "kernelspec": {
   "display_name": "py36",
   "language": "python",
   "name": "py36"
  },
  "language_info": {
   "codemirror_mode": {
    "name": "ipython",
    "version": 3
   },
   "file_extension": ".py",
   "mimetype": "text/x-python",
   "name": "python",
   "nbconvert_exporter": "python",
   "pygments_lexer": "ipython3",
   "version": "3.6.5"
  }
 },
 "nbformat": 4,
 "nbformat_minor": 2
}
