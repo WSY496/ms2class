{
 "cells": [
  {
   "cell_type": "code",
   "execution_count": 1,
   "metadata": {},
   "outputs": [
    {
     "name": "stderr",
     "output_type": "stream",
     "text": [
      "/home/yoshitaka-i/anaconda3/envs/py36/lib/python3.6/site-packages/h5py/__init__.py:36: FutureWarning: Conversion of the second argument of issubdtype from `float` to `np.floating` is deprecated. In future, it will be treated as `np.float64 == np.dtype(float).type`.\n",
      "  from ._conv import register_converters as _register_converters\n",
      "Using TensorFlow backend.\n"
     ]
    }
   ],
   "source": [
    "##### Import some librarys\n",
    "import numpy\n",
    "import pickle\n",
    "import pandas as pd\n",
    "\n",
    "import xgboost as xgb\n",
    "import lightgbm as lgb\n",
    "\n",
    "from sklearn.ensemble import RandomForestClassifier as rf\n",
    "from sklearn.metrics import mean_squared_error\n",
    "from sklearn.model_selection import train_test_split\n",
    "from sklearn.metrics import confusion_matrix\n",
    "from sklearn.model_selection import GridSearchCV\n",
    "from sklearn import preprocessing\n",
    "from keras import models\n",
    "from keras import layers\n",
    "from keras.layers.advanced_activations import LeakyReLU\n",
    "from keras.utils import np_utils\n",
    "from keras.layers import Dense, Dropout, Activation, Flatten, Input, Dense, GaussianNoise, GaussianDropout\n",
    "from keras.models import Sequential, Model\n",
    "from keras.regularizers import l2, l1\n",
    "from keras.optimizers import Adam, SGD, Nadam\n",
    "from keras.callbacks import LearningRateScheduler\n",
    "from keras.metrics import categorical_accuracy\n",
    "from keras.layers.normalization import BatchNormalization\n",
    "from keras.callbacks import EarlyStopping\n",
    "from keras.wrappers.scikit_learn import KerasClassifier\n",
    "from  keras.regularizers import l1, l2\n",
    "from keras import backend as K\n",
    "from keras.utils.generic_utils import get_custom_objects\n",
    "\n",
    "import matplotlib.pyplot as plt\n",
    "\n",
    "%matplotlib inline"
   ]
  },
  {
   "cell_type": "code",
   "execution_count": 2,
   "metadata": {},
   "outputs": [],
   "source": [
    "# read data\n",
    "df = pd.read_csv('../data/feature_selection_positive.csv')\n",
    "\n",
    "# divide objective and target\n",
    "objective = df.Subclass\n",
    "le = preprocessing.LabelEncoder()\n",
    "objective = le.fit_transform(objective)\n",
    "features = df.drop('Subclass', axis=1)\n",
    "\n",
    "# train test split\n",
    "random_state=np.random.seed(42)\n",
    "X_train, X_test, y_train, y_test = train_test_split(\n",
    "    features, \n",
    "    objective,\n",
    "    test_size=0.2\n",
    ")"
   ]
  },
  {
   "cell_type": "code",
   "execution_count": 3,
   "metadata": {},
   "outputs": [],
   "source": [
    "# define and fit\n",
    "clf = rf()\n",
    "clf = clf.fit(X_train, y_train)\n",
    "\n",
    "pickle.dump(clf, open('../model/rf_pos_fs.sav', 'wb'))"
   ]
  },
  {
   "cell_type": "code",
   "execution_count": 4,
   "metadata": {
    "scrolled": true
   },
   "outputs": [
    {
     "name": "stdout",
     "output_type": "stream",
     "text": [
      "[1]\tvalid_0's multi_logloss: 1.29099\n",
      "Training until validation scores don't improve for 5 rounds.\n",
      "[2]\tvalid_0's multi_logloss: 1.21112\n",
      "[3]\tvalid_0's multi_logloss: 1.14382\n",
      "[4]\tvalid_0's multi_logloss: 1.0832\n",
      "[5]\tvalid_0's multi_logloss: 1.02917\n",
      "[6]\tvalid_0's multi_logloss: 0.982285\n",
      "[7]\tvalid_0's multi_logloss: 0.939476\n",
      "[8]\tvalid_0's multi_logloss: 0.902268\n",
      "[9]\tvalid_0's multi_logloss: 0.869022\n",
      "[10]\tvalid_0's multi_logloss: 0.838978\n",
      "[11]\tvalid_0's multi_logloss: 0.811207\n",
      "[12]\tvalid_0's multi_logloss: 0.784389\n",
      "[13]\tvalid_0's multi_logloss: 0.761399\n",
      "[14]\tvalid_0's multi_logloss: 0.739735\n",
      "[15]\tvalid_0's multi_logloss: 0.720263\n",
      "[16]\tvalid_0's multi_logloss: 0.702614\n",
      "[17]\tvalid_0's multi_logloss: 0.682459\n",
      "[18]\tvalid_0's multi_logloss: 0.667015\n",
      "[19]\tvalid_0's multi_logloss: 0.650877\n",
      "[20]\tvalid_0's multi_logloss: 0.637697\n",
      "[21]\tvalid_0's multi_logloss: 0.625049\n",
      "[22]\tvalid_0's multi_logloss: 0.610747\n",
      "[23]\tvalid_0's multi_logloss: 0.598023\n",
      "[24]\tvalid_0's multi_logloss: 0.586897\n",
      "[25]\tvalid_0's multi_logloss: 0.575418\n",
      "[26]\tvalid_0's multi_logloss: 0.56474\n",
      "[27]\tvalid_0's multi_logloss: 0.556823\n",
      "[28]\tvalid_0's multi_logloss: 0.548267\n",
      "[29]\tvalid_0's multi_logloss: 0.53965\n",
      "[30]\tvalid_0's multi_logloss: 0.532279\n",
      "[31]\tvalid_0's multi_logloss: 0.525444\n",
      "[32]\tvalid_0's multi_logloss: 0.520452\n",
      "[33]\tvalid_0's multi_logloss: 0.515451\n",
      "[34]\tvalid_0's multi_logloss: 0.508334\n",
      "[35]\tvalid_0's multi_logloss: 0.502709\n",
      "[36]\tvalid_0's multi_logloss: 0.498747\n",
      "[37]\tvalid_0's multi_logloss: 0.49451\n",
      "[38]\tvalid_0's multi_logloss: 0.489705\n",
      "[39]\tvalid_0's multi_logloss: 0.485485\n",
      "[40]\tvalid_0's multi_logloss: 0.481227\n",
      "[41]\tvalid_0's multi_logloss: 0.47667\n",
      "[42]\tvalid_0's multi_logloss: 0.475194\n",
      "[43]\tvalid_0's multi_logloss: 0.474003\n",
      "[44]\tvalid_0's multi_logloss: 0.471756\n",
      "[45]\tvalid_0's multi_logloss: 0.469968\n",
      "[46]\tvalid_0's multi_logloss: 0.465753\n",
      "[47]\tvalid_0's multi_logloss: 0.46255\n",
      "[48]\tvalid_0's multi_logloss: 0.45893\n",
      "[49]\tvalid_0's multi_logloss: 0.455197\n",
      "[50]\tvalid_0's multi_logloss: 0.454486\n",
      "[51]\tvalid_0's multi_logloss: 0.454999\n",
      "[52]\tvalid_0's multi_logloss: 0.451936\n",
      "[53]\tvalid_0's multi_logloss: 0.450261\n",
      "[54]\tvalid_0's multi_logloss: 0.447788\n",
      "[55]\tvalid_0's multi_logloss: 0.444263\n",
      "[56]\tvalid_0's multi_logloss: 0.442964\n",
      "[57]\tvalid_0's multi_logloss: 0.441569\n",
      "[58]\tvalid_0's multi_logloss: 0.440478\n",
      "[59]\tvalid_0's multi_logloss: 0.439564\n",
      "[60]\tvalid_0's multi_logloss: 0.43765\n",
      "[61]\tvalid_0's multi_logloss: 0.437258\n",
      "[62]\tvalid_0's multi_logloss: 0.435878\n",
      "[63]\tvalid_0's multi_logloss: 0.434835\n",
      "[64]\tvalid_0's multi_logloss: 0.434072\n",
      "[65]\tvalid_0's multi_logloss: 0.433765\n",
      "[66]\tvalid_0's multi_logloss: 0.433802\n",
      "[67]\tvalid_0's multi_logloss: 0.433107\n",
      "[68]\tvalid_0's multi_logloss: 0.432523\n",
      "[69]\tvalid_0's multi_logloss: 0.432907\n",
      "[70]\tvalid_0's multi_logloss: 0.430747\n",
      "[71]\tvalid_0's multi_logloss: 0.431061\n",
      "[72]\tvalid_0's multi_logloss: 0.429249\n",
      "[73]\tvalid_0's multi_logloss: 0.428076\n",
      "[74]\tvalid_0's multi_logloss: 0.427967\n",
      "[75]\tvalid_0's multi_logloss: 0.430413\n",
      "[76]\tvalid_0's multi_logloss: 0.431572\n",
      "[77]\tvalid_0's multi_logloss: 0.430495\n",
      "[78]\tvalid_0's multi_logloss: 0.431871\n",
      "[79]\tvalid_0's multi_logloss: 0.432616\n",
      "Early stopping, best iteration is:\n",
      "[74]\tvalid_0's multi_logloss: 0.427967\n"
     ]
    },
    {
     "name": "stderr",
     "output_type": "stream",
     "text": [
      "/home/yoshitaka-i/anaconda3/envs/py36/lib/python3.6/site-packages/sklearn/preprocessing/label.py:151: DeprecationWarning: The truth value of an empty array is ambiguous. Returning False, but in future this will result in an error. Use `array.size > 0` to check that an array is not empty.\n",
      "  if diff:\n"
     ]
    }
   ],
   "source": [
    "# define and fit\n",
    "gbm = lgb.LGBMClassifier(\n",
    "    objective='multiclass',\n",
    "    device = 'gpu'\n",
    ")\n",
    "\n",
    "gbm.fit(\n",
    "    X_train, \n",
    "    y_train,\n",
    "    eval_set=[(X_test, y_test)],\n",
    "    early_stopping_rounds=5\n",
    ")\n",
    "\n",
    "pickle.dump(gbm, open('../model/lgbm_pos_fs.sav', 'wb'))"
   ]
  },
  {
   "cell_type": "code",
   "execution_count": 5,
   "metadata": {},
   "outputs": [],
   "source": [
    "# set parameters\n",
    "params = {}\n",
    "params['device'] = 'gpu'\n",
    "params['gpu_id'] = 1\n",
    "params['updater'] = 'grow_gpu_hist'"
   ]
  },
  {
   "cell_type": "code",
   "execution_count": 6,
   "metadata": {
    "scrolled": true
   },
   "outputs": [
    {
     "name": "stderr",
     "output_type": "stream",
     "text": [
      "/home/yoshitaka-i/anaconda3/envs/py36/lib/python3.6/site-packages/sklearn/preprocessing/label.py:151: DeprecationWarning: The truth value of an empty array is ambiguous. Returning False, but in future this will result in an error. Use `array.size > 0` to check that an array is not empty.\n",
      "  if diff:\n"
     ]
    }
   ],
   "source": [
    "# define and fit\n",
    "model = xgb.XGBClassifier(**params)\n",
    "model.fit(X_train, y_train)\n",
    "\n",
    "pickle.dump(model, open('../model/xgb_pos_fs.sav', 'wb'))"
   ]
  },
  {
   "cell_type": "code",
   "execution_count": 10,
   "metadata": {},
   "outputs": [],
   "source": [
    "#read data\n",
    "df = pd.read_csv('../data/feature_selection_negative.csv')\n",
    "\n",
    "# divide objective and target\n",
    "objective = df.Subclass\n",
    "le = preprocessing.LabelEncoder()\n",
    "objective = le.fit_transform(objective)\n",
    "features = df.drop('Subclass', axis=1)\n",
    "\n",
    "# train test split\n",
    "random_state=np.random.seed(42)\n",
    "X_train, X_test, y_train, y_test = train_test_split(\n",
    "    features, \n",
    "    objective,\n",
    "    test_size=0.2\n",
    ")"
   ]
  },
  {
   "cell_type": "code",
   "execution_count": 11,
   "metadata": {},
   "outputs": [
    {
     "name": "stdout",
     "output_type": "stream",
     "text": [
      "70.21\n"
     ]
    }
   ],
   "source": [
    "# define and fit \n",
    "clf = rf()\n",
    "clf = clf.fit(X_train, y_train)\n",
    "\n",
    "pickle.dump(clf, open('../model/rf_ng_fs.sav', 'wb'))"
   ]
  },
  {
   "cell_type": "code",
   "execution_count": 12,
   "metadata": {
    "scrolled": true
   },
   "outputs": [
    {
     "name": "stdout",
     "output_type": "stream",
     "text": [
      "[1]\tvalid_0's multi_logloss: 1.31034\n",
      "Training until validation scores don't improve for 5 rounds.\n",
      "[2]\tvalid_0's multi_logloss: 1.24189\n",
      "[3]\tvalid_0's multi_logloss: 1.18161\n",
      "[4]\tvalid_0's multi_logloss: 1.1357\n",
      "[5]\tvalid_0's multi_logloss: 1.08979\n",
      "[6]\tvalid_0's multi_logloss: 1.0541\n",
      "[7]\tvalid_0's multi_logloss: 1.01417\n",
      "[8]\tvalid_0's multi_logloss: 0.980564\n",
      "[9]\tvalid_0's multi_logloss: 0.95256\n",
      "[10]\tvalid_0's multi_logloss: 0.920911\n",
      "[11]\tvalid_0's multi_logloss: 0.898194\n",
      "[12]\tvalid_0's multi_logloss: 0.880716\n",
      "[13]\tvalid_0's multi_logloss: 0.856573\n",
      "[14]\tvalid_0's multi_logloss: 0.838118\n",
      "[15]\tvalid_0's multi_logloss: 0.821115\n",
      "[16]\tvalid_0's multi_logloss: 0.803997\n",
      "[17]\tvalid_0's multi_logloss: 0.788368\n",
      "[18]\tvalid_0's multi_logloss: 0.77776\n",
      "[19]\tvalid_0's multi_logloss: 0.766919\n",
      "[20]\tvalid_0's multi_logloss: 0.758397\n",
      "[21]\tvalid_0's multi_logloss: 0.749307\n",
      "[22]\tvalid_0's multi_logloss: 0.739203\n",
      "[23]\tvalid_0's multi_logloss: 0.733061\n",
      "[24]\tvalid_0's multi_logloss: 0.72484\n",
      "[25]\tvalid_0's multi_logloss: 0.720758\n",
      "[26]\tvalid_0's multi_logloss: 0.715925\n",
      "[27]\tvalid_0's multi_logloss: 0.710369\n",
      "[28]\tvalid_0's multi_logloss: 0.705516\n",
      "[29]\tvalid_0's multi_logloss: 0.704505\n",
      "[30]\tvalid_0's multi_logloss: 0.701383\n",
      "[31]\tvalid_0's multi_logloss: 0.699063\n",
      "[32]\tvalid_0's multi_logloss: 0.694421\n",
      "[33]\tvalid_0's multi_logloss: 0.687706\n",
      "[34]\tvalid_0's multi_logloss: 0.684572\n",
      "[35]\tvalid_0's multi_logloss: 0.682182\n",
      "[36]\tvalid_0's multi_logloss: 0.679916\n",
      "[37]\tvalid_0's multi_logloss: 0.676125\n",
      "[38]\tvalid_0's multi_logloss: 0.673024\n",
      "[39]\tvalid_0's multi_logloss: 0.669276\n",
      "[40]\tvalid_0's multi_logloss: 0.665214\n",
      "[41]\tvalid_0's multi_logloss: 0.664138\n",
      "[42]\tvalid_0's multi_logloss: 0.663451\n",
      "[43]\tvalid_0's multi_logloss: 0.66408\n",
      "[44]\tvalid_0's multi_logloss: 0.660228\n",
      "[45]\tvalid_0's multi_logloss: 0.658381\n",
      "[46]\tvalid_0's multi_logloss: 0.654898\n",
      "[47]\tvalid_0's multi_logloss: 0.654019\n",
      "[48]\tvalid_0's multi_logloss: 0.65185\n",
      "[49]\tvalid_0's multi_logloss: 0.649227\n",
      "[50]\tvalid_0's multi_logloss: 0.645333\n",
      "[51]\tvalid_0's multi_logloss: 0.643438\n",
      "[52]\tvalid_0's multi_logloss: 0.640734\n",
      "[53]\tvalid_0's multi_logloss: 0.640639\n",
      "[54]\tvalid_0's multi_logloss: 0.634972\n",
      "[55]\tvalid_0's multi_logloss: 0.634538\n",
      "[56]\tvalid_0's multi_logloss: 0.635857\n",
      "[57]\tvalid_0's multi_logloss: 0.640551\n",
      "[58]\tvalid_0's multi_logloss: 0.639147\n",
      "[59]\tvalid_0's multi_logloss: 0.641818\n",
      "[60]\tvalid_0's multi_logloss: 0.643934\n",
      "Early stopping, best iteration is:\n",
      "[55]\tvalid_0's multi_logloss: 0.634538\n"
     ]
    },
    {
     "name": "stderr",
     "output_type": "stream",
     "text": [
      "/home/yoshitaka-i/anaconda3/envs/py36/lib/python3.6/site-packages/sklearn/preprocessing/label.py:151: DeprecationWarning: The truth value of an empty array is ambiguous. Returning False, but in future this will result in an error. Use `array.size > 0` to check that an array is not empty.\n",
      "  if diff:\n"
     ]
    }
   ],
   "source": [
    "# define and fit\n",
    "gbm = lgb.LGBMClassifier(\n",
    "    objective='multiclass',\n",
    "    device = 'gpu'\n",
    ")\n",
    "\n",
    "gbm.fit(\n",
    "    X_train, \n",
    "    y_train,\n",
    "    eval_set=[(X_test, y_test)],\n",
    "    early_stopping_rounds=5\n",
    ")\n",
    "\n",
    "pickle.dump(gbm, open('../model/lgbm_ng_fs.sav', 'wb'))"
   ]
  },
  {
   "cell_type": "code",
   "execution_count": 13,
   "metadata": {},
   "outputs": [],
   "source": [
    "# setting parameters\n",
    "params = {}\n",
    "params['device'] = 'gpu'\n",
    "params['gpu_id'] = 1\n",
    "params['updater'] = 'grow_gpu_hist'"
   ]
  },
  {
   "cell_type": "code",
   "execution_count": 14,
   "metadata": {
    "scrolled": true
   },
   "outputs": [
    {
     "name": "stderr",
     "output_type": "stream",
     "text": [
      "/home/yoshitaka-i/anaconda3/envs/py36/lib/python3.6/site-packages/sklearn/preprocessing/label.py:151: DeprecationWarning: The truth value of an empty array is ambiguous. Returning False, but in future this will result in an error. Use `array.size > 0` to check that an array is not empty.\n",
      "  if diff:\n"
     ]
    }
   ],
   "source": [
    "# define and fit \n",
    "model = xgb.XGBClassifier(**params)\n",
    "model.fit(X_train, y_train)\n",
    "\n",
    "pickle.dump(model, open('../model/xgb_ng_fs.sav', 'wb'))"
   ]
  }
 ],
 "metadata": {
  "kernelspec": {
   "display_name": "py36",
   "language": "python",
   "name": "py36"
  },
  "language_info": {
   "codemirror_mode": {
    "name": "ipython",
    "version": 3
   },
   "file_extension": ".py",
   "mimetype": "text/x-python",
   "name": "python",
   "nbconvert_exporter": "python",
   "pygments_lexer": "ipython3",
   "version": "3.6.5"
  }
 },
 "nbformat": 4,
 "nbformat_minor": 2
}
