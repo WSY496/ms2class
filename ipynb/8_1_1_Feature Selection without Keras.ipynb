{
 "cells": [
  {
   "cell_type": "code",
   "execution_count": 1,
   "metadata": {},
   "outputs": [],
   "source": [
    "##### Import some librarys\n",
    "import numpy as np\n",
    "import pickle\n",
    "import pandas as pd\n",
    "\n",
    "import xgboost as xgb\n",
    "import lightgbm as lgb\n",
    "\n",
    "from sklearn.ensemble import RandomForestClassifier as rf\n",
    "from sklearn.metrics import mean_squared_error\n",
    "from sklearn.model_selection import train_test_split\n",
    "from sklearn.metrics import confusion_matrix\n",
    "from sklearn.model_selection import GridSearchCV\n",
    "from sklearn import preprocessing\n",
    "\n",
    "import matplotlib.pyplot as plt\n",
    "\n",
    "%matplotlib inline"
   ]
  },
  {
   "cell_type": "code",
   "execution_count": 2,
   "metadata": {},
   "outputs": [],
   "source": [
    "# read data\n",
    "df = pd.read_csv('../data/feature_selection_positive.csv')\n",
    "\n",
    "# divide objective and target\n",
    "objective = df.Subclass\n",
    "le = preprocessing.LabelEncoder()\n",
    "objective = le.fit_transform(objective)\n",
    "features = df.drop('Subclass', axis=1)\n",
    "\n",
    "# train test split\n",
    "random_state=np.random.seed(42)\n",
    "X_train, X_test, y_train, y_test = train_test_split(\n",
    "    features, \n",
    "    objective,\n",
    "    test_size=0.2\n",
    ")"
   ]
  },
  {
   "cell_type": "code",
   "execution_count": 3,
   "metadata": {},
   "outputs": [],
   "source": [
    "# define and fit\n",
    "clf = rf()\n",
    "clf = clf.fit(X_train, y_train)\n",
    "\n",
    "# pickle.dump(clf, open('../model/rf_pos_fs.sav', 'wb'))"
   ]
  },
  {
   "cell_type": "code",
   "execution_count": 4,
   "metadata": {
    "scrolled": true
   },
   "outputs": [
    {
     "name": "stdout",
     "output_type": "stream",
     "text": [
      "[1]\tvalid_0's multi_logloss: 1.29099\n",
      "Training until validation scores don't improve for 5 rounds.\n",
      "[2]\tvalid_0's multi_logloss: 1.21112\n",
      "[3]\tvalid_0's multi_logloss: 1.14382\n",
      "[4]\tvalid_0's multi_logloss: 1.0832\n",
      "[5]\tvalid_0's multi_logloss: 1.02917\n",
      "[6]\tvalid_0's multi_logloss: 0.982285\n",
      "[7]\tvalid_0's multi_logloss: 0.939458\n",
      "[8]\tvalid_0's multi_logloss: 0.902251\n",
      "[9]\tvalid_0's multi_logloss: 0.869005\n",
      "[10]\tvalid_0's multi_logloss: 0.838961\n",
      "[11]\tvalid_0's multi_logloss: 0.811191\n",
      "[12]\tvalid_0's multi_logloss: 0.784374\n",
      "[13]\tvalid_0's multi_logloss: 0.761385\n",
      "[14]\tvalid_0's multi_logloss: 0.739742\n",
      "[15]\tvalid_0's multi_logloss: 0.720271\n",
      "[16]\tvalid_0's multi_logloss: 0.702652\n",
      "[17]\tvalid_0's multi_logloss: 0.682432\n",
      "[18]\tvalid_0's multi_logloss: 0.667009\n",
      "[19]\tvalid_0's multi_logloss: 0.650874\n",
      "[20]\tvalid_0's multi_logloss: 0.637694\n",
      "[21]\tvalid_0's multi_logloss: 0.625044\n",
      "[22]\tvalid_0's multi_logloss: 0.610741\n",
      "[23]\tvalid_0's multi_logloss: 0.598017\n",
      "[24]\tvalid_0's multi_logloss: 0.587166\n",
      "[25]\tvalid_0's multi_logloss: 0.575738\n",
      "[26]\tvalid_0's multi_logloss: 0.565053\n",
      "[27]\tvalid_0's multi_logloss: 0.557045\n",
      "[28]\tvalid_0's multi_logloss: 0.548544\n",
      "[29]\tvalid_0's multi_logloss: 0.539926\n",
      "[30]\tvalid_0's multi_logloss: 0.532548\n",
      "[31]\tvalid_0's multi_logloss: 0.525719\n",
      "[32]\tvalid_0's multi_logloss: 0.520661\n",
      "[33]\tvalid_0's multi_logloss: 0.515658\n",
      "[34]\tvalid_0's multi_logloss: 0.508505\n",
      "[35]\tvalid_0's multi_logloss: 0.502892\n",
      "[36]\tvalid_0's multi_logloss: 0.498846\n",
      "[37]\tvalid_0's multi_logloss: 0.494628\n",
      "[38]\tvalid_0's multi_logloss: 0.489823\n",
      "[39]\tvalid_0's multi_logloss: 0.485597\n",
      "[40]\tvalid_0's multi_logloss: 0.481278\n",
      "[41]\tvalid_0's multi_logloss: 0.476724\n",
      "[42]\tvalid_0's multi_logloss: 0.475207\n",
      "[43]\tvalid_0's multi_logloss: 0.474015\n",
      "[44]\tvalid_0's multi_logloss: 0.471768\n",
      "[45]\tvalid_0's multi_logloss: 0.469983\n",
      "[46]\tvalid_0's multi_logloss: 0.465777\n",
      "[47]\tvalid_0's multi_logloss: 0.462519\n",
      "[48]\tvalid_0's multi_logloss: 0.458892\n",
      "[49]\tvalid_0's multi_logloss: 0.455158\n",
      "[50]\tvalid_0's multi_logloss: 0.454449\n",
      "[51]\tvalid_0's multi_logloss: 0.454981\n",
      "[52]\tvalid_0's multi_logloss: 0.451897\n",
      "[53]\tvalid_0's multi_logloss: 0.450239\n",
      "[54]\tvalid_0's multi_logloss: 0.447781\n",
      "[55]\tvalid_0's multi_logloss: 0.44426\n",
      "[56]\tvalid_0's multi_logloss: 0.442758\n",
      "[57]\tvalid_0's multi_logloss: 0.441364\n",
      "[58]\tvalid_0's multi_logloss: 0.440251\n",
      "[59]\tvalid_0's multi_logloss: 0.43932\n",
      "[60]\tvalid_0's multi_logloss: 0.437407\n",
      "[61]\tvalid_0's multi_logloss: 0.437187\n",
      "[62]\tvalid_0's multi_logloss: 0.435875\n",
      "[63]\tvalid_0's multi_logloss: 0.434826\n",
      "[64]\tvalid_0's multi_logloss: 0.434065\n",
      "[65]\tvalid_0's multi_logloss: 0.433768\n",
      "[66]\tvalid_0's multi_logloss: 0.433822\n",
      "[67]\tvalid_0's multi_logloss: 0.433137\n",
      "[68]\tvalid_0's multi_logloss: 0.432557\n",
      "[69]\tvalid_0's multi_logloss: 0.433063\n",
      "[70]\tvalid_0's multi_logloss: 0.430916\n",
      "[71]\tvalid_0's multi_logloss: 0.431083\n",
      "[72]\tvalid_0's multi_logloss: 0.429279\n",
      "[73]\tvalid_0's multi_logloss: 0.428111\n",
      "[74]\tvalid_0's multi_logloss: 0.427999\n",
      "[75]\tvalid_0's multi_logloss: 0.430422\n",
      "[76]\tvalid_0's multi_logloss: 0.431597\n",
      "[77]\tvalid_0's multi_logloss: 0.430523\n",
      "[78]\tvalid_0's multi_logloss: 0.431803\n",
      "[79]\tvalid_0's multi_logloss: 0.432561\n",
      "Early stopping, best iteration is:\n",
      "[74]\tvalid_0's multi_logloss: 0.427999\n"
     ]
    },
    {
     "data": {
      "text/plain": [
       "LGBMClassifier(boosting_type='gbdt', class_weight=None, colsample_bytree=1.0,\n",
       "        device='gpu', importance_type='split', learning_rate=0.1,\n",
       "        max_depth=-1, min_child_samples=20, min_child_weight=0.001,\n",
       "        min_split_gain=0.0, n_estimators=100, n_jobs=-1, num_leaves=31,\n",
       "        objective='multiclass', random_state=None, reg_alpha=0.0,\n",
       "        reg_lambda=0.0, silent=True, subsample=1.0,\n",
       "        subsample_for_bin=200000, subsample_freq=0)"
      ]
     },
     "execution_count": 4,
     "metadata": {},
     "output_type": "execute_result"
    }
   ],
   "source": [
    "# define and fit\n",
    "gbm = lgb.LGBMClassifier(\n",
    "    objective='multiclass',\n",
    "    device = 'gpu'\n",
    ")\n",
    "\n",
    "gbm.fit(\n",
    "    X_train, \n",
    "    y_train,\n",
    "    eval_set=[(X_test, y_test)],\n",
    "    early_stopping_rounds=5\n",
    ")\n",
    "\n",
    "# pickle.dump(gbm, open('../model/lgbm_pos_fs.sav', 'wb'))"
   ]
  },
  {
   "cell_type": "code",
   "execution_count": 5,
   "metadata": {},
   "outputs": [],
   "source": [
    "# set parameters\n",
    "params = {}\n",
    "params['device'] = 'gpu'\n",
    "params['gpu_id'] = 0\n",
    "params['updater'] = 'grow_gpu_hist'"
   ]
  },
  {
   "cell_type": "code",
   "execution_count": 6,
   "metadata": {
    "scrolled": true
   },
   "outputs": [
    {
     "data": {
      "text/plain": [
       "XGBClassifier(base_score=0.5, booster='gbtree', colsample_bylevel=1,\n",
       "       colsample_bytree=1, device='gpu', gamma=0, gpu_id=0,\n",
       "       learning_rate=0.1, max_delta_step=0, max_depth=3,\n",
       "       min_child_weight=1, missing=None, n_estimators=100, n_jobs=1,\n",
       "       nthread=None, objective='multi:softprob', random_state=0,\n",
       "       reg_alpha=0, reg_lambda=1, scale_pos_weight=1, seed=None,\n",
       "       silent=True, subsample=1, updater='grow_gpu_hist')"
      ]
     },
     "execution_count": 6,
     "metadata": {},
     "output_type": "execute_result"
    }
   ],
   "source": [
    "# define and fit\n",
    "model = xgb.XGBClassifier(**params)\n",
    "model.fit(X_train, y_train)\n",
    "\n",
    "# pickle.dump(model, open('../model/xgb_pos_fs.sav', 'wb'))"
   ]
  },
  {
   "cell_type": "code",
   "execution_count": 7,
   "metadata": {},
   "outputs": [],
   "source": [
    "#read data\n",
    "df = pd.read_csv('../data/feature_selection_negative.csv')\n",
    "\n",
    "# divide objective and target\n",
    "objective = df.Subclass\n",
    "le = preprocessing.LabelEncoder()\n",
    "objective = le.fit_transform(objective)\n",
    "features = df.drop('Subclass', axis=1)\n",
    "\n",
    "# train test split\n",
    "random_state=np.random.seed(42)\n",
    "X_train, X_test, y_train, y_test = train_test_split(\n",
    "    features, \n",
    "    objective,\n",
    "    test_size=0.2\n",
    ")"
   ]
  },
  {
   "cell_type": "code",
   "execution_count": 8,
   "metadata": {},
   "outputs": [],
   "source": [
    "# define and fit \n",
    "clf = rf()\n",
    "clf = clf.fit(X_train, y_train)\n",
    "\n",
    "# pickle.dump(clf, open('../model/rf_ng_fs.sav', 'wb'))"
   ]
  },
  {
   "cell_type": "code",
   "execution_count": 9,
   "metadata": {
    "scrolled": true
   },
   "outputs": [
    {
     "name": "stdout",
     "output_type": "stream",
     "text": [
      "[1]\tvalid_0's multi_logloss: 1.31034\n",
      "Training until validation scores don't improve for 5 rounds.\n",
      "[2]\tvalid_0's multi_logloss: 1.24189\n",
      "[3]\tvalid_0's multi_logloss: 1.18161\n",
      "[4]\tvalid_0's multi_logloss: 1.1357\n",
      "[5]\tvalid_0's multi_logloss: 1.08979\n",
      "[6]\tvalid_0's multi_logloss: 1.0541\n",
      "[7]\tvalid_0's multi_logloss: 1.01416\n",
      "[8]\tvalid_0's multi_logloss: 0.980563\n",
      "[9]\tvalid_0's multi_logloss: 0.952559\n",
      "[10]\tvalid_0's multi_logloss: 0.92091\n",
      "[11]\tvalid_0's multi_logloss: 0.898193\n",
      "[12]\tvalid_0's multi_logloss: 0.880715\n",
      "[13]\tvalid_0's multi_logloss: 0.856572\n",
      "[14]\tvalid_0's multi_logloss: 0.838117\n",
      "[15]\tvalid_0's multi_logloss: 0.821114\n",
      "[16]\tvalid_0's multi_logloss: 0.803996\n",
      "[17]\tvalid_0's multi_logloss: 0.788367\n",
      "[18]\tvalid_0's multi_logloss: 0.777759\n",
      "[19]\tvalid_0's multi_logloss: 0.766919\n",
      "[20]\tvalid_0's multi_logloss: 0.758396\n",
      "[21]\tvalid_0's multi_logloss: 0.749306\n",
      "[22]\tvalid_0's multi_logloss: 0.739203\n",
      "[23]\tvalid_0's multi_logloss: 0.73306\n",
      "[24]\tvalid_0's multi_logloss: 0.72484\n",
      "[25]\tvalid_0's multi_logloss: 0.720758\n",
      "[26]\tvalid_0's multi_logloss: 0.715925\n",
      "[27]\tvalid_0's multi_logloss: 0.710369\n",
      "[28]\tvalid_0's multi_logloss: 0.705516\n",
      "[29]\tvalid_0's multi_logloss: 0.704504\n",
      "[30]\tvalid_0's multi_logloss: 0.701383\n",
      "[31]\tvalid_0's multi_logloss: 0.699063\n",
      "[32]\tvalid_0's multi_logloss: 0.694421\n",
      "[33]\tvalid_0's multi_logloss: 0.687706\n",
      "[34]\tvalid_0's multi_logloss: 0.684572\n",
      "[35]\tvalid_0's multi_logloss: 0.682182\n",
      "[36]\tvalid_0's multi_logloss: 0.679916\n",
      "[37]\tvalid_0's multi_logloss: 0.676124\n",
      "[38]\tvalid_0's multi_logloss: 0.673023\n",
      "[39]\tvalid_0's multi_logloss: 0.669275\n",
      "[40]\tvalid_0's multi_logloss: 0.665214\n",
      "[41]\tvalid_0's multi_logloss: 0.664138\n",
      "[42]\tvalid_0's multi_logloss: 0.663451\n",
      "[43]\tvalid_0's multi_logloss: 0.664079\n",
      "[44]\tvalid_0's multi_logloss: 0.660228\n",
      "[45]\tvalid_0's multi_logloss: 0.658381\n",
      "[46]\tvalid_0's multi_logloss: 0.654898\n",
      "[47]\tvalid_0's multi_logloss: 0.654018\n",
      "[48]\tvalid_0's multi_logloss: 0.65185\n",
      "[49]\tvalid_0's multi_logloss: 0.649227\n",
      "[50]\tvalid_0's multi_logloss: 0.645332\n",
      "[51]\tvalid_0's multi_logloss: 0.643438\n",
      "[52]\tvalid_0's multi_logloss: 0.640733\n",
      "[53]\tvalid_0's multi_logloss: 0.640639\n",
      "[54]\tvalid_0's multi_logloss: 0.634971\n",
      "[55]\tvalid_0's multi_logloss: 0.634538\n",
      "[56]\tvalid_0's multi_logloss: 0.635856\n",
      "[57]\tvalid_0's multi_logloss: 0.64055\n",
      "[58]\tvalid_0's multi_logloss: 0.639146\n",
      "[59]\tvalid_0's multi_logloss: 0.641817\n",
      "[60]\tvalid_0's multi_logloss: 0.643934\n",
      "Early stopping, best iteration is:\n",
      "[55]\tvalid_0's multi_logloss: 0.634538\n"
     ]
    },
    {
     "data": {
      "text/plain": [
       "LGBMClassifier(boosting_type='gbdt', class_weight=None, colsample_bytree=1.0,\n",
       "        device='gpu', importance_type='split', learning_rate=0.1,\n",
       "        max_depth=-1, min_child_samples=20, min_child_weight=0.001,\n",
       "        min_split_gain=0.0, n_estimators=100, n_jobs=-1, num_leaves=31,\n",
       "        objective='multiclass', random_state=None, reg_alpha=0.0,\n",
       "        reg_lambda=0.0, silent=True, subsample=1.0,\n",
       "        subsample_for_bin=200000, subsample_freq=0)"
      ]
     },
     "execution_count": 9,
     "metadata": {},
     "output_type": "execute_result"
    }
   ],
   "source": [
    "# define and fit\n",
    "gbm = lgb.LGBMClassifier(\n",
    "    objective='multiclass',\n",
    "    device = 'gpu'\n",
    ")\n",
    "\n",
    "gbm.fit(\n",
    "    X_train, \n",
    "    y_train,\n",
    "    eval_set=[(X_test, y_test)],\n",
    "    early_stopping_rounds=5\n",
    ")\n",
    "\n",
    "# pickle.dump(gbm, open('../model/lgbm_ng_fs.sav', 'wb'))"
   ]
  },
  {
   "cell_type": "code",
   "execution_count": 10,
   "metadata": {},
   "outputs": [],
   "source": [
    "# setting parameters\n",
    "params = {}\n",
    "params['device'] = 'gpu'\n",
    "params['gpu_id'] = 0\n",
    "params['updater'] = 'grow_gpu_hist'"
   ]
  },
  {
   "cell_type": "code",
   "execution_count": 11,
   "metadata": {
    "scrolled": true
   },
   "outputs": [
    {
     "data": {
      "text/plain": [
       "XGBClassifier(base_score=0.5, booster='gbtree', colsample_bylevel=1,\n",
       "       colsample_bytree=1, device='gpu', gamma=0, gpu_id=0,\n",
       "       learning_rate=0.1, max_delta_step=0, max_depth=3,\n",
       "       min_child_weight=1, missing=None, n_estimators=100, n_jobs=1,\n",
       "       nthread=None, objective='multi:softprob', random_state=0,\n",
       "       reg_alpha=0, reg_lambda=1, scale_pos_weight=1, seed=None,\n",
       "       silent=True, subsample=1, updater='grow_gpu_hist')"
      ]
     },
     "execution_count": 11,
     "metadata": {},
     "output_type": "execute_result"
    }
   ],
   "source": [
    "# define and fit \n",
    "model = xgb.XGBClassifier(**params)\n",
    "model.fit(X_train, y_train)\n",
    "\n",
    "# pickle.dump(model, open('../model/xgb_ng_fs.sav', 'wb'))"
   ]
  }
 ],
 "metadata": {
  "kernelspec": {
   "display_name": "py36",
   "language": "python",
   "name": "py36"
  },
  "language_info": {
   "codemirror_mode": {
    "name": "ipython",
    "version": 3
   },
   "file_extension": ".py",
   "mimetype": "text/x-python",
   "name": "python",
   "nbconvert_exporter": "python",
   "pygments_lexer": "ipython3",
   "version": "3.6.5"
  }
 },
 "nbformat": 4,
 "nbformat_minor": 2
}
