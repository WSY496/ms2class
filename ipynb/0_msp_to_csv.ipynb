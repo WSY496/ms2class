{
 "cells": [
  {
   "cell_type": "code",
   "execution_count": 8,
   "metadata": {},
   "outputs": [],
   "source": [
    "import numpy\n",
    "import pandas as pd"
   ]
  },
  {
   "cell_type": "code",
   "execution_count": 9,
   "metadata": {},
   "outputs": [],
   "source": [
    "# msp to csv \n",
    "def generate_library(msp_file):\n",
    "    spectra = []\n",
    "\n",
    "    with open(msp_file) as f:\n",
    "        data = f.read().split('\\n\\n')\n",
    "\n",
    "        for block in data:\n",
    "            block = block.strip().splitlines()\n",
    "\n",
    "            record = dict(x.split(': ', 1) for x in block if ':' in x)\n",
    "            record['spectrum'] = ' '.join(':'.join(x.split()[:2]) for x in block if ':' not in x)\n",
    "\n",
    "            spectra.append(record)\n",
    "        \n",
    "        return spectra"
   ]
  },
  {
   "cell_type": "code",
   "execution_count": 12,
   "metadata": {},
   "outputs": [],
   "source": [
    "pd.DataFrame(generate_library('./MoNA-export-iTree.msp')).to_csv('mona_export_csv.csv')"
   ]
  }
 ],
 "metadata": {
  "kernelspec": {
   "display_name": "Python 3",
   "language": "python",
   "name": "python3"
  },
  "language_info": {
   "codemirror_mode": {
    "name": "ipython",
    "version": 3
   },
   "file_extension": ".py",
   "mimetype": "text/x-python",
   "name": "python",
   "nbconvert_exporter": "python",
   "pygments_lexer": "ipython3",
   "version": "3.6.4"
  }
 },
 "nbformat": 4,
 "nbformat_minor": 2
}
