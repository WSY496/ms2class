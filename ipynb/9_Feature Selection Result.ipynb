{
 "cells": [
  {
   "cell_type": "code",
   "execution_count": 1,
   "metadata": {},
   "outputs": [],
   "source": [
    "# import library\n",
    "import pickle\n",
    "import pandas as pd\n",
    "import numpy as np\n",
    "\n",
    "import xgboost as xgb\n",
    "import lightgbm as lgb\n",
    "\n",
    "from sklearn.ensemble import RandomForestClassifier as rf\n",
    "from sklearn.metrics import mean_squared_error\n",
    "from sklearn.model_selection import train_test_split\n",
    "from sklearn.metrics import confusion_matrix\n",
    "from sklearn.model_selection import GridSearchCV\n",
    "from sklearn import preprocessing"
   ]
  },
  {
   "cell_type": "code",
   "execution_count": 2,
   "metadata": {},
   "outputs": [],
   "source": [
    "# read data\n",
    "df = pd.read_csv('../data/feature_importance_pos.csv', index_col=0)\n",
    "\n",
    "# divide objective and target\n",
    "objective = df.Subclass\n",
    "le = preprocessing.LabelEncoder()\n",
    "objective = le.fit_transform(objective)\n",
    "features = df.drop('Subclass', axis=1)\n",
    "\n",
    "# train test split\n",
    "random_state=np.random.seed(42)\n",
    "X_train, X_test, y_train, y_test = train_test_split(\n",
    "    features, \n",
    "    objective,\n",
    "    test_size=0.2\n",
    ")"
   ]
  },
  {
   "cell_type": "code",
   "execution_count": 3,
   "metadata": {},
   "outputs": [],
   "source": [
    "# define and fit\n",
    "clf = rf()\n",
    "clf = clf.fit(X_train, y_train)\n",
    "\n",
    "# result append to list\n",
    "t = []\n",
    "t.append(clf.score(X_test, y_test))"
   ]
  },
  {
   "cell_type": "code",
   "execution_count": 5,
   "metadata": {
    "scrolled": true
   },
   "outputs": [
    {
     "name": "stdout",
     "output_type": "stream",
     "text": [
      "[1]\tvalid_0's multi_logloss: 1.29326\n",
      "Training until validation scores don't improve for 5 rounds.\n",
      "[2]\tvalid_0's multi_logloss: 1.21275\n",
      "[3]\tvalid_0's multi_logloss: 1.14513\n",
      "[4]\tvalid_0's multi_logloss: 1.08266\n",
      "[5]\tvalid_0's multi_logloss: 1.02973\n",
      "[6]\tvalid_0's multi_logloss: 0.984715\n",
      "[7]\tvalid_0's multi_logloss: 0.943952\n",
      "[8]\tvalid_0's multi_logloss: 0.904064\n",
      "[9]\tvalid_0's multi_logloss: 0.868894\n",
      "[10]\tvalid_0's multi_logloss: 0.83748\n",
      "[11]\tvalid_0's multi_logloss: 0.811173\n",
      "[12]\tvalid_0's multi_logloss: 0.786223\n",
      "[13]\tvalid_0's multi_logloss: 0.764337\n",
      "[14]\tvalid_0's multi_logloss: 0.744246\n",
      "[15]\tvalid_0's multi_logloss: 0.724927\n",
      "[16]\tvalid_0's multi_logloss: 0.705488\n",
      "[17]\tvalid_0's multi_logloss: 0.690167\n",
      "[18]\tvalid_0's multi_logloss: 0.674841\n",
      "[19]\tvalid_0's multi_logloss: 0.662979\n",
      "[20]\tvalid_0's multi_logloss: 0.649689\n",
      "[21]\tvalid_0's multi_logloss: 0.635334\n",
      "[22]\tvalid_0's multi_logloss: 0.623711\n",
      "[23]\tvalid_0's multi_logloss: 0.613669\n",
      "[24]\tvalid_0's multi_logloss: 0.603345\n",
      "[25]\tvalid_0's multi_logloss: 0.592729\n",
      "[26]\tvalid_0's multi_logloss: 0.582671\n",
      "[27]\tvalid_0's multi_logloss: 0.573272\n",
      "[28]\tvalid_0's multi_logloss: 0.567175\n",
      "[29]\tvalid_0's multi_logloss: 0.558181\n",
      "[30]\tvalid_0's multi_logloss: 0.549302\n",
      "[31]\tvalid_0's multi_logloss: 0.541956\n",
      "[32]\tvalid_0's multi_logloss: 0.534396\n",
      "[33]\tvalid_0's multi_logloss: 0.529146\n",
      "[34]\tvalid_0's multi_logloss: 0.525613\n",
      "[35]\tvalid_0's multi_logloss: 0.520522\n",
      "[36]\tvalid_0's multi_logloss: 0.515682\n",
      "[37]\tvalid_0's multi_logloss: 0.512541\n",
      "[38]\tvalid_0's multi_logloss: 0.506103\n",
      "[39]\tvalid_0's multi_logloss: 0.500461\n",
      "[40]\tvalid_0's multi_logloss: 0.497189\n",
      "[41]\tvalid_0's multi_logloss: 0.492234\n",
      "[42]\tvalid_0's multi_logloss: 0.487742\n",
      "[43]\tvalid_0's multi_logloss: 0.483837\n",
      "[44]\tvalid_0's multi_logloss: 0.480345\n",
      "[45]\tvalid_0's multi_logloss: 0.477336\n",
      "[46]\tvalid_0's multi_logloss: 0.4733\n",
      "[47]\tvalid_0's multi_logloss: 0.468767\n",
      "[48]\tvalid_0's multi_logloss: 0.46668\n",
      "[49]\tvalid_0's multi_logloss: 0.465354\n",
      "[50]\tvalid_0's multi_logloss: 0.463479\n",
      "[51]\tvalid_0's multi_logloss: 0.461863\n",
      "[52]\tvalid_0's multi_logloss: 0.460703\n",
      "[53]\tvalid_0's multi_logloss: 0.459205\n",
      "[54]\tvalid_0's multi_logloss: 0.454998\n",
      "[55]\tvalid_0's multi_logloss: 0.453496\n",
      "[56]\tvalid_0's multi_logloss: 0.450177\n",
      "[57]\tvalid_0's multi_logloss: 0.449047\n",
      "[58]\tvalid_0's multi_logloss: 0.447557\n",
      "[59]\tvalid_0's multi_logloss: 0.446469\n",
      "[60]\tvalid_0's multi_logloss: 0.446955\n",
      "[61]\tvalid_0's multi_logloss: 0.447341\n",
      "[62]\tvalid_0's multi_logloss: 0.447244\n",
      "[63]\tvalid_0's multi_logloss: 0.448105\n",
      "[64]\tvalid_0's multi_logloss: 0.445264\n",
      "[65]\tvalid_0's multi_logloss: 0.444972\n",
      "[66]\tvalid_0's multi_logloss: 0.445334\n",
      "[67]\tvalid_0's multi_logloss: 0.443974\n",
      "[68]\tvalid_0's multi_logloss: 0.442792\n",
      "[69]\tvalid_0's multi_logloss: 0.442036\n",
      "[70]\tvalid_0's multi_logloss: 0.44204\n",
      "[71]\tvalid_0's multi_logloss: 0.440614\n",
      "[72]\tvalid_0's multi_logloss: 0.440074\n",
      "[73]\tvalid_0's multi_logloss: 0.436422\n",
      "[74]\tvalid_0's multi_logloss: 0.435241\n",
      "[75]\tvalid_0's multi_logloss: 0.4358\n",
      "[76]\tvalid_0's multi_logloss: 0.436227\n",
      "[77]\tvalid_0's multi_logloss: 0.436617\n",
      "[78]\tvalid_0's multi_logloss: 0.436316\n",
      "[79]\tvalid_0's multi_logloss: 0.435509\n",
      "Early stopping, best iteration is:\n",
      "[74]\tvalid_0's multi_logloss: 0.435241\n"
     ]
    },
    {
     "name": "stderr",
     "output_type": "stream",
     "text": [
      "/home/yoshitaka-i/anaconda3/envs/py36/lib/python3.6/site-packages/sklearn/preprocessing/label.py:151: DeprecationWarning: The truth value of an empty array is ambiguous. Returning False, but in future this will result in an error. Use `array.size > 0` to check that an array is not empty.\n",
      "  if diff:\n"
     ]
    }
   ],
   "source": [
    "# define and fit\n",
    "gbm = lgb.LGBMClassifier(\n",
    "    objective='multiclass',\n",
    "    device = 'gpu'\n",
    ")\n",
    "\n",
    "gbm.fit(\n",
    "    X_train, \n",
    "    y_train,\n",
    "    eval_set=[(X_test, y_test)],\n",
    "    early_stopping_rounds=5\n",
    ")\n",
    "\n",
    "\n",
    "# result append to list\n",
    "t.append(gbm.score(X_test, y_test))\n"
   ]
  },
  {
   "cell_type": "code",
   "execution_count": 6,
   "metadata": {},
   "outputs": [],
   "source": [
    "# set parameters\n",
    "params = {}\n",
    "params['device'] = 'gpu'\n",
    "params['gpu_id'] = 1\n",
    "params['updater'] = 'grow_gpu_hist'"
   ]
  },
  {
   "cell_type": "code",
   "execution_count": 7,
   "metadata": {
    "scrolled": true
   },
   "outputs": [
    {
     "name": "stderr",
     "output_type": "stream",
     "text": [
      "/home/yoshitaka-i/anaconda3/envs/py36/lib/python3.6/site-packages/sklearn/preprocessing/label.py:151: DeprecationWarning: The truth value of an empty array is ambiguous. Returning False, but in future this will result in an error. Use `array.size > 0` to check that an array is not empty.\n",
      "  if diff:\n"
     ]
    }
   ],
   "source": [
    "# define and fit\n",
    "model = xgb.XGBClassifier(**params)\n",
    "model.fit(X_train, y_train)\n",
    "\n",
    "# result append to list\n",
    "t.append(model.score(X_test, y_test))"
   ]
  },
  {
   "cell_type": "code",
   "execution_count": 8,
   "metadata": {},
   "outputs": [],
   "source": [
    "f = []\n",
    "f.append(t)"
   ]
  },
  {
   "cell_type": "code",
   "execution_count": 9,
   "metadata": {},
   "outputs": [
    {
     "data": {
      "text/plain": [
       "[[0.7351190476190477, 0.8452380952380952, 0.8273809523809523]]"
      ]
     },
     "execution_count": 9,
     "metadata": {},
     "output_type": "execute_result"
    }
   ],
   "source": [
    "f"
   ]
  },
  {
   "cell_type": "code",
   "execution_count": 10,
   "metadata": {},
   "outputs": [],
   "source": [
    "#read data\n",
    "df = pd.read_csv('../data/feature_importance_neg.csv', index_col=0)\n",
    "\n",
    "# divide objective and target\n",
    "objective = df.Subclass\n",
    "le = preprocessing.LabelEncoder()\n",
    "objective = le.fit_transform(objective)\n",
    "features = df.drop('Subclass', axis=1)\n",
    "\n",
    "# train test split\n",
    "random_state=np.random.seed(42)\n",
    "X_train, X_test, y_train, y_test = train_test_split(\n",
    "    features, \n",
    "    objective,\n",
    "    test_size=0.2\n",
    ")"
   ]
  },
  {
   "cell_type": "code",
   "execution_count": 11,
   "metadata": {},
   "outputs": [],
   "source": [
    "# define and fit \n",
    "clf = rf()\n",
    "clf = clf.fit(X_train, y_train)\n",
    "\n",
    "# result append to list\n",
    "t = []\n",
    "t.append(clf.score(X_test, y_test))"
   ]
  },
  {
   "cell_type": "code",
   "execution_count": 12,
   "metadata": {
    "scrolled": true
   },
   "outputs": [
    {
     "name": "stdout",
     "output_type": "stream",
     "text": [
      "[1]\tvalid_0's multi_logloss: 1.30282\n",
      "Training until validation scores don't improve for 5 rounds.\n",
      "[2]\tvalid_0's multi_logloss: 1.23958\n",
      "[3]\tvalid_0's multi_logloss: 1.17468\n",
      "[4]\tvalid_0's multi_logloss: 1.12956\n",
      "[5]\tvalid_0's multi_logloss: 1.0844\n",
      "[6]\tvalid_0's multi_logloss: 1.04288\n",
      "[7]\tvalid_0's multi_logloss: 1.00931\n",
      "[8]\tvalid_0's multi_logloss: 0.973128\n",
      "[9]\tvalid_0's multi_logloss: 0.936651\n",
      "[10]\tvalid_0's multi_logloss: 0.913688\n",
      "[11]\tvalid_0's multi_logloss: 0.886609\n",
      "[12]\tvalid_0's multi_logloss: 0.866493\n",
      "[13]\tvalid_0's multi_logloss: 0.849377\n",
      "[14]\tvalid_0's multi_logloss: 0.837815\n",
      "[15]\tvalid_0's multi_logloss: 0.820293\n",
      "[16]\tvalid_0's multi_logloss: 0.81003\n",
      "[17]\tvalid_0's multi_logloss: 0.798241\n",
      "[18]\tvalid_0's multi_logloss: 0.785641\n",
      "[19]\tvalid_0's multi_logloss: 0.773575\n",
      "[20]\tvalid_0's multi_logloss: 0.765043\n",
      "[21]\tvalid_0's multi_logloss: 0.755751\n",
      "[22]\tvalid_0's multi_logloss: 0.747033\n",
      "[23]\tvalid_0's multi_logloss: 0.741329\n",
      "[24]\tvalid_0's multi_logloss: 0.733448\n",
      "[25]\tvalid_0's multi_logloss: 0.727431\n",
      "[26]\tvalid_0's multi_logloss: 0.718787\n",
      "[27]\tvalid_0's multi_logloss: 0.716388\n",
      "[28]\tvalid_0's multi_logloss: 0.713934\n",
      "[29]\tvalid_0's multi_logloss: 0.709512\n",
      "[30]\tvalid_0's multi_logloss: 0.705615\n",
      "[31]\tvalid_0's multi_logloss: 0.700596\n",
      "[32]\tvalid_0's multi_logloss: 0.701918\n",
      "[33]\tvalid_0's multi_logloss: 0.697339\n",
      "[34]\tvalid_0's multi_logloss: 0.692618\n",
      "[35]\tvalid_0's multi_logloss: 0.689693\n",
      "[36]\tvalid_0's multi_logloss: 0.687628\n",
      "[37]\tvalid_0's multi_logloss: 0.68607\n",
      "[38]\tvalid_0's multi_logloss: 0.682738\n",
      "[39]\tvalid_0's multi_logloss: 0.683584\n",
      "[40]\tvalid_0's multi_logloss: 0.683053\n",
      "[41]\tvalid_0's multi_logloss: 0.682832\n",
      "[42]\tvalid_0's multi_logloss: 0.68315\n",
      "[43]\tvalid_0's multi_logloss: 0.683977\n",
      "Early stopping, best iteration is:\n",
      "[38]\tvalid_0's multi_logloss: 0.682738\n"
     ]
    },
    {
     "name": "stderr",
     "output_type": "stream",
     "text": [
      "/home/yoshitaka-i/anaconda3/envs/py36/lib/python3.6/site-packages/sklearn/preprocessing/label.py:151: DeprecationWarning: The truth value of an empty array is ambiguous. Returning False, but in future this will result in an error. Use `array.size > 0` to check that an array is not empty.\n",
      "  if diff:\n"
     ]
    }
   ],
   "source": [
    "# define and fit\n",
    "gbm = lgb.LGBMClassifier(\n",
    "    objective='multiclass',\n",
    "    device = 'gpu'\n",
    ")\n",
    "\n",
    "gbm.fit(\n",
    "    X_train, \n",
    "    y_train,\n",
    "    eval_set=[(X_test, y_test)],\n",
    "    early_stopping_rounds=5\n",
    ")\n",
    "\n",
    "# result append to list\n",
    "t.append(gbm.score(X_test, y_test))"
   ]
  },
  {
   "cell_type": "code",
   "execution_count": 13,
   "metadata": {},
   "outputs": [],
   "source": [
    "# setting parameters\n",
    "params = {}\n",
    "params['device'] = 'gpu'\n",
    "params['gpu_id'] = 1\n",
    "params['updater'] = 'grow_gpu_hist'"
   ]
  },
  {
   "cell_type": "code",
   "execution_count": 14,
   "metadata": {},
   "outputs": [
    {
     "name": "stderr",
     "output_type": "stream",
     "text": [
      "/home/yoshitaka-i/anaconda3/envs/py36/lib/python3.6/site-packages/sklearn/preprocessing/label.py:151: DeprecationWarning: The truth value of an empty array is ambiguous. Returning False, but in future this will result in an error. Use `array.size > 0` to check that an array is not empty.\n",
      "  if diff:\n"
     ]
    }
   ],
   "source": [
    "# define and fit \n",
    "model = xgb.XGBClassifier(**params)\n",
    "model.fit(X_train, y_train)\n",
    "\n",
    "# result append to list\n",
    "t.append(model.score(X_test, y_test))"
   ]
  },
  {
   "cell_type": "code",
   "execution_count": 15,
   "metadata": {},
   "outputs": [],
   "source": [
    "f.append(t)"
   ]
  },
  {
   "cell_type": "code",
   "execution_count": 16,
   "metadata": {},
   "outputs": [],
   "source": [
    "# save to csv\n",
    "pd.DataFrame(\n",
    "    f, \n",
    "    columns=['Random Forest', 'LightGBM', 'XGBoost'],\n",
    "    index=['Positive', 'Negative']\n",
    ").to_csv('../result/feature_selection.csv')"
   ]
  }
 ],
 "metadata": {
  "kernelspec": {
   "display_name": "py36",
   "language": "python",
   "name": "py36"
  },
  "language_info": {
   "codemirror_mode": {
    "name": "ipython",
    "version": 3
   },
   "file_extension": ".py",
   "mimetype": "text/x-python",
   "name": "python",
   "nbconvert_exporter": "python",
   "pygments_lexer": "ipython3",
   "version": "3.6.5"
  }
 },
 "nbformat": 4,
 "nbformat_minor": 2
}
