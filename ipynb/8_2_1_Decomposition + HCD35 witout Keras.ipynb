{
 "cells": [
  {
   "cell_type": "code",
   "execution_count": 1,
   "metadata": {},
   "outputs": [
    {
     "name": "stderr",
     "output_type": "stream",
     "text": [
      "/home/yoshitaka-i/anaconda3/envs/py36/lib/python3.6/site-packages/h5py/__init__.py:36: FutureWarning: Conversion of the second argument of issubdtype from `float` to `np.floating` is deprecated. In future, it will be treated as `np.float64 == np.dtype(float).type`.\n",
      "  from ._conv import register_converters as _register_converters\n",
      "Using TensorFlow backend.\n"
     ]
    }
   ],
   "source": [
    "import numpy as np\n",
    "import pickle\n",
    "import pandas as pd\n",
    "\n",
    "import xgboost as xgb\n",
    "import lightgbm as lgb\n",
    "\n",
    "from sklearn.ensemble import RandomForestClassifier as rf\n",
    "from sklearn.metrics import mean_squared_error\n",
    "from sklearn.model_selection import train_test_split\n",
    "from sklearn.metrics import confusion_matrix\n",
    "from sklearn.model_selection import GridSearchCV\n",
    "from sklearn import preprocessing\n",
    "from keras import models\n",
    "from keras import layers\n",
    "from keras.layers.advanced_activations import LeakyReLU\n",
    "from keras.utils import np_utils\n",
    "from keras.layers import Dense, Dropout, Activation, Flatten, Input, Dense, GaussianNoise, GaussianDropout\n",
    "from keras.models import Sequential, Model\n",
    "from keras.regularizers import l2, l1\n",
    "from keras.optimizers import Adam, SGD, Nadam\n",
    "from keras.callbacks import LearningRateScheduler\n",
    "from keras.metrics import categorical_accuracy\n",
    "from keras.layers.normalization import BatchNormalization\n",
    "from keras.callbacks import EarlyStopping\n",
    "from keras.wrappers.scikit_learn import KerasClassifier\n",
    "from  keras.regularizers import l1, l2\n",
    "from keras import backend as K\n",
    "from keras.utils.generic_utils import get_custom_objects\n",
    "\n",
    "import matplotlib.pyplot as plt\n",
    "\n",
    "%matplotlib inline"
   ]
  },
  {
   "cell_type": "code",
   "execution_count": 2,
   "metadata": {},
   "outputs": [],
   "source": [
    "# read data\n",
    "with open('../data/HCD35_pos.pickle', mode='rb') as fp:\n",
    "    df_3 = pickle.load(fp)\n",
    "    \n",
    "df = pd.concat([\n",
    "    df_3,\n",
    "    pd.read_csv('../data/decomp_pos.csv').drop('Subclass', axis=1)\n",
    "], axis=1)"
   ]
  },
  {
   "cell_type": "code",
   "execution_count": 3,
   "metadata": {},
   "outputs": [],
   "source": [
    "# divide objective and target\n",
    "objective = df.Subclass\n",
    "le = preprocessing.LabelEncoder()\n",
    "objective = le.fit_transform(objective)\n",
    "features = df.drop('Subclass', axis=1)\n",
    "\n",
    "# train test split\n",
    "random_state=np.random.seed(42)\n",
    "X_train, X_test, y_train, y_test = train_test_split(\n",
    "    features, \n",
    "    objective,\n",
    "    test_size=0.2\n",
    ")\n",
    "\n",
    "# transform  for keras's target label\n",
    "y_train_for_keras = np_utils.to_categorical(y_train)\n",
    "y_test_for_keras = np_utils.to_categorical(y_test)"
   ]
  },
  {
   "cell_type": "code",
   "execution_count": 4,
   "metadata": {},
   "outputs": [],
   "source": [
    "# define and fit\n",
    "clf = rf()\n",
    "clf = clf.fit(X_train, y_train)\n",
    "\n",
    "pickle.dump(clf, open('../model/rf_pos_HCD35+decomp.sav', 'wb'))"
   ]
  },
  {
   "cell_type": "code",
   "execution_count": 5,
   "metadata": {
    "scrolled": true
   },
   "outputs": [
    {
     "name": "stdout",
     "output_type": "stream",
     "text": [
      "[1]\tvalid_0's multi_logloss: 1.28903\n",
      "Training until validation scores don't improve for 5 rounds.\n",
      "[2]\tvalid_0's multi_logloss: 1.20755\n",
      "[3]\tvalid_0's multi_logloss: 1.14199\n",
      "[4]\tvalid_0's multi_logloss: 1.08496\n",
      "[5]\tvalid_0's multi_logloss: 1.03621\n",
      "[6]\tvalid_0's multi_logloss: 0.991759\n",
      "[7]\tvalid_0's multi_logloss: 0.950848\n",
      "[8]\tvalid_0's multi_logloss: 0.913097\n",
      "[9]\tvalid_0's multi_logloss: 0.880727\n",
      "[10]\tvalid_0's multi_logloss: 0.851439\n",
      "[11]\tvalid_0's multi_logloss: 0.823603\n",
      "[12]\tvalid_0's multi_logloss: 0.799053\n",
      "[13]\tvalid_0's multi_logloss: 0.776538\n",
      "[14]\tvalid_0's multi_logloss: 0.756655\n",
      "[15]\tvalid_0's multi_logloss: 0.735506\n",
      "[16]\tvalid_0's multi_logloss: 0.715997\n",
      "[17]\tvalid_0's multi_logloss: 0.697984\n",
      "[18]\tvalid_0's multi_logloss: 0.679301\n",
      "[19]\tvalid_0's multi_logloss: 0.664049\n",
      "[20]\tvalid_0's multi_logloss: 0.650217\n",
      "[21]\tvalid_0's multi_logloss: 0.634705\n",
      "[22]\tvalid_0's multi_logloss: 0.619892\n",
      "[23]\tvalid_0's multi_logloss: 0.608396\n",
      "[24]\tvalid_0's multi_logloss: 0.596699\n",
      "[25]\tvalid_0's multi_logloss: 0.584662\n",
      "[26]\tvalid_0's multi_logloss: 0.576431\n",
      "[27]\tvalid_0's multi_logloss: 0.567281\n",
      "[28]\tvalid_0's multi_logloss: 0.558307\n",
      "[29]\tvalid_0's multi_logloss: 0.547891\n",
      "[30]\tvalid_0's multi_logloss: 0.539927\n",
      "[31]\tvalid_0's multi_logloss: 0.531127\n",
      "[32]\tvalid_0's multi_logloss: 0.522424\n",
      "[33]\tvalid_0's multi_logloss: 0.516046\n",
      "[34]\tvalid_0's multi_logloss: 0.509425\n",
      "[35]\tvalid_0's multi_logloss: 0.503043\n",
      "[36]\tvalid_0's multi_logloss: 0.498781\n",
      "[37]\tvalid_0's multi_logloss: 0.494589\n",
      "[38]\tvalid_0's multi_logloss: 0.490212\n",
      "[39]\tvalid_0's multi_logloss: 0.485868\n",
      "[40]\tvalid_0's multi_logloss: 0.481152\n",
      "[41]\tvalid_0's multi_logloss: 0.477783\n",
      "[42]\tvalid_0's multi_logloss: 0.473984\n",
      "[43]\tvalid_0's multi_logloss: 0.468128\n",
      "[44]\tvalid_0's multi_logloss: 0.465609\n",
      "[45]\tvalid_0's multi_logloss: 0.459905\n",
      "[46]\tvalid_0's multi_logloss: 0.455926\n",
      "[47]\tvalid_0's multi_logloss: 0.45188\n",
      "[48]\tvalid_0's multi_logloss: 0.448096\n",
      "[49]\tvalid_0's multi_logloss: 0.444185\n",
      "[50]\tvalid_0's multi_logloss: 0.439482\n",
      "[51]\tvalid_0's multi_logloss: 0.436223\n",
      "[52]\tvalid_0's multi_logloss: 0.434049\n",
      "[53]\tvalid_0's multi_logloss: 0.432499\n",
      "[54]\tvalid_0's multi_logloss: 0.430789\n",
      "[55]\tvalid_0's multi_logloss: 0.429122\n",
      "[56]\tvalid_0's multi_logloss: 0.425292\n",
      "[57]\tvalid_0's multi_logloss: 0.424767\n",
      "[58]\tvalid_0's multi_logloss: 0.422744\n",
      "[59]\tvalid_0's multi_logloss: 0.421934\n",
      "[60]\tvalid_0's multi_logloss: 0.420556\n",
      "[61]\tvalid_0's multi_logloss: 0.41768\n",
      "[62]\tvalid_0's multi_logloss: 0.415893\n",
      "[63]\tvalid_0's multi_logloss: 0.414001\n",
      "[64]\tvalid_0's multi_logloss: 0.412112\n",
      "[65]\tvalid_0's multi_logloss: 0.410547\n",
      "[66]\tvalid_0's multi_logloss: 0.409875\n",
      "[67]\tvalid_0's multi_logloss: 0.408989\n",
      "[68]\tvalid_0's multi_logloss: 0.408398\n",
      "[69]\tvalid_0's multi_logloss: 0.406504\n",
      "[70]\tvalid_0's multi_logloss: 0.40435\n",
      "[71]\tvalid_0's multi_logloss: 0.404458\n",
      "[72]\tvalid_0's multi_logloss: 0.404659\n",
      "[73]\tvalid_0's multi_logloss: 0.404026\n",
      "[74]\tvalid_0's multi_logloss: 0.404087\n",
      "[75]\tvalid_0's multi_logloss: 0.404607\n",
      "[76]\tvalid_0's multi_logloss: 0.406378\n",
      "[77]\tvalid_0's multi_logloss: 0.405424\n",
      "[78]\tvalid_0's multi_logloss: 0.40686\n",
      "Early stopping, best iteration is:\n",
      "[73]\tvalid_0's multi_logloss: 0.404026\n"
     ]
    },
    {
     "data": {
      "text/plain": [
       "LGBMClassifier(boosting_type='gbdt', class_weight=None, colsample_bytree=1.0,\n",
       "        device='gpu', importance_type='split', learning_rate=0.1,\n",
       "        max_depth=-1, min_child_samples=20, min_child_weight=0.001,\n",
       "        min_split_gain=0.0, n_estimators=100, n_jobs=-1, num_leaves=31,\n",
       "        objective='multiclass', random_state=None, reg_alpha=0.0,\n",
       "        reg_lambda=0.0, silent=True, subsample=1.0,\n",
       "        subsample_for_bin=200000, subsample_freq=0)"
      ]
     },
     "execution_count": 5,
     "metadata": {},
     "output_type": "execute_result"
    }
   ],
   "source": [
    "# define and fit\n",
    "gbm = lgb.LGBMClassifier(\n",
    "    objective='multiclass',\n",
    "    device = 'gpu'\n",
    ")\n",
    "\n",
    "gbm.fit(\n",
    "    X_train, \n",
    "    y_train,\n",
    "    eval_set=[(X_test, y_test)],\n",
    "    early_stopping_rounds=5\n",
    ")\n",
    "\n",
    "pickle.dump(gbm, open('../model/lgbm_pos_HCD35+decomp.sav', 'wb'))"
   ]
  },
  {
   "cell_type": "code",
   "execution_count": 6,
   "metadata": {},
   "outputs": [],
   "source": [
    "# set parameters\n",
    "params = {}\n",
    "params['device'] = 'gpu'\n",
    "params['gpu_id'] = 0\n",
    "params['updater'] = 'grow_gpu_hist'"
   ]
  },
  {
   "cell_type": "code",
   "execution_count": 8,
   "metadata": {
    "scrolled": true
   },
   "outputs": [],
   "source": [
    "# define and fit\n",
    "model = xgb.XGBClassifier(**params)\n",
    "model.fit(X_train, y_train)\n",
    "\n",
    "pickle.dump(model, open('../model/xgb_pos_HCD35+decomp.sav', 'wb'))"
   ]
  },
  {
   "cell_type": "code",
   "execution_count": 9,
   "metadata": {},
   "outputs": [],
   "source": [
    "with open('../data/HCD35_neg.pickle', mode='rb') as fp:\n",
    "    df_3 = pickle.load(fp)\n",
    "    \n",
    "df = pd.concat([\n",
    "    df_3,\n",
    "    pd.read_csv('../data/decomp_neg.csv').drop('Subclass', axis=1)\n",
    "], axis=1)"
   ]
  },
  {
   "cell_type": "code",
   "execution_count": 10,
   "metadata": {},
   "outputs": [],
   "source": [
    "# divide objective and target\n",
    "objective = df.Subclass\n",
    "le = preprocessing.LabelEncoder()\n",
    "objective = le.fit_transform(objective)\n",
    "features = df.drop('Subclass', axis=1)\n",
    "\n",
    "# train test split\n",
    "random_state=np.random.seed(42)\n",
    "X_train, X_test, y_train, y_test = train_test_split(\n",
    "    features, \n",
    "    objective,\n",
    "    test_size=0.2\n",
    ")\n",
    "\n",
    "# transform  for keras's target label\n",
    "y_train_for_keras = np_utils.to_categorical(y_train)\n",
    "y_test_for_keras = np_utils.to_categorical(y_test)"
   ]
  },
  {
   "cell_type": "code",
   "execution_count": 11,
   "metadata": {},
   "outputs": [],
   "source": [
    "# define and fit \n",
    "clf = rf()\n",
    "clf = clf.fit(X_train, y_train)\n",
    "\n",
    "pickle.dump(clf, open('../model/rf_ng_HCD35+decomp.sav', 'wb'))"
   ]
  },
  {
   "cell_type": "code",
   "execution_count": 12,
   "metadata": {
    "scrolled": true
   },
   "outputs": [],
   "source": [
    "# define and fit\n",
    "gbm = lgb.LGBMClassifier(\n",
    "    objective='multiclass',\n",
    "    device = 'gpu'\n",
    ")\n",
    "\n",
    "gbm.fit(\n",
    "    X_train, \n",
    "    y_train,\n",
    "    eval_set=[(X_test, y_test)],\n",
    "    early_stopping_rounds=5\n",
    ")\n",
    "\n",
    "pickle.dump(gbm, open('../model/lgbm_ng_HCD35+decomp.sav', 'wb'))"
   ]
  },
  {
   "cell_type": "code",
   "execution_count": 13,
   "metadata": {},
   "outputs": [],
   "source": [
    "# setting parameters\n",
    "params = {}\n",
    "params['device'] = 'gpu'\n",
    "params['gpu_id'] = 1\n",
    "params['updater'] = 'grow_gpu_hist'"
   ]
  },
  {
   "cell_type": "code",
   "execution_count": 14,
   "metadata": {
    "scrolled": true
   },
   "outputs": [],
   "source": [
    "# define and fit \n",
    "model = xgb.XGBClassifier(**params)\n",
    "model.fit(X_train, y_train)\n",
    "\n",
    "pickle.dump(model, open('../model/xgb_ng_HCD35+decomp.sav', 'wb'))"
   ]
  }
 ],
 "metadata": {
  "kernelspec": {
   "display_name": "py36",
   "language": "python",
   "name": "py36"
  },
  "language_info": {
   "codemirror_mode": {
    "name": "ipython",
    "version": 3
   },
   "file_extension": ".py",
   "mimetype": "text/x-python",
   "name": "python",
   "nbconvert_exporter": "python",
   "pygments_lexer": "ipython3",
   "version": "3.6.5"
  }
 },
 "nbformat": 4,
 "nbformat_minor": 2
}
