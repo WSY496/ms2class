{
 "cells": [
  {
   "cell_type": "code",
   "execution_count": 1,
   "metadata": {},
   "outputs": [],
   "source": [
    "import numpy as np\n",
    "import pickle\n",
    "import pandas as pd\n",
    "\n",
    "import xgboost as xgb\n",
    "import lightgbm as lgb\n",
    "\n",
    "from sklearn.ensemble import RandomForestClassifier as rf\n",
    "from sklearn.metrics import mean_squared_error\n",
    "from sklearn.model_selection import train_test_split\n",
    "from sklearn.metrics import confusion_matrix\n",
    "from sklearn.model_selection import GridSearchCV\n",
    "from sklearn import preprocessing\n",
    "\n",
    "import matplotlib.pyplot as plt\n",
    "\n",
    "%matplotlib inline"
   ]
  },
  {
   "cell_type": "code",
   "execution_count": 2,
   "metadata": {},
   "outputs": [],
   "source": [
    "# read data\n",
    "with open('../data/HCD35_pos.pickle', mode='rb') as fp:\n",
    "    df_3 = pickle.load(fp)\n",
    "    \n",
    "df = pd.concat([\n",
    "    df_3,\n",
    "    pd.read_csv('../data/decomp_pos.csv').drop('Subclass', axis=1)\n",
    "], axis=1)"
   ]
  },
  {
   "cell_type": "code",
   "execution_count": 3,
   "metadata": {},
   "outputs": [],
   "source": [
    "# divide objective and target\n",
    "objective = df.Subclass\n",
    "le = preprocessing.LabelEncoder()\n",
    "objective = le.fit_transform(objective)\n",
    "features = df.drop('Subclass', axis=1)\n",
    "\n",
    "# train test split\n",
    "random_state=np.random.seed(42)\n",
    "X_train, X_test, y_train, y_test = train_test_split(\n",
    "    features, \n",
    "    objective,\n",
    "    test_size=0.2\n",
    ")"
   ]
  },
  {
   "cell_type": "code",
   "execution_count": 4,
   "metadata": {},
   "outputs": [],
   "source": [
    "# define and fit\n",
    "clf = rf()\n",
    "clf = clf.fit(X_train, y_train)\n",
    "\n",
    "# pickle.dump(clf, open('../model/rf_pos_HCD35+decomp.sav', 'wb'))"
   ]
  },
  {
   "cell_type": "code",
   "execution_count": 5,
   "metadata": {
    "scrolled": true
   },
   "outputs": [
    {
     "name": "stdout",
     "output_type": "stream",
     "text": [
      "[1]\tvalid_0's multi_logloss: 1.28903\n",
      "Training until validation scores don't improve for 5 rounds.\n",
      "[2]\tvalid_0's multi_logloss: 1.20755\n",
      "[3]\tvalid_0's multi_logloss: 1.14199\n",
      "[4]\tvalid_0's multi_logloss: 1.08496\n",
      "[5]\tvalid_0's multi_logloss: 1.03621\n",
      "[6]\tvalid_0's multi_logloss: 0.991759\n",
      "[7]\tvalid_0's multi_logloss: 0.950848\n",
      "[8]\tvalid_0's multi_logloss: 0.913097\n",
      "[9]\tvalid_0's multi_logloss: 0.880608\n",
      "[10]\tvalid_0's multi_logloss: 0.851294\n",
      "[11]\tvalid_0's multi_logloss: 0.823468\n",
      "[12]\tvalid_0's multi_logloss: 0.798924\n",
      "[13]\tvalid_0's multi_logloss: 0.776416\n",
      "[14]\tvalid_0's multi_logloss: 0.756633\n",
      "[15]\tvalid_0's multi_logloss: 0.735563\n",
      "[16]\tvalid_0's multi_logloss: 0.716066\n",
      "[17]\tvalid_0's multi_logloss: 0.698056\n",
      "[18]\tvalid_0's multi_logloss: 0.679382\n",
      "[19]\tvalid_0's multi_logloss: 0.664126\n",
      "[20]\tvalid_0's multi_logloss: 0.650303\n",
      "[21]\tvalid_0's multi_logloss: 0.634791\n",
      "[22]\tvalid_0's multi_logloss: 0.619971\n",
      "[23]\tvalid_0's multi_logloss: 0.608476\n",
      "[24]\tvalid_0's multi_logloss: 0.596775\n",
      "[25]\tvalid_0's multi_logloss: 0.584839\n",
      "[26]\tvalid_0's multi_logloss: 0.576697\n",
      "[27]\tvalid_0's multi_logloss: 0.567546\n",
      "[28]\tvalid_0's multi_logloss: 0.558564\n",
      "[29]\tvalid_0's multi_logloss: 0.548152\n",
      "[30]\tvalid_0's multi_logloss: 0.540184\n",
      "[31]\tvalid_0's multi_logloss: 0.531389\n",
      "[32]\tvalid_0's multi_logloss: 0.522683\n",
      "[33]\tvalid_0's multi_logloss: 0.516311\n",
      "[34]\tvalid_0's multi_logloss: 0.509686\n",
      "[35]\tvalid_0's multi_logloss: 0.503293\n",
      "[36]\tvalid_0's multi_logloss: 0.49902\n",
      "[37]\tvalid_0's multi_logloss: 0.494807\n",
      "[38]\tvalid_0's multi_logloss: 0.490434\n",
      "[39]\tvalid_0's multi_logloss: 0.486103\n",
      "[40]\tvalid_0's multi_logloss: 0.481393\n",
      "[41]\tvalid_0's multi_logloss: 0.47802\n",
      "[42]\tvalid_0's multi_logloss: 0.474215\n",
      "[43]\tvalid_0's multi_logloss: 0.468359\n",
      "[44]\tvalid_0's multi_logloss: 0.465838\n",
      "[45]\tvalid_0's multi_logloss: 0.460125\n",
      "[46]\tvalid_0's multi_logloss: 0.456151\n",
      "[47]\tvalid_0's multi_logloss: 0.452118\n",
      "[48]\tvalid_0's multi_logloss: 0.44834\n",
      "[49]\tvalid_0's multi_logloss: 0.444427\n",
      "[50]\tvalid_0's multi_logloss: 0.439722\n",
      "[51]\tvalid_0's multi_logloss: 0.436443\n",
      "[52]\tvalid_0's multi_logloss: 0.434269\n",
      "[53]\tvalid_0's multi_logloss: 0.432711\n",
      "[54]\tvalid_0's multi_logloss: 0.431004\n",
      "[55]\tvalid_0's multi_logloss: 0.429327\n",
      "[56]\tvalid_0's multi_logloss: 0.425496\n",
      "[57]\tvalid_0's multi_logloss: 0.424989\n",
      "[58]\tvalid_0's multi_logloss: 0.422967\n",
      "[59]\tvalid_0's multi_logloss: 0.42216\n",
      "[60]\tvalid_0's multi_logloss: 0.420777\n",
      "[61]\tvalid_0's multi_logloss: 0.417902\n",
      "[62]\tvalid_0's multi_logloss: 0.416118\n",
      "[63]\tvalid_0's multi_logloss: 0.41422\n",
      "[64]\tvalid_0's multi_logloss: 0.412335\n",
      "[65]\tvalid_0's multi_logloss: 0.410769\n",
      "[66]\tvalid_0's multi_logloss: 0.410094\n",
      "[67]\tvalid_0's multi_logloss: 0.409203\n",
      "[68]\tvalid_0's multi_logloss: 0.408615\n",
      "[69]\tvalid_0's multi_logloss: 0.406719\n",
      "[70]\tvalid_0's multi_logloss: 0.404556\n",
      "[71]\tvalid_0's multi_logloss: 0.404668\n",
      "[72]\tvalid_0's multi_logloss: 0.404868\n",
      "[73]\tvalid_0's multi_logloss: 0.404234\n",
      "[74]\tvalid_0's multi_logloss: 0.404268\n",
      "[75]\tvalid_0's multi_logloss: 0.40487\n",
      "[76]\tvalid_0's multi_logloss: 0.406621\n",
      "[77]\tvalid_0's multi_logloss: 0.405662\n",
      "[78]\tvalid_0's multi_logloss: 0.407097\n",
      "Early stopping, best iteration is:\n",
      "[73]\tvalid_0's multi_logloss: 0.404234\n"
     ]
    }
   ],
   "source": [
    "# define and fit\n",
    "gbm = lgb.LGBMClassifier(\n",
    "    objective='multiclass',\n",
    "    device = 'gpu'\n",
    ")\n",
    "\n",
    "gbm.fit(\n",
    "    X_train, \n",
    "    y_train,\n",
    "    eval_set=[(X_test, y_test)],\n",
    "    early_stopping_rounds=5\n",
    ")\n",
    "\n",
    "# pickle.dump(gbm, open('../model/lgbm_pos_HCD35+decomp.sav', 'wb'))"
   ]
  },
  {
   "cell_type": "code",
   "execution_count": 6,
   "metadata": {},
   "outputs": [],
   "source": [
    "# set parameters\n",
    "params = {}\n",
    "params['device'] = 'gpu'\n",
    "params['gpu_id'] = 0\n",
    "params['updater'] = 'grow_gpu_hist'"
   ]
  },
  {
   "cell_type": "code",
   "execution_count": 7,
   "metadata": {
    "scrolled": true
   },
   "outputs": [],
   "source": [
    "# define and fit\n",
    "model = xgb.XGBClassifier(**params)\n",
    "model.fit(X_train, y_train)\n",
    "\n",
    "# pickle.dump(model, open('../model/xgb_pos_HCD35+decomp.sav', 'wb'))"
   ]
  },
  {
   "cell_type": "code",
   "execution_count": 8,
   "metadata": {},
   "outputs": [],
   "source": [
    "with open('../data/HCD35_neg.pickle', mode='rb') as fp:\n",
    "    df_3 = pickle.load(fp)\n",
    "    \n",
    "df = pd.concat([\n",
    "    df_3,\n",
    "    pd.read_csv('../data/decomp_neg.csv').drop('Subclass', axis=1)\n",
    "], axis=1)"
   ]
  },
  {
   "cell_type": "code",
   "execution_count": 10,
   "metadata": {},
   "outputs": [],
   "source": [
    "# divide objective and target\n",
    "objective = df.Subclass\n",
    "le = preprocessing.LabelEncoder()\n",
    "objective = le.fit_transform(objective)\n",
    "features = df.drop('Subclass', axis=1)\n",
    "\n",
    "# train test split\n",
    "random_state=np.random.seed(42)\n",
    "X_train, X_test, y_train, y_test = train_test_split(\n",
    "    features, \n",
    "    objective,\n",
    "    test_size=0.2\n",
    ")"
   ]
  },
  {
   "cell_type": "code",
   "execution_count": 11,
   "metadata": {},
   "outputs": [],
   "source": [
    "# define and fit \n",
    "clf = rf()\n",
    "clf = clf.fit(X_train, y_train)\n",
    "\n",
    "# pickle.dump(clf, open('../model/rf_ng_HCD35+decomp.sav', 'wb'))"
   ]
  },
  {
   "cell_type": "code",
   "execution_count": 13,
   "metadata": {
    "scrolled": true
   },
   "outputs": [
    {
     "name": "stdout",
     "output_type": "stream",
     "text": [
      "[1]\tvalid_0's multi_logloss: 1.28919\n",
      "Training until validation scores don't improve for 5 rounds.\n",
      "[2]\tvalid_0's multi_logloss: 1.20761\n",
      "[3]\tvalid_0's multi_logloss: 1.14127\n",
      "[4]\tvalid_0's multi_logloss: 1.08399\n",
      "[5]\tvalid_0's multi_logloss: 1.03192\n",
      "[6]\tvalid_0's multi_logloss: 0.985134\n",
      "[7]\tvalid_0's multi_logloss: 0.948937\n",
      "[8]\tvalid_0's multi_logloss: 0.919607\n",
      "[9]\tvalid_0's multi_logloss: 0.884904\n",
      "[10]\tvalid_0's multi_logloss: 0.857844\n",
      "[11]\tvalid_0's multi_logloss: 0.831593\n",
      "[12]\tvalid_0's multi_logloss: 0.811628\n",
      "[13]\tvalid_0's multi_logloss: 0.793627\n",
      "[14]\tvalid_0's multi_logloss: 0.77842\n",
      "[15]\tvalid_0's multi_logloss: 0.762973\n",
      "[16]\tvalid_0's multi_logloss: 0.746611\n",
      "[17]\tvalid_0's multi_logloss: 0.734568\n",
      "[18]\tvalid_0's multi_logloss: 0.72581\n",
      "[19]\tvalid_0's multi_logloss: 0.715228\n",
      "[20]\tvalid_0's multi_logloss: 0.706909\n",
      "[21]\tvalid_0's multi_logloss: 0.699649\n",
      "[22]\tvalid_0's multi_logloss: 0.692077\n",
      "[23]\tvalid_0's multi_logloss: 0.685201\n",
      "[24]\tvalid_0's multi_logloss: 0.678678\n",
      "[25]\tvalid_0's multi_logloss: 0.670994\n",
      "[26]\tvalid_0's multi_logloss: 0.664344\n",
      "[27]\tvalid_0's multi_logloss: 0.656925\n",
      "[28]\tvalid_0's multi_logloss: 0.654792\n",
      "[29]\tvalid_0's multi_logloss: 0.65043\n",
      "[30]\tvalid_0's multi_logloss: 0.643581\n",
      "[31]\tvalid_0's multi_logloss: 0.643173\n",
      "[32]\tvalid_0's multi_logloss: 0.641\n",
      "[33]\tvalid_0's multi_logloss: 0.638218\n",
      "[34]\tvalid_0's multi_logloss: 0.635357\n",
      "[35]\tvalid_0's multi_logloss: 0.637352\n",
      "[36]\tvalid_0's multi_logloss: 0.631851\n",
      "[37]\tvalid_0's multi_logloss: 0.627702\n",
      "[38]\tvalid_0's multi_logloss: 0.625769\n",
      "[39]\tvalid_0's multi_logloss: 0.622354\n",
      "[40]\tvalid_0's multi_logloss: 0.61832\n",
      "[41]\tvalid_0's multi_logloss: 0.620795\n",
      "[42]\tvalid_0's multi_logloss: 0.617934\n",
      "[43]\tvalid_0's multi_logloss: 0.618597\n",
      "[44]\tvalid_0's multi_logloss: 0.613811\n",
      "[45]\tvalid_0's multi_logloss: 0.614607\n",
      "[46]\tvalid_0's multi_logloss: 0.611623\n",
      "[47]\tvalid_0's multi_logloss: 0.612039\n",
      "[48]\tvalid_0's multi_logloss: 0.612826\n",
      "[49]\tvalid_0's multi_logloss: 0.613254\n",
      "[50]\tvalid_0's multi_logloss: 0.613708\n",
      "[51]\tvalid_0's multi_logloss: 0.613811\n",
      "Early stopping, best iteration is:\n",
      "[46]\tvalid_0's multi_logloss: 0.611623\n"
     ]
    },
    {
     "data": {
      "text/plain": [
       "LGBMClassifier(boosting_type='gbdt', class_weight=None, colsample_bytree=1.0,\n",
       "        device='gpu', importance_type='split', learning_rate=0.1,\n",
       "        max_depth=-1, min_child_samples=20, min_child_weight=0.001,\n",
       "        min_split_gain=0.0, n_estimators=100, n_jobs=-1, num_leaves=31,\n",
       "        objective='multiclass', random_state=None, reg_alpha=0.0,\n",
       "        reg_lambda=0.0, silent=True, subsample=1.0,\n",
       "        subsample_for_bin=200000, subsample_freq=0)"
      ]
     },
     "execution_count": 13,
     "metadata": {},
     "output_type": "execute_result"
    }
   ],
   "source": [
    "# define and fit\n",
    "gbm = lgb.LGBMClassifier(\n",
    "    objective='multiclass',\n",
    "    device = 'gpu'\n",
    ")\n",
    "\n",
    "gbm.fit(\n",
    "    X_train, \n",
    "    y_train,\n",
    "    eval_set=[(X_test, y_test)],\n",
    "    early_stopping_rounds=5\n",
    ")\n",
    "\n",
    "# pickle.dump(gbm, open('../model/lgbm_ng_HCD35+decomp.sav', 'wb'))"
   ]
  },
  {
   "cell_type": "code",
   "execution_count": 1,
   "metadata": {},
   "outputs": [],
   "source": [
    "# setting parameters\n",
    "params = {}\n",
    "params['device'] = 'gpu'\n",
    "params['gpu_id'] = 0\n",
    "params['updater'] = 'grow_gpu_hist'"
   ]
  },
  {
   "cell_type": "code",
   "execution_count": 3,
   "metadata": {
    "scrolled": true
   },
   "outputs": [],
   "source": [
    "# define and fit \n",
    "model = xgb.XGBClassifier(**params)\n",
    "model.fit(X_train, y_train)\n",
    "\n",
    "# pickle.dump(model, open('../model/xgb_ng_HCD35+decomp.sav', 'wb'))"
   ]
  }
 ],
 "metadata": {
  "kernelspec": {
   "display_name": "py36",
   "language": "python",
   "name": "py36"
  },
  "language_info": {
   "codemirror_mode": {
    "name": "ipython",
    "version": 3
   },
   "file_extension": ".py",
   "mimetype": "text/x-python",
   "name": "python",
   "nbconvert_exporter": "python",
   "pygments_lexer": "ipython3",
   "version": "3.6.5"
  }
 },
 "nbformat": 4,
 "nbformat_minor": 2
}
