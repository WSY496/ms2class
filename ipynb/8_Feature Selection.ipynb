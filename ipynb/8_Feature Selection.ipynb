{
 "cells": [
  {
   "cell_type": "code",
   "execution_count": 1,
   "metadata": {},
   "outputs": [],
   "source": [
    "# import library\n",
    "import numpy as np\n",
    "from sklearn.preprocessing import LabelEncoder\n",
    "import pandas as pd \n",
    "import matplotlib.pyplot as plt\n",
    "from umap import UMAP\n",
    "import xgboost as xgb\n",
    "import lightgbm as lgb\n",
    "import pickle\n",
    "\n",
    "from sklearn.preprocessing import StandardScaler\n",
    "from sklearn.random_projection import GaussianRandomProjection\n",
    "from sklearn.random_projection import SparseRandomProjection\n",
    "from sklearn.decomposition import PCA, FastICA, KernelPCA\n",
    "from sklearn.decomposition import TruncatedSVD\n",
    "from sklearn.metrics import r2_score\n",
    "from sklearn.model_selection import train_test_split\n",
    "from sklearn.metrics import confusion_matrix\n",
    "from sklearn import preprocessing\n",
    "from sklearn.metrics import accuracy_score\n",
    "from sklearn.model_selection import cross_val_score\n",
    "from sklearn.metrics import mean_absolute_error\n",
    "from sklearn.model_selection import GridSearchCV\n",
    "\n",
    "from sklearn.ensemble import RandomForestClassifier as rf\n",
    "from sklearn.metrics import make_scorer\n",
    "from sklearn.model_selection import KFold"
   ]
  },
  {
   "cell_type": "code",
   "execution_count": 2,
   "metadata": {},
   "outputs": [],
   "source": [
    "# load each HCD Data\n",
    "with open('../data/HCD35_pos.pickle', mode='rb') as fp:\n",
    "    df_3 = pickle.load(fp)\n",
    "    \n",
    "with open('../data/HCD45_pos.pickle', mode='rb') as fp:\n",
    "    df_4 = pickle.load(fp)\n",
    "\n",
    "with open('../data/HCD65_pos.pickle', mode='rb') as fp:\n",
    "    df_6 = pickle.load(fp)"
   ]
  },
  {
   "cell_type": "code",
   "execution_count": 3,
   "metadata": {},
   "outputs": [
    {
     "data": {
      "text/plain": [
       "array([[<matplotlib.axes._subplots.AxesSubplot object at 0x7fab66c01550>]],\n",
       "      dtype=object)"
      ]
     },
     "execution_count": 3,
     "metadata": {},
     "output_type": "execute_result"
    },
    {
     "data": {
      "image/png": "[encoded data removed]",
      "text/plain": [
       "<Figure size 432x288 with 1 Axes>"
      ]
     },
     "metadata": {},
     "output_type": "display_data"
    }
   ],
   "source": [
    "# divide objective and features\n",
    "objective = df_3.Subclass\n",
    "le = preprocessing.LabelEncoder()\n",
    "objective = le.fit_transform(objective)\n",
    "features = df_3.drop('Subclass', axis=1)\n",
    "\n",
    "# train test split\n",
    "random_state = np.random.seed(42)\n",
    "X_train, X_test, y_train, y_test = train_test_split(\n",
    "    features,\n",
    "    objective,\n",
    "    test_size=0.2\n",
    ")\n",
    "\n",
    "# define and fit\n",
    "clf = rf()\n",
    "clf.fit(X_train, y_train)\n",
    "t = clf.feature_importances_\n",
    "\n",
    "g = pd.DataFrame(t, index=df_3.drop('Subclass', axis=1).columns).sort_values(0, ascending=False)\n",
    "g[g[0] > 0].hist()\n",
    "\n",
    "# over 0.001 is better"
   ]
  },
  {
   "cell_type": "code",
   "execution_count": 4,
   "metadata": {
    "scrolled": true
   },
   "outputs": [],
   "source": [
    "t = (g[g[0] > 0.0002]).index"
   ]
  },
  {
   "cell_type": "code",
   "execution_count": 5,
   "metadata": {},
   "outputs": [
    {
     "data": {
      "text/plain": [
       "array([[<matplotlib.axes._subplots.AxesSubplot object at 0x7fab4b61c6a0>]],\n",
       "      dtype=object)"
      ]
     },
     "execution_count": 5,
     "metadata": {},
     "output_type": "execute_result"
    },
    {
     "data": {
      "image/png": "[encoded data removed]",
      "text/plain": [
       "<Figure size 432x288 with 1 Axes>"
      ]
     },
     "metadata": {},
     "output_type": "display_data"
    }
   ],
   "source": [
    "# set parameters\n",
    "params = {}\n",
    "params['device'] = 'gpu'\n",
    "params['gpu_id'] = 1\n",
    "params['updater'] = 'grow_gpu_hist'\n",
    "\n",
    "model = xgb.XGBClassifier(**params)\n",
    "model.fit(X_train, y_train)\n",
    "\n",
    "g = pd.DataFrame(\n",
    "    model.feature_importances_, \n",
    "    index=df_3.drop('Subclass', axis=1).columns\n",
    ").sort_values(0, ascending=False)\n",
    "\n",
    "g[g[0] > 0].hist()\n",
    "\n",
    "# over 0.001 is better"
   ]
  },
  {
   "cell_type": "code",
   "execution_count": 6,
   "metadata": {
    "scrolled": false
   },
   "outputs": [],
   "source": [
    "c = (g[g[0] > 0.0001].index)"
   ]
  },
  {
   "cell_type": "code",
   "execution_count": 7,
   "metadata": {},
   "outputs": [],
   "source": [
    "m = df_3[list(set(list(t)+list(c)))]"
   ]
  },
  {
   "cell_type": "code",
   "execution_count": 8,
   "metadata": {},
   "outputs": [
    {
     "data": {
      "text/plain": [
       "(1676, 1322)"
      ]
     },
     "execution_count": 8,
     "metadata": {},
     "output_type": "execute_result"
    }
   ],
   "source": [
    "m.shape"
   ]
  },
  {
   "cell_type": "code",
   "execution_count": 9,
   "metadata": {
    "scrolled": false
   },
   "outputs": [
    {
     "data": {
      "text/plain": [
       "array([[<matplotlib.axes._subplots.AxesSubplot object at 0x7fab4b5dca58>]],\n",
       "      dtype=object)"
      ]
     },
     "execution_count": 9,
     "metadata": {},
     "output_type": "execute_result"
    },
    {
     "data": {
      "image/png": "[encoded data removed]",
      "text/plain": [
       "<Figure size 432x288 with 1 Axes>"
      ]
     },
     "metadata": {},
     "output_type": "display_data"
    }
   ],
   "source": [
    "# divide objective and features\n",
    "objective = df_4.Subclass\n",
    "le = preprocessing.LabelEncoder()\n",
    "objective = le.fit_transform(objective)\n",
    "features = df_4.drop('Subclass', axis=1)\n",
    "\n",
    "# train test split\n",
    "random_state = np.random.seed(42)\n",
    "X_train, X_test, y_train, y_test = train_test_split(\n",
    "    features,\n",
    "    objective,\n",
    "    test_size=0.2\n",
    ")\n",
    "\n",
    "# define and fit\n",
    "clf = rf()\n",
    "clf.fit(X_train, y_train)\n",
    "c = clf.feature_importances_\n",
    "\n",
    "g = pd.DataFrame(c, index=df_4.drop('Subclass', axis=1).columns).sort_values(0, ascending=False)\n",
    "g[g[0] > 0].hist()\n",
    "\n",
    "# over 0.001 is better"
   ]
  },
  {
   "cell_type": "code",
   "execution_count": 10,
   "metadata": {},
   "outputs": [],
   "source": [
    "b = (g[g[0] > 0.0002].index)"
   ]
  },
  {
   "cell_type": "code",
   "execution_count": 11,
   "metadata": {
    "scrolled": true
   },
   "outputs": [
    {
     "data": {
      "text/plain": [
       "array([[<matplotlib.axes._subplots.AxesSubplot object at 0x7fab66b772b0>]],\n",
       "      dtype=object)"
      ]
     },
     "execution_count": 11,
     "metadata": {},
     "output_type": "execute_result"
    },
    {
     "data": {
      "image/png": "[encoded data removed]",
      "text/plain": [
       "<Figure size 432x288 with 1 Axes>"
      ]
     },
     "metadata": {},
     "output_type": "display_data"
    }
   ],
   "source": [
    "# set parameters\n",
    "params = {}\n",
    "params['device'] = 'gpu'\n",
    "params['gpu_id'] = 1\n",
    "params['updater'] = 'grow_gpu_hist'\n",
    "\n",
    "model = xgb.XGBClassifier(**params)\n",
    "model.fit(X_train, y_train)\n",
    "\n",
    "g = pd.DataFrame(\n",
    "    model.feature_importances_, \n",
    "    index=df_4.drop('Subclass', axis=1).columns\n",
    ").sort_values(0, ascending=False)\n",
    "\n",
    "g[g[0] > 0].hist()\n",
    "\n",
    "# over 0.001 is better"
   ]
  },
  {
   "cell_type": "code",
   "execution_count": 12,
   "metadata": {},
   "outputs": [],
   "source": [
    "o = (g[g[0] > 0.0001].index)"
   ]
  },
  {
   "cell_type": "code",
   "execution_count": 13,
   "metadata": {},
   "outputs": [],
   "source": [
    "l = df_4[list(set(list(o)+list(b)))]"
   ]
  },
  {
   "cell_type": "code",
   "execution_count": 14,
   "metadata": {},
   "outputs": [
    {
     "data": {
      "text/plain": [
       "(1676, 1392)"
      ]
     },
     "execution_count": 14,
     "metadata": {},
     "output_type": "execute_result"
    }
   ],
   "source": [
    "l.shape"
   ]
  },
  {
   "cell_type": "code",
   "execution_count": 15,
   "metadata": {},
   "outputs": [
    {
     "data": {
      "text/plain": [
       "array([[<matplotlib.axes._subplots.AxesSubplot object at 0x7fab66a8c518>]],\n",
       "      dtype=object)"
      ]
     },
     "execution_count": 15,
     "metadata": {},
     "output_type": "execute_result"
    },
    {
     "data": {
      "image/png": "[encoded data removed]",
      "text/plain": [
       "<Figure size 432x288 with 1 Axes>"
      ]
     },
     "metadata": {},
     "output_type": "display_data"
    }
   ],
   "source": [
    "# divide objective and features\n",
    "objective = df_6.Subclass\n",
    "le = preprocessing.LabelEncoder()\n",
    "objective = le.fit_transform(objective)\n",
    "features = df_6.drop('Subclass', axis=1)\n",
    "\n",
    "# train test split\n",
    "random_state = np.random.seed(42)\n",
    "X_train, X_test, y_train, y_test = train_test_split(\n",
    "    features,\n",
    "    objective,\n",
    "    test_size=0.2\n",
    ")\n",
    "\n",
    "# define and fit\n",
    "clf = rf()\n",
    "clf.fit(X_train, y_train)\n",
    "g = clf.feature_importances_\n",
    "\n",
    "f = pd.DataFrame(g, index=df_6.drop('Subclass', axis=1).columns).sort_values(0, ascending=False)\n",
    "f[f[0] > 0].hist()"
   ]
  },
  {
   "cell_type": "code",
   "execution_count": 16,
   "metadata": {},
   "outputs": [],
   "source": [
    "p = (f[f[0] > 0.0002].index)"
   ]
  },
  {
   "cell_type": "code",
   "execution_count": 17,
   "metadata": {},
   "outputs": [
    {
     "data": {
      "text/plain": [
       "array([[<matplotlib.axes._subplots.AxesSubplot object at 0x7fab66a896d8>]],\n",
       "      dtype=object)"
      ]
     },
     "execution_count": 17,
     "metadata": {},
     "output_type": "execute_result"
    },
    {
     "data": {
      "image/png": "[encoded data removed]",
      "text/plain": [
       "<Figure size 432x288 with 1 Axes>"
      ]
     },
     "metadata": {},
     "output_type": "display_data"
    }
   ],
   "source": [
    "# set parameters\n",
    "params = {}\n",
    "params['device'] = 'gpu'\n",
    "params['gpu_id'] = 1\n",
    "params['updater'] = 'grow_gpu_hist'\n",
    "\n",
    "model = xgb.XGBClassifier(**params)\n",
    "model.fit(X_train, y_train)\n",
    "\n",
    "g = pd.DataFrame(\n",
    "    model.feature_importances_, \n",
    "    index=df_6.drop('Subclass', axis=1).columns\n",
    ").sort_values(0, ascending=False)\n",
    "\n",
    "g[g[0] > 0].hist()\n",
    "\n",
    "# over 0.002 is better"
   ]
  },
  {
   "cell_type": "code",
   "execution_count": 18,
   "metadata": {},
   "outputs": [],
   "source": [
    "j = (g[g[0] > 0.0001].index)"
   ]
  },
  {
   "cell_type": "code",
   "execution_count": 19,
   "metadata": {
    "scrolled": true
   },
   "outputs": [],
   "source": [
    "v = df_6[list(set(list(p)+list(j)))]"
   ]
  },
  {
   "cell_type": "code",
   "execution_count": 20,
   "metadata": {},
   "outputs": [
    {
     "data": {
      "text/plain": [
       "(1676, 1369)"
      ]
     },
     "execution_count": 20,
     "metadata": {},
     "output_type": "execute_result"
    }
   ],
   "source": [
    "v.shape"
   ]
  },
  {
   "cell_type": "code",
   "execution_count": 21,
   "metadata": {},
   "outputs": [],
   "source": [
    "s = pd.concat([df_3.Subclass,m, l, v], axis=1)\n",
    "s.to_csv('../data/feature_selection_positive.csv')"
   ]
  },
  {
   "cell_type": "code",
   "execution_count": 22,
   "metadata": {},
   "outputs": [
    {
     "data": {
      "text/plain": [
       "(1676, 4084)"
      ]
     },
     "execution_count": 22,
     "metadata": {},
     "output_type": "execute_result"
    }
   ],
   "source": [
    "s.shape"
   ]
  },
  {
   "cell_type": "code",
   "execution_count": null,
   "metadata": {},
   "outputs": [],
   "source": []
  },
  {
   "cell_type": "code",
   "execution_count": 23,
   "metadata": {},
   "outputs": [],
   "source": [
    "# load data\n",
    "with open('../data/HCD35_neg.pickle', mode='rb') as fp:\n",
    "    df_3 = pickle.load(fp)\n",
    "    \n",
    "with open('../data/HCD45_neg.pickle', mode='rb') as fp:\n",
    "    df_4 = pickle.load(fp)\n",
    "\n",
    "with open('../data/HCD65_neg.pickle', mode='rb') as fp:\n",
    "    df_6 = pickle.load(fp)"
   ]
  },
  {
   "cell_type": "code",
   "execution_count": 24,
   "metadata": {
    "scrolled": true
   },
   "outputs": [
    {
     "data": {
      "text/plain": [
       "array([[<matplotlib.axes._subplots.AxesSubplot object at 0x7fab66a88d68>]],\n",
       "      dtype=object)"
      ]
     },
     "execution_count": 24,
     "metadata": {},
     "output_type": "execute_result"
    },
    {
     "data": {
      "image/png": "[encoded data removed]",
      "text/plain": [
       "<Figure size 432x288 with 1 Axes>"
      ]
     },
     "metadata": {},
     "output_type": "display_data"
    }
   ],
   "source": [
    "# divide objective and features\n",
    "objective = df_3.Subclass\n",
    "le = preprocessing.LabelEncoder()\n",
    "objective = le.fit_transform(objective)\n",
    "features = df_3.drop('Subclass', axis=1)\n",
    "\n",
    "# train test split\n",
    "random_state = np.random.seed(42)\n",
    "X_train, X_test, y_train, y_test = train_test_split(\n",
    "    features,\n",
    "    objective,\n",
    "    test_size=0.2\n",
    ")\n",
    "\n",
    "# define and fit\n",
    "clf = rf()\n",
    "clf.fit(X_train, y_train)\n",
    "\n",
    "g = clf.feature_importances_\n",
    "\n",
    "f = pd.DataFrame(g, index=df_3.drop('Subclass', axis=1).columns).sort_values(0, ascending=False)\n",
    "f[f[0] > 0].hist()"
   ]
  },
  {
   "cell_type": "code",
   "execution_count": 25,
   "metadata": {},
   "outputs": [],
   "source": [
    "r = (f[f[0] > 0.000001].index)"
   ]
  },
  {
   "cell_type": "code",
   "execution_count": 26,
   "metadata": {},
   "outputs": [
    {
     "data": {
      "text/plain": [
       "array([[<matplotlib.axes._subplots.AxesSubplot object at 0x7fabbc3ee940>]],\n",
       "      dtype=object)"
      ]
     },
     "execution_count": 26,
     "metadata": {},
     "output_type": "execute_result"
    },
    {
     "data": {
      "image/png": "[encoded data removed]",
      "text/plain": [
       "<Figure size 432x288 with 1 Axes>"
      ]
     },
     "metadata": {},
     "output_type": "display_data"
    }
   ],
   "source": [
    "# set parameters\n",
    "params = {}\n",
    "params['device'] = 'gpu'\n",
    "params['gpu_id'] = 1\n",
    "params['updater'] = 'grow_gpu_hist'\n",
    "\n",
    "model = xgb.XGBClassifier(**params)\n",
    "model.fit(X_train, y_train)\n",
    "\n",
    "g = pd.DataFrame(\n",
    "    model.feature_importances_, \n",
    "    index=df_3.drop('Subclass', axis=1).columns\n",
    ").sort_values(0, ascending=False)\n",
    "\n",
    "g[g[0] > 0].hist()\n",
    "\n",
    "# over 0.001 is better"
   ]
  },
  {
   "cell_type": "code",
   "execution_count": 27,
   "metadata": {},
   "outputs": [],
   "source": [
    "d = ((g[g[0] > 0.0005]).index)"
   ]
  },
  {
   "cell_type": "code",
   "execution_count": 28,
   "metadata": {},
   "outputs": [],
   "source": [
    "y = df_3[list(set(list(d)+list(r)))]"
   ]
  },
  {
   "cell_type": "code",
   "execution_count": 29,
   "metadata": {},
   "outputs": [
    {
     "data": {
      "text/plain": [
       "(467, 891)"
      ]
     },
     "execution_count": 29,
     "metadata": {},
     "output_type": "execute_result"
    }
   ],
   "source": [
    "y.shape"
   ]
  },
  {
   "cell_type": "code",
   "execution_count": 30,
   "metadata": {},
   "outputs": [
    {
     "data": {
      "text/plain": [
       "array([[<matplotlib.axes._subplots.AxesSubplot object at 0x7fabbc381908>]],\n",
       "      dtype=object)"
      ]
     },
     "execution_count": 30,
     "metadata": {},
     "output_type": "execute_result"
    },
    {
     "data": {
      "image/png": "[encoded data removed]",
      "text/plain": [
       "<Figure size 432x288 with 1 Axes>"
      ]
     },
     "metadata": {},
     "output_type": "display_data"
    }
   ],
   "source": [
    "# divide objective and features\n",
    "objective = df_4.Subclass\n",
    "le = preprocessing.LabelEncoder()\n",
    "objective = le.fit_transform(objective)\n",
    "features = df_4.drop('Subclass', axis=1)\n",
    "\n",
    "# train test split\n",
    "random_state = np.random.seed(42)\n",
    "X_train, X_test, y_train, y_test = train_test_split(\n",
    "    features,\n",
    "    objective,\n",
    "    test_size=0.2\n",
    ")\n",
    "\n",
    "# define and fit\n",
    "clf = rf()\n",
    "clf.fit(X_train, y_train)\n",
    "\n",
    "g = clf.feature_importances_\n",
    "\n",
    "f = pd.DataFrame(g, index=df_4.drop('Subclass', axis=1).columns).sort_values(0, ascending=False)\n",
    "f[f[0] > 0].hist()"
   ]
  },
  {
   "cell_type": "code",
   "execution_count": 31,
   "metadata": {},
   "outputs": [],
   "source": [
    "n = ((f[f[0] > 0.00001]).index)"
   ]
  },
  {
   "cell_type": "code",
   "execution_count": 32,
   "metadata": {},
   "outputs": [
    {
     "data": {
      "text/plain": [
       "array([[<matplotlib.axes._subplots.AxesSubplot object at 0x7fabbc2ed0b8>]],\n",
       "      dtype=object)"
      ]
     },
     "execution_count": 32,
     "metadata": {},
     "output_type": "execute_result"
    },
    {
     "data": {
      "image/png": "[encoded data removed]",
      "text/plain": [
       "<Figure size 432x288 with 1 Axes>"
      ]
     },
     "metadata": {},
     "output_type": "display_data"
    }
   ],
   "source": [
    "# set parameters\n",
    "params = {}\n",
    "params['device'] = 'gpu'\n",
    "params['gpu_id'] = 1\n",
    "params['updater'] = 'grow_gpu_hist'\n",
    "\n",
    "model = xgb.XGBClassifier(**params)\n",
    "model.fit(X_train, y_train)\n",
    "\n",
    "g = pd.DataFrame(\n",
    "    model.feature_importances_, \n",
    "    index=df_4.drop('Subclass', axis=1).columns\n",
    ").sort_values(0, ascending=False)\n",
    "\n",
    "g[g[0] > 0].hist()\n",
    "\n",
    "# over 0.001 is better"
   ]
  },
  {
   "cell_type": "code",
   "execution_count": 33,
   "metadata": {
    "scrolled": true
   },
   "outputs": [],
   "source": [
    "e = (g[g[0] > 0.0001].index)"
   ]
  },
  {
   "cell_type": "code",
   "execution_count": 34,
   "metadata": {},
   "outputs": [],
   "source": [
    "h = df_4[list(set(list(e)+list(n)))]"
   ]
  },
  {
   "cell_type": "code",
   "execution_count": 35,
   "metadata": {},
   "outputs": [
    {
     "data": {
      "text/plain": [
       "(467, 843)"
      ]
     },
     "execution_count": 35,
     "metadata": {},
     "output_type": "execute_result"
    }
   ],
   "source": [
    "h.shape"
   ]
  },
  {
   "cell_type": "code",
   "execution_count": 36,
   "metadata": {},
   "outputs": [
    {
     "data": {
      "text/plain": [
       "array([[<matplotlib.axes._subplots.AxesSubplot object at 0x7fabbc27c320>]],\n",
       "      dtype=object)"
      ]
     },
     "execution_count": 36,
     "metadata": {},
     "output_type": "execute_result"
    },
    {
     "data": {
      "image/png": "[encoded data removed]",
      "text/plain": [
       "<Figure size 432x288 with 1 Axes>"
      ]
     },
     "metadata": {},
     "output_type": "display_data"
    }
   ],
   "source": [
    "# divide objective and features\n",
    "objective = df_6.Subclass\n",
    "le = preprocessing.LabelEncoder()\n",
    "objective = le.fit_transform(objective)\n",
    "features = df_6.drop('Subclass', axis=1)\n",
    "\n",
    "# train test split\n",
    "random_state = np.random.seed(42)\n",
    "X_train, X_test, y_train, y_test = train_test_split(\n",
    "    features,\n",
    "    objective,\n",
    "    test_size=0.2\n",
    ")\n",
    "\n",
    "# define and fit\n",
    "clf = rf()\n",
    "clf.fit(X_train, y_train)\n",
    "\n",
    "g = clf.feature_importances_\n",
    "\n",
    "f = pd.DataFrame(g, index=df_6.drop('Subclass', axis=1).columns).sort_values(0, ascending=False)\n",
    "f[f[0] > 0].hist()"
   ]
  },
  {
   "cell_type": "code",
   "execution_count": 37,
   "metadata": {},
   "outputs": [],
   "source": [
    "w = ((f[f[0] > 0.000001]).index)"
   ]
  },
  {
   "cell_type": "code",
   "execution_count": 38,
   "metadata": {},
   "outputs": [
    {
     "data": {
      "text/plain": [
       "array([[<matplotlib.axes._subplots.AxesSubplot object at 0x7fabbc283438>]],\n",
       "      dtype=object)"
      ]
     },
     "execution_count": 38,
     "metadata": {},
     "output_type": "execute_result"
    },
    {
     "data": {
      "image/png": "[encoded data removed]",
      "text/plain": [
       "<Figure size 432x288 with 1 Axes>"
      ]
     },
     "metadata": {},
     "output_type": "display_data"
    }
   ],
   "source": [
    "# set parameters\n",
    "params = {}\n",
    "params['device'] = 'gpu'\n",
    "params['gpu_id'] = 1\n",
    "params['updater'] = 'grow_gpu_hist'\n",
    "\n",
    "model = xgb.XGBClassifier(**params)\n",
    "model.fit(X_train, y_train)\n",
    "\n",
    "g = pd.DataFrame(\n",
    "    model.feature_importances_, \n",
    "    index=df_6.drop('Subclass', axis=1).columns\n",
    ").sort_values(0, ascending=False)\n",
    "\n",
    "g[g[0] > 0].hist()\n",
    "\n",
    "# over 0.001 is better"
   ]
  },
  {
   "cell_type": "code",
   "execution_count": 39,
   "metadata": {},
   "outputs": [],
   "source": [
    "q = ((g[g[0] > 0.0001]).index)"
   ]
  },
  {
   "cell_type": "code",
   "execution_count": 40,
   "metadata": {},
   "outputs": [],
   "source": [
    "r = df_6[list(set(list(w)+list(q)))]"
   ]
  },
  {
   "cell_type": "code",
   "execution_count": 41,
   "metadata": {
    "scrolled": true
   },
   "outputs": [],
   "source": [
    "b = pd.concat([\n",
    "    df_3.Subclass,\n",
    "    y, \n",
    "    h, \n",
    "    r\n",
    "], axis=1)\n"
   ]
  },
  {
   "cell_type": "code",
   "execution_count": 42,
   "metadata": {},
   "outputs": [
    {
     "data": {
      "text/plain": [
       "(467, 2780)"
      ]
     },
     "execution_count": 42,
     "metadata": {},
     "output_type": "execute_result"
    }
   ],
   "source": [
    "b.shape"
   ]
  },
  {
   "cell_type": "code",
   "execution_count": 43,
   "metadata": {},
   "outputs": [],
   "source": [
    "b.to_csv('../data/feature_selection_negative.csv')"
   ]
  }
 ],
 "metadata": {
  "kernelspec": {
   "display_name": "py36",
   "language": "python",
   "name": "py36"
  },
  "language_info": {
   "codemirror_mode": {
    "name": "ipython",
    "version": 3
   },
   "file_extension": ".py",
   "mimetype": "text/x-python",
   "name": "python",
   "nbconvert_exporter": "python",
   "pygments_lexer": "ipython3",
   "version": "3.6.5"
  }
 },
 "nbformat": 4,
 "nbformat_minor": 2
}
