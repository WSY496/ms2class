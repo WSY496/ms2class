{
 "cells": [
  {
   "cell_type": "code",
   "execution_count": 9,
   "metadata": {},
   "outputs": [],
   "source": [
    "# importrt library\n",
    "import pandas as pd\n",
    "import numpy as np\n",
    "import pickle\n",
    "\n",
    "from sklearn.ensemble import RandomForestClassifier as rf\n",
    "from sklearn.model_selection import train_test_split\n",
    "from sklearn.model_selection import GridSearchCV\n",
    "from sklearn import preprocessing"
   ]
  },
  {
   "cell_type": "code",
   "execution_count": 10,
   "metadata": {},
   "outputs": [],
   "source": [
    "# load data\n",
    "with open('../data/HCD35_pos_all.pickle', mode='rb') as fp:\n",
    "    df = pickle.load(fp).drop(['Subclass','Kingdom', 'Superclass'], axis=1)"
   ]
  },
  {
   "cell_type": "code",
   "execution_count": 12,
   "metadata": {
    "scrolled": true
   },
   "outputs": [
    {
     "data": {
      "text/plain": [
       "Prenol lipids                               1638\n",
       "Organooxygen compounds                       704\n",
       "Flavonoids                                   479\n",
       "Coumarins and derivatives                    323\n",
       "Fatty Acyls                                  299\n",
       "Carboxylic acids and derivatives             278\n",
       "Benzene and substituted derivatives          231\n",
       "Steroids and steroid derivatives             228\n",
       "Isoflavonoids                                197\n",
       "Benzopyrans                                  139\n",
       "Cinnamic acids and derivatives               118\n",
       "Diarylheptanoids                             105\n",
       "Phenols                                       89\n",
       "Saccharolipids                                76\n",
       "Anthracenes                                   71\n",
       "Tannins                                       71\n",
       "Stilbenes                                     64\n",
       "Macrolides and analogues                      63\n",
       "Lignan glycosides                             59\n",
       "Furanoid lignans                              58\n",
       "Indoles and derivatives                       57\n",
       "Linear 1,3-diarylpropanoids                   55\n",
       "Naphthopyrans                                 50\n",
       "Naphthofurans                                 45\n",
       "Lactones                                      44\n",
       "Hydroxy acids and derivatives                 40\n",
       "Dihydrofurans                                 40\n",
       "Peptidomimetics                               36\n",
       "Pyridines and derivatives                     35\n",
       "Pyrans                                        34\n",
       "                                            ... \n",
       "Biotin and derivatives                         4\n",
       "Pyrenes                                        4\n",
       "Cinnamyl alcohols                              4\n",
       "Furofurans                                     4\n",
       "Pyrrolizidines                                 4\n",
       "Pyrrolidines                                   4\n",
       "Coumarans                                      4\n",
       "Pyrimidodiazepines                             4\n",
       "Benzoxepines                                   4\n",
       "Flavonolignans                                 4\n",
       "Thiophenes                                     4\n",
       "Indolonaphthyridine alkaloids                  4\n",
       "Corynanthean-type alkaloids                    4\n",
       "Isochromanequinones                            4\n",
       "Amaryllidaceae alkaloids                       4\n",
       "Allyl-type 1,3-dipolar organic compounds       4\n",
       "Allyl sulfur compounds                         4\n",
       "5'-deoxyribonucleosides                        4\n",
       "Angucyclines                                   3\n",
       "Benzazepines                                   3\n",
       "Eburnan-type alkaloids                         3\n",
       "Alpha-methyldeoxybenzoin flavonoids            3\n",
       "Strychnos alkaloids                            2\n",
       "Protopine alkaloids                            2\n",
       "Anthracyclines                                 2\n",
       "Purine nucleotides                             1\n",
       "Triazines                                      1\n",
       "Dioxanes                                       1\n",
       "Flavin nucleotides                             1\n",
       "Tetracyclines                                  1\n",
       "Name: Class, Length: 133, dtype: int64"
      ]
     },
     "execution_count": 12,
     "metadata": {},
     "output_type": "execute_result"
    }
   ],
   "source": [
    "df['Class'].value_counts()"
   ]
  },
  {
   "cell_type": "code",
   "execution_count": 11,
   "metadata": {},
   "outputs": [],
   "source": [
    "# make different num subclasses datasets\n",
    "subclass = df['Class'].value_counts()[:4].index\n",
    "df_4 = df[df['Class'].isin(subclass)].reset_index(drop=True)"
   ]
  },
  {
   "cell_type": "code",
   "execution_count": 13,
   "metadata": {
    "scrolled": true
   },
   "outputs": [],
   "source": [
    "# divide target and features\n",
    "objective = df_4.Class\n",
    "le = preprocessing.LabelEncoder()\n",
    "objective = le.fit_transform(objective)\n",
    "features = df_4.drop('Class', axis=1)"
   ]
  },
  {
   "cell_type": "code",
   "execution_count": 14,
   "metadata": {},
   "outputs": [],
   "source": [
    "# train test split\n",
    "random_state=np.random.seed(42)\n",
    "X_train, X_test, y_train, y_test = train_test_split(\n",
    "    features, \n",
    "    objective,\n",
    "    test_size=0.2\n",
    ")"
   ]
  },
  {
   "cell_type": "code",
   "execution_count": 15,
   "metadata": {},
   "outputs": [
    {
     "data": {
      "text/plain": [
       "0.6724960254372019"
      ]
     },
     "execution_count": 15,
     "metadata": {},
     "output_type": "execute_result"
    }
   ],
   "source": [
    "# define model and fit\n",
    "clf = rf()\n",
    "clf = clf.fit(X_train, y_train)\n",
    "\n",
    "# save as sav and get score\n",
    "clf.score(X_test, y_test)"
   ]
  },
  {
   "cell_type": "code",
   "execution_count": null,
   "metadata": {},
   "outputs": [],
   "source": []
  }
 ],
 "metadata": {
  "kernelspec": {
   "display_name": "py36",
   "language": "python",
   "name": "py36"
  },
  "language_info": {
   "codemirror_mode": {
    "name": "ipython",
    "version": 3
   },
   "file_extension": ".py",
   "mimetype": "text/x-python",
   "name": "python",
   "nbconvert_exporter": "python",
   "pygments_lexer": "ipython3",
   "version": "3.6.5"
  }
 },
 "nbformat": 4,
 "nbformat_minor": 2
}
