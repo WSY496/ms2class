{
 "cells": [
  {
   "cell_type": "code",
   "execution_count": 29,
   "metadata": {},
   "outputs": [],
   "source": [
    "import numpy as np\n",
    "import pandas as pd\n",
    "import pickle"
   ]
  },
  {
   "cell_type": "code",
   "execution_count": 30,
   "metadata": {},
   "outputs": [],
   "source": [
    "# read csv\n",
    "df_pos = pd.read_csv('../csv/pos_for_ml.csv', index_col=0)\n",
    "df_neg = pd.read_csv('../csv/neg_for_ml.csv', index_col=0)"
   ]
  },
  {
   "cell_type": "code",
   "execution_count": 31,
   "metadata": {},
   "outputs": [
    {
     "data": {
      "text/plain": [
       "Index(['35 HCD', '45 HCD', '65 HCD', 'Kingdom', 'Superclass', 'Class',\n",
       "       'Subclass'],\n",
       "      dtype='object')"
      ]
     },
     "execution_count": 31,
     "metadata": {},
     "output_type": "execute_result"
    }
   ],
   "source": [
    "df_pos.columns"
   ]
  },
  {
   "cell_type": "code",
   "execution_count": 32,
   "metadata": {},
   "outputs": [],
   "source": [
    "# # choose top 4 subclass as target label\n",
    "# subclass = pos['Subclass'].value_counts()[:4].index\n",
    "# df_pos = pos[pos['Subclass'].isin(subclass)].reset_index(drop=True)\n",
    "\n",
    "# subclass = neg['Subclass'].value_counts()[:4].index\n",
    "# df_neg = neg[neg['Subclass'].isin(subclass)].reset_index(drop=True)"
   ]
  },
  {
   "cell_type": "code",
   "execution_count": 37,
   "metadata": {
    "scrolled": true
   },
   "outputs": [],
   "source": [
    "# change dict to dataframe as dataset\n",
    "f = []\n",
    "for p in df_pos['35 HCD']:\n",
    "    w = dict()\n",
    "    \n",
    "    #  divide by  space(' ') and colon(':')\n",
    "    for i in p.split(' '):\n",
    "        i=i.split(':')\n",
    "        \n",
    "        # check the missing value\n",
    "        if len(i) == 2:\n",
    "            \n",
    "            # add  each compound data(m/z as key, intensity as value) to dict \n",
    "            w[round(float(i[0]), 2)] = round(float(i[1]), 2)\n",
    "    \n",
    "    # add dict to list \n",
    "    f.append(w)\n",
    "    \n",
    "t = pd.DataFrame(f).fillna(0)\n",
    "t.columns = ['HCD35_'+str(i) for i in t.columns]\n",
    "t = pd.concat([df_pos[['Kingdom', 'Superclass', 'Class', 'Subclass']], t.astype('int16')], axis=1)\n",
    "t.to_pickle('../data/HCD35_pos_all.pickle')"
   ]
  },
  {
   "cell_type": "code",
   "execution_count": 38,
   "metadata": {
    "scrolled": true
   },
   "outputs": [],
   "source": [
    "# change dict to dataframe as dataset\n",
    "f = []\n",
    "for p in df_pos['45 HCD']:\n",
    "    w = dict()\n",
    "    for i in p.split(' '):\n",
    "        i=i.split(':')\n",
    "        if len(i) == 2:\n",
    "            w[round(float(i[0]), 2)] = round(float(i[1]), 2)\n",
    "    f.append(w)\n",
    "    \n",
    "h = pd.DataFrame(f).fillna(0)\n",
    "h.columns = ['HCD45_'+str(i) for i in h.columns]    \n",
    "h = pd.concat([df_pos[['Kingdom', 'Superclass', 'Class', 'Subclass']], h.astype('int16')], axis=1)\n",
    "h.to_pickle('../data/HCD45_pos_all.pickle')"
   ]
  },
  {
   "cell_type": "code",
   "execution_count": 39,
   "metadata": {
    "scrolled": true
   },
   "outputs": [],
   "source": [
    "# change dict to dataframe as dataset\n",
    "f = []\n",
    "for p in df_pos['65 HCD']:\n",
    "    w = dict()\n",
    "    for i in p.split(' '):\n",
    "        i=i.split(':')\n",
    "        if len(i) == 2:\n",
    "            w[round(float(i[0]), 2)] = round(float(i[1]), 2)\n",
    "    f.append(w)\n",
    "    \n",
    "y = pd.DataFrame(f).fillna(0)\n",
    "y.columns = ['HCD65_'+str(i) for i in y.columns]\n",
    "y = pd.concat([df_pos[['Kingdom', 'Superclass', 'Class', 'Subclass']], y.astype('int16')], axis=1)\n",
    "y.to_pickle('../data/HCD65_pos_all.pickle')"
   ]
  },
  {
   "cell_type": "code",
   "execution_count": null,
   "metadata": {},
   "outputs": [],
   "source": []
  },
  {
   "cell_type": "code",
   "execution_count": 40,
   "metadata": {},
   "outputs": [],
   "source": [
    "# change dict to dataframe as dataset\n",
    "f = []\n",
    "for p in df_neg['35 HCD']:\n",
    "    w = dict()\n",
    "    for i in p.split(' '):\n",
    "        i=i.split(':')\n",
    "        if len(i) == 2:\n",
    "            w[round(float(i[0]), 2)] = round(float(i[1]), 2)\n",
    "    f.append(w)\n",
    "    \n",
    "t = pd.DataFrame(f).fillna(0)\n",
    "t.columns = ['HCD35_'+str(i) for i in t.columns]    \n",
    "t = pd.concat([df_neg[['Kingdom', 'Superclass', 'Class', 'Subclass']], t.astype('int16')], axis=1)\n",
    "t.to_pickle('../data/HCD35_neg_all.pickle')"
   ]
  },
  {
   "cell_type": "code",
   "execution_count": 41,
   "metadata": {
    "scrolled": true
   },
   "outputs": [],
   "source": [
    "# change dict to dataframe as dataset\n",
    "f = []\n",
    "for p in df_neg['45 HCD']:\n",
    "    w = dict()\n",
    "    for i in p.split(' '):\n",
    "        i=i.split(':')\n",
    "        if len(i) == 2:\n",
    "            w[round(float(i[0]), 2)] = round(float(i[1]), 2)\n",
    "    f.append(w)\n",
    "    \n",
    "h = pd.DataFrame(f).fillna(0)\n",
    "h.columns = ['HCD45_'+str(i) for i in h.columns]    \n",
    "h = pd.concat([df_neg[['Kingdom', 'Superclass', 'Class', 'Subclass']], h.astype('int16')], axis=1)\n",
    "h.to_pickle('../data/HCD45_neg_all.pickle')"
   ]
  },
  {
   "cell_type": "code",
   "execution_count": 42,
   "metadata": {
    "scrolled": true
   },
   "outputs": [],
   "source": [
    "# change dict to dataframe as dataset\n",
    "f = []\n",
    "for p in df_neg['65 HCD']:\n",
    "    w = dict()\n",
    "    for i in p.split(' '):\n",
    "        i=i.split(':')\n",
    "        if len(i) == 2:\n",
    "            w[round(float(i[0]), 2)] = round(float(i[1]), 2)\n",
    "    f.append(w)\n",
    "    \n",
    "y = pd.DataFrame(f).fillna(0)\n",
    "y.columns = ['HCD65_'+str(i) for i in y.columns]    \n",
    "y = pd.concat([df_neg[['Kingdom', 'Superclass', 'Class', 'Subclass']], y.astype('int16')], axis=1)\n",
    "y.to_pickle('../data/HCD65_neg_all.pickle')"
   ]
  }
 ],
 "metadata": {
  "kernelspec": {
   "display_name": "Python 3",
   "language": "python",
   "name": "python3"
  },
  "language_info": {
   "codemirror_mode": {
    "name": "ipython",
    "version": 3
   },
   "file_extension": ".py",
   "mimetype": "text/x-python",
   "name": "python",
   "nbconvert_exporter": "python",
   "pygments_lexer": "ipython3",
   "version": "3.6.4"
  }
 },
 "nbformat": 4,
 "nbformat_minor": 2
}
