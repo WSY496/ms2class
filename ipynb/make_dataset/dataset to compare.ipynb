{
 "cells": [
  {
   "cell_type": "code",
   "execution_count": 1,
   "metadata": {},
   "outputs": [],
   "source": [
    "import numpy as np\n",
    "import pandas as pd\n",
    "import pickle\n",
    "import collections"
   ]
  },
  {
   "cell_type": "code",
   "execution_count": null,
   "metadata": {},
   "outputs": [],
   "source": [
    "# read csv\n",
    "df_pos = pd.read_csv('../../data/pos_for_ml.csv', index_col=0)\n",
    "df_neg = pd.read_csv('../../data/neg_for_ml.csv', index_col=0)"
   ]
  },
  {
   "cell_type": "code",
   "execution_count": null,
   "metadata": {
    "scrolled": true
   },
   "outputs": [
    {
     "name": "stderr",
     "output_type": "stream",
     "text": [
      "ERROR:root:Internal Python error in the inspect module.\n",
      "Below is the traceback from this internal error.\n",
      "\n"
     ]
    },
    {
     "name": "stdout",
     "output_type": "stream",
     "text": [
      "Traceback (most recent call last):\n",
      "  File \"/home/yoshitaka-i/anaconda3/lib/python3.6/site-packages/IPython/core/interactiveshell.py\", line 2910, in run_code\n",
      "    exec(code_obj, self.user_global_ns, self.user_ns)\n",
      "  File \"<ipython-input-3-8040d1bddbe3>\", line 13, in <module>\n",
      "    t = pd.DataFrame(f).fillna(0)\n",
      "  File \"/home/yoshitaka-i/anaconda3/lib/python3.6/site-packages/pandas/core/frame.py\", line 369, in __init__\n",
      "    arrays, columns = _to_arrays(data, columns, dtype=dtype)\n",
      "  File \"/home/yoshitaka-i/anaconda3/lib/python3.6/site-packages/pandas/core/frame.py\", line 6287, in _to_arrays\n",
      "    coerce_float=coerce_float, dtype=dtype)\n",
      "  File \"/home/yoshitaka-i/anaconda3/lib/python3.6/site-packages/pandas/core/frame.py\", line 6410, in _list_of_dict_to_arrays\n",
      "    coerce_float=coerce_float)\n",
      "  File \"/home/yoshitaka-i/anaconda3/lib/python3.6/site-packages/pandas/core/frame.py\", line 6429, in _convert_object_array\n",
      "    arrays = [convert(arr) for arr in content]\n",
      "  File \"/home/yoshitaka-i/anaconda3/lib/python3.6/site-packages/pandas/core/frame.py\", line 6429, in <listcomp>\n",
      "    arrays = [convert(arr) for arr in content]\n",
      "  File \"/home/yoshitaka-i/anaconda3/lib/python3.6/site-packages/pandas/core/frame.py\", line 6425, in convert\n",
      "    arr = lib.maybe_convert_objects(arr, try_float=coerce_float)\n",
      "KeyboardInterrupt\n",
      "\n",
      "During handling of the above exception, another exception occurred:\n",
      "\n",
      "Traceback (most recent call last):\n",
      "  File \"/home/yoshitaka-i/anaconda3/lib/python3.6/site-packages/IPython/core/interactiveshell.py\", line 1828, in showtraceback\n",
      "    stb = value._render_traceback_()\n",
      "AttributeError: 'KeyboardInterrupt' object has no attribute '_render_traceback_'\n",
      "\n",
      "During handling of the above exception, another exception occurred:\n",
      "\n",
      "Traceback (most recent call last):\n",
      "  File \"/home/yoshitaka-i/anaconda3/lib/python3.6/site-packages/IPython/core/ultratb.py\", line 1090, in get_records\n",
      "    return _fixed_getinnerframes(etb, number_of_lines_of_context, tb_offset)\n",
      "  File \"/home/yoshitaka-i/anaconda3/lib/python3.6/site-packages/IPython/core/ultratb.py\", line 311, in wrapped\n",
      "    return f(*args, **kwargs)\n",
      "  File \"/home/yoshitaka-i/anaconda3/lib/python3.6/site-packages/IPython/core/ultratb.py\", line 345, in _fixed_getinnerframes\n",
      "    records = fix_frame_records_filenames(inspect.getinnerframes(etb, context))\n",
      "  File \"/home/yoshitaka-i/anaconda3/lib/python3.6/inspect.py\", line 1483, in getinnerframes\n",
      "    frameinfo = (tb.tb_frame,) + getframeinfo(tb, context)\n",
      "  File \"/home/yoshitaka-i/anaconda3/lib/python3.6/inspect.py\", line 1445, in getframeinfo\n",
      "    lines, lnum = findsource(frame)\n",
      "  File \"/home/yoshitaka-i/anaconda3/lib/python3.6/site-packages/IPython/core/ultratb.py\", line 177, in findsource\n",
      "    lines = linecache.getlines(file, globals_dict)\n",
      "  File \"/home/yoshitaka-i/anaconda3/lib/python3.6/linecache.py\", line 47, in getlines\n",
      "    return updatecache(filename, module_globals)\n",
      "  File \"/home/yoshitaka-i/anaconda3/lib/python3.6/linecache.py\", line 136, in updatecache\n",
      "    with tokenize.open(fullname) as fp:\n",
      "  File \"/home/yoshitaka-i/anaconda3/lib/python3.6/tokenize.py\", line 454, in open\n",
      "    encoding, lines = detect_encoding(buffer.readline)\n",
      "  File \"/home/yoshitaka-i/anaconda3/lib/python3.6/tokenize.py\", line 423, in detect_encoding\n",
      "    first = read_or_stop()\n",
      "  File \"/home/yoshitaka-i/anaconda3/lib/python3.6/tokenize.py\", line 381, in read_or_stop\n",
      "    return readline()\n",
      "KeyboardInterrupt\n"
     ]
    },
    {
     "ename": "KeyboardInterrupt",
     "evalue": "",
     "output_type": "error",
     "traceback": [
      "\u001b[0;31m---------------------------------------------------------------------------\u001b[0m"
     ]
    },
    {
     "name": "stderr",
     "output_type": "stream",
     "text": [
      "ERROR:tornado.general:Uncaught exception, closing connection.\n",
      "Traceback (most recent call last):\n",
      "  File \"/home/yoshitaka-i/anaconda3/lib/python3.6/site-packages/zmq/eventloop/zmqstream.py\", line 414, in _run_callback\n",
      "    callback(*args, **kwargs)\n",
      "  File \"/home/yoshitaka-i/anaconda3/lib/python3.6/site-packages/tornado/stack_context.py\", line 277, in null_wrapper\n",
      "    return fn(*args, **kwargs)\n",
      "  File \"/home/yoshitaka-i/anaconda3/lib/python3.6/site-packages/ipykernel/kernelbase.py\", line 283, in dispatcher\n",
      "    return self.dispatch_shell(stream, msg)\n",
      "  File \"/home/yoshitaka-i/anaconda3/lib/python3.6/site-packages/ipykernel/kernelbase.py\", line 233, in dispatch_shell\n",
      "    handler(stream, idents, msg)\n",
      "  File \"/home/yoshitaka-i/anaconda3/lib/python3.6/site-packages/ipykernel/kernelbase.py\", line 421, in execute_request\n",
      "    self._abort_queues()\n",
      "  File \"/home/yoshitaka-i/anaconda3/lib/python3.6/site-packages/ipykernel/kernelbase.py\", line 636, in _abort_queues\n",
      "    self._abort_queue(stream)\n",
      "  File \"/home/yoshitaka-i/anaconda3/lib/python3.6/site-packages/ipykernel/kernelbase.py\", line 661, in _abort_queue\n",
      "    poller.poll(50)\n",
      "  File \"/home/yoshitaka-i/anaconda3/lib/python3.6/site-packages/zmq/sugar/poll.py\", line 99, in poll\n",
      "    return zmq_poll(self.sockets, timeout=timeout)\n",
      "  File \"zmq/backend/cython/_poll.pyx\", line 116, in zmq.backend.cython._poll.zmq_poll\n",
      "  File \"zmq/backend/cython/checkrc.pxd\", line 12, in zmq.backend.cython.checkrc._check_rc\n",
      "KeyboardInterrupt\n",
      "ERROR:tornado.general:Uncaught exception, closing connection.\n",
      "Traceback (most recent call last):\n",
      "  File \"/home/yoshitaka-i/anaconda3/lib/python3.6/site-packages/zmq/eventloop/zmqstream.py\", line 440, in _handle_events\n",
      "    self._handle_recv()\n",
      "  File \"/home/yoshitaka-i/anaconda3/lib/python3.6/site-packages/zmq/eventloop/zmqstream.py\", line 472, in _handle_recv\n",
      "    self._run_callback(callback, msg)\n",
      "  File \"/home/yoshitaka-i/anaconda3/lib/python3.6/site-packages/zmq/eventloop/zmqstream.py\", line 414, in _run_callback\n",
      "    callback(*args, **kwargs)\n",
      "  File \"/home/yoshitaka-i/anaconda3/lib/python3.6/site-packages/tornado/stack_context.py\", line 277, in null_wrapper\n",
      "    return fn(*args, **kwargs)\n",
      "  File \"/home/yoshitaka-i/anaconda3/lib/python3.6/site-packages/ipykernel/kernelbase.py\", line 283, in dispatcher\n",
      "    return self.dispatch_shell(stream, msg)\n",
      "  File \"/home/yoshitaka-i/anaconda3/lib/python3.6/site-packages/ipykernel/kernelbase.py\", line 233, in dispatch_shell\n",
      "    handler(stream, idents, msg)\n",
      "  File \"/home/yoshitaka-i/anaconda3/lib/python3.6/site-packages/ipykernel/kernelbase.py\", line 421, in execute_request\n",
      "    self._abort_queues()\n",
      "  File \"/home/yoshitaka-i/anaconda3/lib/python3.6/site-packages/ipykernel/kernelbase.py\", line 636, in _abort_queues\n",
      "    self._abort_queue(stream)\n",
      "  File \"/home/yoshitaka-i/anaconda3/lib/python3.6/site-packages/ipykernel/kernelbase.py\", line 661, in _abort_queue\n",
      "    poller.poll(50)\n",
      "  File \"/home/yoshitaka-i/anaconda3/lib/python3.6/site-packages/zmq/sugar/poll.py\", line 99, in poll\n",
      "    return zmq_poll(self.sockets, timeout=timeout)\n",
      "  File \"zmq/backend/cython/_poll.pyx\", line 116, in zmq.backend.cython._poll.zmq_poll\n",
      "  File \"zmq/backend/cython/checkrc.pxd\", line 12, in zmq.backend.cython.checkrc._check_rc\n",
      "KeyboardInterrupt\n"
     ]
    }
   ],
   "source": [
    "# change dict to dataframe as dataset\n",
    "f = []\n",
    "for p in df_pos['35 HCD']:\n",
    "    binned_spectrum = collections.defaultdict(float)\n",
    "\n",
    "    for ion in p.split(' '):\n",
    "        mz, intensity = list(map(float, ion.split(':')))\n",
    "        binned_spectrum[round(mz, 2)] += intensity\n",
    "        \n",
    "    # add dict to list \n",
    "    f.append(binned_spectrum)\n",
    "    \n",
    "t = pd.DataFrame(f).fillna(0)\n",
    "t.columns = ['HCD35_'+str(i) for i in t.columns]\n",
    "t = pd.concat([df_pos[['Kingdom', 'Superclass', 'Class', 'Subclass']], t.astype('int16')], axis=1)\n",
    "t.to_pickle('../../data/HCD35_pos_all.pickle')"
   ]
  },
  {
   "cell_type": "code",
   "execution_count": null,
   "metadata": {
    "scrolled": true
   },
   "outputs": [],
   "source": [
    "# change dict to dataframe as dataset\n",
    "f = []\n",
    "for p in df_pos['45 HCD']:\n",
    "    binned_spectrum = collections.defaultdict(float)\n",
    "\n",
    "    for ion in p.split(' '):\n",
    "        mz, intensity = list(map(float, ion.split(':')))\n",
    "        binned_spectrum[round(mz, 2)] += intensity\n",
    "        \n",
    "    # add dict to list \n",
    "    f.append(binned_spectrum)\n",
    "    \n",
    "h = pd.DataFrame(f).fillna(0)\n",
    "h.columns = ['HCD45_'+str(i) for i in h.columns]    \n",
    "h = pd.concat([df_pos[['Kingdom', 'Superclass', 'Class', 'Subclass']], h.astype('int16')], axis=1)\n",
    "h.to_pickle('../../data/HCD45_pos_all.pickle')"
   ]
  },
  {
   "cell_type": "code",
   "execution_count": null,
   "metadata": {
    "scrolled": true
   },
   "outputs": [],
   "source": [
    "# change dict to dataframe as dataset\n",
    "f = []\n",
    "for p in df_pos['65 HCD']:\n",
    "    binned_spectrum = collections.defaultdict(float)\n",
    "\n",
    "    for ion in p.split(' '):\n",
    "        mz, intensity = list(map(float, ion.split(':')))\n",
    "        binned_spectrum[round(mz, 2)] += intensity\n",
    "        \n",
    "    # add dict to list \n",
    "    f.append(binned_spectrum)\n",
    "    \n",
    "y = pd.DataFrame(f).fillna(0)\n",
    "y.columns = ['HCD65_'+str(i) for i in y.columns]\n",
    "y = pd.concat([df_pos[['Kingdom', 'Superclass', 'Class', 'Subclass']], y.astype('int16')], axis=1)\n",
    "y.to_pickle('../../data/HCD65_pos_all.pickle')"
   ]
  },
  {
   "cell_type": "code",
   "execution_count": null,
   "metadata": {},
   "outputs": [],
   "source": []
  },
  {
   "cell_type": "code",
   "execution_count": null,
   "metadata": {},
   "outputs": [],
   "source": [
    "# change dict to dataframe as dataset\n",
    "f = []\n",
    "for p in df_neg['35 HCD']:\n",
    "    binned_spectrum = collections.defaultdict(float)\n",
    "\n",
    "    for ion in p.split(' '):\n",
    "        mz, intensity = list(map(float, ion.split(':')))\n",
    "        binned_spectrum[round(mz, 2)] += intensity\n",
    "        \n",
    "    # add dict to list \n",
    "    f.append(binned_spectrum)\n",
    "    \n",
    "t = pd.DataFrame(f).fillna(0)\n",
    "t.columns = ['HCD35_'+str(i) for i in t.columns]    \n",
    "t = pd.concat([df_neg[['Kingdom', 'Superclass', 'Class', 'Subclass']], t.astype('int16')], axis=1)\n",
    "t.to_pickle('../../data/HCD35_neg_all.pickle')"
   ]
  },
  {
   "cell_type": "code",
   "execution_count": null,
   "metadata": {
    "scrolled": true
   },
   "outputs": [],
   "source": [
    "# change dict to dataframe as dataset\n",
    "f = []\n",
    "for p in df_neg['45 HCD']:\n",
    "    binned_spectrum = collections.defaultdict(float)\n",
    "\n",
    "    for ion in p.split(' '):\n",
    "        mz, intensity = list(map(float, ion.split(':')))\n",
    "        binned_spectrum[round(mz, 2)] += intensity\n",
    "        \n",
    "    # add dict to list \n",
    "    f.append(binned_spectrum)\n",
    "    \n",
    "h = pd.DataFrame(f).fillna(0)\n",
    "h.columns = ['HCD45_'+str(i) for i in h.columns]    \n",
    "h = pd.concat([df_neg[['Kingdom', 'Superclass', 'Class', 'Subclass']], h.astype('int16')], axis=1)\n",
    "h.to_pickle('../../data/HCD45_neg_all.pickle')"
   ]
  },
  {
   "cell_type": "code",
   "execution_count": null,
   "metadata": {
    "scrolled": true
   },
   "outputs": [],
   "source": [
    "# change dict to dataframe as dataset\n",
    "f = []\n",
    "for p in df_neg['65 HCD']:\n",
    "    binned_spectrum = collections.defaultdict(float)\n",
    "\n",
    "    for ion in p.split(' '):\n",
    "        mz, intensity = list(map(float, ion.split(':')))\n",
    "        binned_spectrum[round(mz, 2)] += intensity\n",
    "        \n",
    "    # add dict to list \n",
    "    f.append(binned_spectrum)\n",
    "    \n",
    "y = pd.DataFrame(f).fillna(0)\n",
    "y.columns = ['HCD65_'+str(i) for i in y.columns]    \n",
    "y = pd.concat([df_neg[['Kingdom', 'Superclass', 'Class', 'Subclass']], y.astype('int16')], axis=1)\n",
    "y.to_pickle('../../data/HCD65_neg_all.pickle')"
   ]
  }
 ],
 "metadata": {
  "kernelspec": {
   "display_name": "Python 3",
   "language": "python",
   "name": "python3"
  },
  "language_info": {
   "codemirror_mode": {
    "name": "ipython",
    "version": 3
   },
   "file_extension": ".py",
   "mimetype": "text/x-python",
   "name": "python",
   "nbconvert_exporter": "python",
   "pygments_lexer": "ipython3",
   "version": "3.6.4"
  }
 },
 "nbformat": 4,
 "nbformat_minor": 2
}
