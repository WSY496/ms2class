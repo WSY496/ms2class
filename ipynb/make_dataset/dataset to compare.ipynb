{
 "cells": [
  {
   "cell_type": "code",
   "execution_count": 1,
   "metadata": {},
   "outputs": [],
   "source": [
    "import numpy as np\n",
    "import pandas as pd\n",
    "import pickle\n",
    "import collections"
   ]
  },
  {
   "cell_type": "code",
   "execution_count": 2,
   "metadata": {},
   "outputs": [],
   "source": [
    "# read csv\n",
    "df_pos = pd.read_csv('../../data/pos_for_ml.csv', index_col=0)\n",
    "df_neg = pd.read_csv('../../data/neg_for_ml.csv', index_col=0)"
   ]
  },
  {
   "cell_type": "code",
   "execution_count": 3,
   "metadata": {
    "scrolled": true
   },
   "outputs": [],
   "source": [
    "# change dict to dataframe as dataset\n",
    "f = []\n",
    "for p in df_pos['35 HCD']:\n",
    "    binned_spectrum = collections.defaultdict(float)\n",
    "\n",
    "    for ion in p.split(' '):\n",
    "        mz, intensity = list(map(float, ion.split(':')))\n",
    "        binned_spectrum[round(mz, 2)] += intensity\n",
    "        \n",
    "    # add dict to list \n",
    "    f.append(binned_spectrum)\n",
    "    \n",
    "t = pd.DataFrame(f).fillna(0)\n",
    "t.columns = ['HCD35_'+str(i) for i in t.columns]\n",
    "t = pd.concat([df_pos[['Kingdom', 'Superclass', 'Class', 'Subclass']], t.astype('int16')], axis=1)\n",
    "t.to_pickle('../../data/HCD35_pos_all.pickle')"
   ]
  },
  {
   "cell_type": "code",
   "execution_count": 4,
   "metadata": {
    "scrolled": true
   },
   "outputs": [],
   "source": [
    "# change dict to dataframe as dataset\n",
    "f = []\n",
    "for p in df_pos['45 HCD']:\n",
    "    binned_spectrum = collections.defaultdict(float)\n",
    "\n",
    "    for ion in p.split(' '):\n",
    "        mz, intensity = list(map(float, ion.split(':')))\n",
    "        binned_spectrum[round(mz, 2)] += intensity\n",
    "        \n",
    "    # add dict to list \n",
    "    f.append(binned_spectrum)\n",
    "    \n",
    "h = pd.DataFrame(f).fillna(0)\n",
    "h.columns = ['HCD45_'+str(i) for i in h.columns]    \n",
    "h = pd.concat([df_pos[['Kingdom', 'Superclass', 'Class', 'Subclass']], h.astype('int16')], axis=1)\n",
    "h.to_pickle('../../data/HCD45_pos_all.pickle')"
   ]
  },
  {
   "cell_type": "code",
   "execution_count": 5,
   "metadata": {
    "scrolled": true
   },
   "outputs": [],
   "source": [
    "# change dict to dataframe as dataset\n",
    "f = []\n",
    "for p in df_pos['65 HCD']:\n",
    "    binned_spectrum = collections.defaultdict(float)\n",
    "\n",
    "    for ion in p.split(' '):\n",
    "        mz, intensity = list(map(float, ion.split(':')))\n",
    "        binned_spectrum[round(mz, 2)] += intensity\n",
    "        \n",
    "    # add dict to list \n",
    "    f.append(binned_spectrum)\n",
    "    \n",
    "y = pd.DataFrame(f).fillna(0)\n",
    "y.columns = ['HCD65_'+str(i) for i in y.columns]\n",
    "y = pd.concat([df_pos[['Kingdom', 'Superclass', 'Class', 'Subclass']], y.astype('int16')], axis=1)\n",
    "y.to_pickle('../../data/HCD65_pos_all.pickle')"
   ]
  },
  {
   "cell_type": "code",
   "execution_count": null,
   "metadata": {},
   "outputs": [],
   "source": []
  },
  {
   "cell_type": "code",
   "execution_count": 6,
   "metadata": {},
   "outputs": [],
   "source": [
    "# change dict to dataframe as dataset\n",
    "f = []\n",
    "for p in df_neg['35 HCD']:\n",
    "    binned_spectrum = collections.defaultdict(float)\n",
    "\n",
    "    for ion in p.split(' '):\n",
    "        mz, intensity = list(map(float, ion.split(':')))\n",
    "        binned_spectrum[round(mz, 2)] += intensity\n",
    "        \n",
    "    # add dict to list \n",
    "    f.append(binned_spectrum)\n",
    "    \n",
    "t = pd.DataFrame(f).fillna(0)\n",
    "t.columns = ['HCD35_'+str(i) for i in t.columns]    \n",
    "t = pd.concat([df_neg[['Kingdom', 'Superclass', 'Class', 'Subclass']], t.astype('int16')], axis=1)\n",
    "t.to_pickle('../../data/HCD35_neg_all.pickle')"
   ]
  },
  {
   "cell_type": "code",
   "execution_count": 7,
   "metadata": {
    "scrolled": true
   },
   "outputs": [],
   "source": [
    "# change dict to dataframe as dataset\n",
    "f = []\n",
    "for p in df_neg['45 HCD']:\n",
    "    binned_spectrum = collections.defaultdict(float)\n",
    "\n",
    "    for ion in p.split(' '):\n",
    "        mz, intensity = list(map(float, ion.split(':')))\n",
    "        binned_spectrum[round(mz, 2)] += intensity\n",
    "        \n",
    "    # add dict to list \n",
    "    f.append(binned_spectrum)\n",
    "    \n",
    "h = pd.DataFrame(f).fillna(0)\n",
    "h.columns = ['HCD45_'+str(i) for i in h.columns]    \n",
    "h = pd.concat([df_neg[['Kingdom', 'Superclass', 'Class', 'Subclass']], h.astype('int16')], axis=1)\n",
    "h.to_pickle('../../data/HCD45_neg_all.pickle')"
   ]
  },
  {
   "cell_type": "code",
   "execution_count": 8,
   "metadata": {
    "scrolled": true
   },
   "outputs": [],
   "source": [
    "# change dict to dataframe as dataset\n",
    "f = []\n",
    "for p in df_neg['65 HCD']:\n",
    "    binned_spectrum = collections.defaultdict(float)\n",
    "\n",
    "    for ion in p.split(' '):\n",
    "        mz, intensity = list(map(float, ion.split(':')))\n",
    "        binned_spectrum[round(mz, 2)] += intensity\n",
    "        \n",
    "    # add dict to list \n",
    "    f.append(binned_spectrum)\n",
    "    \n",
    "y = pd.DataFrame(f).fillna(0)\n",
    "y.columns = ['HCD65_'+str(i) for i in y.columns]    \n",
    "y = pd.concat([df_neg[['Kingdom', 'Superclass', 'Class', 'Subclass']], y.astype('int16')], axis=1)\n",
    "y.to_pickle('../../data/HCD65_neg_all.pickle')"
   ]
  }
 ],
 "metadata": {
  "kernelspec": {
   "display_name": "Python 3",
   "language": "python",
   "name": "python3"
  },
  "language_info": {
   "codemirror_mode": {
    "name": "ipython",
    "version": 3
   },
   "file_extension": ".py",
   "mimetype": "text/x-python",
   "name": "python",
   "nbconvert_exporter": "python",
   "pygments_lexer": "ipython3",
   "version": "3.6.4"
  }
 },
 "nbformat": 4,
 "nbformat_minor": 2
}
