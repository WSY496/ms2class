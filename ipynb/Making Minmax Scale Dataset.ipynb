{
 "cells": [
  {
   "cell_type": "code",
   "execution_count": 1,
   "metadata": {},
   "outputs": [],
   "source": [
    "import numpy as np\n",
    "from sklearn.preprocessing import LabelEncoder\n",
    "import pandas as pd \n",
    "import matplotlib.pyplot as plt\n",
    "from umap import UMAP\n",
    "import xgboost as xgb\n",
    "import lightgbm as lgb\n",
    "import pickle\n",
    "\n",
    "from sklearn.preprocessing import StandardScaler\n",
    "from sklearn.random_projection import GaussianRandomProjection\n",
    "from sklearn.random_projection import SparseRandomProjection\n",
    "from sklearn.decomposition import PCA, FastICA, KernelPCA\n",
    "from sklearn.decomposition import TruncatedSVD\n",
    "from sklearn.metrics import r2_score\n",
    "from sklearn.model_selection import train_test_split\n",
    "from sklearn.metrics import confusion_matrix\n",
    "from sklearn import preprocessing\n",
    "from sklearn.metrics import accuracy_score\n",
    "from sklearn.model_selection import cross_val_score\n",
    "from sklearn.metrics import mean_absolute_error\n",
    "from sklearn.model_selection import GridSearchCV\n",
    "\n",
    "from sklearn.ensemble import RandomForestClassifier as rf\n",
    "from sklearn.metrics import make_scorer\n",
    "from sklearn.model_selection import KFold"
   ]
  },
  {
   "cell_type": "code",
   "execution_count": 2,
   "metadata": {},
   "outputs": [],
   "source": [
    "# load data\n",
    "with open('../data/HCD35_pos.pickle', mode='rb') as fp:\n",
    "    HCD35_pos = pickle.load(fp)\n",
    "    \n",
    "with open('../data/HCD45_pos.pickle', mode='rb') as fp:\n",
    "    HCD45_pos = pickle.load(fp)\n",
    "\n",
    "with open('../data/HCD65_pos.pickle', mode='rb') as fp:\n",
    "    HCD65_pos = pickle.load(fp)\n",
    "    \n",
    "with open('../data/HCD35_neg.pickle', mode='rb') as fp:\n",
    "    HCD35_neg = pickle.load(fp)\n",
    "    \n",
    "with open('../data/HCD45_neg.pickle', mode='rb') as fp:\n",
    "    HCD45_neg = pickle.load(fp)\n",
    "\n",
    "with open('../data/HCD65_neg.pickle', mode='rb') as fp:\n",
    "    HCD65_neg = pickle.load(fp)"
   ]
  },
  {
   "cell_type": "code",
   "execution_count": 3,
   "metadata": {
    "scrolled": true
   },
   "outputs": [],
   "source": [
    "# make list\n",
    "t = [\n",
    "    HCD35_pos, HCD45_pos, HCD65_pos, \n",
    "    HCD35_neg, HCD45_neg, HCD65_neg\n",
    "]\n",
    "\n",
    "# normalize 0 to 1\n",
    "for l in t:\n",
    "    for i in l.drop('Subclass', axis=1).columns:\n",
    "        l[i] = l[i]/max(l[i])"
   ]
  },
  {
   "cell_type": "code",
   "execution_count": 4,
   "metadata": {},
   "outputs": [],
   "source": [
    "# to csv\n",
    "HCD35_neg.to_csv('../data/HCD35_neg_norm.csv')\n",
    "HCD45_neg.to_csv('../data/HCD45_neg_norm.csv')\n",
    "HCD65_neg.to_csv('../data/HCD65_neg_norm.csv')\n",
    "HCD35_pos.to_csv('../data/HCD35_pos_norm.csv')\n",
    "HCD45_pos.to_csv('../data/HCD45_pos_norm.csv')\n",
    "HCD65_pos.to_csv('../data/HCD65_pos_norm.csv')"
   ]
  }
 ],
 "metadata": {
  "kernelspec": {
   "display_name": "py36",
   "language": "python",
   "name": "py36"
  },
  "language_info": {
   "codemirror_mode": {
    "name": "ipython",
    "version": 3
   },
   "file_extension": ".py",
   "mimetype": "text/x-python",
   "name": "python",
   "nbconvert_exporter": "python",
   "pygments_lexer": "ipython3",
   "version": "3.6.5"
  }
 },
 "nbformat": 4,
 "nbformat_minor": 2
}
