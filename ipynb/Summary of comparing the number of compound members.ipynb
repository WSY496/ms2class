{
 "cells": [
  {
   "cell_type": "code",
   "execution_count": 1,
   "metadata": {},
   "outputs": [],
   "source": [
    "import pandas as pd"
   ]
  },
  {
   "cell_type": "code",
   "execution_count": 7,
   "metadata": {},
   "outputs": [],
   "source": [
    "HCD35_neg = pd.read_csv('../result/comparing_HCD35_neg.csv', index_col=0)\n",
    "HCD35_pos = pd.read_csv('../result/comparing_HCD35_pos.csv', index_col=0)\n",
    "HCD45_neg = pd.read_csv('../result/comparing_HCD45_neg.csv', index_col=0)\n",
    "HCD45_pos = pd.read_csv('../result/comparing_HCD45_pos.csv', index_col=0)\n",
    "HCD65_neg = pd.read_csv('../result/comparing_HCD65_neg.csv', index_col=0)\n",
    "HCD65_pos = pd.read_csv('../result/comparing_HCD65_pos.csv', index_col=0)"
   ]
  },
  {
   "cell_type": "code",
   "execution_count": 8,
   "metadata": {},
   "outputs": [],
   "source": [
    "t = pd.concat([\n",
    "    HCD35_pos, HCD45_pos, HCD65_pos,\n",
    "    HCD35_neg, HCD45_neg, HCD65_pos\n",
    "], axis=1)"
   ]
  },
  {
   "cell_type": "code",
   "execution_count": 9,
   "metadata": {},
   "outputs": [],
   "source": [
    "t.columns = [\n",
    "    ' HCD35_pos', 'HCD45_pos', 'HCD65_pos',\n",
    "    'HCD35_neg', 'HCD45_neg', 'HCD65_pos'\n",
    "]"
   ]
  },
  {
   "cell_type": "code",
   "execution_count": 10,
   "metadata": {},
   "outputs": [
    {
     "data": {
      "text/html": [
       "<div>\n",
       "<style scoped>\n",
       "    .dataframe tbody tr th:only-of-type {\n",
       "        vertical-align: middle;\n",
       "    }\n",
       "\n",
       "    .dataframe tbody tr th {\n",
       "        vertical-align: top;\n",
       "    }\n",
       "\n",
       "    .dataframe thead th {\n",
       "        text-align: right;\n",
       "    }\n",
       "</style>\n",
       "<table border=\"1\" class=\"dataframe\">\n",
       "  <thead>\n",
       "    <tr style=\"text-align: right;\">\n",
       "      <th></th>\n",
       "      <th>HCD35_pos</th>\n",
       "      <th>HCD45_pos</th>\n",
       "      <th>HCD65_pos</th>\n",
       "      <th>HCD35_neg</th>\n",
       "      <th>HCD45_neg</th>\n",
       "      <th>HCD65_pos</th>\n",
       "    </tr>\n",
       "  </thead>\n",
       "  <tbody>\n",
       "    <tr>\n",
       "      <th>Top 2</th>\n",
       "      <td>0.777251</td>\n",
       "      <td>0.763033</td>\n",
       "      <td>0.729858</td>\n",
       "      <td>0.573770</td>\n",
       "      <td>0.590164</td>\n",
       "      <td>0.729858</td>\n",
       "    </tr>\n",
       "    <tr>\n",
       "      <th>Top 3</th>\n",
       "      <td>0.733577</td>\n",
       "      <td>0.733577</td>\n",
       "      <td>0.704380</td>\n",
       "      <td>0.602564</td>\n",
       "      <td>0.628205</td>\n",
       "      <td>0.704380</td>\n",
       "    </tr>\n",
       "    <tr>\n",
       "      <th>Top 4</th>\n",
       "      <td>0.666667</td>\n",
       "      <td>0.636905</td>\n",
       "      <td>0.610119</td>\n",
       "      <td>0.638298</td>\n",
       "      <td>0.627660</td>\n",
       "      <td>0.610119</td>\n",
       "    </tr>\n",
       "    <tr>\n",
       "      <th>Top 5</th>\n",
       "      <td>0.629921</td>\n",
       "      <td>0.619423</td>\n",
       "      <td>0.632546</td>\n",
       "      <td>0.536364</td>\n",
       "      <td>0.518182</td>\n",
       "      <td>0.632546</td>\n",
       "    </tr>\n",
       "    <tr>\n",
       "      <th>Top 10</th>\n",
       "      <td>0.507435</td>\n",
       "      <td>0.509294</td>\n",
       "      <td>0.505576</td>\n",
       "      <td>0.380368</td>\n",
       "      <td>0.417178</td>\n",
       "      <td>0.505576</td>\n",
       "    </tr>\n",
       "    <tr>\n",
       "      <th>Top 20</th>\n",
       "      <td>0.390210</td>\n",
       "      <td>0.363636</td>\n",
       "      <td>0.359441</td>\n",
       "      <td>0.371560</td>\n",
       "      <td>0.362385</td>\n",
       "      <td>0.359441</td>\n",
       "    </tr>\n",
       "    <tr>\n",
       "      <th>Top 30</th>\n",
       "      <td>0.344785</td>\n",
       "      <td>0.339877</td>\n",
       "      <td>0.355828</td>\n",
       "      <td>0.320000</td>\n",
       "      <td>0.328000</td>\n",
       "      <td>0.355828</td>\n",
       "    </tr>\n",
       "  </tbody>\n",
       "</table>\n",
       "</div>"
      ],
      "text/plain": [
       "         HCD35_pos  HCD45_pos  HCD65_pos  HCD35_neg  HCD45_neg  HCD65_pos\n",
       "Top 2     0.777251   0.763033   0.729858   0.573770   0.590164   0.729858\n",
       "Top 3     0.733577   0.733577   0.704380   0.602564   0.628205   0.704380\n",
       "Top 4     0.666667   0.636905   0.610119   0.638298   0.627660   0.610119\n",
       "Top 5     0.629921   0.619423   0.632546   0.536364   0.518182   0.632546\n",
       "Top 10    0.507435   0.509294   0.505576   0.380368   0.417178   0.505576\n",
       "Top 20    0.390210   0.363636   0.359441   0.371560   0.362385   0.359441\n",
       "Top 30    0.344785   0.339877   0.355828   0.320000   0.328000   0.355828"
      ]
     },
     "execution_count": 10,
     "metadata": {},
     "output_type": "execute_result"
    }
   ],
   "source": [
    "t"
   ]
  }
 ],
 "metadata": {
  "kernelspec": {
   "display_name": "py36",
   "language": "python",
   "name": "py36"
  },
  "language_info": {
   "codemirror_mode": {
    "name": "ipython",
    "version": 3
   },
   "file_extension": ".py",
   "mimetype": "text/x-python",
   "name": "python",
   "nbconvert_exporter": "python",
   "pygments_lexer": "ipython3",
   "version": "3.6.5"
  }
 },
 "nbformat": 4,
 "nbformat_minor": 2
}
